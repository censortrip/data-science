{
 "cells": [
  {
   "cell_type": "markdown",
   "metadata": {},
   "source": [
    "# Movie Industry Analysis \n",
    "## Part II - Data Exploration\n",
    "---\n",
    "This personal project was undertaken in order for me to become comfortable using Pandas for larger data sets and also for practicing basic machine learning tasks. \n",
    "\n",
    "It consists of Three Different Notebooks: \n",
    "\n",
    "* **Part I   - Data Preparation**\n",
    "* **Part II  - Data Exploration (This Notebook)**\n",
    "* **Part III - Predictions with Machine Learning**\n",
    "\n",
    "The data mining process is followed througout the project, both on a large scale and in Parts II & III on a case by case basis. The steps are: \n",
    "\n",
    "1. Defining the Objective\n",
    "2. Data Preparation\n",
    "3. Data Exploration\n",
    "4. Building (or Choosing) a Model\n",
    "5. Evaluating Model Results\n",
    "\n",
    "---\n",
    "## 1. Defining the Objective\n",
    "The overall objective of this project is to predict which directors will give a movie the best possible IMDB score for any given target year (between 1930 and 2015) using the prior 10 years worth of data for analysis.\n",
    "\n",
    "---\n",
    "## 2. Population Analysis\n",
    "The population data was prepared in Part I.\n",
    "\n",
    "Note that the data is a hypothetical population used just for this project as I do not have access to all metrics possible through IMDB.\n",
    "\n",
    "Samples are going to be created from the population in increments of 10 years prior to the test year in question in order to provide enough past data to (hopefully) make a decent prediction.\n",
    "\n",
    "When creating the samples, there are a couple of assumptions being made:\n",
    "1. That the average IMDB score is valid for determining a movies success\n",
    "2. That the overall number of IMDB score votes are valid for determining a movies success"
   ]
  },
  {
   "cell_type": "code",
   "execution_count": 2,
   "metadata": {},
   "outputs": [],
   "source": [
    "import time\n",
    "import pandas as pd\n",
    "import numpy as np\n",
    "import matplotlib as mpl\n",
    "import matplotlib.pyplot as plt\n",
    "import seaborn as sns\n",
    "from scipy import stats"
   ]
  },
  {
   "cell_type": "code",
   "execution_count": 2,
   "metadata": {},
   "outputs": [
    {
     "name": "stdout",
     "output_type": "stream",
     "text": [
      "(177095, 12)\n"
     ]
    },
    {
     "data": {
      "text/html": [
       "<div>\n",
       "<style scoped>\n",
       "    .dataframe tbody tr th:only-of-type {\n",
       "        vertical-align: middle;\n",
       "    }\n",
       "\n",
       "    .dataframe tbody tr th {\n",
       "        vertical-align: top;\n",
       "    }\n",
       "\n",
       "    .dataframe thead th {\n",
       "        text-align: right;\n",
       "    }\n",
       "</style>\n",
       "<table border=\"1\" class=\"dataframe\">\n",
       "  <thead>\n",
       "    <tr style=\"text-align: right;\">\n",
       "      <th></th>\n",
       "      <th>mov_id</th>\n",
       "      <th>title</th>\n",
       "      <th>genre</th>\n",
       "      <th>year</th>\n",
       "      <th>director</th>\n",
       "      <th>dir_dth_yr</th>\n",
       "      <th>actr1</th>\n",
       "      <th>actr2</th>\n",
       "      <th>actr3</th>\n",
       "      <th>runtime</th>\n",
       "      <th>imdb_score</th>\n",
       "      <th>num_scores</th>\n",
       "    </tr>\n",
       "  </thead>\n",
       "  <tbody>\n",
       "    <tr>\n",
       "      <th>0</th>\n",
       "      <td>tt0001184</td>\n",
       "      <td>Don Juan de Serrallonga</td>\n",
       "      <td>Drama</td>\n",
       "      <td>1910</td>\n",
       "      <td>Alberto Marro</td>\n",
       "      <td>1956</td>\n",
       "      <td>Dolores Puchol</td>\n",
       "      <td>Cecilio Rodriguez de la Vega</td>\n",
       "      <td>NaN</td>\n",
       "      <td>58</td>\n",
       "      <td>3.1</td>\n",
       "      <td>11</td>\n",
       "    </tr>\n",
       "    <tr>\n",
       "      <th>1</th>\n",
       "      <td>tt0001258</td>\n",
       "      <td>The White Slave Trade</td>\n",
       "      <td>Drama</td>\n",
       "      <td>1910</td>\n",
       "      <td>August Blom</td>\n",
       "      <td>1947</td>\n",
       "      <td>Ellen Diedrich</td>\n",
       "      <td>Victor Fabian</td>\n",
       "      <td>Julie Henriksen</td>\n",
       "      <td>45</td>\n",
       "      <td>5.7</td>\n",
       "      <td>79</td>\n",
       "    </tr>\n",
       "  </tbody>\n",
       "</table>\n",
       "</div>"
      ],
      "text/plain": [
       "      mov_id                    title  genre  year       director  dir_dth_yr  \\\n",
       "0  tt0001184  Don Juan de Serrallonga  Drama  1910  Alberto Marro        1956   \n",
       "1  tt0001258    The White Slave Trade  Drama  1910    August Blom        1947   \n",
       "\n",
       "            actr1                         actr2            actr3  runtime  \\\n",
       "0  Dolores Puchol  Cecilio Rodriguez de la Vega              NaN       58   \n",
       "1  Ellen Diedrich                 Victor Fabian  Julie Henriksen       45   \n",
       "\n",
       "   imdb_score  num_scores  \n",
       "0         3.1          11  \n",
       "1         5.7          79  "
      ]
     },
     "execution_count": 2,
     "metadata": {},
     "output_type": "execute_result"
    }
   ],
   "source": [
    "pd.set_option('display.max_columns', 15)\n",
    "\n",
    "pop = pd.read_csv('data/movies_final.csv')\n",
    "print(pop.shape)\n",
    "pop.head(2)"
   ]
  },
  {
   "cell_type": "markdown",
   "metadata": {},
   "source": [
    "## Population Descriptive Stats"
   ]
  },
  {
   "cell_type": "code",
   "execution_count": 5,
   "metadata": {},
   "outputs": [
    {
     "name": "stdout",
     "output_type": "stream",
     "text": [
      "Descriptive Statistics: \n",
      "           year  dir_dth_yr   runtime  imdb_score  num_scores\n",
      "count  177095.0    177095.0  177095.0    177095.0    177095.0\n",
      "mean     1989.5      7406.8      96.4         6.0      4482.0\n",
      "std        26.2      3747.8      33.9         1.3     36582.3\n",
      "min      1910.0      1913.0      40.0         1.0         5.0\n",
      "25%      1971.0      2007.0      85.0         5.3        22.0\n",
      "50%      1998.0      9999.0      93.0         6.2        84.0\n",
      "75%      2012.0      9999.0     105.0         6.9       440.0\n",
      "max      2020.0      9999.0   10062.0        10.0   2210134.0\n",
      "\n",
      "Correlation Coefficients: \n",
      "                year  dir_dth_yr   runtime  imdb_score  num_scores\n",
      "year        1.000000    0.776734  0.123503   -0.095100    0.055159\n",
      "dir_dth_yr  0.776734    1.000000  0.075582   -0.092381    0.054621\n",
      "runtime     0.123503    0.075582  1.000000    0.101533    0.071592\n",
      "imdb_score -0.095100   -0.092381  0.101533    1.000000    0.104773\n",
      "num_scores  0.055159    0.054621  0.071592    0.104773    1.000000\n"
     ]
    }
   ],
   "source": [
    "print(f'Descriptive Statistics: \\n{round(pop.describe(),1)}')\n",
    "print()\n",
    "print(f'Correlation Coefficients: \\n{pop.corr()}')"
   ]
  },
  {
   "cell_type": "markdown",
   "metadata": {},
   "source": [
    "---\n",
    "## IMDB Score Variable\n",
    "I first examine 'imdb_score' as this variable is the lynchpin to my analysis. It represents the average user rated score per movie and has a scale from 1.0 - 10.0"
   ]
  },
  {
   "cell_type": "code",
   "execution_count": 6,
   "metadata": {},
   "outputs": [
    {
     "name": "stdout",
     "output_type": "stream",
     "text": [
      "count    177095.0\n",
      "mean          6.0\n",
      "std           1.3\n",
      "min           1.0\n",
      "25%           5.3\n",
      "50%           6.2\n",
      "75%           6.9\n",
      "max          10.0\n",
      "Name: imdb_score, dtype: float64\n",
      "\n",
      "DescribeResult(nobs=177095, minmax=(1.0, 10.0), mean=5.986600976876817, variance=1.5711926742748537, skewness=-0.6086002665985205, kurtosis=0.49374072752223164)\n"
     ]
    }
   ],
   "source": [
    "print(round(pop['imdb_score'].describe(), 1))\n",
    "print()\n",
    "print(stats.describe(pop['imdb_score']))"
   ]
  },
  {
   "cell_type": "markdown",
   "metadata": {},
   "source": [
    "**Based on the descriptive stats above, the IMDB score distribution appears to be relatively normal as the mean and median are close together (6.0 and 6.2 respectively). There appears to be a slight left skew based on the median > mean and skewness -0.6**"
   ]
  },
  {
   "cell_type": "code",
   "execution_count": 12,
   "metadata": {},
   "outputs": [
    {
     "data": {
      "image/png": "[encoded data removed]",
      "text/plain": [
       "<Figure size 720x432 with 1 Axes>"
      ]
     },
     "metadata": {},
     "output_type": "display_data"
    }
   ],
   "source": [
    "sns.set(style=\"white\", font_scale=1.25)\n",
    "fig = plt.subplots(figsize=(10,6))\n",
    "\n",
    "ax = sns.distplot(pop['imdb_score'], bins=10).set_title('IMDB Score Historgram (Population)')\n",
    "\n",
    "plt.xlabel('Average IMDB Score')\n",
    "plt.ylabel('% of Total')\n",
    "plt.show()"
   ]
  },
  {
   "cell_type": "markdown",
   "metadata": {},
   "source": [
    "**The historgram above shows that the distribution is fairly normal, there is a slight left skew due to a disproportionate amount of lower scores, but this is not an unexpected outcome in my opinion and is not cause for alarm**"
   ]
  },
  {
   "cell_type": "markdown",
   "metadata": {},
   "source": [
    "## Test 1: Calculate mean of sample means & the mean of sample standard devations for the 'imdb_score' variable\n",
    "Because I have 86 possible samples in in my analysis, I can use the average of sample means in order to get a better idea of the mean population and the average of sample standard deviations for mean population standard deviation."
   ]
  },
  {
   "cell_type": "code",
   "execution_count": 3,
   "metadata": {},
   "outputs": [
    {
     "name": "stdout",
     "output_type": "stream",
     "text": [
      "Number of Years Tested: 86\n",
      "Average of All Sample Means: 6.1\n",
      "Average of All Sample Standard Deviations: 1.1\n"
     ]
    }
   ],
   "source": [
    "def avg_of_sample_means():\n",
    "    averages = []\n",
    "    std = []\n",
    "    \n",
    "    # All Possible Target Years\n",
    "    tgt_years = pop['year'][(pop['year'] >= 1930) &\n",
    "                            (pop['year'] <= 2015)].unique().tolist()\n",
    "    tgt_years.sort()\n",
    "    \n",
    "    print(f'Number of Years Tested: {len(tgt_years)}')\n",
    "\n",
    "    for yr in tgt_years:    \n",
    "        sample = pop[(pop['year'] >= yr-20) & (pop['year'] <= yr+4)]\n",
    "        averages.append(round(sample[\"imdb_score\"].mean(),1))\n",
    "        std.append(round(sample[\"imdb_score\"].std(),1))\n",
    "        \n",
    "    avg_means = sum(averages) / len(tgt_years)\n",
    "    print(f'Average of All Sample Means: {round(avg_means, 1)}')\n",
    "    \n",
    "    avg_std = sum(std) / len(tgt_years)\n",
    "    print(f'Average of All Sample Standard Deviations: {round(avg_std, 1)}')\n",
    "\n",
    "avg_of_sample_means()"
   ]
  },
  {
   "cell_type": "markdown",
   "metadata": {},
   "source": [
    "## Test 1 Conclusions:\n",
    "* Approximate Population Mean IMDB Scores:   6.1\n",
    "* Approximate Population STD of IMDB Scores: 1.1\n",
    "\n",
    "\n",
    "* Movies with an average IMDB score > 6.1 are more successful than 50% of all movies.\n",
    "* Movies with an average IMDB score > 7.2 are more successful than 68% of all movies.\n",
    "* Movies with an average IMDB score > 8.3 are more successful than 95% of all movies. \n",
    "* Movies with an average IMDB score > 9.4 are more successful than 99.7% of all movies."
   ]
  },
  {
   "cell_type": "markdown",
   "metadata": {},
   "source": [
    "---\n",
    "## IMDB Number of Scores Variable\n",
    "The 'num_scores' variable contains the actual number of user votes used to calculate the average IMDB Score per movie. "
   ]
  },
  {
   "cell_type": "code",
   "execution_count": 19,
   "metadata": {},
   "outputs": [
    {
     "name": "stdout",
     "output_type": "stream",
     "text": [
      "       imdb_score  num_scores\n",
      "count    177095.0    177095.0\n",
      "mean          6.0      4482.0\n",
      "std           1.3     36582.3\n",
      "min           1.0         5.0\n",
      "25%           5.3        22.0\n",
      "50%           6.2        84.0\n",
      "75%           6.9       440.0\n",
      "max          10.0   2210134.0\n",
      "\n",
      "DescribeResult(nobs=177095, minmax=(array([1., 5.]), array([1.000000e+01, 2.210134e+06])), mean=array([   5.98660098, 4482.02914255]), variance=array([1.57119267e+00, 1.33826718e+09]), skewness=array([-0.60860027, 20.92158035]), kurtosis=array([4.93740728e-01, 6.64868155e+02]))\n",
      "\n",
      "            imdb_score  num_scores\n",
      "imdb_score    1.000000    0.104773\n",
      "num_scores    0.104773    1.000000\n"
     ]
    }
   ],
   "source": [
    "print(round(pop[['imdb_score', 'num_scores']].describe(),1))\n",
    "print()\n",
    "print(stats.describe(pop[['imdb_score', 'num_scores']]))\n",
    "print()\n",
    "print(pop[['imdb_score', 'num_scores']].corr())"
   ]
  },
  {
   "cell_type": "markdown",
   "metadata": {},
   "source": [
    "**The first thing that jumps out is that 'num_scores' has a massive range (not surprising) from 5 to 2.2 million. Furthermore, the median number of votes is 84 which means that roughly 75k titles have < 84 votes. The skew of 20 and kurtosis of 664 show that the data set is highly postively skewed with a large number of outliers**"
   ]
  },
  {
   "cell_type": "code",
   "execution_count": 23,
   "metadata": {},
   "outputs": [
    {
     "data": {
      "image/png": "[encoded data removed]",
      "text/plain": [
       "<Figure size 1440x576 with 1 Axes>"
      ]
     },
     "metadata": {},
     "output_type": "display_data"
    }
   ],
   "source": [
    "sns.set(style='dark', font_scale=1.25)\n",
    "fig = plt.subplots(figsize=(20,8))\n",
    "sns.regplot(x=pop['num_scores'], y=pop['imdb_score'], data=pop);"
   ]
  },
  {
   "cell_type": "markdown",
   "metadata": {},
   "source": [
    "**The scatter plot shows that the higher (outlier) scores counts (approximatley > 100k) appear to have higher average scores than those below. Yet, there is very little correlation being shown from the correlation coefficient (0.10) which is not what I would expect to see**\n",
    "\n",
    "**Because of this, I re-test checking the stats for the imdb_scores < 100k and > 100k, with the expectation that the scores > 100k will be higher on average**"
   ]
  },
  {
   "cell_type": "markdown",
   "metadata": {},
   "source": [
    "## Test 2: Check if extreme outliers for the 'num_counts' variable result in higher average IMDB Scores"
   ]
  },
  {
   "cell_type": "code",
   "execution_count": 24,
   "metadata": {},
   "outputs": [
    {
     "name": "stdout",
     "output_type": "stream",
     "text": [
      "Scores with > 100k Votes\n",
      "         year  dir_dth_yr  runtime  imdb_score  num_scores\n",
      "count  1804.0      1804.0   1804.0      1804.0      1804.0\n",
      "mean   2002.9      9258.6    116.2         7.1    272211.0\n",
      "std      14.3      2318.8     21.5         0.8    230605.7\n",
      "min    1921.0      1949.0     64.0         3.4    100023.0\n",
      "25%    1999.0      9999.0    101.0         6.5    133382.0\n",
      "50%    2007.0      9999.0    114.0         7.2    192974.0\n",
      "75%    2012.2      9999.0    128.0         7.7    316759.0\n",
      "max    2019.0      9999.0    238.0         9.3   2210134.0\n",
      "\n",
      "Scores with < 100k Votes\n",
      "           year  dir_dth_yr   runtime  imdb_score  num_scores\n",
      "count  175291.0    175291.0  175291.0    175291.0    175291.0\n",
      "mean     1989.4      7387.7      96.2         6.0      1726.7\n",
      "std        26.3      3755.0      34.0         1.3      7731.4\n",
      "min      1910.0      1913.0      40.0         1.0         5.0\n",
      "25%      1971.0      2007.0      84.0         5.2        21.0\n",
      "50%      1998.0      9999.0      93.0         6.1        82.0\n",
      "75%      2012.0      9999.0     104.0         6.8       413.0\n",
      "max      2020.0      9999.0   10062.0        10.0     99898.0\n"
     ]
    }
   ],
   "source": [
    "print('Scores with > 100k Votes')\n",
    "print(round(pop[pop['num_scores'] >= 100_000].describe(),1))\n",
    "print()\n",
    "print('Scores with < 100k Votes')\n",
    "print(round(pop[pop['num_scores'] < 100_000].describe(),1))"
   ]
  },
  {
   "cell_type": "markdown",
   "metadata": {},
   "source": [
    "## Test 2 Conclusions:\n",
    "* Movies with 'num_scores' > 100k have aveage IMDB scores 1.1 points or 18.3% higher than those movies with less than 100k votes.  \n",
    "\n",
    "These results makes sense as extremely popular movies should have more viewers than less popular movies and therefore should posses a larger pool of potential individuals to rate a given movie on IMDB."
   ]
  },
  {
   "cell_type": "markdown",
   "metadata": {},
   "source": [
    "---\n",
    "## Runtime Variable\n",
    "The 'runtime' variable represents the length in minutes of a particular movie. "
   ]
  },
  {
   "cell_type": "code",
   "execution_count": 26,
   "metadata": {},
   "outputs": [
    {
     "name": "stdout",
     "output_type": "stream",
     "text": [
      "        runtime  imdb_score\n",
      "count  177095.0    177095.0\n",
      "mean       96.4         6.0\n",
      "std        33.9         1.3\n",
      "min        40.0         1.0\n",
      "25%        85.0         5.3\n",
      "50%        93.0         6.2\n",
      "75%       105.0         6.9\n",
      "max     10062.0        10.0\n",
      "\n",
      "DescribeResult(nobs=177095, minmax=(array([40.,  1.]), array([1.0062e+04, 1.0000e+01])), mean=array([96.35768938,  5.98660098]), variance=array([1152.21775535,    1.57119267]), skewness=array([145.37129009,  -0.60860027]), kurtosis=array([4.20186225e+04, 4.93740728e-01]))\n",
      "\n",
      "             runtime  imdb_score\n",
      "runtime     1.000000    0.101533\n",
      "imdb_score  0.101533    1.000000\n"
     ]
    }
   ],
   "source": [
    "print(round(pop[['runtime','imdb_score']].describe(),1))\n",
    "print()\n",
    "print(stats.describe(pop[['runtime','imdb_score']]))\n",
    "print()\n",
    "print(pop[['runtime','imdb_score']].corr())"
   ]
  },
  {
   "cell_type": "markdown",
   "metadata": {},
   "source": [
    "**The 'runtime' data appears to have a wide range, much larger than expected. the max value is 10,062 minutes which tells me that something is not right with at least that data point. Because the mean and median are relatively close together, I suspect that these high outliers are the cause for the high skew.**"
   ]
  },
  {
   "cell_type": "markdown",
   "metadata": {},
   "source": [
    "## Test 3: Check if Runtime Effects Average IMDB Score\n",
    "First I perform a quck outlier test by pulling all the rows where the runtime is > 3 standard devations from the mean. I use 210 minutes because this is close to the 3 std amount and I would suspect that the vast majority of movies are shorter than 3.5 hours. "
   ]
  },
  {
   "cell_type": "code",
   "execution_count": 32,
   "metadata": {},
   "outputs": [
    {
     "name": "stdout",
     "output_type": "stream",
     "text": [
      "Population Count: (177095, 12)\n",
      "Runtime Count: (449, 12)\n"
     ]
    }
   ],
   "source": [
    "print(f'Population Count: {pop.shape}')\n",
    "print(f'Runtime Count: {pop[pop[\"runtime\"] > 210].shape}')"
   ]
  },
  {
   "cell_type": "markdown",
   "metadata": {},
   "source": [
    "**Only 449 movies out of 177,000 or 0.002% of the total are longer than 3.5 hours, therefore I remove them and retest to see if these outliers were the cause of the skewed data.**"
   ]
  },
  {
   "cell_type": "code",
   "execution_count": 33,
   "metadata": {},
   "outputs": [
    {
     "name": "stdout",
     "output_type": "stream",
     "text": [
      "           year  dir_dth_yr   runtime  imdb_score  num_scores\n",
      "count  176646.0    176646.0  176646.0    176646.0    176646.0\n",
      "mean     1990.0      7414.0      96.0         6.0      4484.0\n",
      "std        26.0      3745.0      21.0         1.0     36606.0\n",
      "min      1910.0      1913.0      40.0         1.0         5.0\n",
      "25%      1971.0      2007.0      85.0         5.0        22.0\n",
      "50%      1998.0      9999.0      93.0         6.0        84.0\n",
      "75%      2012.0      9999.0     105.0         7.0       440.0\n",
      "max      2020.0      9999.0     210.0        10.0   2210134.0\n",
      "\n",
      "DescribeResult(nobs=177095, minmax=(False, True), mean=0.9974646376238742, variance=0.002528948593928193, skewness=-19.78442511721795, kurtosis=389.42347721880395)\n"
     ]
    }
   ],
   "source": [
    "print(round(pop[pop['runtime'] <= 210].describe()))\n",
    "print()\n",
    "print(stats.describe(pop['runtime'] <= 210))"
   ]
  },
  {
   "cell_type": "code",
   "execution_count": 34,
   "metadata": {},
   "outputs": [
    {
     "data": {
      "text/html": [
       "<div>\n",
       "<style scoped>\n",
       "    .dataframe tbody tr th:only-of-type {\n",
       "        vertical-align: middle;\n",
       "    }\n",
       "\n",
       "    .dataframe tbody tr th {\n",
       "        vertical-align: top;\n",
       "    }\n",
       "\n",
       "    .dataframe thead th {\n",
       "        text-align: right;\n",
       "    }\n",
       "</style>\n",
       "<table border=\"1\" class=\"dataframe\">\n",
       "  <thead>\n",
       "    <tr style=\"text-align: right;\">\n",
       "      <th></th>\n",
       "      <th>year</th>\n",
       "      <th>dir_dth_yr</th>\n",
       "      <th>runtime</th>\n",
       "      <th>imdb_score</th>\n",
       "      <th>num_scores</th>\n",
       "    </tr>\n",
       "  </thead>\n",
       "  <tbody>\n",
       "    <tr>\n",
       "      <th>year</th>\n",
       "      <td>1.000000</td>\n",
       "      <td>0.776352</td>\n",
       "      <td>0.216835</td>\n",
       "      <td>-0.095212</td>\n",
       "      <td>0.055240</td>\n",
       "    </tr>\n",
       "    <tr>\n",
       "      <th>dir_dth_yr</th>\n",
       "      <td>0.776352</td>\n",
       "      <td>1.000000</td>\n",
       "      <td>0.135237</td>\n",
       "      <td>-0.092167</td>\n",
       "      <td>0.054761</td>\n",
       "    </tr>\n",
       "    <tr>\n",
       "      <th>runtime</th>\n",
       "      <td>0.216835</td>\n",
       "      <td>0.135237</td>\n",
       "      <td>1.000000</td>\n",
       "      <td>0.144236</td>\n",
       "      <td>0.116139</td>\n",
       "    </tr>\n",
       "    <tr>\n",
       "      <th>imdb_score</th>\n",
       "      <td>-0.095212</td>\n",
       "      <td>-0.092167</td>\n",
       "      <td>0.144236</td>\n",
       "      <td>1.000000</td>\n",
       "      <td>0.104752</td>\n",
       "    </tr>\n",
       "    <tr>\n",
       "      <th>num_scores</th>\n",
       "      <td>0.055240</td>\n",
       "      <td>0.054761</td>\n",
       "      <td>0.116139</td>\n",
       "      <td>0.104752</td>\n",
       "      <td>1.000000</td>\n",
       "    </tr>\n",
       "  </tbody>\n",
       "</table>\n",
       "</div>"
      ],
      "text/plain": [
       "                year  dir_dth_yr   runtime  imdb_score  num_scores\n",
       "year        1.000000    0.776352  0.216835   -0.095212    0.055240\n",
       "dir_dth_yr  0.776352    1.000000  0.135237   -0.092167    0.054761\n",
       "runtime     0.216835    0.135237  1.000000    0.144236    0.116139\n",
       "imdb_score -0.095212   -0.092167  0.144236    1.000000    0.104752\n",
       "num_scores  0.055240    0.054761  0.116139    0.104752    1.000000"
      ]
     },
     "execution_count": 34,
     "metadata": {},
     "output_type": "execute_result"
    }
   ],
   "source": [
    "pop[pop['runtime'] <= 210].corr()"
   ]
  },
  {
   "cell_type": "code",
   "execution_count": 16,
   "metadata": {},
   "outputs": [
    {
     "data": {
      "text/plain": [
       "<matplotlib.axes._subplots.AxesSubplot at 0x7effda393b10>"
      ]
     },
     "execution_count": 16,
     "metadata": {},
     "output_type": "execute_result"
    },
    {
     "data": {
      "image/png": "[encoded data removed]",
      "text/plain": [
       "<Figure size 2160x720 with 1 Axes>"
      ]
     },
     "metadata": {},
     "output_type": "display_data"
    }
   ],
   "source": [
    "sns.set(style=\"dark\", font_scale=1.5)\n",
    "fig = plt.subplots(figsize=(30,10))\n",
    "sns.regplot(x=\"runtime\", y=\"imdb_score\", data=pop[pop['runtime'] <=210])"
   ]
  },
  {
   "cell_type": "markdown",
   "metadata": {},
   "source": [
    "**After removing the outliers, the correlation between runtime and imdb_scores increased slightly from 0.10 to 0.14, furthermore the distribution is now approximately symmetric. Thus indicating that the oultiers were causing the skew**\n",
    "\n",
    "**Because of the skew, I split the runtime data at the 75th percentile and compare the imdb_score means. It turns out that movies > 1.5 hours in length tend to have scores half a point higher on average.**"
   ]
  },
  {
   "cell_type": "code",
   "execution_count": 35,
   "metadata": {},
   "outputs": [
    {
     "name": "stdout",
     "output_type": "stream",
     "text": [
      "Movie length >= 105 minutes \n",
      "          year  dir_dth_yr  runtime  imdb_score  num_scores\n",
      "count  44784.0     44784.0  44784.0     44784.0     44784.0\n",
      "mean    1995.7      7953.9    125.3         6.4     11372.0\n",
      "std       22.0      3491.1     54.8         1.2     65556.5\n",
      "min     1912.0      1916.0    105.0         1.0         5.0\n",
      "25%     1982.0      2019.0    110.0         5.8        34.0\n",
      "50%     2004.0      9999.0    118.0         6.5       178.0\n",
      "75%     2013.0      9999.0    134.0         7.1      1230.0\n",
      "max     2020.0      9999.0  10062.0        10.0   2210134.0\n",
      "\n",
      "Movie length < 105 minutes\n",
      "           year  dir_dth_yr   runtime  imdb_score  num_scores\n",
      "count  132311.0    132311.0  132311.0    132311.0    132311.0\n",
      "mean     1987.4      7221.6      86.6         5.9      2149.9\n",
      "std        27.2      3813.1      12.0         1.3     17751.2\n",
      "min      1910.0      1913.0      40.0         1.0         5.0\n",
      "25%      1968.0      2003.0      81.0         5.1        19.0\n",
      "50%      1995.0      9999.0      90.0         6.0        69.0\n",
      "75%      2011.0      9999.0      95.0         6.7       318.0\n",
      "max      2020.0      9999.0     104.0        10.0    951842.0\n"
     ]
    }
   ],
   "source": [
    "print('Movie length >= 105 minutes ')\n",
    "print(round(pop[pop['runtime'] >= 105].describe(),1))\n",
    "print()\n",
    "print('Movie length < 105 minutes')\n",
    "print(round(pop[pop['runtime'] < 105].describe(),1))"
   ]
  },
  {
   "cell_type": "markdown",
   "metadata": {},
   "source": [
    "## Test 3 Conclusions:\n",
    "* Movies longer than 105 minutes in length have an average IMDB score 0.5 points higher than movies shorter than 105 minutes in length."
   ]
  },
  {
   "cell_type": "markdown",
   "metadata": {},
   "source": [
    "## Total Movie Titles Per Decade"
   ]
  },
  {
   "cell_type": "code",
   "execution_count": 43,
   "metadata": {},
   "outputs": [
    {
     "data": {
      "text/html": [
       "<div>\n",
       "<style scoped>\n",
       "    .dataframe tbody tr th:only-of-type {\n",
       "        vertical-align: middle;\n",
       "    }\n",
       "\n",
       "    .dataframe tbody tr th {\n",
       "        vertical-align: top;\n",
       "    }\n",
       "\n",
       "    .dataframe thead th {\n",
       "        text-align: right;\n",
       "    }\n",
       "</style>\n",
       "<table border=\"1\" class=\"dataframe\">\n",
       "  <thead>\n",
       "    <tr style=\"text-align: right;\">\n",
       "      <th></th>\n",
       "      <th>titles</th>\n",
       "    </tr>\n",
       "    <tr>\n",
       "      <th>decade</th>\n",
       "      <th></th>\n",
       "    </tr>\n",
       "  </thead>\n",
       "  <tbody>\n",
       "    <tr>\n",
       "      <th>1910</th>\n",
       "      <td>779</td>\n",
       "    </tr>\n",
       "    <tr>\n",
       "      <th>1920</th>\n",
       "      <td>2448</td>\n",
       "    </tr>\n",
       "    <tr>\n",
       "      <th>1930</th>\n",
       "      <td>7732</td>\n",
       "    </tr>\n",
       "    <tr>\n",
       "      <th>1940</th>\n",
       "      <td>7585</td>\n",
       "    </tr>\n",
       "    <tr>\n",
       "      <th>1950</th>\n",
       "      <td>10346</td>\n",
       "    </tr>\n",
       "    <tr>\n",
       "      <th>1960</th>\n",
       "      <td>13079</td>\n",
       "    </tr>\n",
       "    <tr>\n",
       "      <th>1970</th>\n",
       "      <td>15229</td>\n",
       "    </tr>\n",
       "    <tr>\n",
       "      <th>1980</th>\n",
       "      <td>16328</td>\n",
       "    </tr>\n",
       "    <tr>\n",
       "      <th>1990</th>\n",
       "      <td>17671</td>\n",
       "    </tr>\n",
       "    <tr>\n",
       "      <th>2000</th>\n",
       "      <td>30605</td>\n",
       "    </tr>\n",
       "    <tr>\n",
       "      <th>2010</th>\n",
       "      <td>54535</td>\n",
       "    </tr>\n",
       "    <tr>\n",
       "      <th>2020</th>\n",
       "      <td>758</td>\n",
       "    </tr>\n",
       "  </tbody>\n",
       "</table>\n",
       "</div>"
      ],
      "text/plain": [
       "        titles\n",
       "decade        \n",
       "1910       779\n",
       "1920      2448\n",
       "1930      7732\n",
       "1940      7585\n",
       "1950     10346\n",
       "1960     13079\n",
       "1970     15229\n",
       "1980     16328\n",
       "1990     17671\n",
       "2000     30605\n",
       "2010     54535\n",
       "2020       758"
      ]
     },
     "execution_count": 43,
     "metadata": {},
     "output_type": "execute_result"
    }
   ],
   "source": [
    "decade = 10 * (pop['year'] // 10)\n",
    "pop['decade'] = decade\n",
    "\n",
    "# In this case I use groupby because I want to see the decades in ascending order\n",
    "pop.groupby('decade')['year'].count().to_frame(name='titles')\n",
    "\n",
    "# I could have used value_counts, but it puts the title counts in descending order\n",
    "# which makes the years become out of order\n",
    "#pop['decade'].value_counts().to_frame(name='titles')"
   ]
  },
  {
   "cell_type": "markdown",
   "metadata": {},
   "source": [
    "**There are an adequate number of movies per decade. Because my initial algorithm is going to use 10 years of data prior to the target date, the entire possible target date range is 1930 - 2015**"
   ]
  },
  {
   "cell_type": "markdown",
   "metadata": {},
   "source": [
    "---\n",
    "# 3. Data Exploration & Descriptive Statistics\n",
    "In this section, I create a sample template and perform mulitple exploratory case studies on it in order to help with my predictive algorithm creation."
   ]
  },
  {
   "cell_type": "markdown",
   "metadata": {},
   "source": [
    "### Creating the Sample\n",
    "My template sample has the target year of 2000 which means it uses the years from 1990 - 1999 as its 10 years of predictive data. I also remove movies with runtime > 3.5 hours"
   ]
  },
  {
   "cell_type": "code",
   "execution_count": 3,
   "metadata": {},
   "outputs": [
    {
     "name": "stdout",
     "output_type": "stream",
     "text": [
      "Initial Sample Size: (17671, 12)\n",
      "Sample Size After Runtime Outliers Removed: (17645, 12)\n"
     ]
    }
   ],
   "source": [
    "s1 = pop.copy()\n",
    "\n",
    "s1_target = 2000 # Target Year\n",
    "s1_minyr = 1990  # (s1_target - 10)\n",
    "s1_maxyr = 1999  # (s1_target -1)\n",
    "\n",
    "# Create DataFrame with only target year range (1990 - 1999)\n",
    "s1 = s1[(s1['year'] >= s1_minyr) & (s1['year'] <= s1_maxyr)]\n",
    "print(f'Initial Sample Size: {s1.shape}')\n",
    "\n",
    "# Remove all outlier films with runtimes > 3.5 hours\n",
    "s1 = s1[s1['runtime'] <= 210]\n",
    "print(f'Sample Size After Runtime Outliers Removed: {s1.shape}')"
   ]
  },
  {
   "cell_type": "code",
   "execution_count": 4,
   "metadata": {},
   "outputs": [
    {
     "name": "stdout",
     "output_type": "stream",
     "text": [
      "          year  dir_dth_yr  runtime  imdb_score  num_scores\n",
      "count  17645.0     17645.0  17645.0     17645.0     17645.0\n",
      "mean    1994.7      8869.7    100.1         5.9      7086.3\n",
      "std        2.9      2783.4     21.1         1.2     53942.2\n",
      "min     1990.0      1934.0     45.0         1.0         5.0\n",
      "25%     1992.0      9999.0     89.0         5.1        31.0\n",
      "50%     1995.0      9999.0     95.0         6.0       124.0\n",
      "75%     1997.0      9999.0    107.0         6.8       618.0\n",
      "max     1999.0      9999.0    210.0         9.6   2210134.0\n",
      "\n",
      "                year  dir_dth_yr   runtime  imdb_score  num_scores\n",
      "year        1.000000    0.134515 -0.002250   -0.012622    0.028240\n",
      "dir_dth_yr  0.134515    1.000000 -0.066009   -0.009929    0.021578\n",
      "runtime    -0.002250   -0.066009  1.000000    0.191876    0.115653\n",
      "imdb_score -0.012622   -0.009929  0.191876    1.000000    0.146892\n",
      "num_scores  0.028240    0.021578  0.115653    0.146892    1.000000\n"
     ]
    }
   ],
   "source": [
    "print(s1.describe().round(decimals=1))\n",
    "print()\n",
    "print(s1.corr())"
   ]
  },
  {
   "cell_type": "markdown",
   "metadata": {},
   "source": [
    "**The sample statsitics are pretty much in line with the population, therefore I proceed with case by case analysis.**"
   ]
  },
  {
   "cell_type": "markdown",
   "metadata": {},
   "source": [
    "## Movie Titles Per Year"
   ]
  },
  {
   "cell_type": "code",
   "execution_count": 5,
   "metadata": {},
   "outputs": [
    {
     "data": {
      "image/png": "[encoded data removed]",
      "text/plain": [
       "<Figure size 1080x504 with 1 Axes>"
      ]
     },
     "metadata": {},
     "output_type": "display_data"
    }
   ],
   "source": [
    "sns.set(style=\"darkgrid\", font_scale=1.25)\n",
    "fig = plt.subplots(figsize=(15,7))\n",
    "\n",
    "# use x for vertical bars, y for horizontal bars\n",
    "ax = sns.countplot(x='year', data=s1, palette='GnBu_d')\n",
    "\n",
    "plt.xticks(rotation=80)\n",
    "plt.show()"
   ]
  },
  {
   "cell_type": "markdown",
   "metadata": {},
   "source": [
    "**This chart shows that all years in the sample contain a relatively uniform number of movies per year which is ideal.**"
   ]
  },
  {
   "cell_type": "markdown",
   "metadata": {},
   "source": [
    "---\n",
    "## Case 1: Genre Count\n",
    "* **Objective** - Get a better idea of the genre breakdown\n",
    "* **Data Points** - (x = 'genre'), (y= title count per genre)\n",
    "* **Analysis Type** - Vertical & Horizontal Bar Charts"
   ]
  },
  {
   "cell_type": "markdown",
   "metadata": {},
   "source": [
    "### First, I pull the population title count by genre to use as a comparison with the sample"
   ]
  },
  {
   "cell_type": "code",
   "execution_count": 6,
   "metadata": {},
   "outputs": [
    {
     "data": {
      "text/html": [
       "<div>\n",
       "<style scoped>\n",
       "    .dataframe tbody tr th:only-of-type {\n",
       "        vertical-align: middle;\n",
       "    }\n",
       "\n",
       "    .dataframe tbody tr th {\n",
       "        vertical-align: top;\n",
       "    }\n",
       "\n",
       "    .dataframe thead th {\n",
       "        text-align: right;\n",
       "    }\n",
       "</style>\n",
       "<table border=\"1\" class=\"dataframe\">\n",
       "  <thead>\n",
       "    <tr style=\"text-align: right;\">\n",
       "      <th></th>\n",
       "      <th>titles</th>\n",
       "      <th>pct</th>\n",
       "    </tr>\n",
       "  </thead>\n",
       "  <tbody>\n",
       "    <tr>\n",
       "      <th>Drama</th>\n",
       "      <td>82882</td>\n",
       "      <td>46.8</td>\n",
       "    </tr>\n",
       "    <tr>\n",
       "      <th>Comedy</th>\n",
       "      <td>48843</td>\n",
       "      <td>27.6</td>\n",
       "    </tr>\n",
       "    <tr>\n",
       "      <th>Action</th>\n",
       "      <td>24424</td>\n",
       "      <td>13.8</td>\n",
       "    </tr>\n",
       "    <tr>\n",
       "      <th>Horror</th>\n",
       "      <td>13099</td>\n",
       "      <td>7.4</td>\n",
       "    </tr>\n",
       "    <tr>\n",
       "      <th>Family</th>\n",
       "      <td>7847</td>\n",
       "      <td>4.4</td>\n",
       "    </tr>\n",
       "  </tbody>\n",
       "</table>\n",
       "</div>"
      ],
      "text/plain": [
       "        titles   pct\n",
       "Drama    82882  46.8\n",
       "Comedy   48843  27.6\n",
       "Action   24424  13.8\n",
       "Horror   13099   7.4\n",
       "Family    7847   4.4"
      ]
     },
     "execution_count": 6,
     "metadata": {},
     "output_type": "execute_result"
    }
   ],
   "source": [
    "cnt_df = pop['genre'].value_counts().to_frame(name = 'titles')\n",
    "cnt_df['pct'] = round(pop['genre'].value_counts() / \n",
    "                      pop['genre'].value_counts().sum() * 100, 1)\n",
    "cnt_df"
   ]
  },
  {
   "cell_type": "markdown",
   "metadata": {},
   "source": [
    "### Next I get the sample title count by genre"
   ]
  },
  {
   "cell_type": "code",
   "execution_count": 7,
   "metadata": {},
   "outputs": [
    {
     "data": {
      "text/html": [
       "<div>\n",
       "<style scoped>\n",
       "    .dataframe tbody tr th:only-of-type {\n",
       "        vertical-align: middle;\n",
       "    }\n",
       "\n",
       "    .dataframe tbody tr th {\n",
       "        vertical-align: top;\n",
       "    }\n",
       "\n",
       "    .dataframe thead th {\n",
       "        text-align: right;\n",
       "    }\n",
       "</style>\n",
       "<table border=\"1\" class=\"dataframe\">\n",
       "  <thead>\n",
       "    <tr style=\"text-align: right;\">\n",
       "      <th></th>\n",
       "      <th>titles</th>\n",
       "      <th>pct</th>\n",
       "    </tr>\n",
       "  </thead>\n",
       "  <tbody>\n",
       "    <tr>\n",
       "      <th>Drama</th>\n",
       "      <td>7935</td>\n",
       "      <td>45.0</td>\n",
       "    </tr>\n",
       "    <tr>\n",
       "      <th>Comedy</th>\n",
       "      <td>4933</td>\n",
       "      <td>28.0</td>\n",
       "    </tr>\n",
       "    <tr>\n",
       "      <th>Action</th>\n",
       "      <td>3022</td>\n",
       "      <td>17.1</td>\n",
       "    </tr>\n",
       "    <tr>\n",
       "      <th>Horror</th>\n",
       "      <td>940</td>\n",
       "      <td>5.3</td>\n",
       "    </tr>\n",
       "    <tr>\n",
       "      <th>Family</th>\n",
       "      <td>815</td>\n",
       "      <td>4.6</td>\n",
       "    </tr>\n",
       "  </tbody>\n",
       "</table>\n",
       "</div>"
      ],
      "text/plain": [
       "        titles   pct\n",
       "Drama     7935  45.0\n",
       "Comedy    4933  28.0\n",
       "Action    3022  17.1\n",
       "Horror     940   5.3\n",
       "Family     815   4.6"
      ]
     },
     "execution_count": 7,
     "metadata": {},
     "output_type": "execute_result"
    }
   ],
   "source": [
    "cnt_df = s1['genre'].value_counts().to_frame(name = 'titles')\n",
    "cnt_df['pct'] = round(s1['genre'].value_counts() / \n",
    "                      s1['genre'].value_counts().sum() * 100, 1)\n",
    "cnt_df"
   ]
  },
  {
   "cell_type": "markdown",
   "metadata": {},
   "source": [
    "### Bar Chart\n",
    "In this example, a subset of the data was used including just the genre and title columns. Doing this allowed the use of groupby() for counting the titles by genre and also allowed for sorting by total count value. "
   ]
  },
  {
   "cell_type": "code",
   "execution_count": 8,
   "metadata": {},
   "outputs": [
    {
     "data": {
      "image/png": "[encoded data removed]",
      "text/plain": [
       "<Figure size 720x432 with 1 Axes>"
      ]
     },
     "metadata": {},
     "output_type": "display_data"
    }
   ],
   "source": [
    "bar1 = cnt_df.reset_index()\n",
    "\n",
    "# Set chart style, color palette, and font size\n",
    "sns.set(style=\"white\", palette='GnBu_d', font_scale=1.25)\n",
    "\n",
    "# Set chart size\n",
    "fig = plt.subplots(figsize=(10,6))\n",
    "\n",
    "# Chart type & settings\n",
    "ax = sns.barplot(x=\"index\", y=\"titles\", data=bar1).set_title('Movie Genre Count')\n",
    "\n",
    "# Remove top and right borders\n",
    "sns.despine(top=True, right=True)"
   ]
  },
  {
   "cell_type": "markdown",
   "metadata": {},
   "source": [
    "### Countplot Chart\n",
    "In this example, the counts created through seaborn using the countplot chart. All that was required was the 'genre' column. However, the big difference between this and the chart above is that sorting this chart does so by the genre names and NOT the count values themselves. "
   ]
  },
  {
   "cell_type": "code",
   "execution_count": 9,
   "metadata": {},
   "outputs": [
    {
     "data": {
      "image/png": "[encoded data removed]",
      "text/plain": [
       "<Figure size 720x432 with 1 Axes>"
      ]
     },
     "metadata": {},
     "output_type": "display_data"
    }
   ],
   "source": [
    "sns.set(style=\"darkgrid\", palette='GnBu_d', font_scale=1.25)\n",
    "fig = plt.subplots(figsize=(10,6))\n",
    "ax = sns.countplot(y='genre', data=s1).set_title('Movie Genre Count')"
   ]
  },
  {
   "cell_type": "markdown",
   "metadata": {},
   "source": [
    "## Case 1 Results:\n",
    "Approximately 90% of the movies in the sample (and population) are either, Drama, Comedy, or Action. Drama in particular makes up 44% of the total. This would suggest that those particular genres could be the most popular, however this can't be confirmed without also checking the IMDB Score means by genre. \n",
    "\n",
    "**Current Algorithm Metrics:**\n",
    "* **Average IMDB Score = 6.1**\n",
    "* **Average IMDB Score STD = 1.1**\n",
    "* **Number IMDB Score Votes > 100k for extremely popular movies**\n",
    "* **Ideal Movie Length > 105 Minutes**"
   ]
  },
  {
   "cell_type": "markdown",
   "metadata": {},
   "source": [
    "---\n",
    "## Case 2: Genre Popularity Based on IMDB Score\n",
    "* **Objective** - Compare Imdb Scores by Genre in order to see which is most popular\n",
    "* **Data Points** - (x = 'genre'), (y= 'imdb_score;')\n",
    "* **Analysis Type** - Descriptive Statistics"
   ]
  },
  {
   "cell_type": "markdown",
   "metadata": {},
   "source": [
    "### First, I pull the population title mean by genre to use as a comparison with the sample"
   ]
  },
  {
   "cell_type": "code",
   "execution_count": 10,
   "metadata": {},
   "outputs": [
    {
     "data": {
      "text/html": [
       "<div>\n",
       "<style scoped>\n",
       "    .dataframe tbody tr th:only-of-type {\n",
       "        vertical-align: middle;\n",
       "    }\n",
       "\n",
       "    .dataframe tbody tr th {\n",
       "        vertical-align: top;\n",
       "    }\n",
       "\n",
       "    .dataframe thead th {\n",
       "        text-align: right;\n",
       "    }\n",
       "</style>\n",
       "<table border=\"1\" class=\"dataframe\">\n",
       "  <thead>\n",
       "    <tr style=\"text-align: right;\">\n",
       "      <th></th>\n",
       "      <th>imdb_score</th>\n",
       "    </tr>\n",
       "    <tr>\n",
       "      <th>genre</th>\n",
       "      <th></th>\n",
       "    </tr>\n",
       "  </thead>\n",
       "  <tbody>\n",
       "    <tr>\n",
       "      <th>Action</th>\n",
       "      <td>5.721122</td>\n",
       "    </tr>\n",
       "    <tr>\n",
       "      <th>Comedy</th>\n",
       "      <td>5.939067</td>\n",
       "    </tr>\n",
       "    <tr>\n",
       "      <th>Drama</th>\n",
       "      <td>6.239097</td>\n",
       "    </tr>\n",
       "    <tr>\n",
       "      <th>Family</th>\n",
       "      <td>6.121343</td>\n",
       "    </tr>\n",
       "    <tr>\n",
       "      <th>Horror</th>\n",
       "      <td>4.974024</td>\n",
       "    </tr>\n",
       "  </tbody>\n",
       "</table>\n",
       "</div>"
      ],
      "text/plain": [
       "        imdb_score\n",
       "genre             \n",
       "Action    5.721122\n",
       "Comedy    5.939067\n",
       "Drama     6.239097\n",
       "Family    6.121343\n",
       "Horror    4.974024"
      ]
     },
     "execution_count": 10,
     "metadata": {},
     "output_type": "execute_result"
    }
   ],
   "source": [
    "pop_mean = pop.copy()\n",
    "pop_mean = pop_mean[(pop_mean['year'] >= 1930) & (pop_mean['year'] <= 2015)]\n",
    "pop_mean[['genre', 'imdb_score']].groupby('genre').mean()"
   ]
  },
  {
   "cell_type": "markdown",
   "metadata": {},
   "source": [
    "### Next I pull the sample mean by genre"
   ]
  },
  {
   "cell_type": "code",
   "execution_count": 11,
   "metadata": {},
   "outputs": [
    {
     "data": {
      "text/html": [
       "<div>\n",
       "<style scoped>\n",
       "    .dataframe tbody tr th:only-of-type {\n",
       "        vertical-align: middle;\n",
       "    }\n",
       "\n",
       "    .dataframe tbody tr th {\n",
       "        vertical-align: top;\n",
       "    }\n",
       "\n",
       "    .dataframe thead th {\n",
       "        text-align: right;\n",
       "    }\n",
       "</style>\n",
       "<table border=\"1\" class=\"dataframe\">\n",
       "  <thead>\n",
       "    <tr style=\"text-align: right;\">\n",
       "      <th></th>\n",
       "      <th>imdb_score</th>\n",
       "    </tr>\n",
       "    <tr>\n",
       "      <th>genre</th>\n",
       "      <th></th>\n",
       "    </tr>\n",
       "  </thead>\n",
       "  <tbody>\n",
       "    <tr>\n",
       "      <th>Action</th>\n",
       "      <td>5.479351</td>\n",
       "    </tr>\n",
       "    <tr>\n",
       "      <th>Comedy</th>\n",
       "      <td>5.883580</td>\n",
       "    </tr>\n",
       "    <tr>\n",
       "      <th>Drama</th>\n",
       "      <td>6.162281</td>\n",
       "    </tr>\n",
       "    <tr>\n",
       "      <th>Family</th>\n",
       "      <td>5.811043</td>\n",
       "    </tr>\n",
       "    <tr>\n",
       "      <th>Horror</th>\n",
       "      <td>5.056064</td>\n",
       "    </tr>\n",
       "  </tbody>\n",
       "</table>\n",
       "</div>"
      ],
      "text/plain": [
       "        imdb_score\n",
       "genre             \n",
       "Action    5.479351\n",
       "Comedy    5.883580\n",
       "Drama     6.162281\n",
       "Family    5.811043\n",
       "Horror    5.056064"
      ]
     },
     "execution_count": 11,
     "metadata": {},
     "output_type": "execute_result"
    }
   ],
   "source": [
    "smpl_mean = s1.copy()\n",
    "smpl_mean = smpl_mean[(smpl_mean['year'] >= s1_minyr) & (smpl_mean['year'] <= s1_maxyr)]\n",
    "smpl_mean[['genre', 'imdb_score']].groupby('genre').mean()"
   ]
  },
  {
   "cell_type": "markdown",
   "metadata": {},
   "source": [
    "## Case 2 Results:\n",
    "Of the five genre types here are the ranks for highers mean IMDB scores:\n",
    "1. Drama (#1 in both population and sample)\n",
    "2. Comedy(#2 in sample, #3 in population )\n",
    "3. Family (#2 in population, #3 in sample)\n",
    "4. Action (#4 in both population and sample)\n",
    "5. Horror (#5 in both population and sample)\n",
    "\n",
    "This analysis shows that for predictive purposes of a movies success, choosing to make Drama film could potentially net higher scores than all the other genre types. Note that family came in second for the population, however, there are only approximately 7K Family movies from 1910 - 2015, therefore I opt to not test that genre.\n",
    "\n",
    "**Current Algorithm Metrics:**\n",
    "* **Average IMDB Score = 6.1**\n",
    "* **Average IMDB Score STD = 1.1**\n",
    "* **Number IMDB Score Votes > 100k for extremely popular movies**\n",
    "* **Ideal Movie Length > 105 Minutes**"
   ]
  },
  {
   "cell_type": "markdown",
   "metadata": {},
   "source": [
    "---\n",
    "## Case 3: Determine Ideal Directors Per Genre\n",
    "* **Objective** -  In the title\n",
    "* **Data Points** - 'title', 'genre', 'director', 'imdb_score', 'num_scores'\n",
    "* **Analysis Type** - Descriptive Statistics"
   ]
  },
  {
   "cell_type": "code",
   "execution_count": 12,
   "metadata": {},
   "outputs": [
    {
     "data": {
      "text/html": [
       "<div>\n",
       "<style scoped>\n",
       "    .dataframe tbody tr th:only-of-type {\n",
       "        vertical-align: middle;\n",
       "    }\n",
       "\n",
       "    .dataframe tbody tr th {\n",
       "        vertical-align: top;\n",
       "    }\n",
       "\n",
       "    .dataframe thead th {\n",
       "        text-align: right;\n",
       "    }\n",
       "</style>\n",
       "<table border=\"1\" class=\"dataframe\">\n",
       "  <thead>\n",
       "    <tr style=\"text-align: right;\">\n",
       "      <th></th>\n",
       "      <th>title</th>\n",
       "      <th>imdb_score</th>\n",
       "    </tr>\n",
       "  </thead>\n",
       "  <tbody>\n",
       "    <tr>\n",
       "      <th>count</th>\n",
       "      <td>10041.0</td>\n",
       "      <td>10041.0</td>\n",
       "    </tr>\n",
       "    <tr>\n",
       "      <th>mean</th>\n",
       "      <td>1.8</td>\n",
       "      <td>5.9</td>\n",
       "    </tr>\n",
       "    <tr>\n",
       "      <th>std</th>\n",
       "      <td>1.7</td>\n",
       "      <td>1.2</td>\n",
       "    </tr>\n",
       "    <tr>\n",
       "      <th>min</th>\n",
       "      <td>1.0</td>\n",
       "      <td>1.0</td>\n",
       "    </tr>\n",
       "    <tr>\n",
       "      <th>25%</th>\n",
       "      <td>1.0</td>\n",
       "      <td>5.1</td>\n",
       "    </tr>\n",
       "    <tr>\n",
       "      <th>50%</th>\n",
       "      <td>1.0</td>\n",
       "      <td>6.0</td>\n",
       "    </tr>\n",
       "    <tr>\n",
       "      <th>75%</th>\n",
       "      <td>2.0</td>\n",
       "      <td>6.7</td>\n",
       "    </tr>\n",
       "    <tr>\n",
       "      <th>max</th>\n",
       "      <td>43.0</td>\n",
       "      <td>9.6</td>\n",
       "    </tr>\n",
       "  </tbody>\n",
       "</table>\n",
       "</div>"
      ],
      "text/plain": [
       "         title  imdb_score\n",
       "count  10041.0     10041.0\n",
       "mean       1.8         5.9\n",
       "std        1.7         1.2\n",
       "min        1.0         1.0\n",
       "25%        1.0         5.1\n",
       "50%        1.0         6.0\n",
       "75%        2.0         6.7\n",
       "max       43.0         9.6"
      ]
     },
     "execution_count": 12,
     "metadata": {},
     "output_type": "execute_result"
    }
   ],
   "source": [
    "round(s1.groupby('director').agg({'title':'count','imdb_score':'mean'}).describe(),1)"
   ]
  },
  {
   "cell_type": "markdown",
   "metadata": {},
   "source": [
    "**From the above results, 75% of directors have < 2 movies.**\n",
    "\n",
    "### I next perform a search based on number of titles and average score"
   ]
  },
  {
   "cell_type": "code",
   "execution_count": 13,
   "metadata": {},
   "outputs": [
    {
     "data": {
      "text/html": [
       "<div>\n",
       "<style scoped>\n",
       "    .dataframe tbody tr th:only-of-type {\n",
       "        vertical-align: middle;\n",
       "    }\n",
       "\n",
       "    .dataframe tbody tr th {\n",
       "        vertical-align: top;\n",
       "    }\n",
       "\n",
       "    .dataframe thead th {\n",
       "        text-align: right;\n",
       "    }\n",
       "</style>\n",
       "<table border=\"1\" class=\"dataframe\">\n",
       "  <thead>\n",
       "    <tr style=\"text-align: right;\">\n",
       "      <th></th>\n",
       "      <th>title</th>\n",
       "      <th>imdb_score</th>\n",
       "      <th>num_scores</th>\n",
       "    </tr>\n",
       "    <tr>\n",
       "      <th>director</th>\n",
       "      <th></th>\n",
       "      <th></th>\n",
       "      <th></th>\n",
       "    </tr>\n",
       "  </thead>\n",
       "  <tbody>\n",
       "    <tr>\n",
       "      <th>Jing Wong</th>\n",
       "      <td>43</td>\n",
       "      <td>6.16</td>\n",
       "      <td>51951</td>\n",
       "    </tr>\n",
       "    <tr>\n",
       "      <th>Hisayasu Sato</th>\n",
       "      <td>18</td>\n",
       "      <td>6.21</td>\n",
       "      <td>2771</td>\n",
       "    </tr>\n",
       "    <tr>\n",
       "      <th>Andrew Lau</th>\n",
       "      <td>17</td>\n",
       "      <td>6.22</td>\n",
       "      <td>11615</td>\n",
       "    </tr>\n",
       "    <tr>\n",
       "      <th>Priyadarshan</th>\n",
       "      <td>17</td>\n",
       "      <td>7.18</td>\n",
       "      <td>17394</td>\n",
       "    </tr>\n",
       "    <tr>\n",
       "      <th>Hark Tsui</th>\n",
       "      <td>16</td>\n",
       "      <td>6.51</td>\n",
       "      <td>96566</td>\n",
       "    </tr>\n",
       "    <tr>\n",
       "      <th>...</th>\n",
       "      <td>...</td>\n",
       "      <td>...</td>\n",
       "      <td>...</td>\n",
       "    </tr>\n",
       "    <tr>\n",
       "      <th>Kenji Kodama</th>\n",
       "      <td>3</td>\n",
       "      <td>7.30</td>\n",
       "      <td>4187</td>\n",
       "    </tr>\n",
       "    <tr>\n",
       "      <th>Keiichi Hara</th>\n",
       "      <td>3</td>\n",
       "      <td>6.57</td>\n",
       "      <td>717</td>\n",
       "    </tr>\n",
       "    <tr>\n",
       "      <th>Katsuyuki Motohiro</th>\n",
       "      <td>3</td>\n",
       "      <td>6.47</td>\n",
       "      <td>719</td>\n",
       "    </tr>\n",
       "    <tr>\n",
       "      <th>Katrin Ottarsdottir</th>\n",
       "      <td>3</td>\n",
       "      <td>6.23</td>\n",
       "      <td>559</td>\n",
       "    </tr>\n",
       "    <tr>\n",
       "      <th>Zrinko Ogresta</th>\n",
       "      <td>3</td>\n",
       "      <td>6.53</td>\n",
       "      <td>775</td>\n",
       "    </tr>\n",
       "  </tbody>\n",
       "</table>\n",
       "<p>891 rows × 3 columns</p>\n",
       "</div>"
      ],
      "text/plain": [
       "                     title  imdb_score  num_scores\n",
       "director                                          \n",
       "Jing Wong               43        6.16       51951\n",
       "Hisayasu Sato           18        6.21        2771\n",
       "Andrew Lau              17        6.22       11615\n",
       "Priyadarshan            17        7.18       17394\n",
       "Hark Tsui               16        6.51       96566\n",
       "...                    ...         ...         ...\n",
       "Kenji Kodama             3        7.30        4187\n",
       "Keiichi Hara             3        6.57         717\n",
       "Katsuyuki Motohiro       3        6.47         719\n",
       "Katrin Ottarsdottir      3        6.23         559\n",
       "Zrinko Ogresta           3        6.53         775\n",
       "\n",
       "[891 rows x 3 columns]"
      ]
     },
     "execution_count": 13,
     "metadata": {},
     "output_type": "execute_result"
    }
   ],
   "source": [
    "dir1 = s1.copy()\n",
    "\n",
    "dir1 = round(dir1.groupby('director').agg({'title': 'count',\n",
    "                                           'imdb_score': 'mean', \n",
    "                                           'num_scores' : 'sum'}), 2)\n",
    "\n",
    "dir1.loc[(dir1['title'] >= 3) & \n",
    "         (dir1['imdb_score'] > 6)].sort_values(by='title', ascending=False)"
   ]
  },
  {
   "cell_type": "markdown",
   "metadata": {},
   "source": [
    "**The above results were not quite what I expected. Tthe directors with the most titles and highest average IMDB scores are unrecognizable to me. I also notice that the number of total votes for all their movies is not very high in most cases. Because of this, I perform another search based on the number of votes and immediately get back what I was looking for, instantly recognizable names. See Below:**"
   ]
  },
  {
   "cell_type": "code",
   "execution_count": 14,
   "metadata": {},
   "outputs": [
    {
     "data": {
      "text/html": [
       "<div>\n",
       "<style scoped>\n",
       "    .dataframe tbody tr th:only-of-type {\n",
       "        vertical-align: middle;\n",
       "    }\n",
       "\n",
       "    .dataframe tbody tr th {\n",
       "        vertical-align: top;\n",
       "    }\n",
       "\n",
       "    .dataframe thead th {\n",
       "        text-align: right;\n",
       "    }\n",
       "</style>\n",
       "<table border=\"1\" class=\"dataframe\">\n",
       "  <thead>\n",
       "    <tr style=\"text-align: right;\">\n",
       "      <th></th>\n",
       "      <th>title</th>\n",
       "      <th>imdb_score</th>\n",
       "      <th>num_scores</th>\n",
       "    </tr>\n",
       "    <tr>\n",
       "      <th>director</th>\n",
       "      <th></th>\n",
       "      <th></th>\n",
       "      <th></th>\n",
       "    </tr>\n",
       "  </thead>\n",
       "  <tbody>\n",
       "    <tr>\n",
       "      <th>Steven Spielberg</th>\n",
       "      <td>6</td>\n",
       "      <td>7.72</td>\n",
       "      <td>3798303</td>\n",
       "    </tr>\n",
       "    <tr>\n",
       "      <th>David Fincher</th>\n",
       "      <td>4</td>\n",
       "      <td>7.92</td>\n",
       "      <td>3719443</td>\n",
       "    </tr>\n",
       "    <tr>\n",
       "      <th>Quentin Tarantino</th>\n",
       "      <td>3</td>\n",
       "      <td>8.23</td>\n",
       "      <td>2911100</td>\n",
       "    </tr>\n",
       "    <tr>\n",
       "      <th>Robert Zemeckis</th>\n",
       "      <td>4</td>\n",
       "      <td>7.55</td>\n",
       "      <td>2427903</td>\n",
       "    </tr>\n",
       "    <tr>\n",
       "      <th>James Cameron</th>\n",
       "      <td>3</td>\n",
       "      <td>7.83</td>\n",
       "      <td>2181984</td>\n",
       "    </tr>\n",
       "    <tr>\n",
       "      <th>Martin Scorsese</th>\n",
       "      <td>6</td>\n",
       "      <td>7.53</td>\n",
       "      <td>1696621</td>\n",
       "    </tr>\n",
       "    <tr>\n",
       "      <th>Luc Besson</th>\n",
       "      <td>4</td>\n",
       "      <td>7.48</td>\n",
       "      <td>1524623</td>\n",
       "    </tr>\n",
       "    <tr>\n",
       "      <th>Jonathan Demme</th>\n",
       "      <td>3</td>\n",
       "      <td>7.43</td>\n",
       "      <td>1420431</td>\n",
       "    </tr>\n",
       "    <tr>\n",
       "      <th>Joel Coen</th>\n",
       "      <td>3</td>\n",
       "      <td>7.97</td>\n",
       "      <td>1388439</td>\n",
       "    </tr>\n",
       "    <tr>\n",
       "      <th>Tim Burton</th>\n",
       "      <td>5</td>\n",
       "      <td>7.26</td>\n",
       "      <td>1373589</td>\n",
       "    </tr>\n",
       "  </tbody>\n",
       "</table>\n",
       "</div>"
      ],
      "text/plain": [
       "                   title  imdb_score  num_scores\n",
       "director                                        \n",
       "Steven Spielberg       6        7.72     3798303\n",
       "David Fincher          4        7.92     3719443\n",
       "Quentin Tarantino      3        8.23     2911100\n",
       "Robert Zemeckis        4        7.55     2427903\n",
       "James Cameron          3        7.83     2181984\n",
       "Martin Scorsese        6        7.53     1696621\n",
       "Luc Besson             4        7.48     1524623\n",
       "Jonathan Demme         3        7.43     1420431\n",
       "Joel Coen              3        7.97     1388439\n",
       "Tim Burton             5        7.26     1373589"
      ]
     },
     "execution_count": 14,
     "metadata": {},
     "output_type": "execute_result"
    }
   ],
   "source": [
    "dir2 = s1.copy()\n",
    "\n",
    "dir2 = round(dir2.groupby('director').agg({'title': 'count',\n",
    "                                           'imdb_score': 'mean', \n",
    "                                           'num_scores' : 'sum'}),2)\n",
    "\n",
    "dir2[(dir2['title'] >= 3) & \n",
    "     (dir2['imdb_score'] > 6) & \n",
    "     (dir2['num_scores'] > 100_000)].sort_values(by='num_scores', ascending=False).head(10)"
   ]
  },
  {
   "cell_type": "markdown",
   "metadata": {},
   "source": [
    "**While the above grouping works for just 'num_scores', I would ideally like to have 'imdb_score' sorted AFTER 'num_scores'**\n",
    "\n",
    "### In this search I apply all the ideal algorithm metrics so far and sort appropriately:"
   ]
  },
  {
   "cell_type": "code",
   "execution_count": 15,
   "metadata": {},
   "outputs": [
    {
     "name": "stdout",
     "output_type": "stream",
     "text": [
      "(28, 3)\n",
      "\n",
      "Top 10 Drama Directors Per Imdb Score and Score Count:\n"
     ]
    },
    {
     "data": {
      "text/html": [
       "<div>\n",
       "<style scoped>\n",
       "    .dataframe tbody tr th:only-of-type {\n",
       "        vertical-align: middle;\n",
       "    }\n",
       "\n",
       "    .dataframe tbody tr th {\n",
       "        vertical-align: top;\n",
       "    }\n",
       "\n",
       "    .dataframe thead th {\n",
       "        text-align: right;\n",
       "    }\n",
       "</style>\n",
       "<table border=\"1\" class=\"dataframe\">\n",
       "  <thead>\n",
       "    <tr style=\"text-align: right;\">\n",
       "      <th></th>\n",
       "      <th>title</th>\n",
       "      <th>imdb_score</th>\n",
       "      <th>num_scores</th>\n",
       "    </tr>\n",
       "    <tr>\n",
       "      <th>director</th>\n",
       "      <th></th>\n",
       "      <th></th>\n",
       "      <th></th>\n",
       "    </tr>\n",
       "  </thead>\n",
       "  <tbody>\n",
       "    <tr>\n",
       "      <th>Steven Spielberg</th>\n",
       "      <td>3</td>\n",
       "      <td>8.27</td>\n",
       "      <td>2392438</td>\n",
       "    </tr>\n",
       "    <tr>\n",
       "      <th>Quentin Tarantino</th>\n",
       "      <td>3</td>\n",
       "      <td>8.23</td>\n",
       "      <td>2911100</td>\n",
       "    </tr>\n",
       "    <tr>\n",
       "      <th>Paul Thomas Anderson</th>\n",
       "      <td>3</td>\n",
       "      <td>7.70</td>\n",
       "      <td>545842</td>\n",
       "    </tr>\n",
       "    <tr>\n",
       "      <th>Taylor Hackford</th>\n",
       "      <td>3</td>\n",
       "      <td>7.63</td>\n",
       "      <td>378505</td>\n",
       "    </tr>\n",
       "    <tr>\n",
       "      <th>Jim Sheridan</th>\n",
       "      <td>3</td>\n",
       "      <td>7.53</td>\n",
       "      <td>171420</td>\n",
       "    </tr>\n",
       "    <tr>\n",
       "      <th>Martin Scorsese</th>\n",
       "      <td>6</td>\n",
       "      <td>7.53</td>\n",
       "      <td>1696621</td>\n",
       "    </tr>\n",
       "    <tr>\n",
       "      <th>Pedro Almodovar</th>\n",
       "      <td>3</td>\n",
       "      <td>7.40</td>\n",
       "      <td>121516</td>\n",
       "    </tr>\n",
       "    <tr>\n",
       "      <th>Rob Reiner</th>\n",
       "      <td>3</td>\n",
       "      <td>7.40</td>\n",
       "      <td>406860</td>\n",
       "    </tr>\n",
       "    <tr>\n",
       "      <th>Tom Tykwer</th>\n",
       "      <td>3</td>\n",
       "      <td>7.27</td>\n",
       "      <td>188241</td>\n",
       "    </tr>\n",
       "    <tr>\n",
       "      <th>Ang Lee</th>\n",
       "      <td>3</td>\n",
       "      <td>7.23</td>\n",
       "      <td>161468</td>\n",
       "    </tr>\n",
       "  </tbody>\n",
       "</table>\n",
       "</div>"
      ],
      "text/plain": [
       "                      title  imdb_score  num_scores\n",
       "director                                           \n",
       "Steven Spielberg          3        8.27     2392438\n",
       "Quentin Tarantino         3        8.23     2911100\n",
       "Paul Thomas Anderson      3        7.70      545842\n",
       "Taylor Hackford           3        7.63      378505\n",
       "Jim Sheridan              3        7.53      171420\n",
       "Martin Scorsese           6        7.53     1696621\n",
       "Pedro Almodovar           3        7.40      121516\n",
       "Rob Reiner                3        7.40      406860\n",
       "Tom Tykwer                3        7.27      188241\n",
       "Ang Lee                   3        7.23      161468"
      ]
     },
     "execution_count": 15,
     "metadata": {},
     "output_type": "execute_result"
    }
   ],
   "source": [
    "dir4 = s1.copy()\n",
    "\n",
    "# Set Genre\n",
    "dir4 = dir4[dir4['genre'] == 'Drama']       # Target Genre: Drama\n",
    "dir4 = dir4[dir4['dir_dth_yr'] == 9999]     # Remove dead directors\n",
    "\n",
    "# Group and Aggregate Desired Columns\n",
    "dir4 = round(dir4.groupby('director').agg({'title': 'count',  \n",
    "                                           # This selects the mode, not used because \n",
    "                                           # set genre directly\n",
    "                                           #'genre': lambda x:x.value_counts().index[0], \n",
    "                                           'imdb_score': 'mean',\n",
    "                                           'num_scores' : 'sum'}),2)\n",
    "\n",
    "# Set Algorithm Limits\n",
    "dir4 = dir4[(dir4['title'] >= 3) &           # Min number of movies per director\n",
    "            (dir4['imdb_score'] > 6.1) &     # Min IMDB Score for all directors movies\n",
    "            (dir4['num_scores'] > 100_000)]  # Min number of votes total per director\n",
    "\n",
    "# Sort IMDB Scores Largest First\n",
    "dir4 = dir4.sort_values(by=['imdb_score'], ascending=False)\n",
    "\n",
    "print(dir4.shape)\n",
    "print()\n",
    "\n",
    "# Next Sort IMDB Score\n",
    "print('Top 10 Drama Directors Per Imdb Score and Score Count:')\n",
    "dir4.sort_values(by=['imdb_score', 'num_scores'], ascending=[False,True]).head(10)"
   ]
  },
  {
   "cell_type": "markdown",
   "metadata": {},
   "source": [
    "**I now have the top 10 potential directors to choose from, next I empirically test them to see if my predictions actually work by checking my target year + 3 years ahead to see if these directors next movie was a success.** \n",
    "\n",
    "**Ideally they all would be successful, but some directors may or may not have made any movies during that time perios OR the next movie may not have been in the same genre.**"
   ]
  },
  {
   "cell_type": "markdown",
   "metadata": {},
   "source": [
    "### Test the Results Returned from Algorithm"
   ]
  },
  {
   "cell_type": "code",
   "execution_count": 16,
   "metadata": {},
   "outputs": [
    {
     "name": "stdout",
     "output_type": "stream",
     "text": [
      "Number of Results: 10\n",
      "\n",
      "Drama Result Means: \n",
      "--------------------------\n",
      "imdb_score         7.56\n",
      "num_scores    164814.00\n",
      "year            2001.40\n",
      "runtime          133.00\n",
      "dtype: float64\n"
     ]
    }
   ],
   "source": [
    "# This function returns the next major film (if any) \n",
    "# for all the top 10 target year directors \n",
    "def test_directors2(dir_df):\n",
    "    df = dir_df.copy()\n",
    "    df = df.iloc[0:10]\n",
    "    \n",
    "    result_df = dir_df.copy()\n",
    "    result_df = df.iloc[0:0]\n",
    "    \n",
    "    for d in list(df.index):\n",
    "        t = pop.copy()\n",
    "        t = t.drop(columns=['mov_id', 'dir_dth_yr', 'actr1', 'actr2', 'actr3'])\n",
    "        \n",
    "        t = t[(t['director'] == d) & \n",
    "                (t['year'] >= 2000) & \n",
    "                (t['year'] <= 2003)].sort_values(by=['year'], ascending=True).head(1)\n",
    "        result_df = result_df.append(t)\n",
    "    return(result_df)\n",
    "    \n",
    "\n",
    "results = test_directors2(dir4)\n",
    "\n",
    "print(f'Number of Results: {len(results)}\\n')\n",
    "print('Drama Result Means: \\n--------------------------')\n",
    "print(results[results['genre'] == 'Drama'].mean())"
   ]
  },
  {
   "cell_type": "code",
   "execution_count": 17,
   "metadata": {},
   "outputs": [
    {
     "data": {
      "text/html": [
       "<div>\n",
       "<style scoped>\n",
       "    .dataframe tbody tr th:only-of-type {\n",
       "        vertical-align: middle;\n",
       "    }\n",
       "\n",
       "    .dataframe tbody tr th {\n",
       "        vertical-align: top;\n",
       "    }\n",
       "\n",
       "    .dataframe thead th {\n",
       "        text-align: right;\n",
       "    }\n",
       "</style>\n",
       "<table border=\"1\" class=\"dataframe\">\n",
       "  <thead>\n",
       "    <tr style=\"text-align: right;\">\n",
       "      <th></th>\n",
       "      <th>title</th>\n",
       "      <th>imdb_score</th>\n",
       "      <th>num_scores</th>\n",
       "      <th>genre</th>\n",
       "      <th>year</th>\n",
       "      <th>director</th>\n",
       "      <th>runtime</th>\n",
       "    </tr>\n",
       "  </thead>\n",
       "  <tbody>\n",
       "    <tr>\n",
       "      <th>74623</th>\n",
       "      <td>A.I. Artificial Intelligence</td>\n",
       "      <td>7.2</td>\n",
       "      <td>282048</td>\n",
       "      <td>Drama</td>\n",
       "      <td>2001.0</td>\n",
       "      <td>Steven Spielberg</td>\n",
       "      <td>146.0</td>\n",
       "    </tr>\n",
       "    <tr>\n",
       "      <th>75261</th>\n",
       "      <td>Gangs of New York</td>\n",
       "      <td>7.5</td>\n",
       "      <td>387901</td>\n",
       "      <td>Drama</td>\n",
       "      <td>2002.0</td>\n",
       "      <td>Martin Scorsese</td>\n",
       "      <td>167.0</td>\n",
       "    </tr>\n",
       "    <tr>\n",
       "      <th>86573</th>\n",
       "      <td>In America</td>\n",
       "      <td>7.7</td>\n",
       "      <td>39623</td>\n",
       "      <td>Drama</td>\n",
       "      <td>2002.0</td>\n",
       "      <td>Jim Sheridan</td>\n",
       "      <td>105.0</td>\n",
       "    </tr>\n",
       "    <tr>\n",
       "      <th>84931</th>\n",
       "      <td>Talk to Her</td>\n",
       "      <td>7.9</td>\n",
       "      <td>100650</td>\n",
       "      <td>Drama</td>\n",
       "      <td>2002.0</td>\n",
       "      <td>Pedro Almodovar</td>\n",
       "      <td>112.0</td>\n",
       "    </tr>\n",
       "    <tr>\n",
       "      <th>73385</th>\n",
       "      <td>The Princess and the Warrior</td>\n",
       "      <td>7.5</td>\n",
       "      <td>13848</td>\n",
       "      <td>Drama</td>\n",
       "      <td>2000.0</td>\n",
       "      <td>Tom Tykwer</td>\n",
       "      <td>135.0</td>\n",
       "    </tr>\n",
       "  </tbody>\n",
       "</table>\n",
       "</div>"
      ],
      "text/plain": [
       "                              title  imdb_score  num_scores  genre    year  \\\n",
       "74623  A.I. Artificial Intelligence         7.2      282048  Drama  2001.0   \n",
       "75261             Gangs of New York         7.5      387901  Drama  2002.0   \n",
       "86573                    In America         7.7       39623  Drama  2002.0   \n",
       "84931                   Talk to Her         7.9      100650  Drama  2002.0   \n",
       "73385  The Princess and the Warrior         7.5       13848  Drama  2000.0   \n",
       "\n",
       "               director  runtime  \n",
       "74623  Steven Spielberg    146.0  \n",
       "75261   Martin Scorsese    167.0  \n",
       "86573      Jim Sheridan    105.0  \n",
       "84931   Pedro Almodovar    112.0  \n",
       "73385        Tom Tykwer    135.0  "
      ]
     },
     "execution_count": 17,
     "metadata": {},
     "output_type": "execute_result"
    }
   ],
   "source": [
    "results[results['genre'] == 'Drama']"
   ]
  },
  {
   "cell_type": "code",
   "execution_count": 18,
   "metadata": {},
   "outputs": [
    {
     "name": "stdout",
     "output_type": "stream",
     "text": [
      "Non-Drama Result Means: \n",
      "--------------------------\n",
      "imdb_score         7.0\n",
      "num_scores    281223.2\n",
      "year            2001.6\n",
      "runtime          111.4\n",
      "dtype: float64\n"
     ]
    }
   ],
   "source": [
    "print('Non-Drama Result Means: \\n--------------------------')\n",
    "print(results[results['genre'] != 'Drama'].mean())"
   ]
  },
  {
   "cell_type": "code",
   "execution_count": 19,
   "metadata": {},
   "outputs": [
    {
     "data": {
      "text/html": [
       "<div>\n",
       "<style scoped>\n",
       "    .dataframe tbody tr th:only-of-type {\n",
       "        vertical-align: middle;\n",
       "    }\n",
       "\n",
       "    .dataframe tbody tr th {\n",
       "        vertical-align: top;\n",
       "    }\n",
       "\n",
       "    .dataframe thead th {\n",
       "        text-align: right;\n",
       "    }\n",
       "</style>\n",
       "<table border=\"1\" class=\"dataframe\">\n",
       "  <thead>\n",
       "    <tr style=\"text-align: right;\">\n",
       "      <th></th>\n",
       "      <th>title</th>\n",
       "      <th>imdb_score</th>\n",
       "      <th>num_scores</th>\n",
       "      <th>genre</th>\n",
       "      <th>year</th>\n",
       "      <th>director</th>\n",
       "      <th>runtime</th>\n",
       "    </tr>\n",
       "  </thead>\n",
       "  <tbody>\n",
       "    <tr>\n",
       "      <th>81974</th>\n",
       "      <td>Kill Bill: Vol. 1</td>\n",
       "      <td>8.1</td>\n",
       "      <td>953510</td>\n",
       "      <td>Action</td>\n",
       "      <td>2003.0</td>\n",
       "      <td>Quentin Tarantino</td>\n",
       "      <td>111.0</td>\n",
       "    </tr>\n",
       "    <tr>\n",
       "      <th>82728</th>\n",
       "      <td>Punch-Drunk Love</td>\n",
       "      <td>7.3</td>\n",
       "      <td>140021</td>\n",
       "      <td>Comedy</td>\n",
       "      <td>2002.0</td>\n",
       "      <td>Paul Thomas Anderson</td>\n",
       "      <td>95.0</td>\n",
       "    </tr>\n",
       "    <tr>\n",
       "      <th>76388</th>\n",
       "      <td>Proof of Life</td>\n",
       "      <td>6.2</td>\n",
       "      <td>53795</td>\n",
       "      <td>Action</td>\n",
       "      <td>2000.0</td>\n",
       "      <td>Taylor Hackford</td>\n",
       "      <td>135.0</td>\n",
       "    </tr>\n",
       "    <tr>\n",
       "      <th>88767</th>\n",
       "      <td>Alex &amp; Emma</td>\n",
       "      <td>5.6</td>\n",
       "      <td>12731</td>\n",
       "      <td>Comedy</td>\n",
       "      <td>2003.0</td>\n",
       "      <td>Rob Reiner</td>\n",
       "      <td>96.0</td>\n",
       "    </tr>\n",
       "    <tr>\n",
       "      <th>70874</th>\n",
       "      <td>Crouching Tiger, Hidden Dragon</td>\n",
       "      <td>7.8</td>\n",
       "      <td>246059</td>\n",
       "      <td>Action</td>\n",
       "      <td>2000.0</td>\n",
       "      <td>Ang Lee</td>\n",
       "      <td>120.0</td>\n",
       "    </tr>\n",
       "  </tbody>\n",
       "</table>\n",
       "</div>"
      ],
      "text/plain": [
       "                                title  imdb_score  num_scores   genre    year  \\\n",
       "81974               Kill Bill: Vol. 1         8.1      953510  Action  2003.0   \n",
       "82728                Punch-Drunk Love         7.3      140021  Comedy  2002.0   \n",
       "76388                   Proof of Life         6.2       53795  Action  2000.0   \n",
       "88767                     Alex & Emma         5.6       12731  Comedy  2003.0   \n",
       "70874  Crouching Tiger, Hidden Dragon         7.8      246059  Action  2000.0   \n",
       "\n",
       "                   director  runtime  \n",
       "81974     Quentin Tarantino    111.0  \n",
       "82728  Paul Thomas Anderson     95.0  \n",
       "76388       Taylor Hackford    135.0  \n",
       "88767            Rob Reiner     96.0  \n",
       "70874               Ang Lee    120.0  "
      ]
     },
     "execution_count": 19,
     "metadata": {},
     "output_type": "execute_result"
    }
   ],
   "source": [
    "results[results['genre'] != 'Drama']"
   ]
  },
  {
   "cell_type": "markdown",
   "metadata": {},
   "source": [
    "## Case 3 Conclusions:\n",
    "\n",
    "**Drama Results**\n",
    "* Mean IMDB score for the drama films was: 7.6\n",
    "* 5/5 or 100% of the drama films beat the population avearge IMDB Score of 6.1\n",
    "* 5/5 or 100% of the drama films had a runtime of >= 105 minutes\n",
    "* 3/5 or 60% of the drama films had a a vote count of > 100k (blockbuster status)\n",
    "\n",
    "**Non-Drama Results**\n",
    "* Mean IMDB score for the non-drama films was: 7.0\n",
    "* 4/5 or 80% of the non-drama films beat the population average IMDB score of 6.1\n",
    "* 3/5 or 60% of the non-drama films had a runtime of >= 105 minutes\n",
    "* 3/5 or 60% of the non-drama films had a a vote count of > 100k (blockbuster status)\n",
    "\n",
    "The results for the single template sample are striking. Of the top 10 drama directors chosen from the algorithm, all 10 made a movie within 3 year of the target year. Of the movies made, half were dramas. The dramas met all the criteria set in the algorithm for a good movie, with the exception that two of the films did not have > 100k votes. This means that 13/15 or 86.7% of all metrics passed. \n",
    "\n",
    "The directors who chose not to make dramas (remember they were originally selected as the best drama directors) did not fare as well as they only met 10/15 total metrics or 66.7% success rate. \n",
    "\n",
    "Overall, all the films (regardless of genre) except 1 beat the average IMDB score rating of 6.1.\n",
    "\n",
    "---\n",
    "### Final Test Algorithm Metrics:\n",
    "* **Average IMDB score = 6.1**\n",
    "* **Average IMDB score STD = 1.1**\n",
    "* **Number IMDB score votes > 100k for extremely popular movies**\n",
    "* **Ideal movie length > 105 minutes**\n",
    "* **Ideal Genre: Drama**\n",
    "* **Ideal director must have at least 3 movies over past 20 years**\n",
    "* **Test Top 10 directors (with highest IMDB score, vote count ratio over 20 yr period)**"
   ]
  },
  {
   "cell_type": "markdown",
   "metadata": {},
   "source": [
    "---\n",
    "## Due to the success of my initial test, I next test the entire analysis range from 1930 - 2015 by genre"
   ]
  },
  {
   "cell_type": "markdown",
   "metadata": {},
   "source": [
    "# Sample Object Creation\n",
    "This class is created for each individual target year sample."
   ]
  },
  {
   "cell_type": "code",
   "execution_count": 3,
   "metadata": {},
   "outputs": [],
   "source": [
    "class Sample:\n",
    "    def __init__(self, pop, tgt_lst):\n",
    "        self.pop = pop                                    # Population data\n",
    "        self.tgt_yr = tgt_lst['year']                     # Target year\n",
    "        self.start_yr = (self.tgt_yr - 10)                # Analysis start year\n",
    "        self.end_yr = (self.tgt_yr - 1)                   # Analysis end year\n",
    "        self.tgt_score = tgt_lst['imdb_score']            # Target imdb score\n",
    "        self.tgt_avg_score = tgt_lst['avg_score']         # Target avg score per movie\n",
    "        self.tgt_min_titles = tgt_lst['min_titles']       # Min # of titles per director\n",
    "        self.tgt_genre = tgt_lst['genre']                 # Target genre\n",
    "        \n",
    "        self.smpl = pop[(pop['year'] >= self.start_yr) &  # Date Range (1930 -2015)\n",
    "                         (pop['year'] <= self.end_yr)]     \n",
    "\n",
    "        \n",
    "        '''Creates DataFrame with top directors from target year (max of 10)'''\n",
    "        def findDirectors(self):\n",
    "            dir_df = self.smpl.copy()\n",
    "            \n",
    "            # Only keep movies with target genre\n",
    "            dir_df = dir_df[dir_df['genre'] ==  self.tgt_genre] \n",
    "            \n",
    "            # Remove dead directors >= to target year\n",
    "            dir_df = dir_df[(dir_df['dir_dth_yr'] >= self.tgt_yr) | \n",
    "                            (dir_df['dir_dth_yr'] == 9999)]\n",
    "\n",
    "            # Group and aggregate desired columns\n",
    "            dir_df = round(dir_df.groupby('director').agg({'title': 'count',\n",
    "                                                           'imdb_score': 'mean',\n",
    "                                                           'num_scores' : 'sum'}), 2)\n",
    "            \n",
    "            # Calculate average number of votes per director based on number of total titles\n",
    "            dir_df['avg_score_per_movie'] = round(dir_df['num_scores'] / dir_df['title'],1)\n",
    "            \n",
    "            # Apply algorithm limits\n",
    "            dir_df = dir_df[(dir_df['imdb_score'] > self.tgt_score) &\n",
    "                            (dir_df['title'] >= self.tgt_min_titles) &\n",
    "                            (dir_df['avg_score_per_movie'] > self.tgt_avg_score)]\n",
    "            \n",
    "            # Sort Columns\n",
    "            # First, sort by 'avg_score_per_movie' (Largest values first)\n",
    "            dir_df = dir_df.sort_values(by=['avg_score_per_movie'], ascending=False)\n",
    "\n",
    "            # Next sort by 'imdb_score' AND keep 'avg_score_per_movie' in descending order\n",
    "            # limit total possible results to max 10\n",
    "            dir_df = dir_df.sort_values(by=['imdb_score', 'avg_score_per_movie'], \n",
    "                                        ascending=[False, True]).head(10)\n",
    "            return dir_df\n",
    "        \n",
    "        self.tgt_directors = findDirectors(self)\n",
    " \n",
    "\n",
    "    '''Tests the top 10 directors to see if next movie released was a hit'''      \n",
    "    def testDirectors(self):\n",
    "        # Create empty DataFrame for results from existing sample\n",
    "        result_df = self.tgt_directors\n",
    "        result_df = result_df.drop(columns='avg_score_per_movie')\n",
    "        result_df = result_df.iloc[0:0]\n",
    "\n",
    "        pop = self.pop.drop(columns=['mov_id', 'dir_dth_yr', 'actr1', 'actr2', 'actr3'])\n",
    "\n",
    "        for d in list(self.tgt_directors.index):\n",
    "            test = pop[(pop['director'] == d) & \n",
    "                       (pop['year'] >= self.tgt_yr + 1) & \n",
    "                       (pop['year'] <= self.tgt_yr + 3)].sort_values(by=['year'], ascending=True).head(1)\n",
    "            result_df = result_df.append(test)\n",
    "\n",
    "        if len(result_df) != 0:\n",
    "            result_df = result_df[result_df['genre'] == self.tgt_genre]\n",
    "            result_df = result_df.reindex(columns=['director', 'title','imdb_score', 'num_scores'])\n",
    "\n",
    "            result_df['test_results'] = ((result_df['imdb_score'] > self.tgt_score) & \n",
    "                                         (result_df['num_scores'] > self.tgt_avg_score))\n",
    "\n",
    "            print(f'\\nTop {self.tgt_genre} Director Results for {self.tgt_yr}')\n",
    "            print('---------------------------------------------')\n",
    "            print(result_df)\n",
    "            #print()\n",
    "            return result_df['test_results'].tolist()\n",
    "        else:\n",
    "            print(f'\\nTop {self.tgt_genre} Director Results for {self.tgt_yr}')\n",
    "            print('---------------------------------------------')\n",
    "            print(f'No Results Returned for {self.tgt_yr}\\n\\n')\n",
    "            return []\n",
    " \n",
    "\n",
    "    '''Prints Sample Details'''\n",
    "    def getInfo(self):\n",
    "        if self.tgt_yr >= 1930 and self.tgt_yr <= 2015:\n",
    "            print('\\n----------------------------------------------------')\n",
    "            print('Sample Details:')\n",
    "            print('----------------------------------------------------')\n",
    "            print(f'Sample Size: {self.smpl.shape}')\n",
    "            print(f'Target Year: {self.tgt_yr}')\n",
    "            print(f'Analysis Start Year: {self.start_yr}')\n",
    "            print(f'Analysis End Year: {self.end_yr}')\n",
    "            print(f'Target Genre: {self.tgt_genre}\\n')\n",
    "        else:\n",
    "            print(f'Target year {self.tgt_yr} not valid, use range: >= 1930 and <= 2015.')\n",
    "        \n",
    "        \n",
    "    '''Returns Top Director Dataframe'''\n",
    "    def getDirectors(self):\n",
    "        if self.tgt_yr >= 1930 and self.tgt_yr <= 2015:\n",
    "            print(f'Number of Top Directors: {len(self.tgt_directors)}\\n')\n",
    "            print(f'Best Directors for Target Year: {self.tgt_yr}')\n",
    "            print('----------------------------------------------------')\n",
    "            print(f'{self.tgt_directors}\\n')\n",
    "            return(self.tgt_directors)\n",
    "        else:\n",
    "            print(f'Target year {self.tgt_yr} not valid, use range: >= 1930 and <= 2015.')\n",
    "    \n",
    "    '''Returns Target Years Descriptive Statistics'''\n",
    "    def getStats(self):\n",
    "        # Remove runtime outliers to prevent skew\n",
    "        if self.tgt_yr >= 1930 and self.tgt_yr <= 2015:\n",
    "            self.desc_stats = self.smpl[self.smpl['runtime'] < 210]        \n",
    "            print('Sample Descriptive Statistics:')\n",
    "            print(f'{self.desc_stats.describe().round(decimals=1)}\\n')\n",
    "            return(self.desc_stats.describe().round(decimals=1))\n",
    "        else:\n",
    "            print(f'Target year {self.tgt_yr} not valid, use range: >= 1930 and <= 2015.')"
   ]
  },
  {
   "cell_type": "markdown",
   "metadata": {},
   "source": [
    "# Test Code"
   ]
  },
  {
   "cell_type": "code",
   "execution_count": 4,
   "metadata": {
    "scrolled": true
   },
   "outputs": [
    {
     "name": "stdout",
     "output_type": "stream",
     "text": [
      "\n",
      "----------------------------------------------------\n",
      "Sample Details:\n",
      "----------------------------------------------------\n",
      "Sample Size: (43779, 12)\n",
      "Target Year: 2015\n",
      "Analysis Start Year: 2005\n",
      "Analysis End Year: 2014\n",
      "Target Genre: Action\n",
      "\n",
      "Number of Top Directors: 10\n",
      "\n",
      "Best Directors for Target Year: 2015\n",
      "----------------------------------------------------\n",
      "                   title  imdb_score  num_scores  avg_score_per_movie\n",
      "director                                                             \n",
      "Christopher Nolan      4        8.60     6824931            1706232.8\n",
      "Vishal Bhardwaj        3        7.87       81619              27206.3\n",
      "Matthew Vaughn         3        7.67     1707078             569026.0\n",
      "S. Shankar             3        7.60       53479              17826.3\n",
      "Keishi Ohtomo          3        7.57       37656              12552.0\n",
      "Peter Jackson          3        7.47     1415877             471959.0\n",
      "Gareth Evans           3        7.43      301187             100395.7\n",
      "Clint Eastwood         3        7.43      683074             227691.3\n",
      "Edgar Wright           3        7.43     1047702             349234.0\n",
      "Sukumar                3        7.40       47552              15850.7\n",
      "\n",
      "\n",
      "Top Action Director Results for 2015\n",
      "---------------------------------------------\n",
      "                 director                        title  imdb_score  \\\n",
      "157828  Christopher Nolan                      Dunkirk         7.9   \n",
      "157178    Vishal Bhardwaj                      Rangoon         5.7   \n",
      "155561     Matthew Vaughn  Kingsman: The Golden Circle         6.7   \n",
      "158258         S. Shankar                          2.0         6.3   \n",
      "150881       Edgar Wright                  Baby Driver         7.6   \n",
      "158388            Sukumar             Nannaku Prematho         7.6   \n",
      "\n",
      "        num_scores  test_results  \n",
      "157828      508103          True  \n",
      "157178        3464         False  \n",
      "155561      252384          True  \n",
      "158258       19645          True  \n",
      "150881      403156          True  \n",
      "158388        8442         False  \n",
      "\n",
      "\n",
      "---------------------------------------\n",
      "Overall Test Results\n",
      "---------------------------------------\n",
      "Total Top Directors: 10\n",
      "Director Results Found: 6\n",
      "Total Passed:  4\n",
      "Total Failed:  2\n",
      "Success Rate:  66.66666666666666%\n",
      "Time Completed: 0.91 Seconds.\n"
     ]
    }
   ],
   "source": [
    "def runTest(pop, date_range, targets):\n",
    "    pop = pop.copy()\n",
    "    total_dir_samples = 0\n",
    "    total_dir_results = 0\n",
    "    total_pass   = 0\n",
    "    success_rate = 0\n",
    "    \n",
    "    for yr in date_range:  \n",
    "        targets.update({'year' : yr})\n",
    "\n",
    "        # Logic used to determine minimun number of votes for movie based on time period\n",
    "        # Note, this had to be lowered as older movies just didn't have enough votes. \n",
    "        if (yr <= 1945) : targets.update({'avg_score' : round(targets['num_votes'] * 0.075)})\n",
    "        elif ((yr > 1945) & (yr < 1957)):  targets.update({'avg_score' : round(targets['num_votes'] * 0.25)})\n",
    "        elif ((yr >= 1957) & (yr < 1980)): targets.update({'avg_score' : round(targets['num_votes'] * 0.3)})\n",
    "        elif ((yr >= 1980) & (yr < 2000)): targets.update({'avg_score' : round(targets['num_votes'] * 0.6)})\n",
    "        else : targets.update({'avg_score' : targets['num_votes']})\n",
    "        #targets.update({'avg_score' : targets['num_votes']})\n",
    "            \n",
    "        sample = Sample(pop, targets)         # Create sample object\n",
    "        sample.getInfo()                      # Get sample information\n",
    "        \n",
    "        dir_samples = sample.getDirectors()   # Get top directors from target year sample\n",
    "        dir_results = sample.testDirectors()\n",
    "\n",
    "        total_dir_samples += len(dir_samples) # Count of top directors found\n",
    "        total_dir_results += len(dir_results) # Results of top directors next movies\n",
    "        total_pass += sum(dir_results)        # Only sums True values\n",
    "          \n",
    "    print('\\n\\n---------------------------------------')\n",
    "    print(f'Overall Test Results')\n",
    "    print('---------------------------------------')\n",
    "    print(f'Total Top Directors: {total_dir_samples}')\n",
    "    print(f'Director Results Found: {total_dir_results}')\n",
    "    print(f'Total Passed:  {total_pass}')\n",
    "    print(f'Total Failed:  {total_dir_results - total_pass}')\n",
    "    print(f'Success Rate:  {total_pass/total_dir_results * 100}%')\n",
    "            \n",
    "        \n",
    "def main():\n",
    "    pop = pd.read_csv('data/movies_final.csv')\n",
    "    #date_range = pop['year'][(pop['year'] >= 1930) & (pop['year'] <= 2015)].unique().tolist()\n",
    "    #date_range.sort()\n",
    "    date_range = [2015]\n",
    "    \n",
    "    targets = {'imdb_score': 6.1,              \n",
    "               'min_titles' : 3,\n",
    "               'num_votes' : 10_000,\n",
    "               'genre': 'Action'}\n",
    "    \n",
    "    runTest(pop, date_range, targets)\n",
    "\n",
    "start = time.time()\n",
    "main()\n",
    "print(f'Time Completed: {round(time.time() - start, 2)} Seconds.')"
   ]
  },
  {
   "cell_type": "markdown",
   "metadata": {},
   "source": [
    "# Tests\n",
    "All of the tests use at least these metrics:\n",
    "* All target years tested from 1930 - 2015\n",
    "* Minimun IMDB Score allowed to pass: > 6.1\n",
    "* Minimum number of movies allowed per director: 3 \n",
    "* Genres tested (Drama, Comedy, Action)"
   ]
  },
  {
   "cell_type": "markdown",
   "metadata": {},
   "source": [
    "---\n",
    "\n",
    "### Test 1 - Initial naive hypothesis where only overall IMDB score determines a movies success:\n",
    "* 1 metric used: ('imdb_scores' > 6.1)\n",
    "\n",
    "* **Drama: 93.07%**  (or 376 out of 404 directors next movie score > 6.1) \n",
    "* **Comedy: 86.68%** (or 319 out of 368 directors next movie score > 6.1)\n",
    "* **Action: 83.11%** (or 251 out of 302 directors next movie score > 6.1)\n",
    "\n",
    "The model did a really good job in picking out directors whose next movie had an above average IMDB score. However, without taking votes counts into consideration its really impossible to know if a movie was really popular. Next I added in the 'num_scores' variable in order to see if the high IMDB scores reflected high vote counts\n",
    "\n",
    "---\n",
    "\n",
    "### Test 2 - Initial naive hypothesis with two metrics using 100k as min for blockbuster status:\n",
    "* 2 metrics: ('imdb_scores' > 6.1) & ('num_scores' > 100_000)\n",
    "\n",
    "\n",
    "* **Drama:  44.37%** (or 67 out of 151 directors next movie score > 6.1 and votes > 100k) \n",
    "* **Comedy: 53.47%** (or 54 out of 101 directors next movie score > 6.1 and votes > 100k)\n",
    "* **Action: 65.41%** (or 87 out of 133 directors next movie score > 6.1 and votes > 100k)\n",
    "\n",
    "The Drama and Comdey results were less than stellar with 44.37% and 53.47 pass rates respectively. Action actually had a decent rate. However, take a note that there were only a few results returned overall, less than one per year for the given date range. At this point it became apparent that assigning 100k as the minimum 'num_scores' value was not going to work as older movies tend to have much less votes per movie and also because most movies don't get that high of a score.  \n",
    "\n",
    "For the next 3 tests, I attempt to combat this issue by trying out various minimum score count thresholds by time period.\n",
    "\n",
    "---\n",
    "\n",
    "### Test 3 - Two metric test with initial minimum allowable 'num_scores' by time period:\n",
    "* 2 metrics: ('imdb_scores' > 6.1) & ('num_scores' > (max 100k, adjusted by time period))\n",
    "\n",
    "#### Miminum allowable 'num_score' breakdown:\n",
    "* 7,500 if target year <= 1945\n",
    "* 25,000 if target year > 1945 & < 1957\n",
    "* 30,000 if target year >= 1957 & < 1980\n",
    "* 60_000 if target year >= 1980 & < 2000\n",
    "* 100_000 for years >= 2000\n",
    "\n",
    "\n",
    "* **Drama:  41.10%** (or 134 out of 326 directors next movie score > 6.1 and votes with max 100k) \n",
    "* **Comedy: 44.34%** (or 98 out of 221 directors next movie score > 6.1 and votes with max 100k)\n",
    "* **Action: 62.20%** (or 102 out of 164 directors next movie score > 6.1 and votes with max 100k)\n",
    "\n",
    "The success rate actually dropped for each genre after adjusting the minimun allowable 'num_score'. \n",
    "\n",
    "Because older movies tend to have a lower vote count, I opted to drop the minimum threshold from 100k down to 25k with the assumption that this would provide a happy medium between my overall success rate and potential blockbuster discovery. Remember that 75% of all movies had less than 440 votes, so using any metric above 440 is still only taking 25% of the movies into consideration.  \n",
    "\n",
    "---\n",
    "\n",
    "### Test 4 - Two metric test with initial minimum allowable 'num_scores' by time period max :\n",
    "* 2 metrics: ('imdb_scores' > 6.1) & ('num_scores' > (max 25k, adjusted by time period))\n",
    "\n",
    "#### Adjusted Miminum allowable 'num_score':\n",
    "* 1,875 if target year <= 1945\n",
    "* 6,250 if target year > 1945 & < 1957\n",
    "* 7,500 if target year >= 1957 & < 1980\n",
    "* 15_000 if target year >= 1980 & < 2000\n",
    "* 25_000 for years >= 2000\n",
    "\n",
    "\n",
    "* **Drama:  60.33%** (or 292 out of 484 directors next movie score > 6.1 and votes with max 25k) \n",
    "* **Comedy: 60.92%** (or 226 out of 371 directors next movie score > 6.1 and votes with max 25k)\n",
    "* **Action: 53.81%** (or 113 out of 210 directors next movie score > 6.1 and votes with max 25k)\n",
    "\n",
    "Adjusting the max votes range to 25k caused the success rate to jump to approximately 60% for both Dramas and Comedies. The Action film percent rate dropped as the pool of movies increased. \n",
    "\n",
    "---\n",
    "\n",
    "### Test 5 - Two metric test with initial minimum allowable 'num_scores' by time period max :\n",
    "* 2 metrics: ('imdb_scores' > 6.1) & ('num_scores' > (max 10k, adjusted by time period))\n",
    "\n",
    "#### Adjusted Miminum allowable 'num_score':\n",
    "* 750 if target year <= 1945\n",
    "* 2,500 if target year > 1945 & < 1957\n",
    "* 3,000 if target year >= 1957 & < 1980\n",
    "* 6_000 if target year >= 1980 & < 2000\n",
    "* 10_000 for years >= 2000\n",
    "\n",
    "\n",
    "* **Drama:  70.82%** (or 354 out of 514 directors next movie score > 6.1 and votes with max 10k) \n",
    "* **Comedy: 65.32%** (or 258 out of 395 directors next movie score > 6.1 and votes with max 10k)\n",
    "* **Action: 57.85%** (or 140 out of 242 directors next movie score > 6.1 and votes with max 10k)\n",
    "\n",
    "## Final Conclusions\n",
    "* IMDB score ratings alone can't determine if a future movie will be a success\n",
    "* IMDB score ratings combined with a max number of vote threshold of 25k can predict future successful movies at an approximate 60% success rate, which increases as the vote threshold decreases. \n",
    "\n",
    "**At this point, I am done with self-analysis of the data. If I were performing this analysis for real world business purposes, I would want box office numbers along with the three main metrics I used.**\n",
    "\n",
    "**Also, I would have delved deeper into the movie breakdown by decade in order to dial in the ratios used in order to better determine the number of votes required for a movie to be considered a success for any given year.**"
   ]
  },
  {
   "cell_type": "code",
   "execution_count": null,
   "metadata": {},
   "outputs": [],
   "source": []
  }
 ],
 "metadata": {
  "kernelspec": {
   "display_name": "Python 3",
   "language": "python",
   "name": "python3"
  },
  "language_info": {
   "codemirror_mode": {
    "name": "ipython",
    "version": 3
   },
   "file_extension": ".py",
   "mimetype": "text/x-python",
   "name": "python",
   "nbconvert_exporter": "python",
   "pygments_lexer": "ipython3",
   "version": "3.7.7"
  }
 },
 "nbformat": 4,
 "nbformat_minor": 4
}
