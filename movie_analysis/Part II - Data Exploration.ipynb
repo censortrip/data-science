{
 "cells": [
  {
   "cell_type": "markdown",
   "metadata": {},
   "source": [
    "# Movie Industry Analysis \n",
    "## Part II - Data Exploration\n",
    "---\n",
    "This personal project was undertaken in order for me to become comfortable using Pandas for larger data sets and also for practicing basic machine learning tasks. \n",
    "\n",
    "It consists of Three Different Notebooks: \n",
    "\n",
    "* **Part I   - Data Preparation**\n",
    "* **Part II  - Data Exploration (This Notebook)**\n",
    "* **Part III - Predictions with Machine Learning**\n",
    "\n",
    "The data mining process is followed througout the project, both on a large scale and in Parts II & III on a case by case basis. The steps are: \n",
    "\n",
    "1. Defining the Objective\n",
    "2. Data Preparation\n",
    "3. Data Exploration\n",
    "4. Building (or Choosing) a Model\n",
    "5. Evaluating Model Results\n",
    "\n",
    "---\n",
    "## 1. Defining the Objective\n",
    "The overall objective of this project is to predict which directors and/or actors will give a movie the best possible IMDB score for any given target year (between 1930 and 2015) using the prior 20 years worth of data for analysis.\n",
    "\n",
    "---\n",
    "## 2. Population Analysis\n",
    "The population data was prepared in Part I.\n",
    "\n",
    "Note that the data is a hypothetical population used just for this project as I do not have access to all metrics possible through IMDB.\n",
    "\n",
    "Samples are going to be created from the population in increments of 20 years prior to the test year in question in order to provide enough past data on directors and actors to make a (hopefully) decent prediction.\n",
    "\n",
    "When creating the samples, there are a couple of assumptions being made:\n",
    "1. That the average IMDB scores are valid for determining a movies success\n",
    "2. That all directors and actors are alive during the sample time period (I will use logical tests to weed these out afterward)"
   ]
  },
  {
   "cell_type": "code",
   "execution_count": 1,
   "metadata": {},
   "outputs": [],
   "source": [
    "import pandas as pd\n",
    "import numpy as np\n",
    "import matplotlib as mpl\n",
    "import matplotlib.pyplot as plt\n",
    "import seaborn as sns\n",
    "from scipy import stats"
   ]
  },
  {
   "cell_type": "code",
   "execution_count": 2,
   "metadata": {},
   "outputs": [
    {
     "data": {
      "text/html": [
       "<div>\n",
       "<style scoped>\n",
       "    .dataframe tbody tr th:only-of-type {\n",
       "        vertical-align: middle;\n",
       "    }\n",
       "\n",
       "    .dataframe tbody tr th {\n",
       "        vertical-align: top;\n",
       "    }\n",
       "\n",
       "    .dataframe thead th {\n",
       "        text-align: right;\n",
       "    }\n",
       "</style>\n",
       "<table border=\"1\" class=\"dataframe\">\n",
       "  <thead>\n",
       "    <tr style=\"text-align: right;\">\n",
       "      <th></th>\n",
       "      <th>mov_id</th>\n",
       "      <th>title</th>\n",
       "      <th>genre</th>\n",
       "      <th>year</th>\n",
       "      <th>director</th>\n",
       "      <th>dir_dth_yr</th>\n",
       "      <th>actr1</th>\n",
       "      <th>actr2</th>\n",
       "      <th>actr3</th>\n",
       "      <th>runtime</th>\n",
       "      <th>imdb_score</th>\n",
       "      <th>num_scores</th>\n",
       "    </tr>\n",
       "  </thead>\n",
       "  <tbody>\n",
       "    <tr>\n",
       "      <th>0</th>\n",
       "      <td>tt0001184</td>\n",
       "      <td>Don Juan de Serrallonga</td>\n",
       "      <td>Drama</td>\n",
       "      <td>1910</td>\n",
       "      <td>Alberto Marro</td>\n",
       "      <td>1956</td>\n",
       "      <td>Dolores Puchol</td>\n",
       "      <td>Cecilio Rodriguez de la Vega</td>\n",
       "      <td>NaN</td>\n",
       "      <td>58</td>\n",
       "      <td>3.1</td>\n",
       "      <td>11</td>\n",
       "    </tr>\n",
       "    <tr>\n",
       "      <th>1</th>\n",
       "      <td>tt0001258</td>\n",
       "      <td>The White Slave Trade</td>\n",
       "      <td>Drama</td>\n",
       "      <td>1910</td>\n",
       "      <td>August Blom</td>\n",
       "      <td>1947</td>\n",
       "      <td>Ellen Diedrich</td>\n",
       "      <td>Victor Fabian</td>\n",
       "      <td>Julie Henriksen</td>\n",
       "      <td>45</td>\n",
       "      <td>5.7</td>\n",
       "      <td>79</td>\n",
       "    </tr>\n",
       "    <tr>\n",
       "      <th>2</th>\n",
       "      <td>tt0001498</td>\n",
       "      <td>The Battle of Trafalgar</td>\n",
       "      <td>Drama</td>\n",
       "      <td>1911</td>\n",
       "      <td>J. Searle Dawley</td>\n",
       "      <td>1949</td>\n",
       "      <td>Sydney Booth</td>\n",
       "      <td>Herbert Prior</td>\n",
       "      <td>James Gordon</td>\n",
       "      <td>51</td>\n",
       "      <td>7.2</td>\n",
       "      <td>5</td>\n",
       "    </tr>\n",
       "    <tr>\n",
       "      <th>3</th>\n",
       "      <td>tt0001790</td>\n",
       "      <td>Les Miserables, Part 1: Jean Valjean</td>\n",
       "      <td>Drama</td>\n",
       "      <td>1913</td>\n",
       "      <td>Albert Capellani</td>\n",
       "      <td>1931</td>\n",
       "      <td>Henry Krauss</td>\n",
       "      <td>Henri Etievant</td>\n",
       "      <td>Maria Ventura</td>\n",
       "      <td>60</td>\n",
       "      <td>5.8</td>\n",
       "      <td>21</td>\n",
       "    </tr>\n",
       "    <tr>\n",
       "      <th>4</th>\n",
       "      <td>tt0001812</td>\n",
       "      <td>Oedipus Rex</td>\n",
       "      <td>Drama</td>\n",
       "      <td>1911</td>\n",
       "      <td>Theo Frenkel</td>\n",
       "      <td>1956</td>\n",
       "      <td>Suzanne de Baere</td>\n",
       "      <td>Theo Frenkel</td>\n",
       "      <td>NaN</td>\n",
       "      <td>56</td>\n",
       "      <td>5.8</td>\n",
       "      <td>6</td>\n",
       "    </tr>\n",
       "  </tbody>\n",
       "</table>\n",
       "</div>"
      ],
      "text/plain": [
       "      mov_id                                 title  genre  year  \\\n",
       "0  tt0001184               Don Juan de Serrallonga  Drama  1910   \n",
       "1  tt0001258                 The White Slave Trade  Drama  1910   \n",
       "2  tt0001498               The Battle of Trafalgar  Drama  1911   \n",
       "3  tt0001790  Les Miserables, Part 1: Jean Valjean  Drama  1913   \n",
       "4  tt0001812                           Oedipus Rex  Drama  1911   \n",
       "\n",
       "           director  dir_dth_yr             actr1  \\\n",
       "0     Alberto Marro        1956    Dolores Puchol   \n",
       "1       August Blom        1947    Ellen Diedrich   \n",
       "2  J. Searle Dawley        1949      Sydney Booth   \n",
       "3  Albert Capellani        1931      Henry Krauss   \n",
       "4      Theo Frenkel        1956  Suzanne de Baere   \n",
       "\n",
       "                          actr2            actr3  runtime  imdb_score  \\\n",
       "0  Cecilio Rodriguez de la Vega              NaN       58         3.1   \n",
       "1                 Victor Fabian  Julie Henriksen       45         5.7   \n",
       "2                 Herbert Prior     James Gordon       51         7.2   \n",
       "3                Henri Etievant    Maria Ventura       60         5.8   \n",
       "4                  Theo Frenkel              NaN       56         5.8   \n",
       "\n",
       "   num_scores  \n",
       "0          11  \n",
       "1          79  \n",
       "2           5  \n",
       "3          21  \n",
       "4           6  "
      ]
     },
     "execution_count": 2,
     "metadata": {},
     "output_type": "execute_result"
    }
   ],
   "source": [
    "pop = pd.read_csv('data/movies_final.csv')\n",
    "pop.head()\n",
    "\n",
    "#print(pop.shape)\n",
    "#pop.info()"
   ]
  },
  {
   "cell_type": "markdown",
   "metadata": {},
   "source": [
    "## Population Descriptive Stats"
   ]
  },
  {
   "cell_type": "code",
   "execution_count": 31,
   "metadata": {},
   "outputs": [
    {
     "name": "stdout",
     "output_type": "stream",
     "text": [
      "           year  dir_dth_yr   runtime  imdb_score  num_scores\n",
      "count  177095.0    177095.0  177095.0    177095.0    177095.0\n",
      "mean     1989.5      7406.8      96.4         6.0      4482.0\n",
      "std        26.2      3747.8      33.9         1.3     36582.3\n",
      "min      1910.0      1913.0      40.0         1.0         5.0\n",
      "25%      1971.0      2007.0      85.0         5.3        22.0\n",
      "50%      1998.0      9999.0      93.0         6.2        84.0\n",
      "75%      2012.0      9999.0     105.0         6.9       440.0\n",
      "max      2020.0      9999.0   10062.0        10.0   2210134.0\n",
      "\n",
      "                year  dir_dth_yr   runtime  imdb_score  num_scores\n",
      "year        1.000000    0.776734  0.123503   -0.095100    0.055159\n",
      "dir_dth_yr  0.776734    1.000000  0.075582   -0.092381    0.054621\n",
      "runtime     0.123503    0.075582  1.000000    0.101533    0.071592\n",
      "imdb_score -0.095100   -0.092381  0.101533    1.000000    0.104773\n",
      "num_scores  0.055159    0.054621  0.071592    0.104773    1.000000\n"
     ]
    }
   ],
   "source": [
    "print(round(pop.describe(),1))\n",
    "print()\n",
    "print(pop.corr())"
   ]
  },
  {
   "cell_type": "markdown",
   "metadata": {},
   "source": [
    "---\n",
    "## IMDB Score Variable\n",
    "I first examine 'imdb_score' as this variable is the lynchpin to my analysis. It represents the average user rated score per movie and has a scale from 1 - 10 "
   ]
  },
  {
   "cell_type": "code",
   "execution_count": 5,
   "metadata": {},
   "outputs": [
    {
     "name": "stdout",
     "output_type": "stream",
     "text": [
      "       imdb_score\n",
      "count    177095.0\n",
      "mean          6.0\n",
      "std           1.3\n",
      "min           1.0\n",
      "25%           5.3\n",
      "50%           6.2\n",
      "75%           6.9\n",
      "max          10.0\n",
      "\n",
      "DescribeResult(nobs=177095, minmax=(1.0, 10.0), mean=5.986600976876817, variance=1.5711926742748537, skewness=-0.6086002665985205, kurtosis=0.49374072752223164)\n"
     ]
    }
   ],
   "source": [
    "scr_hist = pop.copy()\n",
    "scr_hist = scr_hist.drop(columns = ['mov_id', 'title', 'year', 'genre', 'director', 'dir_dth_yr',\n",
    "                                    'actr1', 'actr2', 'actr3', 'runtime', 'num_scores'])\n",
    "print(round(scr_hist.describe(),1))\n",
    "print()\n",
    "print(stats.describe(scr_hist['imdb_score']))"
   ]
  },
  {
   "cell_type": "markdown",
   "metadata": {},
   "source": [
    "### Based on the descriptive stats above, the IMDB score distribution appears to be relatively normal as the mean and median are close together (6.0 and 6.2 respectively). There appears to be a slight left skew based on the median > mean and skewness -0.6. "
   ]
  },
  {
   "cell_type": "code",
   "execution_count": 6,
   "metadata": {},
   "outputs": [
    {
     "data": {
      "image/png": "[encoded data removed]",
      "text/plain": [
       "<Figure size 720x432 with 1 Axes>"
      ]
     },
     "metadata": {},
     "output_type": "display_data"
    }
   ],
   "source": [
    "sns.set(style=\"white\", font_scale=1.25)\n",
    "\n",
    "fig = plt.subplots(figsize=(10,6))\n",
    "ax = sns.distplot(scr_hist, bins=10).set_title('IMDB Score Historgram (Population)')\n",
    "\n",
    "plt.xlabel('Average IMDB Score')\n",
    "plt.ylabel('% of Total')\n",
    "\n",
    "plt.show()"
   ]
  },
  {
   "cell_type": "markdown",
   "metadata": {},
   "source": [
    "### The historgram above shows that the distribution is fairly normal, there is a slight left skew due to a disproportionate amount of lower scores, but this is not an unexpected outcome in my opinion and is not cause for alarm. "
   ]
  },
  {
   "cell_type": "markdown",
   "metadata": {},
   "source": [
    "## Test 1: Calculate mean of sample means & the mean of sample standard devations for the 'imdb_score' variable\n",
    "Because I have 86 possible samples in in my analysis, I can use the average of sample means in order to get a better idea of the mean population and the average of sample standard deviations for mean population standard deviation."
   ]
  },
  {
   "cell_type": "code",
   "execution_count": 6,
   "metadata": {},
   "outputs": [
    {
     "name": "stdout",
     "output_type": "stream",
     "text": [
      "Number of Years Tested: 86\n",
      "Average of All Sample Means: 6.1\n",
      "Average of All Sample Standard Deviations: 1.1\n"
     ]
    }
   ],
   "source": [
    "def avg_of_sample_means():\n",
    "    averages = []\n",
    "    std = []\n",
    "    \n",
    "    # All Possible Target Years\n",
    "    tgt_years = pop['year'][(pop['year'] >= 1930) &\n",
    "                            (pop['year'] <= 2015)].unique().tolist()\n",
    "    tgt_years.sort()\n",
    "    \n",
    "    print(f'Number of Years Tested: {len(tgt_years)}')\n",
    "\n",
    "    for yr in tgt_years:    \n",
    "        sample = pop[(pop['year'] >= yr-20) & (pop['year'] <= yr+4)]\n",
    "        averages.append(round(sample[\"imdb_score\"].mean(),1))\n",
    "        std.append(round(sample[\"imdb_score\"].std(),1))\n",
    "        \n",
    "    avg_means = sum(averages) / len(tgt_years)\n",
    "    print(f'Average of All Sample Means: {round(avg_means, 1)}')\n",
    "    \n",
    "    avg_std = sum(std) / len(tgt_years)\n",
    "    print(f'Average of All Sample Standard Deviations: {round(avg_std, 1)}')\n",
    "\n",
    "avg_of_sample_means()"
   ]
  },
  {
   "cell_type": "markdown",
   "metadata": {},
   "source": [
    "## Test 1 Conclusions:\n",
    "* Approximate Population Mean IMDB Scores:   6.1\n",
    "* Approximate Population STD of IMDB Scores: 1.1\n",
    "\n",
    "\n",
    "* Movies with an average IMDB score > 6.1 are more successful than 50% of all movies.\n",
    "* Movies with an average IMDB score > 7.2 are more successful than 68% of all movies.\n",
    "* Movies with an average IMDB score > 8.3 are more successful than 95% of all movies. \n",
    "* Movies with an average IMDB score > 9.4 are more successful than 99.7% of all movies."
   ]
  },
  {
   "cell_type": "markdown",
   "metadata": {},
   "source": [
    "---\n",
    "## IMDB Number of Scores Variable\n",
    "The 'num_scores' variable contains the actual number of user votes used to calculate the average IMDB Score per movie. "
   ]
  },
  {
   "cell_type": "code",
   "execution_count": 45,
   "metadata": {},
   "outputs": [
    {
     "name": "stdout",
     "output_type": "stream",
     "text": [
      "       imdb_score  num_scores\n",
      "count    177095.0    177095.0\n",
      "mean          6.0      4482.0\n",
      "std           1.3     36582.3\n",
      "min           1.0         5.0\n",
      "25%           5.3        22.0\n",
      "50%           6.2        84.0\n",
      "75%           6.9       440.0\n",
      "max          10.0   2210134.0\n",
      "\n",
      "DescribeResult(nobs=177095, minmax=(5, 2210134), mean=4482.029142550608, variance=1338267182.4054267, skewness=20.92158034792162, kurtosis=664.868155375121)\n",
      "\n",
      "            imdb_score  num_scores\n",
      "imdb_score    1.000000    0.104773\n",
      "num_scores    0.104773    1.000000\n"
     ]
    }
   ],
   "source": [
    "num_scr = pop.copy()\n",
    "num_scr = num_scr.drop(columns = ['mov_id', 'title', 'year', 'genre', 'director', \n",
    "                                  'dir_dth_yr','actr1', 'actr2', 'actr3', 'runtime'])\n",
    "print(round(num_scr.describe(),1))\n",
    "print()\n",
    "print(stats.describe(num_scr['num_scores']))\n",
    "print()\n",
    "print(num_scr.corr())"
   ]
  },
  {
   "cell_type": "markdown",
   "metadata": {},
   "source": [
    "### The first thing that jumps out is that 'num_scores' has a massive range (not surprising) from 5 to 2.2 million. Furthermore, the median number of votes is 84 which means that roughly 75k titles have < 84 votes. The skew of 20 and kurtosis of 664 show that the data set is highly postively skewed with a large number of outliers."
   ]
  },
  {
   "cell_type": "code",
   "execution_count": 8,
   "metadata": {},
   "outputs": [
    {
     "data": {
      "image/png": "[encoded data removed]",
      "text/plain": [
       "<Figure size 1440x576 with 1 Axes>"
      ]
     },
     "metadata": {},
     "output_type": "display_data"
    }
   ],
   "source": [
    "sns.set(style=\"dark\", font_scale=1.25)\n",
    "fig = plt.subplots(figsize=(20,8))\n",
    "sns.regplot(x=\"num_scores\", y=\"imdb_score\", data=num_scr);"
   ]
  },
  {
   "cell_type": "markdown",
   "metadata": {},
   "source": [
    "### The scatter plot shows that the higher (outlier) scores counts (approximatley > 300k) appear to have above average scores. Yet, there is very little correlation being shown from the correlation coefficient (0.10) which is not what I would expect to see\n",
    "\n",
    "### Because I expect there to be a higher correlation than 0.10 both logically and based on the scatter chart, I re-test checking the stats for the imdb_scores < 100k and > 100k, with the expectation that the scores > 100k will be higher on average"
   ]
  },
  {
   "cell_type": "markdown",
   "metadata": {},
   "source": [
    "## Test 2: Check if extreme outliers for the 'num_counts' variable result in higher average IMDB Scores"
   ]
  },
  {
   "cell_type": "code",
   "execution_count": 9,
   "metadata": {},
   "outputs": [
    {
     "name": "stdout",
     "output_type": "stream",
     "text": [
      "Scores with > 100k Votes\n",
      "         year  dir_dth_yr  runtime  imdb_score  num_scores\n",
      "count  1804.0      1804.0   1804.0      1804.0      1804.0\n",
      "mean   2002.9      9258.6    116.2         7.1    272211.0\n",
      "std      14.3      2318.8     21.5         0.8    230605.7\n",
      "min    1921.0      1949.0     64.0         3.4    100023.0\n",
      "25%    1999.0      9999.0    101.0         6.5    133382.0\n",
      "50%    2007.0      9999.0    114.0         7.2    192974.0\n",
      "75%    2012.2      9999.0    128.0         7.7    316759.0\n",
      "max    2019.0      9999.0    238.0         9.3   2210134.0\n",
      "\n",
      "Scores with < 100k Votes\n",
      "           year  dir_dth_yr   runtime  imdb_score  num_scores\n",
      "count  175291.0    175291.0  175291.0    175291.0    175291.0\n",
      "mean     1989.4      7387.7      96.2         6.0      1726.7\n",
      "std        26.3      3755.0      34.0         1.3      7731.4\n",
      "min      1910.0      1913.0      40.0         1.0         5.0\n",
      "25%      1971.0      2007.0      84.0         5.2        21.0\n",
      "50%      1998.0      9999.0      93.0         6.1        82.0\n",
      "75%      2012.0      9999.0     104.0         6.8       413.0\n",
      "max      2020.0      9999.0   10062.0        10.0     99898.0\n"
     ]
    }
   ],
   "source": [
    "print('Scores with > 100k Votes')\n",
    "print(round(pop[pop['num_scores'] >= 100_000].describe(),1))\n",
    "print()\n",
    "print('Scores with < 100k Votes')\n",
    "print(round(pop[pop['num_scores'] < 100_000].describe(),1))"
   ]
  },
  {
   "cell_type": "markdown",
   "metadata": {},
   "source": [
    "## Test 2 Conclusions:\n",
    "* Movies with 'num_scores' > 100k have aveage IMDB scores 1.1 points or 18.3% higher than those movies with less than 100k votes.  \n",
    "\n",
    "These results makes sense as extremely popular movies should have more viewers than less popular movies and therefore should posses a larger pool of potential individuals to rate a given movie on IMDB."
   ]
  },
  {
   "cell_type": "markdown",
   "metadata": {},
   "source": [
    "---\n",
    "## Runtime Variable\n",
    "The 'runtime' variable represents the length in minutes of a particular movie. "
   ]
  },
  {
   "cell_type": "code",
   "execution_count": 12,
   "metadata": {},
   "outputs": [
    {
     "name": "stdout",
     "output_type": "stream",
     "text": [
      "        runtime  imdb_score\n",
      "count  177095.0    177095.0\n",
      "mean       96.4         6.0\n",
      "std        33.9         1.3\n",
      "min        40.0         1.0\n",
      "25%        85.0         5.3\n",
      "50%        93.0         6.2\n",
      "75%       105.0         6.9\n",
      "max     10062.0        10.0\n",
      "\n",
      "DescribeResult(nobs=177095, minmax=(40, 10062), mean=96.35768937575877, variance=1152.2177553530473, skewness=145.37129009205302, kurtosis=42018.622508936256)\n",
      "\n",
      "             runtime  imdb_score\n",
      "runtime     1.000000    0.101533\n",
      "imdb_score  0.101533    1.000000\n"
     ]
    }
   ],
   "source": [
    "runtime = pop.copy()\n",
    "runtime = runtime.drop(columns = ['mov_id', 'title', 'year', 'genre', 'director', 'dir_dth_yr',\n",
    "                                  'actr1', 'actr2', 'actr3', 'num_scores'])\n",
    "print(round(runtime.describe(),1))\n",
    "print()\n",
    "print(stats.describe(runtime['runtime']))\n",
    "print()\n",
    "print(runtime.corr())"
   ]
  },
  {
   "cell_type": "markdown",
   "metadata": {},
   "source": [
    "### The 'runtime' data appears to have a wide range, much larger than expected. the max value is 10,062 minutes which tells me that something is not right with at least that data point. Because the mean and median are relatively close together, I suspect that these high outliers are the cause for the high skew."
   ]
  },
  {
   "cell_type": "markdown",
   "metadata": {},
   "source": [
    "## Test 3: Check if Runtime Effects Average IMDB Score\n",
    "\n",
    "### First I perform a quck outlier test by pulling all the rows where the runtime is > 3 standard devations from the mean. I use 210 minutes because this is close to the 3 std amount and I would suspect that the vast majority of movies would fall below this length. "
   ]
  },
  {
   "cell_type": "code",
   "execution_count": 13,
   "metadata": {},
   "outputs": [
    {
     "data": {
      "text/html": [
       "<div>\n",
       "<style scoped>\n",
       "    .dataframe tbody tr th:only-of-type {\n",
       "        vertical-align: middle;\n",
       "    }\n",
       "\n",
       "    .dataframe tbody tr th {\n",
       "        vertical-align: top;\n",
       "    }\n",
       "\n",
       "    .dataframe thead th {\n",
       "        text-align: right;\n",
       "    }\n",
       "</style>\n",
       "<table border=\"1\" class=\"dataframe\">\n",
       "  <thead>\n",
       "    <tr style=\"text-align: right;\">\n",
       "      <th></th>\n",
       "      <th>mov_id</th>\n",
       "      <th>title</th>\n",
       "      <th>genre</th>\n",
       "      <th>year</th>\n",
       "      <th>director</th>\n",
       "      <th>dir_dth_yr</th>\n",
       "      <th>actr1</th>\n",
       "      <th>actr2</th>\n",
       "      <th>actr3</th>\n",
       "      <th>runtime</th>\n",
       "      <th>imdb_score</th>\n",
       "      <th>num_scores</th>\n",
       "    </tr>\n",
       "  </thead>\n",
       "  <tbody>\n",
       "    <tr>\n",
       "      <th>37</th>\n",
       "      <td>tt0003159</td>\n",
       "      <td>Les Miserables, Part 2: Fantine</td>\n",
       "      <td>Drama</td>\n",
       "      <td>1913</td>\n",
       "      <td>Albert Capellani</td>\n",
       "      <td>1931</td>\n",
       "      <td>Maria Ventura</td>\n",
       "      <td>Maria Fromet</td>\n",
       "      <td>Mistinguett</td>\n",
       "      <td>300</td>\n",
       "      <td>5.7</td>\n",
       "      <td>19</td>\n",
       "    </tr>\n",
       "    <tr>\n",
       "      <th>54</th>\n",
       "      <td>tt0003675</td>\n",
       "      <td>The Beloved Adventurer</td>\n",
       "      <td>Action</td>\n",
       "      <td>1914</td>\n",
       "      <td>Arthur V. Johnson</td>\n",
       "      <td>1916</td>\n",
       "      <td>Arthur V. Johnson</td>\n",
       "      <td>Lottie Briscoe</td>\n",
       "      <td>Florence Hackett</td>\n",
       "      <td>450</td>\n",
       "      <td>6.5</td>\n",
       "      <td>10</td>\n",
       "    </tr>\n",
       "    <tr>\n",
       "      <th>71</th>\n",
       "      <td>tt0004052</td>\n",
       "      <td>The Hazards of Helen</td>\n",
       "      <td>Action</td>\n",
       "      <td>1914</td>\n",
       "      <td>J. Gunnis Davis</td>\n",
       "      <td>1937</td>\n",
       "      <td>Helen Holmes</td>\n",
       "      <td>Helen Gibson</td>\n",
       "      <td>J.P. McGowan</td>\n",
       "      <td>1428</td>\n",
       "      <td>6.9</td>\n",
       "      <td>80</td>\n",
       "    </tr>\n",
       "    <tr>\n",
       "      <th>81</th>\n",
       "      <td>tt0004272</td>\n",
       "      <td>Lucille Love: The Girl of Mystery</td>\n",
       "      <td>Action</td>\n",
       "      <td>1914</td>\n",
       "      <td>Francis Ford</td>\n",
       "      <td>1953</td>\n",
       "      <td>Grace Cunard</td>\n",
       "      <td>Francis Ford</td>\n",
       "      <td>Harry Schumm</td>\n",
       "      <td>300</td>\n",
       "      <td>5.9</td>\n",
       "      <td>8</td>\n",
       "    </tr>\n",
       "    <tr>\n",
       "      <th>83</th>\n",
       "      <td>tt0004313</td>\n",
       "      <td>The Master Key</td>\n",
       "      <td>Action</td>\n",
       "      <td>1914</td>\n",
       "      <td>Robert Z. Leonard</td>\n",
       "      <td>1968</td>\n",
       "      <td>Robert Z. Leonard</td>\n",
       "      <td>Ella Hall</td>\n",
       "      <td>Harry Carter</td>\n",
       "      <td>310</td>\n",
       "      <td>4.9</td>\n",
       "      <td>11</td>\n",
       "    </tr>\n",
       "    <tr>\n",
       "      <th>...</th>\n",
       "      <td>...</td>\n",
       "      <td>...</td>\n",
       "      <td>...</td>\n",
       "      <td>...</td>\n",
       "      <td>...</td>\n",
       "      <td>...</td>\n",
       "      <td>...</td>\n",
       "      <td>...</td>\n",
       "      <td>...</td>\n",
       "      <td>...</td>\n",
       "      <td>...</td>\n",
       "      <td>...</td>\n",
       "    </tr>\n",
       "    <tr>\n",
       "      <th>175340</th>\n",
       "      <td>tt9047474</td>\n",
       "      <td>La Flor</td>\n",
       "      <td>Drama</td>\n",
       "      <td>2018</td>\n",
       "      <td>Mariano Llinas</td>\n",
       "      <td>9999</td>\n",
       "      <td>Elisa Carricajo</td>\n",
       "      <td>Valeria Correa</td>\n",
       "      <td>Pilar Gamboa</td>\n",
       "      <td>808</td>\n",
       "      <td>7.9</td>\n",
       "      <td>303</td>\n",
       "    </tr>\n",
       "    <tr>\n",
       "      <th>175369</th>\n",
       "      <td>tt9055926</td>\n",
       "      <td>National Theatre Live: King Lear</td>\n",
       "      <td>Drama</td>\n",
       "      <td>2018</td>\n",
       "      <td>Jonathan Munby</td>\n",
       "      <td>9999</td>\n",
       "      <td>Ian McKellen</td>\n",
       "      <td>Sinead Cusack</td>\n",
       "      <td>Danny Webb</td>\n",
       "      <td>227</td>\n",
       "      <td>8.6</td>\n",
       "      <td>203</td>\n",
       "    </tr>\n",
       "    <tr>\n",
       "      <th>175516</th>\n",
       "      <td>tt9097864</td>\n",
       "      <td>My Thesis Film: A Thesis Film by Erik Anderson</td>\n",
       "      <td>Drama</td>\n",
       "      <td>2018</td>\n",
       "      <td>Erik Anderson</td>\n",
       "      <td>9999</td>\n",
       "      <td>Erik Anderson</td>\n",
       "      <td>Amnon Buchbinder</td>\n",
       "      <td>Shannon Currie</td>\n",
       "      <td>233</td>\n",
       "      <td>8.9</td>\n",
       "      <td>25</td>\n",
       "    </tr>\n",
       "    <tr>\n",
       "      <th>175901</th>\n",
       "      <td>tt9249616</td>\n",
       "      <td>Amor de Perdicao</td>\n",
       "      <td>Drama</td>\n",
       "      <td>1979</td>\n",
       "      <td>Manoel de Oliveira</td>\n",
       "      <td>2015</td>\n",
       "      <td>Antonio Sequeira Lopes</td>\n",
       "      <td>Cristina Hauser</td>\n",
       "      <td>Elsa Wallencamp</td>\n",
       "      <td>262</td>\n",
       "      <td>7.7</td>\n",
       "      <td>29</td>\n",
       "    </tr>\n",
       "    <tr>\n",
       "      <th>176500</th>\n",
       "      <td>tt9591836</td>\n",
       "      <td>The Greatest Adventure: The Book of Dragons</td>\n",
       "      <td>Drama</td>\n",
       "      <td>2018</td>\n",
       "      <td>Evan Tramel</td>\n",
       "      <td>9999</td>\n",
       "      <td>Kj Schrock</td>\n",
       "      <td>NaN</td>\n",
       "      <td>NaN</td>\n",
       "      <td>244</td>\n",
       "      <td>7.7</td>\n",
       "      <td>10</td>\n",
       "    </tr>\n",
       "  </tbody>\n",
       "</table>\n",
       "<p>449 rows × 12 columns</p>\n",
       "</div>"
      ],
      "text/plain": [
       "           mov_id                                           title   genre  \\\n",
       "37      tt0003159                 Les Miserables, Part 2: Fantine   Drama   \n",
       "54      tt0003675                          The Beloved Adventurer  Action   \n",
       "71      tt0004052                            The Hazards of Helen  Action   \n",
       "81      tt0004272               Lucille Love: The Girl of Mystery  Action   \n",
       "83      tt0004313                                  The Master Key  Action   \n",
       "...           ...                                             ...     ...   \n",
       "175340  tt9047474                                         La Flor   Drama   \n",
       "175369  tt9055926                National Theatre Live: King Lear   Drama   \n",
       "175516  tt9097864  My Thesis Film: A Thesis Film by Erik Anderson   Drama   \n",
       "175901  tt9249616                                Amor de Perdicao   Drama   \n",
       "176500  tt9591836     The Greatest Adventure: The Book of Dragons   Drama   \n",
       "\n",
       "        year            director  dir_dth_yr                   actr1  \\\n",
       "37      1913    Albert Capellani        1931           Maria Ventura   \n",
       "54      1914   Arthur V. Johnson        1916       Arthur V. Johnson   \n",
       "71      1914     J. Gunnis Davis        1937            Helen Holmes   \n",
       "81      1914        Francis Ford        1953            Grace Cunard   \n",
       "83      1914   Robert Z. Leonard        1968       Robert Z. Leonard   \n",
       "...      ...                 ...         ...                     ...   \n",
       "175340  2018      Mariano Llinas        9999         Elisa Carricajo   \n",
       "175369  2018      Jonathan Munby        9999            Ian McKellen   \n",
       "175516  2018       Erik Anderson        9999           Erik Anderson   \n",
       "175901  1979  Manoel de Oliveira        2015  Antonio Sequeira Lopes   \n",
       "176500  2018         Evan Tramel        9999              Kj Schrock   \n",
       "\n",
       "                   actr2             actr3  runtime  imdb_score  num_scores  \n",
       "37          Maria Fromet       Mistinguett      300         5.7          19  \n",
       "54        Lottie Briscoe  Florence Hackett      450         6.5          10  \n",
       "71          Helen Gibson      J.P. McGowan     1428         6.9          80  \n",
       "81          Francis Ford      Harry Schumm      300         5.9           8  \n",
       "83             Ella Hall      Harry Carter      310         4.9          11  \n",
       "...                  ...               ...      ...         ...         ...  \n",
       "175340    Valeria Correa      Pilar Gamboa      808         7.9         303  \n",
       "175369     Sinead Cusack        Danny Webb      227         8.6         203  \n",
       "175516  Amnon Buchbinder    Shannon Currie      233         8.9          25  \n",
       "175901   Cristina Hauser   Elsa Wallencamp      262         7.7          29  \n",
       "176500               NaN               NaN      244         7.7          10  \n",
       "\n",
       "[449 rows x 12 columns]"
      ]
     },
     "execution_count": 13,
     "metadata": {},
     "output_type": "execute_result"
    }
   ],
   "source": [
    "pop[pop['runtime'] > 210]"
   ]
  },
  {
   "cell_type": "markdown",
   "metadata": {},
   "source": [
    "### Only 449 movies out of 177,000 or 0.002% of the total are longer than 3.5 hours, therefore I remove them and retest to see if these outliers were the cause of the skewed data."
   ]
  },
  {
   "cell_type": "code",
   "execution_count": 14,
   "metadata": {},
   "outputs": [
    {
     "name": "stdout",
     "output_type": "stream",
     "text": [
      "           year  dir_dth_yr   runtime  imdb_score  num_scores\n",
      "count  176646.0    176646.0  176646.0    176646.0    176646.0\n",
      "mean     1990.0      7414.0      96.0         6.0      4484.0\n",
      "std        26.0      3745.0      21.0         1.0     36606.0\n",
      "min      1910.0      1913.0      40.0         1.0         5.0\n",
      "25%      1971.0      2007.0      85.0         5.0        22.0\n",
      "50%      1998.0      9999.0      93.0         6.0        84.0\n",
      "75%      2012.0      9999.0     105.0         7.0       440.0\n",
      "max      2020.0      9999.0     210.0        10.0   2210134.0\n",
      "\n",
      "DescribeResult(nobs=177095, minmax=(False, True), mean=0.9974646376238742, variance=0.002528948593928193, skewness=-19.78442511721795, kurtosis=389.42347721880395)\n"
     ]
    }
   ],
   "source": [
    "print(round(pop[pop['runtime'] <= 210].describe()))\n",
    "print()\n",
    "print(stats.describe(pop['runtime'] <= 210))"
   ]
  },
  {
   "cell_type": "code",
   "execution_count": 15,
   "metadata": {},
   "outputs": [
    {
     "data": {
      "text/html": [
       "<div>\n",
       "<style scoped>\n",
       "    .dataframe tbody tr th:only-of-type {\n",
       "        vertical-align: middle;\n",
       "    }\n",
       "\n",
       "    .dataframe tbody tr th {\n",
       "        vertical-align: top;\n",
       "    }\n",
       "\n",
       "    .dataframe thead th {\n",
       "        text-align: right;\n",
       "    }\n",
       "</style>\n",
       "<table border=\"1\" class=\"dataframe\">\n",
       "  <thead>\n",
       "    <tr style=\"text-align: right;\">\n",
       "      <th></th>\n",
       "      <th>year</th>\n",
       "      <th>dir_dth_yr</th>\n",
       "      <th>runtime</th>\n",
       "      <th>imdb_score</th>\n",
       "      <th>num_scores</th>\n",
       "    </tr>\n",
       "  </thead>\n",
       "  <tbody>\n",
       "    <tr>\n",
       "      <th>year</th>\n",
       "      <td>1.000000</td>\n",
       "      <td>0.776352</td>\n",
       "      <td>0.216835</td>\n",
       "      <td>-0.095212</td>\n",
       "      <td>0.055240</td>\n",
       "    </tr>\n",
       "    <tr>\n",
       "      <th>dir_dth_yr</th>\n",
       "      <td>0.776352</td>\n",
       "      <td>1.000000</td>\n",
       "      <td>0.135237</td>\n",
       "      <td>-0.092167</td>\n",
       "      <td>0.054761</td>\n",
       "    </tr>\n",
       "    <tr>\n",
       "      <th>runtime</th>\n",
       "      <td>0.216835</td>\n",
       "      <td>0.135237</td>\n",
       "      <td>1.000000</td>\n",
       "      <td>0.144236</td>\n",
       "      <td>0.116139</td>\n",
       "    </tr>\n",
       "    <tr>\n",
       "      <th>imdb_score</th>\n",
       "      <td>-0.095212</td>\n",
       "      <td>-0.092167</td>\n",
       "      <td>0.144236</td>\n",
       "      <td>1.000000</td>\n",
       "      <td>0.104752</td>\n",
       "    </tr>\n",
       "    <tr>\n",
       "      <th>num_scores</th>\n",
       "      <td>0.055240</td>\n",
       "      <td>0.054761</td>\n",
       "      <td>0.116139</td>\n",
       "      <td>0.104752</td>\n",
       "      <td>1.000000</td>\n",
       "    </tr>\n",
       "  </tbody>\n",
       "</table>\n",
       "</div>"
      ],
      "text/plain": [
       "                year  dir_dth_yr   runtime  imdb_score  num_scores\n",
       "year        1.000000    0.776352  0.216835   -0.095212    0.055240\n",
       "dir_dth_yr  0.776352    1.000000  0.135237   -0.092167    0.054761\n",
       "runtime     0.216835    0.135237  1.000000    0.144236    0.116139\n",
       "imdb_score -0.095212   -0.092167  0.144236    1.000000    0.104752\n",
       "num_scores  0.055240    0.054761  0.116139    0.104752    1.000000"
      ]
     },
     "execution_count": 15,
     "metadata": {},
     "output_type": "execute_result"
    }
   ],
   "source": [
    "pop[pop['runtime'] <= 210].corr()"
   ]
  },
  {
   "cell_type": "code",
   "execution_count": 16,
   "metadata": {},
   "outputs": [
    {
     "data": {
      "text/plain": [
       "<matplotlib.axes._subplots.AxesSubplot at 0x7effda393b10>"
      ]
     },
     "execution_count": 16,
     "metadata": {},
     "output_type": "execute_result"
    },
    {
     "data": {
      "image/png": "[encoded data removed]",
      "text/plain": [
       "<Figure size 2160x720 with 1 Axes>"
      ]
     },
     "metadata": {},
     "output_type": "display_data"
    }
   ],
   "source": [
    "sns.set(style=\"dark\", font_scale=1.5)\n",
    "fig = plt.subplots(figsize=(30,10))\n",
    "sns.regplot(x=\"runtime\", y=\"imdb_score\", data=pop[pop['runtime'] <=210])"
   ]
  },
  {
   "cell_type": "markdown",
   "metadata": {},
   "source": [
    "### After removing the outliers, the correlation between runtime and imdb_scores increased slightly from 0.10 to 0.14, furthermore the distribution is now approximately symmetric. Thus indicating that the oultiers were causing the skew.\n",
    "\n",
    "### Because of the skew, I split the runtime data at the 75th percentile and compare the imdb_score means. It turns out that movies > 1.5 hours in length tend to have scores half a point higher on average. "
   ]
  },
  {
   "cell_type": "code",
   "execution_count": 17,
   "metadata": {},
   "outputs": [
    {
     "name": "stdout",
     "output_type": "stream",
     "text": [
      "Movie length >= 105 minutes \n",
      "          year  dir_dth_yr  runtime  imdb_score  num_scores\n",
      "count  44784.0     44784.0  44784.0     44784.0     44784.0\n",
      "mean    1995.7      7953.9    125.3         6.4     11372.0\n",
      "std       22.0      3491.1     54.8         1.2     65556.5\n",
      "min     1912.0      1916.0    105.0         1.0         5.0\n",
      "25%     1982.0      2019.0    110.0         5.8        34.0\n",
      "50%     2004.0      9999.0    118.0         6.5       178.0\n",
      "75%     2013.0      9999.0    134.0         7.1      1230.0\n",
      "max     2020.0      9999.0  10062.0        10.0   2210134.0\n",
      "\n",
      "Movie length < 105 minutes\n",
      "           year  dir_dth_yr   runtime  imdb_score  num_scores\n",
      "count  132311.0    132311.0  132311.0    132311.0    132311.0\n",
      "mean     1987.4      7221.6      86.6         5.9      2149.9\n",
      "std        27.2      3813.1      12.0         1.3     17751.2\n",
      "min      1910.0      1913.0      40.0         1.0         5.0\n",
      "25%      1968.0      2003.0      81.0         5.1        19.0\n",
      "50%      1995.0      9999.0      90.0         6.0        69.0\n",
      "75%      2011.0      9999.0      95.0         6.7       318.0\n",
      "max      2020.0      9999.0     104.0        10.0    951842.0\n"
     ]
    }
   ],
   "source": [
    "print('Movie length >= 105 minutes ')\n",
    "print(round(pop[pop['runtime'] >= 105].describe(),1))\n",
    "print()\n",
    "print('Movie length < 105 minutes')\n",
    "print(round(pop[pop['runtime'] < 105].describe(),1))"
   ]
  },
  {
   "cell_type": "markdown",
   "metadata": {},
   "source": [
    "## Test 3 Conclusions:\n",
    "* Movies longer than 105 minutes in length have an average IMDB score 0.5 points higher than movies shorter than 105 minutes in length."
   ]
  },
  {
   "cell_type": "markdown",
   "metadata": {},
   "source": [
    "## Total Movie Titles Per Decade"
   ]
  },
  {
   "cell_type": "code",
   "execution_count": 46,
   "metadata": {},
   "outputs": [
    {
     "data": {
      "text/plain": [
       "decade\n",
       "1910      779\n",
       "1920     2448\n",
       "1930     7732\n",
       "1940     7585\n",
       "1950    10346\n",
       "1960    13079\n",
       "1970    15229\n",
       "1980    16328\n",
       "1990    17671\n",
       "2000    30605\n",
       "2010    54535\n",
       "2020      758\n",
       "Name: year, dtype: int64"
      ]
     },
     "execution_count": 46,
     "metadata": {},
     "output_type": "execute_result"
    }
   ],
   "source": [
    "yr_chk = pop.copy()\n",
    "yr_chk = pop.drop(columns = ['mov_id', 'title', 'genre', 'director', 'dir_dth_yr',\n",
    "                             'actr1', 'actr2', 'actr3', 'runtime', \n",
    "                             'imdb_score', 'num_scores'])\n",
    "\n",
    "decade = 10 * (yr_chk['year'] // 10)\n",
    "yr_chk['decade'] = decade\n",
    "yr_chk.groupby('decade')['year'].count()"
   ]
  },
  {
   "cell_type": "markdown",
   "metadata": {},
   "source": [
    "**There are an adequate number of movies per decade. Because my initial algorithm is going to use 20 years of data prior to the target date, the entire possible target date range is 1930 - 2015**"
   ]
  },
  {
   "cell_type": "markdown",
   "metadata": {},
   "source": [
    "---\n",
    "# 3. Data Exploration & Descriptive Statistics\n",
    "In this section, I create a sample template and perform mulitple exploratory case studies on it in order to help with my predictive algorithm creation."
   ]
  },
  {
   "cell_type": "markdown",
   "metadata": {},
   "source": [
    "### Creating the Sample\n",
    "My templtae sample has the target year of 2000 which means it uses the years from 1980 - 1999 as its 20 years of predictive data. I also remove movies with runtime > 3.5 hours"
   ]
  },
  {
   "cell_type": "code",
   "execution_count": 28,
   "metadata": {},
   "outputs": [
    {
     "name": "stdout",
     "output_type": "stream",
     "text": [
      "Initial Sample Size: (33999, 12)\n",
      "Sample Size After Runtime Outliers Removed: (33938, 12)\n"
     ]
    }
   ],
   "source": [
    "s1 = pop.copy()\n",
    "\n",
    "s1_target = 2000\n",
    "s1_minyr = 1980  # (s1_target - 20)\n",
    "s1_maxyr = 1999  # (s1_target -1)\n",
    "\n",
    "s1 = s1[(s1['year'] >= 1980) & (s1['year'] <= 1999)]\n",
    "print(f'Initial Sample Size: {s1.shape}')\n",
    "\n",
    "s1 = s1[s1['runtime'] < 210]\n",
    "print(f'Sample Size After Runtime Outliers Removed: {s1.shape}')"
   ]
  },
  {
   "cell_type": "code",
   "execution_count": 29,
   "metadata": {},
   "outputs": [
    {
     "name": "stdout",
     "output_type": "stream",
     "text": [
      "          year  dir_dth_yr  runtime  imdb_score  num_scores\n",
      "count  33938.0     33938.0  33938.0     33938.0     33938.0\n",
      "mean    1990.0      8086.0     99.0         6.0      5301.0\n",
      "std        6.0      3410.0     21.0         1.0     43502.0\n",
      "min     1980.0      1934.0     45.0         1.0         5.0\n",
      "25%     1985.0      9999.0     88.0         5.0        25.0\n",
      "50%     1990.0      9999.0     95.0         6.0        94.0\n",
      "75%     1995.0      9999.0    106.0         7.0       491.0\n",
      "max     1999.0      9999.0    208.0        10.0   2210134.0\n",
      "\n",
      "                year  dir_dth_yr   runtime  imdb_score  num_scores\n",
      "year        1.000000    0.277099  0.029718   -0.039561    0.048165\n",
      "dir_dth_yr  0.277099    1.000000 -0.047008   -0.026068    0.029116\n",
      "runtime     0.029718   -0.047008  1.000000    0.219242    0.100343\n",
      "imdb_score -0.039561   -0.026068  0.219242    1.000000    0.132474\n",
      "num_scores  0.048165    0.029116  0.100343    0.132474    1.000000\n"
     ]
    }
   ],
   "source": [
    "print(round(s1.describe()))\n",
    "print()\n",
    "print(s1.corr())"
   ]
  },
  {
   "cell_type": "markdown",
   "metadata": {},
   "source": [
    "**The sample statsitics are pretty much in line with the population, therefore I can proceed with case by case analysis.**"
   ]
  },
  {
   "cell_type": "markdown",
   "metadata": {},
   "source": [
    "## Movie Titles Per Year"
   ]
  },
  {
   "cell_type": "code",
   "execution_count": 30,
   "metadata": {},
   "outputs": [
    {
     "data": {
      "image/png": "[encoded data removed]",
      "text/plain": [
       "<Figure size 1080x504 with 1 Axes>"
      ]
     },
     "metadata": {},
     "output_type": "display_data"
    }
   ],
   "source": [
    "sns.set(style=\"darkgrid\", font_scale=1.25)\n",
    "fig = plt.subplots(figsize=(15,7))\n",
    "\n",
    "# use y for horizontal bars\n",
    "#ax = sns.countplot(y='genre', data=df)\n",
    "\n",
    "# use y for vertical bars\n",
    "ax = sns.countplot(x='year', data=s1, palette='GnBu_d')\n",
    "\n",
    "plt.xticks(rotation=80)\n",
    "plt.show()"
   ]
  },
  {
   "cell_type": "markdown",
   "metadata": {},
   "source": [
    "**This chart shows that all years in the sample contain a relatively uniform number of movies per year which is ideal.**"
   ]
  },
  {
   "cell_type": "markdown",
   "metadata": {},
   "source": [
    "---\n",
    "## Case 1: Genre Count\n",
    "* **Objective** - Get a better idea of the genre breakdown\n",
    "* **Data Points** - (x = 'genre'), (y= title count per genre)\n",
    "* **Analysis Type** - Vertical & Horizontal Bar Charts"
   ]
  },
  {
   "cell_type": "markdown",
   "metadata": {},
   "source": [
    "### Create dataframe that counts the titles by genre"
   ]
  },
  {
   "cell_type": "code",
   "execution_count": 31,
   "metadata": {},
   "outputs": [
    {
     "data": {
      "text/html": [
       "<div>\n",
       "<style scoped>\n",
       "    .dataframe tbody tr th:only-of-type {\n",
       "        vertical-align: middle;\n",
       "    }\n",
       "\n",
       "    .dataframe tbody tr th {\n",
       "        vertical-align: top;\n",
       "    }\n",
       "\n",
       "    .dataframe thead th {\n",
       "        text-align: right;\n",
       "    }\n",
       "</style>\n",
       "<table border=\"1\" class=\"dataframe\">\n",
       "  <thead>\n",
       "    <tr style=\"text-align: right;\">\n",
       "      <th></th>\n",
       "      <th>genre</th>\n",
       "      <th>title</th>\n",
       "      <th>title_pct</th>\n",
       "    </tr>\n",
       "  </thead>\n",
       "  <tbody>\n",
       "    <tr>\n",
       "      <th>0</th>\n",
       "      <td>Action</td>\n",
       "      <td>5874</td>\n",
       "      <td>17.3</td>\n",
       "    </tr>\n",
       "    <tr>\n",
       "      <th>1</th>\n",
       "      <td>Comedy</td>\n",
       "      <td>9246</td>\n",
       "      <td>27.2</td>\n",
       "    </tr>\n",
       "    <tr>\n",
       "      <th>2</th>\n",
       "      <td>Drama</td>\n",
       "      <td>15156</td>\n",
       "      <td>44.7</td>\n",
       "    </tr>\n",
       "    <tr>\n",
       "      <th>3</th>\n",
       "      <td>Family</td>\n",
       "      <td>1599</td>\n",
       "      <td>4.7</td>\n",
       "    </tr>\n",
       "    <tr>\n",
       "      <th>4</th>\n",
       "      <td>Horror</td>\n",
       "      <td>2063</td>\n",
       "      <td>6.1</td>\n",
       "    </tr>\n",
       "  </tbody>\n",
       "</table>\n",
       "</div>"
      ],
      "text/plain": [
       "    genre  title  title_pct\n",
       "0  Action   5874       17.3\n",
       "1  Comedy   9246       27.2\n",
       "2   Drama  15156       44.7\n",
       "3  Family   1599        4.7\n",
       "4  Horror   2063        6.1"
      ]
     },
     "execution_count": 31,
     "metadata": {},
     "output_type": "execute_result"
    }
   ],
   "source": [
    "gdf = s1.copy()\n",
    "gdf = gdf.drop(columns = ['mov_id', 'year', 'director', 'dir_dth_yr',\n",
    "                          'actr1', 'actr2', 'actr3', 'runtime', \n",
    "                          'imdb_score', 'num_scores'])\n",
    "gdf = gdf.groupby('genre').count()\n",
    "gdf = gdf.reset_index()\n",
    "gdf['title_pct'] =   round(gdf.title / gdf.title.sum() * 100, 1)\n",
    "\n",
    "gdf"
   ]
  },
  {
   "cell_type": "markdown",
   "metadata": {},
   "source": [
    "### Bar Chart\n",
    "In this example, a subset of the data was used including just the genre and title columns. Doing this allowed the use of groupby() for counting the titles by genre and also allowed for sorting by total count value. "
   ]
  },
  {
   "cell_type": "code",
   "execution_count": 32,
   "metadata": {},
   "outputs": [
    {
     "data": {
      "image/png": "[encoded data removed]",
      "text/plain": [
       "<Figure size 720x432 with 1 Axes>"
      ]
     },
     "metadata": {},
     "output_type": "display_data"
    }
   ],
   "source": [
    "# Sort chart values by title\n",
    "gdf = gdf.sort_values(by='title', ascending = False)\n",
    "\n",
    "# Set chart style, color palette, and font size\n",
    "sns.set(style=\"white\", palette='GnBu_d', font_scale=1.25)\n",
    "\n",
    "# Set chart size\n",
    "fig = plt.subplots(figsize=(10,6))\n",
    "\n",
    "# Chart type & settings\n",
    "ax = sns.barplot(x=\"genre\", y=\"title\", data=gdf).set_title('Movie Genre Count')\n",
    "\n",
    "# Remove top and right borders\n",
    "sns.despine(top=True, right=True)"
   ]
  },
  {
   "cell_type": "markdown",
   "metadata": {},
   "source": [
    "### Countplot Chart\n",
    "In this example, the counts created through seaborn using the countplot chart. All that was required was the 'genre' column. However, the big difference between this and the chart above is that sorting this chart does so by the genre names and NOT the count values themselves. "
   ]
  },
  {
   "cell_type": "code",
   "execution_count": 33,
   "metadata": {},
   "outputs": [
    {
     "data": {
      "image/png": "[encoded data removed]",
      "text/plain": [
       "<Figure size 720x432 with 1 Axes>"
      ]
     },
     "metadata": {},
     "output_type": "display_data"
    }
   ],
   "source": [
    "sns.set(style=\"darkgrid\", palette='GnBu_d', font_scale=1.25)\n",
    "\n",
    "fig = plt.subplots(figsize=(10,6))\n",
    "\n",
    "# use x for vertical bars\n",
    "#ax = sns.countplot(x='genre', data=df)\n",
    "\n",
    "# use y for horizontal bars\n",
    "ax = sns.countplot(y='genre', data=s1).set_title('Movie Genre Count')"
   ]
  },
  {
   "cell_type": "markdown",
   "metadata": {},
   "source": [
    "## Case 1 Results:\n",
    "90% of the movies in the sample are either, Drama, Comedy, or Action, Drama makes up 44% of the total This would suggest that those particular genres are the most popular, however this can't be confirmed without including the IDMB score metrics\n",
    "\n",
    "**Current Algorithm Metrics:**\n",
    "* **Average IMDB Score = 6.1**\n",
    "* **Average IMDB Score STD = 1.1**\n",
    "* **Number IMDB Score Votes > 100k for extremely popular movies**\n",
    "* **Ideal Movie Length > 105 Minutes**"
   ]
  },
  {
   "cell_type": "markdown",
   "metadata": {},
   "source": [
    "---\n",
    "## Case 2: Genre Popularity Based on IMDB Score\n",
    "* **Objective** - Compare Imdb Scores by Genre in order to see which is most popular\n",
    "* **Data Points** - (x = 'genre'), (y= 'imdb_score;')\n",
    "* **Analysis Type** - Descriptive Statistics"
   ]
  },
  {
   "cell_type": "markdown",
   "metadata": {},
   "source": [
    "### Samples contain 20 years of data, however, because audiences tastes can change drastically from year to year, I'm going to use the most popular genre for the past 3 years as the target genre for my prediction. "
   ]
  },
  {
   "cell_type": "code",
   "execution_count": 34,
   "metadata": {},
   "outputs": [
    {
     "name": "stdout",
     "output_type": "stream",
     "text": [
      "<class 'pandas.core.frame.DataFrame'>\n",
      "Int64Index: 5931 entries, 45965 to 175870\n",
      "Data columns (total 2 columns):\n",
      " #   Column      Non-Null Count  Dtype  \n",
      "---  ------      --------------  -----  \n",
      " 0   genre       5931 non-null   object \n",
      " 1   imdb_score  5931 non-null   float64\n",
      "dtypes: float64(1), object(1)\n",
      "memory usage: 139.0+ KB\n"
     ]
    }
   ],
   "source": [
    "c4 = s1.copy()\n",
    "\n",
    "c4 = c4[(c4['year'] >= s1_maxyr-2) & (c4['year'] <= s1_maxyr)]\n",
    "\n",
    "c4 = c4.drop(columns = ['mov_id', 'title', 'year', 'director', 'dir_dth_yr',\n",
    "                        'actr1', 'actr2', 'actr3', 'runtime', 'num_scores'])\n",
    "c4.info()"
   ]
  },
  {
   "cell_type": "code",
   "execution_count": 35,
   "metadata": {},
   "outputs": [
    {
     "data": {
      "text/html": [
       "<div>\n",
       "<style scoped>\n",
       "    .dataframe tbody tr th:only-of-type {\n",
       "        vertical-align: middle;\n",
       "    }\n",
       "\n",
       "    .dataframe tbody tr th {\n",
       "        vertical-align: top;\n",
       "    }\n",
       "\n",
       "    .dataframe thead th {\n",
       "        text-align: right;\n",
       "    }\n",
       "</style>\n",
       "<table border=\"1\" class=\"dataframe\">\n",
       "  <thead>\n",
       "    <tr style=\"text-align: right;\">\n",
       "      <th></th>\n",
       "      <th>imdb_score</th>\n",
       "    </tr>\n",
       "    <tr>\n",
       "      <th>genre</th>\n",
       "      <th></th>\n",
       "    </tr>\n",
       "  </thead>\n",
       "  <tbody>\n",
       "    <tr>\n",
       "      <th>Action</th>\n",
       "      <td>5.430593</td>\n",
       "    </tr>\n",
       "    <tr>\n",
       "      <th>Comedy</th>\n",
       "      <td>5.880599</td>\n",
       "    </tr>\n",
       "    <tr>\n",
       "      <th>Drama</th>\n",
       "      <td>6.143217</td>\n",
       "    </tr>\n",
       "    <tr>\n",
       "      <th>Family</th>\n",
       "      <td>5.593056</td>\n",
       "    </tr>\n",
       "    <tr>\n",
       "      <th>Horror</th>\n",
       "      <td>5.039223</td>\n",
       "    </tr>\n",
       "  </tbody>\n",
       "</table>\n",
       "</div>"
      ],
      "text/plain": [
       "        imdb_score\n",
       "genre             \n",
       "Action    5.430593\n",
       "Comedy    5.880599\n",
       "Drama     6.143217\n",
       "Family    5.593056\n",
       "Horror    5.039223"
      ]
     },
     "execution_count": 35,
     "metadata": {},
     "output_type": "execute_result"
    }
   ],
   "source": [
    "c4.groupby('genre').mean()"
   ]
  },
  {
   "cell_type": "markdown",
   "metadata": {},
   "source": [
    "## Case 2 Results:\n",
    "Based on IMDB Scores, Drama movies are the most popular, followed by Comedy, Family, Action, and Horror respectively. \n",
    "\n",
    "This analysis shows that for predictive purposes of a movies success, choosing to make Drama film could potentially net higher scores than all the other genre types. \n",
    "\n",
    "**Current Algorithm Metrics:**\n",
    "* **Average IMDB Score = 6.1**\n",
    "* **Average IMDB Score STD = 1.1**\n",
    "* **Number IMDB Score Votes > 100k for extremely popular movies**\n",
    "* **Ideal Movie Length > 105 Minutes**\n",
    "* **Ideal Movie Genre: Highest IMDB Score Mean three years prior to target year**"
   ]
  },
  {
   "cell_type": "markdown",
   "metadata": {},
   "source": [
    "---\n",
    "## Case 3: Determine Ideal Directors Per Genre\n",
    "* **Objective** -  In the title\n",
    "* **Data Points** - 'title', 'genre', 'director', 'imdb_score', 'num_scores'\n",
    "* **Analysis Type** - Descriptive Statistics"
   ]
  },
  {
   "cell_type": "code",
   "execution_count": 21,
   "metadata": {},
   "outputs": [
    {
     "data": {
      "text/html": [
       "<div>\n",
       "<style scoped>\n",
       "    .dataframe tbody tr th:only-of-type {\n",
       "        vertical-align: middle;\n",
       "    }\n",
       "\n",
       "    .dataframe tbody tr th {\n",
       "        vertical-align: top;\n",
       "    }\n",
       "\n",
       "    .dataframe thead th {\n",
       "        text-align: right;\n",
       "    }\n",
       "</style>\n",
       "<table border=\"1\" class=\"dataframe\">\n",
       "  <thead>\n",
       "    <tr style=\"text-align: right;\">\n",
       "      <th></th>\n",
       "      <th>title</th>\n",
       "      <th>imdb_score</th>\n",
       "    </tr>\n",
       "  </thead>\n",
       "  <tbody>\n",
       "    <tr>\n",
       "      <th>count</th>\n",
       "      <td>14477.0</td>\n",
       "      <td>14477.0</td>\n",
       "    </tr>\n",
       "    <tr>\n",
       "      <th>mean</th>\n",
       "      <td>2.3</td>\n",
       "      <td>5.9</td>\n",
       "    </tr>\n",
       "    <tr>\n",
       "      <th>std</th>\n",
       "      <td>2.9</td>\n",
       "      <td>1.2</td>\n",
       "    </tr>\n",
       "    <tr>\n",
       "      <th>min</th>\n",
       "      <td>1.0</td>\n",
       "      <td>1.0</td>\n",
       "    </tr>\n",
       "    <tr>\n",
       "      <th>25%</th>\n",
       "      <td>1.0</td>\n",
       "      <td>5.1</td>\n",
       "    </tr>\n",
       "    <tr>\n",
       "      <th>50%</th>\n",
       "      <td>1.0</td>\n",
       "      <td>6.0</td>\n",
       "    </tr>\n",
       "    <tr>\n",
       "      <th>75%</th>\n",
       "      <td>3.0</td>\n",
       "      <td>6.7</td>\n",
       "    </tr>\n",
       "    <tr>\n",
       "      <th>max</th>\n",
       "      <td>87.0</td>\n",
       "      <td>9.6</td>\n",
       "    </tr>\n",
       "  </tbody>\n",
       "</table>\n",
       "</div>"
      ],
      "text/plain": [
       "         title  imdb_score\n",
       "count  14477.0     14477.0\n",
       "mean       2.3         5.9\n",
       "std        2.9         1.2\n",
       "min        1.0         1.0\n",
       "25%        1.0         5.1\n",
       "50%        1.0         6.0\n",
       "75%        3.0         6.7\n",
       "max       87.0         9.6"
      ]
     },
     "execution_count": 21,
     "metadata": {},
     "output_type": "execute_result"
    }
   ],
   "source": [
    "round(s1.groupby('director').aggregate({'title': 'count','imdb_score': 'mean'}).describe(),1)"
   ]
  },
  {
   "cell_type": "markdown",
   "metadata": {},
   "source": [
    "### From the above results, 75% of directors have < 3 movies, therefore to be considered among one of the top directors for any given two decades of data, a director must have at least 3 movies. \n",
    "\n",
    "### I next perform a search based on number of titles and average score."
   ]
  },
  {
   "cell_type": "code",
   "execution_count": 22,
   "metadata": {},
   "outputs": [
    {
     "data": {
      "text/html": [
       "<div>\n",
       "<style scoped>\n",
       "    .dataframe tbody tr th:only-of-type {\n",
       "        vertical-align: middle;\n",
       "    }\n",
       "\n",
       "    .dataframe tbody tr th {\n",
       "        vertical-align: top;\n",
       "    }\n",
       "\n",
       "    .dataframe thead th {\n",
       "        text-align: right;\n",
       "    }\n",
       "</style>\n",
       "<table border=\"1\" class=\"dataframe\">\n",
       "  <thead>\n",
       "    <tr style=\"text-align: right;\">\n",
       "      <th></th>\n",
       "      <th>title</th>\n",
       "      <th>imdb_score</th>\n",
       "      <th>num_scores</th>\n",
       "    </tr>\n",
       "    <tr>\n",
       "      <th>director</th>\n",
       "      <th></th>\n",
       "      <th></th>\n",
       "      <th></th>\n",
       "    </tr>\n",
       "  </thead>\n",
       "  <tbody>\n",
       "    <tr>\n",
       "      <th>Jing Wong</th>\n",
       "      <td>63</td>\n",
       "      <td>6.10</td>\n",
       "      <td>58466</td>\n",
       "    </tr>\n",
       "    <tr>\n",
       "      <th>K. Raghavendra Rao</th>\n",
       "      <td>37</td>\n",
       "      <td>6.53</td>\n",
       "      <td>7579</td>\n",
       "    </tr>\n",
       "    <tr>\n",
       "      <th>Priyadarshan</th>\n",
       "      <td>35</td>\n",
       "      <td>7.08</td>\n",
       "      <td>27308</td>\n",
       "    </tr>\n",
       "    <tr>\n",
       "      <th>Hisayasu Sato</th>\n",
       "      <td>34</td>\n",
       "      <td>6.11</td>\n",
       "      <td>3754</td>\n",
       "    </tr>\n",
       "    <tr>\n",
       "      <th>Mahesh Bhatt</th>\n",
       "      <td>34</td>\n",
       "      <td>6.13</td>\n",
       "      <td>32912</td>\n",
       "    </tr>\n",
       "    <tr>\n",
       "      <th>...</th>\n",
       "      <td>...</td>\n",
       "      <td>...</td>\n",
       "      <td>...</td>\n",
       "    </tr>\n",
       "    <tr>\n",
       "      <th>Huanzhang Zhao</th>\n",
       "      <td>3</td>\n",
       "      <td>6.80</td>\n",
       "      <td>44</td>\n",
       "    </tr>\n",
       "    <tr>\n",
       "      <th>Howard Franklin</th>\n",
       "      <td>3</td>\n",
       "      <td>6.33</td>\n",
       "      <td>28077</td>\n",
       "    </tr>\n",
       "    <tr>\n",
       "      <th>Holger Schott</th>\n",
       "      <td>3</td>\n",
       "      <td>6.53</td>\n",
       "      <td>34</td>\n",
       "    </tr>\n",
       "    <tr>\n",
       "      <th>Hisayuki Toriumi</th>\n",
       "      <td>3</td>\n",
       "      <td>6.83</td>\n",
       "      <td>346</td>\n",
       "    </tr>\n",
       "    <tr>\n",
       "      <th>Koreyoshi Kurahara</th>\n",
       "      <td>3</td>\n",
       "      <td>6.90</td>\n",
       "      <td>1411</td>\n",
       "    </tr>\n",
       "  </tbody>\n",
       "</table>\n",
       "<p>1998 rows × 3 columns</p>\n",
       "</div>"
      ],
      "text/plain": [
       "                    title  imdb_score  num_scores\n",
       "director                                         \n",
       "Jing Wong              63        6.10       58466\n",
       "K. Raghavendra Rao     37        6.53        7579\n",
       "Priyadarshan           35        7.08       27308\n",
       "Hisayasu Sato          34        6.11        3754\n",
       "Mahesh Bhatt           34        6.13       32912\n",
       "...                   ...         ...         ...\n",
       "Huanzhang Zhao          3        6.80          44\n",
       "Howard Franklin         3        6.33       28077\n",
       "Holger Schott           3        6.53          34\n",
       "Hisayuki Toriumi        3        6.83         346\n",
       "Koreyoshi Kurahara      3        6.90        1411\n",
       "\n",
       "[1998 rows x 3 columns]"
      ]
     },
     "execution_count": 22,
     "metadata": {},
     "output_type": "execute_result"
    }
   ],
   "source": [
    "dir1 = s1.copy()\n",
    "\n",
    "dir1 = round(dir1.groupby('director').aggregate({'title': 'count','imdb_score': 'mean', 'num_scores' : 'sum'}), 2)\n",
    "\n",
    "dir1.loc[(dir1['title'] >= 3) & \n",
    "           (dir1['imdb_score'] > 6)].sort_values(by='title', ascending=False)"
   ]
  },
  {
   "cell_type": "markdown",
   "metadata": {},
   "source": [
    "### The above results were not quite what I expected. Tthe directors with the most titles and high scores are unrecognizable to me. I also notice that the number of total votes for all their movies is not very high in most cases. Because of this, I perform another search based on the number of votes and immediately get back what I was looking for, instantly recognizable names. See Below:"
   ]
  },
  {
   "cell_type": "code",
   "execution_count": 40,
   "metadata": {},
   "outputs": [
    {
     "data": {
      "text/html": [
       "<div>\n",
       "<style scoped>\n",
       "    .dataframe tbody tr th:only-of-type {\n",
       "        vertical-align: middle;\n",
       "    }\n",
       "\n",
       "    .dataframe tbody tr th {\n",
       "        vertical-align: top;\n",
       "    }\n",
       "\n",
       "    .dataframe thead th {\n",
       "        text-align: right;\n",
       "    }\n",
       "</style>\n",
       "<table border=\"1\" class=\"dataframe\">\n",
       "  <thead>\n",
       "    <tr style=\"text-align: right;\">\n",
       "      <th></th>\n",
       "      <th>title</th>\n",
       "      <th>imdb_score</th>\n",
       "      <th>num_scores</th>\n",
       "    </tr>\n",
       "    <tr>\n",
       "      <th>director</th>\n",
       "      <th></th>\n",
       "      <th></th>\n",
       "      <th></th>\n",
       "    </tr>\n",
       "  </thead>\n",
       "  <tbody>\n",
       "    <tr>\n",
       "      <th>Quentin Tarantino</th>\n",
       "      <td>3</td>\n",
       "      <td>8.23</td>\n",
       "      <td>2911100</td>\n",
       "    </tr>\n",
       "    <tr>\n",
       "      <th>Steven Spielberg</th>\n",
       "      <td>5</td>\n",
       "      <td>7.80</td>\n",
       "      <td>2493560</td>\n",
       "    </tr>\n",
       "    <tr>\n",
       "      <th>Martin Scorsese</th>\n",
       "      <td>9</td>\n",
       "      <td>7.56</td>\n",
       "      <td>2121715</td>\n",
       "    </tr>\n",
       "    <tr>\n",
       "      <th>Jonathan Demme</th>\n",
       "      <td>3</td>\n",
       "      <td>7.40</td>\n",
       "      <td>1417599</td>\n",
       "    </tr>\n",
       "    <tr>\n",
       "      <th>Brian De Palma</th>\n",
       "      <td>8</td>\n",
       "      <td>7.31</td>\n",
       "      <td>1371811</td>\n",
       "    </tr>\n",
       "    <tr>\n",
       "      <th>...</th>\n",
       "      <td>...</td>\n",
       "      <td>...</td>\n",
       "      <td>...</td>\n",
       "    </tr>\n",
       "    <tr>\n",
       "      <th>Vincent Ward</th>\n",
       "      <td>3</td>\n",
       "      <td>7.03</td>\n",
       "      <td>102557</td>\n",
       "    </tr>\n",
       "    <tr>\n",
       "      <th>Stephen Frears</th>\n",
       "      <td>5</td>\n",
       "      <td>7.02</td>\n",
       "      <td>102541</td>\n",
       "    </tr>\n",
       "    <tr>\n",
       "      <th>David Cronenberg</th>\n",
       "      <td>3</td>\n",
       "      <td>6.77</td>\n",
       "      <td>102367</td>\n",
       "    </tr>\n",
       "    <tr>\n",
       "      <th>Harold Becker</th>\n",
       "      <td>6</td>\n",
       "      <td>6.48</td>\n",
       "      <td>102165</td>\n",
       "    </tr>\n",
       "    <tr>\n",
       "      <th>Joseph Ruben</th>\n",
       "      <td>4</td>\n",
       "      <td>6.57</td>\n",
       "      <td>100108</td>\n",
       "    </tr>\n",
       "  </tbody>\n",
       "</table>\n",
       "<p>64 rows × 3 columns</p>\n",
       "</div>"
      ],
      "text/plain": [
       "                   title  imdb_score  num_scores\n",
       "director                                        \n",
       "Quentin Tarantino      3        8.23     2911100\n",
       "Steven Spielberg       5        7.80     2493560\n",
       "Martin Scorsese        9        7.56     2121715\n",
       "Jonathan Demme         3        7.40     1417599\n",
       "Brian De Palma         8        7.31     1371811\n",
       "...                  ...         ...         ...\n",
       "Vincent Ward           3        7.03      102557\n",
       "Stephen Frears         5        7.02      102541\n",
       "David Cronenberg       3        6.77      102367\n",
       "Harold Becker          6        6.48      102165\n",
       "Joseph Ruben           4        6.57      100108\n",
       "\n",
       "[64 rows x 3 columns]"
      ]
     },
     "execution_count": 40,
     "metadata": {},
     "output_type": "execute_result"
    }
   ],
   "source": [
    "dir2 = s1.copy()\n",
    "\n",
    "# Set Genre\n",
    "dir2 = dir2[dir2['genre'] == 'Drama']\n",
    "\n",
    "dir2 = round(dir2.groupby('director').agg({'title': 'count','imdb_score': 'mean', 'num_scores' : 'sum'}),2)\n",
    "\n",
    "dir2[(dir2['title'] >= 3) & \n",
    "     (dir2['imdb_score'] > 6) & \n",
    "     (dir2['num_scores'] > 100_000)].sort_values(by='num_scores', ascending=False)"
   ]
  },
  {
   "cell_type": "markdown",
   "metadata": {},
   "source": [
    "### While the above grouping works for just 'num_scores', I would ideally like to have 'imdb_score' sorted AFTER 'num_scores', see below:"
   ]
  },
  {
   "cell_type": "code",
   "execution_count": 10,
   "metadata": {},
   "outputs": [
    {
     "name": "stdout",
     "output_type": "stream",
     "text": [
      "(53, 3)\n",
      "\n",
      "Top 10 Drama Directors Per Imdb Score and Score Count:\n"
     ]
    },
    {
     "data": {
      "text/html": [
       "<div>\n",
       "<style scoped>\n",
       "    .dataframe tbody tr th:only-of-type {\n",
       "        vertical-align: middle;\n",
       "    }\n",
       "\n",
       "    .dataframe tbody tr th {\n",
       "        vertical-align: top;\n",
       "    }\n",
       "\n",
       "    .dataframe thead th {\n",
       "        text-align: right;\n",
       "    }\n",
       "</style>\n",
       "<table border=\"1\" class=\"dataframe\">\n",
       "  <thead>\n",
       "    <tr style=\"text-align: right;\">\n",
       "      <th></th>\n",
       "      <th>title</th>\n",
       "      <th>imdb_score</th>\n",
       "      <th>num_scores</th>\n",
       "    </tr>\n",
       "    <tr>\n",
       "      <th>director</th>\n",
       "      <th></th>\n",
       "      <th></th>\n",
       "      <th></th>\n",
       "    </tr>\n",
       "  </thead>\n",
       "  <tbody>\n",
       "    <tr>\n",
       "      <th>Quentin Tarantino</th>\n",
       "      <td>3</td>\n",
       "      <td>8.23</td>\n",
       "      <td>2911100</td>\n",
       "    </tr>\n",
       "    <tr>\n",
       "      <th>David Lynch</th>\n",
       "      <td>4</td>\n",
       "      <td>7.88</td>\n",
       "      <td>580985</td>\n",
       "    </tr>\n",
       "    <tr>\n",
       "      <th>Steven Spielberg</th>\n",
       "      <td>5</td>\n",
       "      <td>7.80</td>\n",
       "      <td>2493560</td>\n",
       "    </tr>\n",
       "    <tr>\n",
       "      <th>Giuseppe Tornatore</th>\n",
       "      <td>6</td>\n",
       "      <td>7.77</td>\n",
       "      <td>288802</td>\n",
       "    </tr>\n",
       "    <tr>\n",
       "      <th>Paul Thomas Anderson</th>\n",
       "      <td>3</td>\n",
       "      <td>7.70</td>\n",
       "      <td>545842</td>\n",
       "    </tr>\n",
       "    <tr>\n",
       "      <th>Jim Sheridan</th>\n",
       "      <td>4</td>\n",
       "      <td>7.62</td>\n",
       "      <td>235470</td>\n",
       "    </tr>\n",
       "    <tr>\n",
       "      <th>Rob Reiner</th>\n",
       "      <td>4</td>\n",
       "      <td>7.57</td>\n",
       "      <td>754072</td>\n",
       "    </tr>\n",
       "    <tr>\n",
       "      <th>Martin Scorsese</th>\n",
       "      <td>9</td>\n",
       "      <td>7.56</td>\n",
       "      <td>2121715</td>\n",
       "    </tr>\n",
       "    <tr>\n",
       "      <th>Don Bluth</th>\n",
       "      <td>3</td>\n",
       "      <td>7.37</td>\n",
       "      <td>217961</td>\n",
       "    </tr>\n",
       "    <tr>\n",
       "      <th>Oliver Stone</th>\n",
       "      <td>10</td>\n",
       "      <td>7.34</td>\n",
       "      <td>1028669</td>\n",
       "    </tr>\n",
       "  </tbody>\n",
       "</table>\n",
       "</div>"
      ],
      "text/plain": [
       "                      title  imdb_score  num_scores\n",
       "director                                           \n",
       "Quentin Tarantino         3        8.23     2911100\n",
       "David Lynch               4        7.88      580985\n",
       "Steven Spielberg          5        7.80     2493560\n",
       "Giuseppe Tornatore        6        7.77      288802\n",
       "Paul Thomas Anderson      3        7.70      545842\n",
       "Jim Sheridan              4        7.62      235470\n",
       "Rob Reiner                4        7.57      754072\n",
       "Martin Scorsese           9        7.56     2121715\n",
       "Don Bluth                 3        7.37      217961\n",
       "Oliver Stone             10        7.34     1028669"
      ]
     },
     "execution_count": 10,
     "metadata": {},
     "output_type": "execute_result"
    }
   ],
   "source": [
    "dir4 = s1.copy()\n",
    "\n",
    "# Set Genre\n",
    "dir4 = dir4[dir4['genre'] == 'Drama']       # select dramas only\n",
    "dir4 = dir4[dir4['dir_dth_yr'] == 9999]     # remove dead directors\n",
    "\n",
    "# Group and Aggregate Desired Columns\n",
    "dir4 = round(dir4.groupby('director').agg({'title': 'count',  \n",
    "                                           # This selects the mode, not used because set genre directly\n",
    "                                           #'genre': lambda x:x.value_counts().index[0], \n",
    "                                           'imdb_score': 'mean',\n",
    "                                           'num_scores' : 'sum'}),2)\n",
    "\n",
    "# Set Algorithm Limits\n",
    "dir4 = dir4[(dir4['title'] >= 3) & \n",
    "            (dir4['imdb_score'] > 6) & \n",
    "            (dir4['num_scores'] > 100_000)]\n",
    "\n",
    "# Sort IMDB Score Counts Largest First\n",
    "dir4 = dir4.sort_values(by=['imdb_score'], ascending=False)\n",
    "\n",
    "\n",
    "print(dir4.shape)\n",
    "print()\n",
    "\n",
    "# Next Sort IMDB Score, keep \n",
    "print('Top 10 Drama Directors Per Imdb Score and Score Count:')\n",
    "dir4.sort_values(by=['imdb_score', 'num_scores'], ascending=[False,True]).head(10)"
   ]
  },
  {
   "cell_type": "markdown",
   "metadata": {},
   "source": [
    "### I now have a pool of 64 potential directors to choose from of which I will take the top 10 and empirically test them to see if my predictions actually work by checking my target year + 3 years ahead to see if these directors next movie was a success. \n",
    "\n",
    "### Ideally they all would be successful, but some directors may or may not have made any movies during that time perios OR the next movie they made was not a drama. "
   ]
  },
  {
   "cell_type": "code",
   "execution_count": 20,
   "metadata": {},
   "outputs": [
    {
     "name": "stdout",
     "output_type": "stream",
     "text": [
      "Number of Results: 8\n",
      "imdb_score         7.60\n",
      "num_scores    253201.50\n",
      "year            2001.50\n",
      "runtime          141.25\n",
      "dtype: float64\n"
     ]
    }
   ],
   "source": [
    "# This function returns the target year directors next major film (if any)\n",
    "# within 3 years after target year\n",
    "#def test_directors(dir_df):\n",
    "#    df = dir_df.copy()\n",
    "#    df = df.iloc[0:0] # remove all rows, keep columns\n",
    "#\n",
    "#    for d in list(dir_df.index):\n",
    "#        t = pop[(pop['director'] == d) & \n",
    "#                (pop['year'] >= 2000) & \n",
    "#                (pop['year'] <= 2003)].sort_values(by=['year'], ascending=True).head(1)\n",
    "#        df = df.append(t)\n",
    "#        \n",
    "#    return(df)\n",
    "#\n",
    "#best_dirs = test_directors(dir4)\n",
    "#best_dirs = best_dirs[best_dirs['genre'] == 'Drama']\n",
    "#best_dirs.sort_values(['imdb_score'], ascending=False).head(10)\n",
    "\n",
    "\n",
    "# This function returns the top 10 target year directors next major film (if any)\n",
    "# within 3 years after target year\n",
    "def test_directors2(dir_df):\n",
    "    df = dir_df.copy()\n",
    "    df = df.iloc[0:10]\n",
    "    \n",
    "    result_df = dir_df.copy()\n",
    "    result_df = df.iloc[0:0]\n",
    "    \n",
    "    for d in list(df.index):\n",
    "        t = pop.copy()\n",
    "        t = t.drop(columns=['mov_id', 'dir_dth_yr', 'actr1', 'actr2', 'actr3'])\n",
    "        \n",
    "        t = t[(t['director'] == d) & \n",
    "                (t['year'] >= 2000) & \n",
    "                (t['year'] <= 2003)].sort_values(by=['year'], ascending=True).head(1)\n",
    "        result_df = result_df.append(t)\n",
    "    return(result_df)\n",
    "    \n",
    "\n",
    "results = test_directors2(dir4)\n",
    "\n",
    "print(f'Number of Results: {len(results)}')\n",
    "\n",
    "print(results[results['genre'] == 'Drama'].mean())"
   ]
  },
  {
   "cell_type": "code",
   "execution_count": 19,
   "metadata": {},
   "outputs": [
    {
     "data": {
      "text/html": [
       "<div>\n",
       "<style scoped>\n",
       "    .dataframe tbody tr th:only-of-type {\n",
       "        vertical-align: middle;\n",
       "    }\n",
       "\n",
       "    .dataframe tbody tr th {\n",
       "        vertical-align: top;\n",
       "    }\n",
       "\n",
       "    .dataframe thead th {\n",
       "        text-align: right;\n",
       "    }\n",
       "</style>\n",
       "<table border=\"1\" class=\"dataframe\">\n",
       "  <thead>\n",
       "    <tr style=\"text-align: right;\">\n",
       "      <th></th>\n",
       "      <th>title</th>\n",
       "      <th>imdb_score</th>\n",
       "      <th>num_scores</th>\n",
       "      <th>genre</th>\n",
       "      <th>year</th>\n",
       "      <th>director</th>\n",
       "      <th>runtime</th>\n",
       "    </tr>\n",
       "  </thead>\n",
       "  <tbody>\n",
       "    <tr>\n",
       "      <th>66232</th>\n",
       "      <td>Mulholland Dr.</td>\n",
       "      <td>8.0</td>\n",
       "      <td>303234</td>\n",
       "      <td>Drama</td>\n",
       "      <td>2001.0</td>\n",
       "      <td>David Lynch</td>\n",
       "      <td>147.0</td>\n",
       "    </tr>\n",
       "    <tr>\n",
       "      <th>74623</th>\n",
       "      <td>A.I. Artificial Intelligence</td>\n",
       "      <td>7.2</td>\n",
       "      <td>282048</td>\n",
       "      <td>Drama</td>\n",
       "      <td>2001.0</td>\n",
       "      <td>Steven Spielberg</td>\n",
       "      <td>146.0</td>\n",
       "    </tr>\n",
       "    <tr>\n",
       "      <th>86573</th>\n",
       "      <td>In America</td>\n",
       "      <td>7.7</td>\n",
       "      <td>39623</td>\n",
       "      <td>Drama</td>\n",
       "      <td>2002.0</td>\n",
       "      <td>Jim Sheridan</td>\n",
       "      <td>105.0</td>\n",
       "    </tr>\n",
       "    <tr>\n",
       "      <th>75261</th>\n",
       "      <td>Gangs of New York</td>\n",
       "      <td>7.5</td>\n",
       "      <td>387901</td>\n",
       "      <td>Drama</td>\n",
       "      <td>2002.0</td>\n",
       "      <td>Martin Scorsese</td>\n",
       "      <td>167.0</td>\n",
       "    </tr>\n",
       "  </tbody>\n",
       "</table>\n",
       "</div>"
      ],
      "text/plain": [
       "                              title  imdb_score  num_scores  genre    year  \\\n",
       "66232                Mulholland Dr.         8.0      303234  Drama  2001.0   \n",
       "74623  A.I. Artificial Intelligence         7.2      282048  Drama  2001.0   \n",
       "86573                    In America         7.7       39623  Drama  2002.0   \n",
       "75261             Gangs of New York         7.5      387901  Drama  2002.0   \n",
       "\n",
       "               director  runtime  \n",
       "66232       David Lynch    147.0  \n",
       "74623  Steven Spielberg    146.0  \n",
       "86573      Jim Sheridan    105.0  \n",
       "75261   Martin Scorsese    167.0  "
      ]
     },
     "execution_count": 19,
     "metadata": {},
     "output_type": "execute_result"
    }
   ],
   "source": [
    "results[results['genre'] == 'Drama']"
   ]
  },
  {
   "cell_type": "code",
   "execution_count": 21,
   "metadata": {},
   "outputs": [
    {
     "name": "stdout",
     "output_type": "stream",
     "text": [
      "imdb_score         7.125\n",
      "num_scores    297700.500\n",
      "year            2002.000\n",
      "runtime          102.500\n",
      "dtype: float64\n"
     ]
    }
   ],
   "source": [
    "print(results[results['genre'] != 'Drama'].mean())"
   ]
  },
  {
   "cell_type": "code",
   "execution_count": 16,
   "metadata": {},
   "outputs": [
    {
     "data": {
      "text/html": [
       "<div>\n",
       "<style scoped>\n",
       "    .dataframe tbody tr th:only-of-type {\n",
       "        vertical-align: middle;\n",
       "    }\n",
       "\n",
       "    .dataframe tbody tr th {\n",
       "        vertical-align: top;\n",
       "    }\n",
       "\n",
       "    .dataframe thead th {\n",
       "        text-align: right;\n",
       "    }\n",
       "</style>\n",
       "<table border=\"1\" class=\"dataframe\">\n",
       "  <thead>\n",
       "    <tr style=\"text-align: right;\">\n",
       "      <th></th>\n",
       "      <th>title</th>\n",
       "      <th>imdb_score</th>\n",
       "      <th>num_scores</th>\n",
       "      <th>genre</th>\n",
       "      <th>year</th>\n",
       "      <th>director</th>\n",
       "      <th>runtime</th>\n",
       "    </tr>\n",
       "  </thead>\n",
       "  <tbody>\n",
       "    <tr>\n",
       "      <th>81974</th>\n",
       "      <td>Kill Bill: Vol. 1</td>\n",
       "      <td>8.1</td>\n",
       "      <td>953510</td>\n",
       "      <td>Action</td>\n",
       "      <td>2003.0</td>\n",
       "      <td>Quentin Tarantino</td>\n",
       "      <td>111.0</td>\n",
       "    </tr>\n",
       "    <tr>\n",
       "      <th>74747</th>\n",
       "      <td>Malena</td>\n",
       "      <td>7.5</td>\n",
       "      <td>84540</td>\n",
       "      <td>Comedy</td>\n",
       "      <td>2000.0</td>\n",
       "      <td>Giuseppe Tornatore</td>\n",
       "      <td>108.0</td>\n",
       "    </tr>\n",
       "    <tr>\n",
       "      <th>82728</th>\n",
       "      <td>Punch-Drunk Love</td>\n",
       "      <td>7.3</td>\n",
       "      <td>140021</td>\n",
       "      <td>Comedy</td>\n",
       "      <td>2002.0</td>\n",
       "      <td>Paul Thomas Anderson</td>\n",
       "      <td>95.0</td>\n",
       "    </tr>\n",
       "    <tr>\n",
       "      <th>88767</th>\n",
       "      <td>Alex &amp; Emma</td>\n",
       "      <td>5.6</td>\n",
       "      <td>12731</td>\n",
       "      <td>Comedy</td>\n",
       "      <td>2003.0</td>\n",
       "      <td>Rob Reiner</td>\n",
       "      <td>96.0</td>\n",
       "    </tr>\n",
       "  </tbody>\n",
       "</table>\n",
       "</div>"
      ],
      "text/plain": [
       "                   title  imdb_score  num_scores   genre    year  \\\n",
       "81974  Kill Bill: Vol. 1         8.1      953510  Action  2003.0   \n",
       "74747             Malena         7.5       84540  Comedy  2000.0   \n",
       "82728   Punch-Drunk Love         7.3      140021  Comedy  2002.0   \n",
       "88767        Alex & Emma         5.6       12731  Comedy  2003.0   \n",
       "\n",
       "                   director  runtime  \n",
       "81974     Quentin Tarantino    111.0  \n",
       "74747    Giuseppe Tornatore    108.0  \n",
       "82728  Paul Thomas Anderson     95.0  \n",
       "88767            Rob Reiner     96.0  "
      ]
     },
     "execution_count": 16,
     "metadata": {},
     "output_type": "execute_result"
    }
   ],
   "source": [
    "results[results['genre'] != 'Drama']"
   ]
  },
  {
   "cell_type": "markdown",
   "metadata": {},
   "source": [
    "## Case 3 Conclusions:\n",
    "\n",
    "**Drama Results**\n",
    "* Mean IMDB score for the drama films was: 7.6\n",
    "* 100% of the drama films beat the population avearge IMDB Score of 6.1\n",
    "* 100% of the drama films had a runtime of >= 105 minutes\n",
    "* 75% of the drama films had a a vote count of > 100k (blockbuster status)\n",
    "\n",
    "**Non-Drama Results**\n",
    "* Mean IMDB score for the non-drama films was: 7.1\n",
    "* 75% of the non-drama films beat the population average IMDB score of 6.1\n",
    "* 50% of the non-drama films had a runtime of >= 105 minutes\n",
    "* 50% of the non-rama films had a a vote count of > 100k (blockbuster status)\n",
    "\n",
    "The results for the single template sample are striking. Of the 10 directors chosen from the algorithm, 8 actually made a movie within 3 year of the target year. of the 8 movies made, half were dramas. The dramas met all the criteria set in the algorithm for a good movie, with the exception of one of the films that did not have > 100k votes. This means that 11/12 metrics passed combined for the drama films or 91.67%. \n",
    "\n",
    "The directors who chose not to make dramas (remember they were originally selected as the best drama directors) did not far as well as they only met 7/12 total metrics or 58.3% success rate. \n",
    "\n",
    "Overall, all the films except 1 had an above average IMDB rating. 5 of of the films could be considered blockbusters with both hihg imdb_scores and large vote counts > 100k.\n",
    "\n",
    "---\n",
    "### Final Test Algorithm Metrics:\n",
    "* **Average IMDB score = 6.1**\n",
    "* **Average IMDB score STD = 1.1**\n",
    "* **Number IMDB score votes > 100k for extremely popular movies**\n",
    "* **Ideal movie length > 105 minutes**\n",
    "* **Target movie genre has the highest IMDB Score avg for 3 years prior to target year**\n",
    "* **Ideal director must have at least 3 movies over past 20 years**\n",
    "* **Test Top 10 directors (with highest IMDB score, vote count ratio over 20 yr period)**"
   ]
  },
  {
   "cell_type": "markdown",
   "metadata": {},
   "source": [
    "---\n",
    "# Due to the success of the drama results in the single test above I next want to put the algorithm to the test with all the samples. "
   ]
  },
  {
   "cell_type": "markdown",
   "metadata": {},
   "source": [
    "## Sample Object Creation For Testing"
   ]
  },
  {
   "cell_type": "code",
   "execution_count": 3,
   "metadata": {},
   "outputs": [],
   "source": [
    "# Create sample with target year and population\n",
    "class Sample:\n",
    "    def __init__(self, s, t):\n",
    "        self.tgt_yr = t              # target year\n",
    "        self.start_yr = t-20         # analysis start year\n",
    "        self.end_yr = t-1            # analysis end year\n",
    "        #self.tst_start_yr = t+1\n",
    "        #self.tst_end_yr = t+4\n",
    "        \n",
    "        self.smpl = s[(s['year'] >= self.start_yr) &       # 20 year analysis range\n",
    "                      (s['year'] <= self.end_yr)]\n",
    "         \n",
    "                      \n",
    "        # Get ideal genre based on prior 3 years to target (TODO Optimize this if possible)\n",
    "        def getTargetGenre(self):\n",
    "            genre = self.smpl.copy()\n",
    "\n",
    "            genre = genre[(genre['year'] >= (self.end_yr - 2)) &\n",
    "                              (genre['year'] <= self.end_yr)]\n",
    "\n",
    "            genre = genre.drop(columns = ['mov_id', 'title', 'year', \n",
    "                                          'director', 'dir_dth_yr',\n",
    "                                          'actr1', 'actr2', 'actr3', \n",
    "                                          'runtime', 'num_scores'])\n",
    "\n",
    "            genre = genre.groupby('genre').mean()\n",
    "            genre = genre.reset_index()\n",
    "            genre = genre.sort_values(by=['imdb_score'], ascending=False).head(1).iat[0, 0]\n",
    "            return genre\n",
    "        \n",
    "        self.tgt_genre = getTargetGenre(self)\n",
    "        \n",
    "        \n",
    "    def getTopTenDirectors(self, tgt_num_titles, tgt_score, tgt_num_scores):\n",
    "        dir_df = self.smpl.copy()\n",
    "        dir_df = dir_df[dir_df['genre'] ==  self.tgt_genre] # Set Target Genre\n",
    "        dir_df = dir_df[dir_df['dir_dth_yr'] == 9999]       # Remove Dead Directors\n",
    "\n",
    "        # Group and Aggregate Desired Columns\n",
    "        dir_df = round(dir_df.groupby('director').agg({'title': 'count',\n",
    "                                                       'imdb_score': 'mean',\n",
    "                                                       'num_scores' : 'sum'}),2)\n",
    "        # Set Algorithm Limits\n",
    "        dir_df = dir_df[(dir_df['title'] >= tgt_num_titles) &\n",
    "                        (dir_df['imdb_score'] >  tgt_score) &\n",
    "                        (dir_df['num_scores'] > tgt_num_scores)]\n",
    "        \n",
    "\n",
    "        # Sort IMDB Score Counts Largest First\n",
    "        dir_df = dir_df.sort_values(by=['imdb_score'], ascending=False)\n",
    "\n",
    "        # Next Sort IMDB Score, keep \n",
    "        print('Top 10 Drama Directors Per Imdb Score and Score Count:')\n",
    "        print(dir_df.sort_values(by=['imdb_score', 'num_scores'], ascending=[False,True]).head(10))\n",
    "        print()\n",
    "        \n",
    "    \n",
    "    def getSampleInfo(self):\n",
    "        if self.tgt_yr >= 1930 and self.tgt_yr <= 2015:\n",
    "            print(f'Sample Size: {self.smpl.shape}')\n",
    "            print(f'Target Year: {self.tgt_yr}')\n",
    "            print(f'Analysis Start Year: {self.start_yr}')\n",
    "            print(f'Analysis End Year: {self.end_yr}')\n",
    "            print(f'Target Genre: {self.tgt_genre}\\n')\n",
    "            #print(f'Test Start Year: {self.tst_start_yr}')\n",
    "            #print(f'Test End Year: {self.tst_end_yr}\\n')\n",
    "        else:\n",
    "            print(f'Target year {self.tgt_yr} not valid, use range: >= 1930 and <= 2015.')\n",
    "         \n",
    "            \n",
    "\n",
    "#    def get_sample_stats(self):\n",
    "#        # Remove runtime outliers to prevent skew\n",
    "#        self.desc_stats = self.smpl[self.smpl['runtime'] < 210]        \n",
    "#        print('Sample Descriptive Statistics:')\n",
    "#        return(self.desc_stats.describe().round(decimals=1))\n",
    "\n",
    "\n",
    "#    def score_hgram(self):\n",
    "#        self.hist = self.smpl.copy()\n",
    "#        self.hist = self.hist.drop(columns = ['mov_id', 'title', 'year', 'genre', 'director',\n",
    "#                                              'dir_dth_yr', 'actr1', 'actr2', 'actr3',\n",
    "#                                              'runtime', 'num_scores'])\n",
    "#        sns.set(style=\"white\", font_scale=1.25)\n",
    "#        fig = plt.subplots(figsize=(10,6))\n",
    "#        ax = sns.distplot(self.hist, bins=10).set_title(f'Histogram: IMDB Scores ({self.start_yr} - {self.end_yr})')\n",
    "#        plt.xlabel('Average IMDB Scores')\n",
    "#        plt.ylabel('% of Total')\n",
    "#        plt.show()\n",
    "  "
   ]
  },
  {
   "cell_type": "markdown",
   "metadata": {},
   "source": [
    "## Test2:  Check to see if director algorithm holds for every possible target year"
   ]
  },
  {
   "cell_type": "code",
   "execution_count": 4,
   "metadata": {},
   "outputs": [
    {
     "name": "stdout",
     "output_type": "stream",
     "text": [
      "Top 10 Drama Directors Per Imdb Score and Score Count:\n",
      "                      title  imdb_score  num_scores\n",
      "director                                           \n",
      "Quentin Tarantino         3        8.23     2911100\n",
      "David Lynch               4        7.88      580985\n",
      "Steven Spielberg          5        7.80     2493560\n",
      "Giuseppe Tornatore        6        7.77      288802\n",
      "Paul Thomas Anderson      3        7.70      545842\n",
      "Jim Sheridan              4        7.62      235470\n",
      "Rob Reiner                4        7.57      754072\n",
      "Martin Scorsese           9        7.56     2121715\n",
      "Don Bluth                 3        7.37      217961\n",
      "Oliver Stone             10        7.34     1028669\n",
      "\n",
      "Top 10 Drama Directors Per Imdb Score and Score Count:\n",
      "Empty DataFrame\n",
      "Columns: [title, imdb_score, num_scores]\n",
      "Index: []\n",
      "\n"
     ]
    }
   ],
   "source": [
    "# population data \n",
    "\n",
    "\n",
    "def testSamples():\n",
    "    pop = pd.read_csv('data/movies_final.csv')  # Initial Population\n",
    "    tgt_score = 6.1                             # Target  Score\n",
    "    tgt_std = 1.1                               # Target Standard Deviation\n",
    "    tgt_num_scores = 100_000                    # Target Number of Scores\n",
    "    tgt_runtime = 105                           # Target Movie Length\n",
    "    tgt_num_titles = 3                          # Minimun Number of Movies Per Director\n",
    "    tgt_genre = ''                              # Target Genre\n",
    "\n",
    "    # Target Analysis Range (20 Year Range)\n",
    "    tgt_years = pop['year'][(pop['year'] >= 1930) & (pop['year'] <= 2015)].unique().tolist()\n",
    "    tgt_years.sort()\n",
    "    tst_yrs = [2000, 1950]\n",
    "\n",
    "    #Test Target Years\n",
    "    for yr in tst_yrs:    \n",
    "        sample = Sample(pop.copy(), yr)\n",
    "        #sample.getSampleInfo()\n",
    "        #tgt_genre = sample.tgt_genre\n",
    "        sample.getTopTenDirectors(tgt_num_titles, tgt_score, tgt_num_scores)\n",
    "        \n",
    "\n",
    "        \n",
    "    #test_s = Sample(pop, 1930)\n",
    "    #return(test_s.smpl)\n",
    "    \n",
    "testSamples()"
   ]
  },
  {
   "cell_type": "code",
   "execution_count": null,
   "metadata": {},
   "outputs": [],
   "source": []
  }
 ],
 "metadata": {
  "kernelspec": {
   "display_name": "Python 3",
   "language": "python",
   "name": "python3"
  },
  "language_info": {
   "codemirror_mode": {
    "name": "ipython",
    "version": 3
   },
   "file_extension": ".py",
   "mimetype": "text/x-python",
   "name": "python",
   "nbconvert_exporter": "python",
   "pygments_lexer": "ipython3",
   "version": "3.7.7"
  }
 },
 "nbformat": 4,
 "nbformat_minor": 4
}
