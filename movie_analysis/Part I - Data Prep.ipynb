{
 "cells": [
  {
   "cell_type": "markdown",
   "metadata": {},
   "source": [
    "# Movie Industry Analysis \n",
    "## Part I - Data Preparation\n",
    "---\n",
    "This personal project was undertaken in order for me to become proficient using Pandas for larger data sets and also for practicing basic machine learning tasks. \n",
    "\n",
    "It consists of Three Different Notebooks: \n",
    "\n",
    "* **Part I   - Data Preparation (This Notebook)**\n",
    "* **Part II  - Data Exploration**\n",
    "* **Part III - Predictions with Machine Learning**\n",
    "\n",
    "The data mining process is followed througout the project, both on a large scale and in Parts II & III on a case by case basis. The steps are: \n",
    "\n",
    "1. Defining the Objective\n",
    "2. Data Preparation\n",
    "3. Data Exploration\n",
    "4. Building (or Choosing) a Model\n",
    "5. Evaluating Model Results\n",
    "\n",
    "---\n",
    "## 1. Defining the Objective\n",
    "The overall objective of this project is to predict which directors will give a movie the best possible IMDB score for any given target year (between 1930 and 2015) using the prior 10 years worth of data for analysis.\n",
    "\n",
    "---\n",
    "## 2. Data Preparation\n",
    "\n",
    "I found an interface page on IMDB that contains subsets from their entire database. It is updated daily and contains millions of data points. \n",
    "The data they provide does not contain all metrics from the site, but the many relevant fields are included. The ones I used are:\n",
    "\n",
    "title, release year, genre, runtime, director, actor1, actor2, actor3, imdb_rating, and imdb_rating_count\n",
    "\n",
    "[IMDB Data Sets](https://www.imdb.com/interfaces/)\n",
    "\n",
    "\n",
    "**IMPORTANT NOTE ON THE DATA**\n",
    "For this project my main varaible of interest or (response variable) will be the IMDB Score. In the real world, box-office numbers would better reflect movie success as IMDB scores themselves are highly subjective and susceptible to being artificially inflated. However I do not have a reliable source for box office data (infaltion adjusted, ect.), therefore I am using the IMDB Score as the metric of success of a given movie. \n",
    "\n",
    "Because the IMDB Data contains more than just movie data, I have to create my population by weeding out metrics that are not relevent here. I am doing so by enforcing some rules:\n",
    "\n",
    "* Only fictional movies (no documentaries, tv-shows, etc.)\n",
    "* Only feature length films >= 40 minutes in length (as defined by the Academy of Motion Pictures, Arts, and Sciences)\n",
    "* No adult films\n",
    "* Films have to contain an IMDB score"
   ]
  },
  {
   "cell_type": "code",
   "execution_count": 2,
   "metadata": {},
   "outputs": [],
   "source": [
    "import pandas as pd\n",
    "import numpy as np\n",
    "import matplotlib as mpl\n",
    "import matplotlib.pyplot as plt\n",
    "import seaborn as sns\n",
    "\n",
    "import warnings\n",
    "warnings.filterwarnings(\"ignore\", 'This pattern has match groups')"
   ]
  },
  {
   "cell_type": "markdown",
   "metadata": {},
   "source": [
    "## 2a. Cleaning Basic Movie Data\n",
    "Note: The 'title.basics.tsv.gz' contains the basic movie data, I renamed it 'movies.tsv.gz'"
   ]
  },
  {
   "cell_type": "code",
   "execution_count": 2,
   "metadata": {},
   "outputs": [],
   "source": [
    "mdf = pd.read_table('data/movies.tsv.gz', low_memory=False)"
   ]
  },
  {
   "cell_type": "code",
   "execution_count": 3,
   "metadata": {},
   "outputs": [
    {
     "data": {
      "text/plain": [
       "(6691705, 9)"
      ]
     },
     "execution_count": 3,
     "metadata": {},
     "output_type": "execute_result"
    }
   ],
   "source": [
    "mdf.shape"
   ]
  },
  {
   "cell_type": "code",
   "execution_count": 4,
   "metadata": {},
   "outputs": [
    {
     "data": {
      "text/html": [
       "<div>\n",
       "<style scoped>\n",
       "    .dataframe tbody tr th:only-of-type {\n",
       "        vertical-align: middle;\n",
       "    }\n",
       "\n",
       "    .dataframe tbody tr th {\n",
       "        vertical-align: top;\n",
       "    }\n",
       "\n",
       "    .dataframe thead th {\n",
       "        text-align: right;\n",
       "    }\n",
       "</style>\n",
       "<table border=\"1\" class=\"dataframe\">\n",
       "  <thead>\n",
       "    <tr style=\"text-align: right;\">\n",
       "      <th></th>\n",
       "      <th>tconst</th>\n",
       "      <th>titleType</th>\n",
       "      <th>primaryTitle</th>\n",
       "      <th>originalTitle</th>\n",
       "      <th>isAdult</th>\n",
       "      <th>startYear</th>\n",
       "      <th>endYear</th>\n",
       "      <th>runtimeMinutes</th>\n",
       "      <th>genres</th>\n",
       "    </tr>\n",
       "  </thead>\n",
       "  <tbody>\n",
       "    <tr>\n",
       "      <th>0</th>\n",
       "      <td>tt0000001</td>\n",
       "      <td>short</td>\n",
       "      <td>Carmencita</td>\n",
       "      <td>Carmencita</td>\n",
       "      <td>0</td>\n",
       "      <td>1894</td>\n",
       "      <td>\\N</td>\n",
       "      <td>1</td>\n",
       "      <td>Documentary,Short</td>\n",
       "    </tr>\n",
       "    <tr>\n",
       "      <th>1</th>\n",
       "      <td>tt0000002</td>\n",
       "      <td>short</td>\n",
       "      <td>Le clown et ses chiens</td>\n",
       "      <td>Le clown et ses chiens</td>\n",
       "      <td>0</td>\n",
       "      <td>1892</td>\n",
       "      <td>\\N</td>\n",
       "      <td>5</td>\n",
       "      <td>Animation,Short</td>\n",
       "    </tr>\n",
       "    <tr>\n",
       "      <th>2</th>\n",
       "      <td>tt0000003</td>\n",
       "      <td>short</td>\n",
       "      <td>Pauvre Pierrot</td>\n",
       "      <td>Pauvre Pierrot</td>\n",
       "      <td>0</td>\n",
       "      <td>1892</td>\n",
       "      <td>\\N</td>\n",
       "      <td>4</td>\n",
       "      <td>Animation,Comedy,Romance</td>\n",
       "    </tr>\n",
       "    <tr>\n",
       "      <th>3</th>\n",
       "      <td>tt0000004</td>\n",
       "      <td>short</td>\n",
       "      <td>Un bon bock</td>\n",
       "      <td>Un bon bock</td>\n",
       "      <td>0</td>\n",
       "      <td>1892</td>\n",
       "      <td>\\N</td>\n",
       "      <td>12</td>\n",
       "      <td>Animation,Short</td>\n",
       "    </tr>\n",
       "    <tr>\n",
       "      <th>4</th>\n",
       "      <td>tt0000005</td>\n",
       "      <td>short</td>\n",
       "      <td>Blacksmith Scene</td>\n",
       "      <td>Blacksmith Scene</td>\n",
       "      <td>0</td>\n",
       "      <td>1893</td>\n",
       "      <td>\\N</td>\n",
       "      <td>1</td>\n",
       "      <td>Comedy,Short</td>\n",
       "    </tr>\n",
       "  </tbody>\n",
       "</table>\n",
       "</div>"
      ],
      "text/plain": [
       "      tconst titleType            primaryTitle           originalTitle  \\\n",
       "0  tt0000001     short              Carmencita              Carmencita   \n",
       "1  tt0000002     short  Le clown et ses chiens  Le clown et ses chiens   \n",
       "2  tt0000003     short          Pauvre Pierrot          Pauvre Pierrot   \n",
       "3  tt0000004     short             Un bon bock             Un bon bock   \n",
       "4  tt0000005     short        Blacksmith Scene        Blacksmith Scene   \n",
       "\n",
       "   isAdult startYear endYear runtimeMinutes                    genres  \n",
       "0        0      1894      \\N              1         Documentary,Short  \n",
       "1        0      1892      \\N              5           Animation,Short  \n",
       "2        0      1892      \\N              4  Animation,Comedy,Romance  \n",
       "3        0      1892      \\N             12           Animation,Short  \n",
       "4        0      1893      \\N              1              Comedy,Short  "
      ]
     },
     "execution_count": 4,
     "metadata": {},
     "output_type": "execute_result"
    }
   ],
   "source": [
    "mdf.head()"
   ]
  },
  {
   "cell_type": "code",
   "execution_count": 5,
   "metadata": {},
   "outputs": [
    {
     "data": {
      "text/plain": [
       "array(['short', 'movie', 'tvMovie', 'tvSeries', 'tvEpisode', 'tvShort',\n",
       "       'tvMiniSeries', 'tvSpecial', 'video', 'videoGame'], dtype=object)"
      ]
     },
     "execution_count": 5,
     "metadata": {},
     "output_type": "execute_result"
    }
   ],
   "source": [
    "mdf['titleType'].unique()"
   ]
  },
  {
   "cell_type": "markdown",
   "metadata": {},
   "source": [
    "### Drop unwanted columns, only keep 'titleType' movie"
   ]
  },
  {
   "cell_type": "code",
   "execution_count": 6,
   "metadata": {},
   "outputs": [
    {
     "name": "stdout",
     "output_type": "stream",
     "text": [
      "(547478, 6)\n"
     ]
    },
    {
     "data": {
      "text/html": [
       "<div>\n",
       "<style scoped>\n",
       "    .dataframe tbody tr th:only-of-type {\n",
       "        vertical-align: middle;\n",
       "    }\n",
       "\n",
       "    .dataframe tbody tr th {\n",
       "        vertical-align: top;\n",
       "    }\n",
       "\n",
       "    .dataframe thead th {\n",
       "        text-align: right;\n",
       "    }\n",
       "</style>\n",
       "<table border=\"1\" class=\"dataframe\">\n",
       "  <thead>\n",
       "    <tr style=\"text-align: right;\">\n",
       "      <th></th>\n",
       "      <th>tconst</th>\n",
       "      <th>primaryTitle</th>\n",
       "      <th>isAdult</th>\n",
       "      <th>startYear</th>\n",
       "      <th>runtimeMinutes</th>\n",
       "      <th>genres</th>\n",
       "    </tr>\n",
       "  </thead>\n",
       "  <tbody>\n",
       "    <tr>\n",
       "      <th>8</th>\n",
       "      <td>tt0000009</td>\n",
       "      <td>Miss Jerry</td>\n",
       "      <td>0</td>\n",
       "      <td>1894</td>\n",
       "      <td>45</td>\n",
       "      <td>Romance</td>\n",
       "    </tr>\n",
       "    <tr>\n",
       "      <th>145</th>\n",
       "      <td>tt0000147</td>\n",
       "      <td>The Corbett-Fitzsimmons Fight</td>\n",
       "      <td>0</td>\n",
       "      <td>1897</td>\n",
       "      <td>20</td>\n",
       "      <td>Documentary,News,Sport</td>\n",
       "    </tr>\n",
       "  </tbody>\n",
       "</table>\n",
       "</div>"
      ],
      "text/plain": [
       "        tconst                   primaryTitle  isAdult startYear  \\\n",
       "8    tt0000009                     Miss Jerry        0      1894   \n",
       "145  tt0000147  The Corbett-Fitzsimmons Fight        0      1897   \n",
       "\n",
       "    runtimeMinutes                  genres  \n",
       "8               45                 Romance  \n",
       "145             20  Documentary,News,Sport  "
      ]
     },
     "execution_count": 6,
     "metadata": {},
     "output_type": "execute_result"
    }
   ],
   "source": [
    "mdf = mdf.drop(columns=['originalTitle','endYear']) # drop unwanted columns\n",
    "mdf = mdf[mdf['titleType'] == 'movie']              # only keep 'titleType' \n",
    "mdf = mdf.drop(columns=['titleType'])               # drop 'titleType' column, no londer needed\n",
    "print(mdf.shape)\n",
    "mdf.head(2)"
   ]
  },
  {
   "cell_type": "markdown",
   "metadata": {},
   "source": [
    "### Remove genres that contains 'Documentary' or 'TV' or where genres = 'Sport',  'Music' or 'Biography'\n",
    "This takes care of documentaries and tv shows. "
   ]
  },
  {
   "cell_type": "code",
   "execution_count": 7,
   "metadata": {},
   "outputs": [
    {
     "name": "stdout",
     "output_type": "stream",
     "text": [
      "(369216, 6)\n"
     ]
    },
    {
     "data": {
      "text/html": [
       "<div>\n",
       "<style scoped>\n",
       "    .dataframe tbody tr th:only-of-type {\n",
       "        vertical-align: middle;\n",
       "    }\n",
       "\n",
       "    .dataframe tbody tr th {\n",
       "        vertical-align: top;\n",
       "    }\n",
       "\n",
       "    .dataframe thead th {\n",
       "        text-align: right;\n",
       "    }\n",
       "</style>\n",
       "<table border=\"1\" class=\"dataframe\">\n",
       "  <thead>\n",
       "    <tr style=\"text-align: right;\">\n",
       "      <th></th>\n",
       "      <th>tconst</th>\n",
       "      <th>primaryTitle</th>\n",
       "      <th>isAdult</th>\n",
       "      <th>startYear</th>\n",
       "      <th>runtimeMinutes</th>\n",
       "      <th>genres</th>\n",
       "    </tr>\n",
       "  </thead>\n",
       "  <tbody>\n",
       "    <tr>\n",
       "      <th>8</th>\n",
       "      <td>tt0000009</td>\n",
       "      <td>Miss Jerry</td>\n",
       "      <td>0</td>\n",
       "      <td>1894</td>\n",
       "      <td>45</td>\n",
       "      <td>Romance</td>\n",
       "    </tr>\n",
       "    <tr>\n",
       "      <th>332</th>\n",
       "      <td>tt0000335</td>\n",
       "      <td>Soldiers of the Cross</td>\n",
       "      <td>0</td>\n",
       "      <td>1900</td>\n",
       "      <td>\\N</td>\n",
       "      <td>Biography,Drama</td>\n",
       "    </tr>\n",
       "  </tbody>\n",
       "</table>\n",
       "</div>"
      ],
      "text/plain": [
       "        tconst           primaryTitle  isAdult startYear runtimeMinutes  \\\n",
       "8    tt0000009             Miss Jerry        0      1894             45   \n",
       "332  tt0000335  Soldiers of the Cross        0      1900             \\N   \n",
       "\n",
       "              genres  \n",
       "8            Romance  \n",
       "332  Biography,Drama  "
      ]
     },
     "execution_count": 7,
     "metadata": {},
     "output_type": "execute_result"
    }
   ],
   "source": [
    "mdf = mdf[mdf['genres'] != '\\\\N']\n",
    "mdf = mdf[mdf['genres'].str.contains(r'[Dd]ocumentary') == False]\n",
    "mdf = mdf[mdf['genres'].str.contains(r'([Tt]V)') == False]\n",
    "mdf = mdf[mdf['genres'] != 'Sport']\n",
    "mdf = mdf[mdf['genres'] != 'Music']\n",
    "mdf = mdf[mdf['genres'] != 'Biography']\n",
    "print(mdf.shape)\n",
    "mdf.head(2)"
   ]
  },
  {
   "cell_type": "markdown",
   "metadata": {},
   "source": [
    "### Remove all movies under 40 minutes"
   ]
  },
  {
   "cell_type": "code",
   "execution_count": 8,
   "metadata": {},
   "outputs": [
    {
     "name": "stdout",
     "output_type": "stream",
     "text": [
      "(240833, 6)\n"
     ]
    },
    {
     "data": {
      "text/html": [
       "<div>\n",
       "<style scoped>\n",
       "    .dataframe tbody tr th:only-of-type {\n",
       "        vertical-align: middle;\n",
       "    }\n",
       "\n",
       "    .dataframe tbody tr th {\n",
       "        vertical-align: top;\n",
       "    }\n",
       "\n",
       "    .dataframe thead th {\n",
       "        text-align: right;\n",
       "    }\n",
       "</style>\n",
       "<table border=\"1\" class=\"dataframe\">\n",
       "  <thead>\n",
       "    <tr style=\"text-align: right;\">\n",
       "      <th></th>\n",
       "      <th>tconst</th>\n",
       "      <th>primaryTitle</th>\n",
       "      <th>isAdult</th>\n",
       "      <th>startYear</th>\n",
       "      <th>runtimeMinutes</th>\n",
       "      <th>genres</th>\n",
       "    </tr>\n",
       "  </thead>\n",
       "  <tbody>\n",
       "    <tr>\n",
       "      <th>8</th>\n",
       "      <td>tt0000009</td>\n",
       "      <td>Miss Jerry</td>\n",
       "      <td>0</td>\n",
       "      <td>1894</td>\n",
       "      <td>45</td>\n",
       "      <td>Romance</td>\n",
       "    </tr>\n",
       "    <tr>\n",
       "      <th>571</th>\n",
       "      <td>tt0000574</td>\n",
       "      <td>The Story of the Kelly Gang</td>\n",
       "      <td>0</td>\n",
       "      <td>1906</td>\n",
       "      <td>70</td>\n",
       "      <td>Biography,Crime,Drama</td>\n",
       "    </tr>\n",
       "  </tbody>\n",
       "</table>\n",
       "</div>"
      ],
      "text/plain": [
       "        tconst                 primaryTitle  isAdult startYear  \\\n",
       "8    tt0000009                   Miss Jerry        0      1894   \n",
       "571  tt0000574  The Story of the Kelly Gang        0      1906   \n",
       "\n",
       "     runtimeMinutes                 genres  \n",
       "8                45                Romance  \n",
       "571              70  Biography,Crime,Drama  "
      ]
     },
     "execution_count": 8,
     "metadata": {},
     "output_type": "execute_result"
    }
   ],
   "source": [
    "mdf = mdf[mdf['runtimeMinutes'] != '\\\\N']\n",
    "mdf['runtimeMinutes'] = pd.to_numeric(mdf['runtimeMinutes'])\n",
    "mdf = mdf[mdf['runtimeMinutes'] >= 40]\n",
    "print(mdf.shape)\n",
    "mdf.head(2)"
   ]
  },
  {
   "cell_type": "markdown",
   "metadata": {},
   "source": [
    "### Remove adult films\n",
    "Adult films are set to 1, therefore I remove them by only keeping the 0's"
   ]
  },
  {
   "cell_type": "code",
   "execution_count": 9,
   "metadata": {},
   "outputs": [
    {
     "name": "stdout",
     "output_type": "stream",
     "text": [
      "(235482, 5)\n"
     ]
    },
    {
     "data": {
      "text/html": [
       "<div>\n",
       "<style scoped>\n",
       "    .dataframe tbody tr th:only-of-type {\n",
       "        vertical-align: middle;\n",
       "    }\n",
       "\n",
       "    .dataframe tbody tr th {\n",
       "        vertical-align: top;\n",
       "    }\n",
       "\n",
       "    .dataframe thead th {\n",
       "        text-align: right;\n",
       "    }\n",
       "</style>\n",
       "<table border=\"1\" class=\"dataframe\">\n",
       "  <thead>\n",
       "    <tr style=\"text-align: right;\">\n",
       "      <th></th>\n",
       "      <th>tconst</th>\n",
       "      <th>primaryTitle</th>\n",
       "      <th>startYear</th>\n",
       "      <th>runtimeMinutes</th>\n",
       "      <th>genres</th>\n",
       "    </tr>\n",
       "  </thead>\n",
       "  <tbody>\n",
       "    <tr>\n",
       "      <th>8</th>\n",
       "      <td>tt0000009</td>\n",
       "      <td>Miss Jerry</td>\n",
       "      <td>1894</td>\n",
       "      <td>45</td>\n",
       "      <td>Romance</td>\n",
       "    </tr>\n",
       "    <tr>\n",
       "      <th>571</th>\n",
       "      <td>tt0000574</td>\n",
       "      <td>The Story of the Kelly Gang</td>\n",
       "      <td>1906</td>\n",
       "      <td>70</td>\n",
       "      <td>Biography,Crime,Drama</td>\n",
       "    </tr>\n",
       "  </tbody>\n",
       "</table>\n",
       "</div>"
      ],
      "text/plain": [
       "        tconst                 primaryTitle startYear  runtimeMinutes  \\\n",
       "8    tt0000009                   Miss Jerry      1894              45   \n",
       "571  tt0000574  The Story of the Kelly Gang      1906              70   \n",
       "\n",
       "                    genres  \n",
       "8                  Romance  \n",
       "571  Biography,Crime,Drama  "
      ]
     },
     "execution_count": 9,
     "metadata": {},
     "output_type": "execute_result"
    }
   ],
   "source": [
    "mdf = mdf[mdf['isAdult'] == 0]\n",
    "mdf = mdf.drop(columns=['isAdult'])\n",
    "print(mdf.shape)\n",
    "mdf.head(2)"
   ]
  },
  {
   "cell_type": "markdown",
   "metadata": {},
   "source": [
    "### Count 'startYear' by decade to ensure that a given date range had enough samples to even use"
   ]
  },
  {
   "cell_type": "code",
   "execution_count": 10,
   "metadata": {},
   "outputs": [
    {
     "data": {
      "text/plain": [
       "decade\n",
       "1890        1\n",
       "1900        7\n",
       "1910     2103\n",
       "1920     5151\n",
       "1930    10574\n",
       "1940     9242\n",
       "1950    13173\n",
       "1960    17066\n",
       "1970    19308\n",
       "1980    20432\n",
       "1990    21152\n",
       "2000    36705\n",
       "2010    74439\n",
       "2020     2354\n",
       "Name: startYear, dtype: int64"
      ]
     },
     "execution_count": 10,
     "metadata": {},
     "output_type": "execute_result"
    }
   ],
   "source": [
    "mdf = mdf[mdf['startYear'] != '\\\\N']\n",
    "mdf['startYear'] = pd.to_numeric(mdf['startYear'])\n",
    "\n",
    "yr_chk = mdf.copy()\n",
    "yr_chk = yr_chk.drop(columns = ['tconst', 'primaryTitle',\n",
    "                                'runtimeMinutes', 'genres'])\n",
    "\n",
    "decade = 10 * (yr_chk['startYear'] // 10)\n",
    "yr_chk['decade'] = decade\n",
    "yr_chk.groupby('decade')['startYear'].count()"
   ]
  },
  {
   "cell_type": "markdown",
   "metadata": {},
   "source": [
    "### The decade count above shows that 1900 only has 8 titles, therefore it needs to be removed. Also, 2020 only has 1 year of data so far, therefore years > 2020 need to be go as well. "
   ]
  },
  {
   "cell_type": "code",
   "execution_count": 11,
   "metadata": {},
   "outputs": [
    {
     "name": "stdout",
     "output_type": "stream",
     "text": [
      "(231580, 5)\n"
     ]
    },
    {
     "data": {
      "text/html": [
       "<div>\n",
       "<style scoped>\n",
       "    .dataframe tbody tr th:only-of-type {\n",
       "        vertical-align: middle;\n",
       "    }\n",
       "\n",
       "    .dataframe tbody tr th {\n",
       "        vertical-align: top;\n",
       "    }\n",
       "\n",
       "    .dataframe thead th {\n",
       "        text-align: right;\n",
       "    }\n",
       "</style>\n",
       "<table border=\"1\" class=\"dataframe\">\n",
       "  <thead>\n",
       "    <tr style=\"text-align: right;\">\n",
       "      <th></th>\n",
       "      <th>tconst</th>\n",
       "      <th>primaryTitle</th>\n",
       "      <th>startYear</th>\n",
       "      <th>runtimeMinutes</th>\n",
       "      <th>genres</th>\n",
       "    </tr>\n",
       "  </thead>\n",
       "  <tbody>\n",
       "    <tr>\n",
       "      <th>1173</th>\n",
       "      <td>tt0001184</td>\n",
       "      <td>Don Juan de Serrallonga</td>\n",
       "      <td>1910</td>\n",
       "      <td>58</td>\n",
       "      <td>Adventure,Drama</td>\n",
       "    </tr>\n",
       "    <tr>\n",
       "      <th>1247</th>\n",
       "      <td>tt0001258</td>\n",
       "      <td>The White Slave Trade</td>\n",
       "      <td>1910</td>\n",
       "      <td>45</td>\n",
       "      <td>Drama</td>\n",
       "    </tr>\n",
       "  </tbody>\n",
       "</table>\n",
       "</div>"
      ],
      "text/plain": [
       "         tconst             primaryTitle  startYear  runtimeMinutes  \\\n",
       "1173  tt0001184  Don Juan de Serrallonga       1910              58   \n",
       "1247  tt0001258    The White Slave Trade       1910              45   \n",
       "\n",
       "               genres  \n",
       "1173  Adventure,Drama  \n",
       "1247            Drama  "
      ]
     },
     "execution_count": 11,
     "metadata": {},
     "output_type": "execute_result"
    }
   ],
   "source": [
    "mdf = mdf[(mdf['startYear'] >= 1910) & (mdf['startYear'] <= 2020)]\n",
    "print(mdf.shape)\n",
    "mdf.head(2)"
   ]
  },
  {
   "cell_type": "code",
   "execution_count": 12,
   "metadata": {},
   "outputs": [
    {
     "data": {
      "text/plain": [
       "decade\n",
       "1910     2103\n",
       "1920     5151\n",
       "1930    10574\n",
       "1940     9242\n",
       "1950    13173\n",
       "1960    17066\n",
       "1970    19308\n",
       "1980    20432\n",
       "1990    21152\n",
       "2000    36705\n",
       "2010    74439\n",
       "2020     2235\n",
       "Name: startYear, dtype: int64"
      ]
     },
     "execution_count": 12,
     "metadata": {},
     "output_type": "execute_result"
    }
   ],
   "source": [
    "yr_chk = mdf.copy()\n",
    "yr_chk = yr_chk.drop(columns = ['tconst', 'primaryTitle',\n",
    "                                'runtimeMinutes', 'genres'])\n",
    "\n",
    "decade = 10 * (yr_chk['startYear'] // 10)\n",
    "yr_chk['decade'] = decade\n",
    "yr_chk.groupby('decade')['startYear'].count()"
   ]
  },
  {
   "cell_type": "code",
   "execution_count": 13,
   "metadata": {},
   "outputs": [
    {
     "data": {
      "text/html": [
       "<div>\n",
       "<style scoped>\n",
       "    .dataframe tbody tr th:only-of-type {\n",
       "        vertical-align: middle;\n",
       "    }\n",
       "\n",
       "    .dataframe tbody tr th {\n",
       "        vertical-align: top;\n",
       "    }\n",
       "\n",
       "    .dataframe thead th {\n",
       "        text-align: right;\n",
       "    }\n",
       "</style>\n",
       "<table border=\"1\" class=\"dataframe\">\n",
       "  <thead>\n",
       "    <tr style=\"text-align: right;\">\n",
       "      <th></th>\n",
       "      <th>tconst</th>\n",
       "      <th>primaryTitle</th>\n",
       "      <th>startYear</th>\n",
       "      <th>runtimeMinutes</th>\n",
       "      <th>genres</th>\n",
       "    </tr>\n",
       "  </thead>\n",
       "  <tbody>\n",
       "  </tbody>\n",
       "</table>\n",
       "</div>"
      ],
      "text/plain": [
       "Empty DataFrame\n",
       "Columns: [tconst, primaryTitle, startYear, runtimeMinutes, genres]\n",
       "Index: []"
      ]
     },
     "execution_count": 13,
     "metadata": {},
     "output_type": "execute_result"
    }
   ],
   "source": [
    "mdf[mdf.isna().any(axis=1)]"
   ]
  },
  {
   "cell_type": "markdown",
   "metadata": {},
   "source": [
    "### Convert genre column to only contain one ideal genre per movie\n",
    "The 'genres' colummn often has more than one genre per movie, and I really just want one genre that best fits a given movie. "
   ]
  },
  {
   "cell_type": "code",
   "execution_count": 14,
   "metadata": {},
   "outputs": [],
   "source": [
    "mdf['genres'] = mdf['genres'].str.replace(' ', '')\n",
    "mdf['genres'] = mdf['genres'].str.split(',')\n",
    "mdf['genres'] = mdf['genres'].replace(' ', '') "
   ]
  },
  {
   "cell_type": "code",
   "execution_count": 15,
   "metadata": {},
   "outputs": [],
   "source": [
    "# Perfom logic to convert genres properly\n",
    "genre_lst = mdf['genres'].tolist()\n",
    "def convert_genre(lst):\n",
    "    good_genres = ['Comedy', 'Drama', 'Action']\n",
    "    \n",
    "    for i, l in enumerate(lst):\n",
    "        if 'Family' in l:\n",
    "            lst[i] = 'Family'\n",
    "        elif 'Horror' in l and 'Comedy' not in l:\n",
    "            lst[i] = 'Horror'   \n",
    "        elif l[0] in good_genres: \n",
    "            lst[i] = l[0]\n",
    "        elif len(l) > 1 and l[1] in good_genres:\n",
    "            lst[i] = l[1]\n",
    "        elif len(l) > 2 and l[2] in good_genres:\n",
    "            lst[i] = l[2]\n",
    "        elif 'Adventure' in l:\n",
    "            lst[i] = 'Action'\n",
    "        else:\n",
    "            lst[i] = 'Drama'\n",
    "    return(lst)\n",
    "\n",
    "mdf['genres'] = convert_genre(genre_lst)"
   ]
  },
  {
   "cell_type": "code",
   "execution_count": 16,
   "metadata": {},
   "outputs": [
    {
     "data": {
      "text/html": [
       "<div>\n",
       "<style scoped>\n",
       "    .dataframe tbody tr th:only-of-type {\n",
       "        vertical-align: middle;\n",
       "    }\n",
       "\n",
       "    .dataframe tbody tr th {\n",
       "        vertical-align: top;\n",
       "    }\n",
       "\n",
       "    .dataframe thead th {\n",
       "        text-align: right;\n",
       "    }\n",
       "</style>\n",
       "<table border=\"1\" class=\"dataframe\">\n",
       "  <thead>\n",
       "    <tr style=\"text-align: right;\">\n",
       "      <th></th>\n",
       "      <th>tconst</th>\n",
       "      <th>primaryTitle</th>\n",
       "      <th>startYear</th>\n",
       "      <th>runtimeMinutes</th>\n",
       "      <th>genres</th>\n",
       "    </tr>\n",
       "  </thead>\n",
       "  <tbody>\n",
       "    <tr>\n",
       "      <th>1173</th>\n",
       "      <td>tt0001184</td>\n",
       "      <td>Don Juan de Serrallonga</td>\n",
       "      <td>1910</td>\n",
       "      <td>58</td>\n",
       "      <td>Drama</td>\n",
       "    </tr>\n",
       "    <tr>\n",
       "      <th>1247</th>\n",
       "      <td>tt0001258</td>\n",
       "      <td>The White Slave Trade</td>\n",
       "      <td>1910</td>\n",
       "      <td>45</td>\n",
       "      <td>Drama</td>\n",
       "    </tr>\n",
       "  </tbody>\n",
       "</table>\n",
       "</div>"
      ],
      "text/plain": [
       "         tconst             primaryTitle  startYear  runtimeMinutes genres\n",
       "1173  tt0001184  Don Juan de Serrallonga       1910              58  Drama\n",
       "1247  tt0001258    The White Slave Trade       1910              45  Drama"
      ]
     },
     "execution_count": 16,
     "metadata": {},
     "output_type": "execute_result"
    }
   ],
   "source": [
    "mdf.head(2)"
   ]
  },
  {
   "cell_type": "markdown",
   "metadata": {},
   "source": [
    "### Rename columns and save data to csv file "
   ]
  },
  {
   "cell_type": "code",
   "execution_count": 17,
   "metadata": {},
   "outputs": [],
   "source": [
    "mdf = mdf.rename(columns = {'primaryTitle':'title', 'startYear' : 'year',\n",
    "                            'runtimeMinutes': 'runtime', 'genres': 'genre'})\n",
    "mdf.to_csv('data/movies_1.csv', index=False)"
   ]
  },
  {
   "cell_type": "markdown",
   "metadata": {},
   "source": [
    "---\n",
    "## 2b. Merging IMDB ratings with movie data\n",
    "Note: The original ratings file was called 'title.ratings.tsv.gz', I renamed it 'ratings.tsv.gz'"
   ]
  },
  {
   "cell_type": "code",
   "execution_count": 18,
   "metadata": {},
   "outputs": [],
   "source": [
    "rdf = pd.read_table('data/ratings.tsv.gz')\n",
    "mdf = pd.read_csv('data/movies_1.csv')"
   ]
  },
  {
   "cell_type": "code",
   "execution_count": 19,
   "metadata": {},
   "outputs": [
    {
     "data": {
      "text/html": [
       "<div>\n",
       "<style scoped>\n",
       "    .dataframe tbody tr th:only-of-type {\n",
       "        vertical-align: middle;\n",
       "    }\n",
       "\n",
       "    .dataframe tbody tr th {\n",
       "        vertical-align: top;\n",
       "    }\n",
       "\n",
       "    .dataframe thead th {\n",
       "        text-align: right;\n",
       "    }\n",
       "</style>\n",
       "<table border=\"1\" class=\"dataframe\">\n",
       "  <thead>\n",
       "    <tr style=\"text-align: right;\">\n",
       "      <th></th>\n",
       "      <th>tconst</th>\n",
       "      <th>averageRating</th>\n",
       "      <th>numVotes</th>\n",
       "    </tr>\n",
       "  </thead>\n",
       "  <tbody>\n",
       "    <tr>\n",
       "      <th>0</th>\n",
       "      <td>tt0000001</td>\n",
       "      <td>5.6</td>\n",
       "      <td>1592</td>\n",
       "    </tr>\n",
       "    <tr>\n",
       "      <th>1</th>\n",
       "      <td>tt0000002</td>\n",
       "      <td>6.1</td>\n",
       "      <td>194</td>\n",
       "    </tr>\n",
       "  </tbody>\n",
       "</table>\n",
       "</div>"
      ],
      "text/plain": [
       "      tconst  averageRating  numVotes\n",
       "0  tt0000001            5.6      1592\n",
       "1  tt0000002            6.1       194"
      ]
     },
     "execution_count": 19,
     "metadata": {},
     "output_type": "execute_result"
    }
   ],
   "source": [
    "rdf.head(2)"
   ]
  },
  {
   "cell_type": "code",
   "execution_count": 20,
   "metadata": {},
   "outputs": [
    {
     "name": "stdout",
     "output_type": "stream",
     "text": [
      "(231580, 7)\n"
     ]
    },
    {
     "data": {
      "text/html": [
       "<div>\n",
       "<style scoped>\n",
       "    .dataframe tbody tr th:only-of-type {\n",
       "        vertical-align: middle;\n",
       "    }\n",
       "\n",
       "    .dataframe tbody tr th {\n",
       "        vertical-align: top;\n",
       "    }\n",
       "\n",
       "    .dataframe thead th {\n",
       "        text-align: right;\n",
       "    }\n",
       "</style>\n",
       "<table border=\"1\" class=\"dataframe\">\n",
       "  <thead>\n",
       "    <tr style=\"text-align: right;\">\n",
       "      <th></th>\n",
       "      <th>tconst</th>\n",
       "      <th>title</th>\n",
       "      <th>year</th>\n",
       "      <th>runtime</th>\n",
       "      <th>genre</th>\n",
       "      <th>averageRating</th>\n",
       "      <th>numVotes</th>\n",
       "    </tr>\n",
       "  </thead>\n",
       "  <tbody>\n",
       "    <tr>\n",
       "      <th>0</th>\n",
       "      <td>tt0001184</td>\n",
       "      <td>Don Juan de Serrallonga</td>\n",
       "      <td>1910</td>\n",
       "      <td>58</td>\n",
       "      <td>Drama</td>\n",
       "      <td>3.1</td>\n",
       "      <td>11.0</td>\n",
       "    </tr>\n",
       "    <tr>\n",
       "      <th>1</th>\n",
       "      <td>tt0001258</td>\n",
       "      <td>The White Slave Trade</td>\n",
       "      <td>1910</td>\n",
       "      <td>45</td>\n",
       "      <td>Drama</td>\n",
       "      <td>5.7</td>\n",
       "      <td>79.0</td>\n",
       "    </tr>\n",
       "  </tbody>\n",
       "</table>\n",
       "</div>"
      ],
      "text/plain": [
       "      tconst                    title  year  runtime  genre  averageRating  \\\n",
       "0  tt0001184  Don Juan de Serrallonga  1910       58  Drama            3.1   \n",
       "1  tt0001258    The White Slave Trade  1910       45  Drama            5.7   \n",
       "\n",
       "   numVotes  \n",
       "0      11.0  \n",
       "1      79.0  "
      ]
     },
     "execution_count": 20,
     "metadata": {},
     "output_type": "execute_result"
    }
   ],
   "source": [
    "mdf = mdf.merge(rdf, on='tconst', how='left')\n",
    "print(mdf.shape)\n",
    "mdf.head(2)"
   ]
  },
  {
   "cell_type": "markdown",
   "metadata": {},
   "source": [
    "### Remove films with no IMDB score"
   ]
  },
  {
   "cell_type": "code",
   "execution_count": 21,
   "metadata": {},
   "outputs": [
    {
     "name": "stdout",
     "output_type": "stream",
     "text": [
      "(177681, 7)\n"
     ]
    },
    {
     "data": {
      "text/html": [
       "<div>\n",
       "<style scoped>\n",
       "    .dataframe tbody tr th:only-of-type {\n",
       "        vertical-align: middle;\n",
       "    }\n",
       "\n",
       "    .dataframe tbody tr th {\n",
       "        vertical-align: top;\n",
       "    }\n",
       "\n",
       "    .dataframe thead th {\n",
       "        text-align: right;\n",
       "    }\n",
       "</style>\n",
       "<table border=\"1\" class=\"dataframe\">\n",
       "  <thead>\n",
       "    <tr style=\"text-align: right;\">\n",
       "      <th></th>\n",
       "      <th>tconst</th>\n",
       "      <th>title</th>\n",
       "      <th>year</th>\n",
       "      <th>runtime</th>\n",
       "      <th>genre</th>\n",
       "      <th>averageRating</th>\n",
       "      <th>numVotes</th>\n",
       "    </tr>\n",
       "  </thead>\n",
       "  <tbody>\n",
       "    <tr>\n",
       "      <th>0</th>\n",
       "      <td>tt0001184</td>\n",
       "      <td>Don Juan de Serrallonga</td>\n",
       "      <td>1910</td>\n",
       "      <td>58</td>\n",
       "      <td>Drama</td>\n",
       "      <td>3.1</td>\n",
       "      <td>11.0</td>\n",
       "    </tr>\n",
       "    <tr>\n",
       "      <th>1</th>\n",
       "      <td>tt0001258</td>\n",
       "      <td>The White Slave Trade</td>\n",
       "      <td>1910</td>\n",
       "      <td>45</td>\n",
       "      <td>Drama</td>\n",
       "      <td>5.7</td>\n",
       "      <td>79.0</td>\n",
       "    </tr>\n",
       "  </tbody>\n",
       "</table>\n",
       "</div>"
      ],
      "text/plain": [
       "      tconst                    title  year  runtime  genre  averageRating  \\\n",
       "0  tt0001184  Don Juan de Serrallonga  1910       58  Drama            3.1   \n",
       "1  tt0001258    The White Slave Trade  1910       45  Drama            5.7   \n",
       "\n",
       "   numVotes  \n",
       "0      11.0  \n",
       "1      79.0  "
      ]
     },
     "execution_count": 21,
     "metadata": {},
     "output_type": "execute_result"
    }
   ],
   "source": [
    "mdf = mdf.dropna(subset=['averageRating'])\n",
    "print(mdf.shape)\n",
    "mdf.head(2)"
   ]
  },
  {
   "cell_type": "markdown",
   "metadata": {},
   "source": [
    "### Rename columns and save data to csv file "
   ]
  },
  {
   "cell_type": "code",
   "execution_count": 22,
   "metadata": {},
   "outputs": [],
   "source": [
    "mdf = mdf.rename(columns = {'averageRating':'imdb_score', 'numVotes' : 'num_scores'})\n",
    "mdf.to_csv('data/movies_2.csv', index=False)"
   ]
  },
  {
   "cell_type": "markdown",
   "metadata": {},
   "source": [
    "---\n",
    "## 2c. Merging directors id's with movie data\n",
    "Note: the original file with directors was called 'title.crew.tsv.gz', I renamed it to 'directors.tsv.gz'"
   ]
  },
  {
   "cell_type": "code",
   "execution_count": 2,
   "metadata": {},
   "outputs": [],
   "source": [
    "mdf = pd.read_csv('data/movies_2.csv')\n",
    "dir_df =  pd.read_table('data/directors.tsv.gz')"
   ]
  },
  {
   "cell_type": "code",
   "execution_count": 24,
   "metadata": {},
   "outputs": [
    {
     "name": "stdout",
     "output_type": "stream",
     "text": [
      "(177681, 7)\n",
      "(6691705, 3)\n"
     ]
    }
   ],
   "source": [
    "print(mdf.shape)\n",
    "print(dir_df.shape)"
   ]
  },
  {
   "cell_type": "code",
   "execution_count": 25,
   "metadata": {},
   "outputs": [
    {
     "data": {
      "text/html": [
       "<div>\n",
       "<style scoped>\n",
       "    .dataframe tbody tr th:only-of-type {\n",
       "        vertical-align: middle;\n",
       "    }\n",
       "\n",
       "    .dataframe tbody tr th {\n",
       "        vertical-align: top;\n",
       "    }\n",
       "\n",
       "    .dataframe thead th {\n",
       "        text-align: right;\n",
       "    }\n",
       "</style>\n",
       "<table border=\"1\" class=\"dataframe\">\n",
       "  <thead>\n",
       "    <tr style=\"text-align: right;\">\n",
       "      <th></th>\n",
       "      <th>tconst</th>\n",
       "      <th>directors</th>\n",
       "      <th>writers</th>\n",
       "    </tr>\n",
       "  </thead>\n",
       "  <tbody>\n",
       "    <tr>\n",
       "      <th>0</th>\n",
       "      <td>tt0000001</td>\n",
       "      <td>nm0005690</td>\n",
       "      <td>\\N</td>\n",
       "    </tr>\n",
       "    <tr>\n",
       "      <th>1</th>\n",
       "      <td>tt0000002</td>\n",
       "      <td>nm0721526</td>\n",
       "      <td>\\N</td>\n",
       "    </tr>\n",
       "  </tbody>\n",
       "</table>\n",
       "</div>"
      ],
      "text/plain": [
       "      tconst  directors writers\n",
       "0  tt0000001  nm0005690      \\N\n",
       "1  tt0000002  nm0721526      \\N"
      ]
     },
     "execution_count": 25,
     "metadata": {},
     "output_type": "execute_result"
    }
   ],
   "source": [
    "dir_df.head(2)"
   ]
  },
  {
   "cell_type": "code",
   "execution_count": 26,
   "metadata": {},
   "outputs": [
    {
     "name": "stdout",
     "output_type": "stream",
     "text": [
      "(177095, 8)\n"
     ]
    },
    {
     "data": {
      "text/html": [
       "<div>\n",
       "<style scoped>\n",
       "    .dataframe tbody tr th:only-of-type {\n",
       "        vertical-align: middle;\n",
       "    }\n",
       "\n",
       "    .dataframe tbody tr th {\n",
       "        vertical-align: top;\n",
       "    }\n",
       "\n",
       "    .dataframe thead th {\n",
       "        text-align: right;\n",
       "    }\n",
       "</style>\n",
       "<table border=\"1\" class=\"dataframe\">\n",
       "  <thead>\n",
       "    <tr style=\"text-align: right;\">\n",
       "      <th></th>\n",
       "      <th>tconst</th>\n",
       "      <th>title</th>\n",
       "      <th>year</th>\n",
       "      <th>runtime</th>\n",
       "      <th>genre</th>\n",
       "      <th>imdb_score</th>\n",
       "      <th>num_scores</th>\n",
       "      <th>directors</th>\n",
       "    </tr>\n",
       "  </thead>\n",
       "  <tbody>\n",
       "    <tr>\n",
       "      <th>0</th>\n",
       "      <td>tt0001184</td>\n",
       "      <td>Don Juan de Serrallonga</td>\n",
       "      <td>1910</td>\n",
       "      <td>58</td>\n",
       "      <td>Drama</td>\n",
       "      <td>3.1</td>\n",
       "      <td>11.0</td>\n",
       "      <td>nm0550220,nm0063413</td>\n",
       "    </tr>\n",
       "    <tr>\n",
       "      <th>1</th>\n",
       "      <td>tt0001258</td>\n",
       "      <td>The White Slave Trade</td>\n",
       "      <td>1910</td>\n",
       "      <td>45</td>\n",
       "      <td>Drama</td>\n",
       "      <td>5.7</td>\n",
       "      <td>79.0</td>\n",
       "      <td>nm0088881</td>\n",
       "    </tr>\n",
       "  </tbody>\n",
       "</table>\n",
       "</div>"
      ],
      "text/plain": [
       "      tconst                    title  year  runtime  genre  imdb_score  \\\n",
       "0  tt0001184  Don Juan de Serrallonga  1910       58  Drama         3.1   \n",
       "1  tt0001258    The White Slave Trade  1910       45  Drama         5.7   \n",
       "\n",
       "   num_scores            directors  \n",
       "0        11.0  nm0550220,nm0063413  \n",
       "1        79.0            nm0088881  "
      ]
     },
     "execution_count": 26,
     "metadata": {},
     "output_type": "execute_result"
    }
   ],
   "source": [
    "dir_df = dir_df.drop(columns=['writers'])\n",
    "mdf = mdf.merge(dir_df, on='tconst', how='left')\n",
    "mdf = mdf[mdf['directors'] != '\\\\N']\n",
    "print(mdf.shape)\n",
    "mdf.head(2)"
   ]
  },
  {
   "cell_type": "markdown",
   "metadata": {},
   "source": [
    "### Converting director id's to list then keeping only the first entry, as this is usually the main director"
   ]
  },
  {
   "cell_type": "code",
   "execution_count": 27,
   "metadata": {},
   "outputs": [
    {
     "name": "stdout",
     "output_type": "stream",
     "text": [
      "(177095, 8)\n"
     ]
    },
    {
     "data": {
      "text/html": [
       "<div>\n",
       "<style scoped>\n",
       "    .dataframe tbody tr th:only-of-type {\n",
       "        vertical-align: middle;\n",
       "    }\n",
       "\n",
       "    .dataframe tbody tr th {\n",
       "        vertical-align: top;\n",
       "    }\n",
       "\n",
       "    .dataframe thead th {\n",
       "        text-align: right;\n",
       "    }\n",
       "</style>\n",
       "<table border=\"1\" class=\"dataframe\">\n",
       "  <thead>\n",
       "    <tr style=\"text-align: right;\">\n",
       "      <th></th>\n",
       "      <th>tconst</th>\n",
       "      <th>title</th>\n",
       "      <th>year</th>\n",
       "      <th>runtime</th>\n",
       "      <th>genre</th>\n",
       "      <th>imdb_score</th>\n",
       "      <th>num_scores</th>\n",
       "      <th>directors</th>\n",
       "    </tr>\n",
       "  </thead>\n",
       "  <tbody>\n",
       "    <tr>\n",
       "      <th>0</th>\n",
       "      <td>tt0001184</td>\n",
       "      <td>Don Juan de Serrallonga</td>\n",
       "      <td>1910</td>\n",
       "      <td>58</td>\n",
       "      <td>Drama</td>\n",
       "      <td>3.1</td>\n",
       "      <td>11.0</td>\n",
       "      <td>nm0550220</td>\n",
       "    </tr>\n",
       "    <tr>\n",
       "      <th>1</th>\n",
       "      <td>tt0001258</td>\n",
       "      <td>The White Slave Trade</td>\n",
       "      <td>1910</td>\n",
       "      <td>45</td>\n",
       "      <td>Drama</td>\n",
       "      <td>5.7</td>\n",
       "      <td>79.0</td>\n",
       "      <td>nm0088881</td>\n",
       "    </tr>\n",
       "  </tbody>\n",
       "</table>\n",
       "</div>"
      ],
      "text/plain": [
       "      tconst                    title  year  runtime  genre  imdb_score  \\\n",
       "0  tt0001184  Don Juan de Serrallonga  1910       58  Drama         3.1   \n",
       "1  tt0001258    The White Slave Trade  1910       45  Drama         5.7   \n",
       "\n",
       "   num_scores  directors  \n",
       "0        11.0  nm0550220  \n",
       "1        79.0  nm0088881  "
      ]
     },
     "execution_count": 27,
     "metadata": {},
     "output_type": "execute_result"
    }
   ],
   "source": [
    "# Convert 'directors to list\n",
    "mdf['directors'] = mdf['directors'].str.replace(' ', '')\n",
    "mdf['directors'] = mdf['directors'].str.split(',')\n",
    "mdf['directors'] = mdf['directors'].replace(' ', '')\n",
    "mdf['directors'] = mdf['directors'].str[0]\n",
    "print(mdf.shape)\n",
    "mdf.head(2)"
   ]
  },
  {
   "cell_type": "markdown",
   "metadata": {},
   "source": [
    "### Save data to csv file"
   ]
  },
  {
   "cell_type": "code",
   "execution_count": 28,
   "metadata": {},
   "outputs": [],
   "source": [
    "mdf.to_csv('data/movies_3.csv', index=False)"
   ]
  },
  {
   "cell_type": "markdown",
   "metadata": {},
   "source": [
    "## 2d. Merging directors names with movie data\n",
    "Note: the original name file was called 'name.basics.tsv.gz', I renamed this to 'names.tsv.gz'"
   ]
  },
  {
   "cell_type": "code",
   "execution_count": 2,
   "metadata": {},
   "outputs": [],
   "source": [
    "ndf = pd.read_table('data/names.tsv.gz')\n",
    "mdf = pd.read_csv('data/movies_3.csv')"
   ]
  },
  {
   "cell_type": "code",
   "execution_count": 3,
   "metadata": {},
   "outputs": [
    {
     "name": "stdout",
     "output_type": "stream",
     "text": [
      "(9997980, 6)\n",
      "(177095, 8)\n"
     ]
    },
    {
     "data": {
      "text/html": [
       "<div>\n",
       "<style scoped>\n",
       "    .dataframe tbody tr th:only-of-type {\n",
       "        vertical-align: middle;\n",
       "    }\n",
       "\n",
       "    .dataframe tbody tr th {\n",
       "        vertical-align: top;\n",
       "    }\n",
       "\n",
       "    .dataframe thead th {\n",
       "        text-align: right;\n",
       "    }\n",
       "</style>\n",
       "<table border=\"1\" class=\"dataframe\">\n",
       "  <thead>\n",
       "    <tr style=\"text-align: right;\">\n",
       "      <th></th>\n",
       "      <th>nconst</th>\n",
       "      <th>primaryName</th>\n",
       "      <th>birthYear</th>\n",
       "      <th>deathYear</th>\n",
       "      <th>primaryProfession</th>\n",
       "      <th>knownForTitles</th>\n",
       "    </tr>\n",
       "  </thead>\n",
       "  <tbody>\n",
       "    <tr>\n",
       "      <th>0</th>\n",
       "      <td>nm0000001</td>\n",
       "      <td>Fred Astaire</td>\n",
       "      <td>1899</td>\n",
       "      <td>1987</td>\n",
       "      <td>soundtrack,actor,miscellaneous</td>\n",
       "      <td>tt0043044,tt0072308,tt0053137,tt0050419</td>\n",
       "    </tr>\n",
       "    <tr>\n",
       "      <th>1</th>\n",
       "      <td>nm0000002</td>\n",
       "      <td>Lauren Bacall</td>\n",
       "      <td>1924</td>\n",
       "      <td>2014</td>\n",
       "      <td>actress,soundtrack</td>\n",
       "      <td>tt0038355,tt0037382,tt0117057,tt0071877</td>\n",
       "    </tr>\n",
       "  </tbody>\n",
       "</table>\n",
       "</div>"
      ],
      "text/plain": [
       "      nconst    primaryName birthYear deathYear  \\\n",
       "0  nm0000001   Fred Astaire      1899      1987   \n",
       "1  nm0000002  Lauren Bacall      1924      2014   \n",
       "\n",
       "                primaryProfession                           knownForTitles  \n",
       "0  soundtrack,actor,miscellaneous  tt0043044,tt0072308,tt0053137,tt0050419  \n",
       "1              actress,soundtrack  tt0038355,tt0037382,tt0117057,tt0071877  "
      ]
     },
     "execution_count": 3,
     "metadata": {},
     "output_type": "execute_result"
    }
   ],
   "source": [
    "print(ndf.shape)\n",
    "print(mdf.shape)\n",
    "ndf.head(2)"
   ]
  },
  {
   "cell_type": "code",
   "execution_count": 4,
   "metadata": {},
   "outputs": [
    {
     "data": {
      "text/html": [
       "<div>\n",
       "<style scoped>\n",
       "    .dataframe tbody tr th:only-of-type {\n",
       "        vertical-align: middle;\n",
       "    }\n",
       "\n",
       "    .dataframe tbody tr th {\n",
       "        vertical-align: top;\n",
       "    }\n",
       "\n",
       "    .dataframe thead th {\n",
       "        text-align: right;\n",
       "    }\n",
       "</style>\n",
       "<table border=\"1\" class=\"dataframe\">\n",
       "  <thead>\n",
       "    <tr style=\"text-align: right;\">\n",
       "      <th></th>\n",
       "      <th>nconst</th>\n",
       "      <th>primaryName</th>\n",
       "      <th>deathYear</th>\n",
       "    </tr>\n",
       "  </thead>\n",
       "  <tbody>\n",
       "    <tr>\n",
       "      <th>0</th>\n",
       "      <td>nm0000001</td>\n",
       "      <td>Fred Astaire</td>\n",
       "      <td>1987</td>\n",
       "    </tr>\n",
       "    <tr>\n",
       "      <th>1</th>\n",
       "      <td>nm0000002</td>\n",
       "      <td>Lauren Bacall</td>\n",
       "      <td>2014</td>\n",
       "    </tr>\n",
       "  </tbody>\n",
       "</table>\n",
       "</div>"
      ],
      "text/plain": [
       "      nconst    primaryName deathYear\n",
       "0  nm0000001   Fred Astaire      1987\n",
       "1  nm0000002  Lauren Bacall      2014"
      ]
     },
     "execution_count": 4,
     "metadata": {},
     "output_type": "execute_result"
    }
   ],
   "source": [
    "#ndf = ndf.drop(columns = ['birthYear', 'deathYear', 'primaryProfession', 'knownForTitles'])\n",
    "ndf = ndf.drop(columns = ['birthYear', 'primaryProfession', 'knownForTitles'])\n",
    "ndf.head(2)"
   ]
  },
  {
   "cell_type": "code",
   "execution_count": 5,
   "metadata": {},
   "outputs": [],
   "source": [
    "mdf = mdf.rename(columns={'directors': 'nconst'})\n",
    "mdf = mdf.merge(ndf, on='nconst', how='left')            # Merge dataframes\n",
    "mdf = mdf.drop(columns = ['nconst'])\n",
    "mdf = mdf.rename(columns={'primaryName': 'director', 'deathYear' : 'dir_dth_yr'})\n",
    "\n",
    "mdf['dir_dth_yr'].fillna('9999', inplace = True)\n",
    "mdf['dir_dth_yr'] = mdf['dir_dth_yr'].replace('\\\\N', '9999')"
   ]
  },
  {
   "cell_type": "code",
   "execution_count": 13,
   "metadata": {},
   "outputs": [
    {
     "data": {
      "text/html": [
       "<div>\n",
       "<style scoped>\n",
       "    .dataframe tbody tr th:only-of-type {\n",
       "        vertical-align: middle;\n",
       "    }\n",
       "\n",
       "    .dataframe tbody tr th {\n",
       "        vertical-align: top;\n",
       "    }\n",
       "\n",
       "    .dataframe thead th {\n",
       "        text-align: right;\n",
       "    }\n",
       "</style>\n",
       "<table border=\"1\" class=\"dataframe\">\n",
       "  <thead>\n",
       "    <tr style=\"text-align: right;\">\n",
       "      <th></th>\n",
       "      <th>tconst</th>\n",
       "      <th>title</th>\n",
       "      <th>year</th>\n",
       "      <th>runtime</th>\n",
       "      <th>genre</th>\n",
       "      <th>imdb_score</th>\n",
       "      <th>num_scores</th>\n",
       "      <th>director</th>\n",
       "      <th>dir_dth_yr</th>\n",
       "    </tr>\n",
       "  </thead>\n",
       "  <tbody>\n",
       "    <tr>\n",
       "      <th>0</th>\n",
       "      <td>tt0001184</td>\n",
       "      <td>Don Juan de Serrallonga</td>\n",
       "      <td>1910</td>\n",
       "      <td>58</td>\n",
       "      <td>Drama</td>\n",
       "      <td>3.1</td>\n",
       "      <td>11.0</td>\n",
       "      <td>Alberto Marro</td>\n",
       "      <td>1956</td>\n",
       "    </tr>\n",
       "    <tr>\n",
       "      <th>1</th>\n",
       "      <td>tt0001258</td>\n",
       "      <td>The White Slave Trade</td>\n",
       "      <td>1910</td>\n",
       "      <td>45</td>\n",
       "      <td>Drama</td>\n",
       "      <td>5.7</td>\n",
       "      <td>79.0</td>\n",
       "      <td>August Blom</td>\n",
       "      <td>1947</td>\n",
       "    </tr>\n",
       "    <tr>\n",
       "      <th>2</th>\n",
       "      <td>tt0001498</td>\n",
       "      <td>The Battle of Trafalgar</td>\n",
       "      <td>1911</td>\n",
       "      <td>51</td>\n",
       "      <td>Drama</td>\n",
       "      <td>7.2</td>\n",
       "      <td>5.0</td>\n",
       "      <td>J. Searle Dawley</td>\n",
       "      <td>1949</td>\n",
       "    </tr>\n",
       "    <tr>\n",
       "      <th>3</th>\n",
       "      <td>tt0001790</td>\n",
       "      <td>Les Misérables, Part 1: Jean Valjean</td>\n",
       "      <td>1913</td>\n",
       "      <td>60</td>\n",
       "      <td>Drama</td>\n",
       "      <td>5.8</td>\n",
       "      <td>21.0</td>\n",
       "      <td>Albert Capellani</td>\n",
       "      <td>1931</td>\n",
       "    </tr>\n",
       "    <tr>\n",
       "      <th>4</th>\n",
       "      <td>tt0001812</td>\n",
       "      <td>Oedipus Rex</td>\n",
       "      <td>1911</td>\n",
       "      <td>56</td>\n",
       "      <td>Drama</td>\n",
       "      <td>5.8</td>\n",
       "      <td>6.0</td>\n",
       "      <td>Theo Frenkel</td>\n",
       "      <td>1956</td>\n",
       "    </tr>\n",
       "    <tr>\n",
       "      <th>5</th>\n",
       "      <td>tt0001892</td>\n",
       "      <td>Den sorte drøm</td>\n",
       "      <td>1911</td>\n",
       "      <td>53</td>\n",
       "      <td>Drama</td>\n",
       "      <td>5.9</td>\n",
       "      <td>179.0</td>\n",
       "      <td>Urban Gad</td>\n",
       "      <td>1947</td>\n",
       "    </tr>\n",
       "    <tr>\n",
       "      <th>6</th>\n",
       "      <td>tt0001911</td>\n",
       "      <td>Nell Gwynne</td>\n",
       "      <td>1911</td>\n",
       "      <td>50</td>\n",
       "      <td>Drama</td>\n",
       "      <td>4.1</td>\n",
       "      <td>7.0</td>\n",
       "      <td>Raymond Longford</td>\n",
       "      <td>1959</td>\n",
       "    </tr>\n",
       "    <tr>\n",
       "      <th>7</th>\n",
       "      <td>tt0001964</td>\n",
       "      <td>The Traitress</td>\n",
       "      <td>1911</td>\n",
       "      <td>48</td>\n",
       "      <td>Drama</td>\n",
       "      <td>6.1</td>\n",
       "      <td>51.0</td>\n",
       "      <td>Urban Gad</td>\n",
       "      <td>1947</td>\n",
       "    </tr>\n",
       "    <tr>\n",
       "      <th>8</th>\n",
       "      <td>tt0002026</td>\n",
       "      <td>Anny - Story of a Prostitute</td>\n",
       "      <td>1912</td>\n",
       "      <td>68</td>\n",
       "      <td>Drama</td>\n",
       "      <td>4.0</td>\n",
       "      <td>7.0</td>\n",
       "      <td>Adam Eriksen</td>\n",
       "      <td>9999</td>\n",
       "    </tr>\n",
       "    <tr>\n",
       "      <th>9</th>\n",
       "      <td>tt0002101</td>\n",
       "      <td>Cleopatra</td>\n",
       "      <td>1912</td>\n",
       "      <td>100</td>\n",
       "      <td>Drama</td>\n",
       "      <td>5.2</td>\n",
       "      <td>431.0</td>\n",
       "      <td>Charles L. Gaskill</td>\n",
       "      <td>1943</td>\n",
       "    </tr>\n",
       "  </tbody>\n",
       "</table>\n",
       "</div>"
      ],
      "text/plain": [
       "      tconst                                 title  year  runtime  genre  \\\n",
       "0  tt0001184               Don Juan de Serrallonga  1910       58  Drama   \n",
       "1  tt0001258                 The White Slave Trade  1910       45  Drama   \n",
       "2  tt0001498               The Battle of Trafalgar  1911       51  Drama   \n",
       "3  tt0001790  Les Misérables, Part 1: Jean Valjean  1913       60  Drama   \n",
       "4  tt0001812                           Oedipus Rex  1911       56  Drama   \n",
       "5  tt0001892                        Den sorte drøm  1911       53  Drama   \n",
       "6  tt0001911                           Nell Gwynne  1911       50  Drama   \n",
       "7  tt0001964                         The Traitress  1911       48  Drama   \n",
       "8  tt0002026          Anny - Story of a Prostitute  1912       68  Drama   \n",
       "9  tt0002101                             Cleopatra  1912      100  Drama   \n",
       "\n",
       "   imdb_score  num_scores            director dir_dth_yr  \n",
       "0         3.1        11.0       Alberto Marro       1956  \n",
       "1         5.7        79.0         August Blom       1947  \n",
       "2         7.2         5.0    J. Searle Dawley       1949  \n",
       "3         5.8        21.0    Albert Capellani       1931  \n",
       "4         5.8         6.0        Theo Frenkel       1956  \n",
       "5         5.9       179.0           Urban Gad       1947  \n",
       "6         4.1         7.0    Raymond Longford       1959  \n",
       "7         6.1        51.0           Urban Gad       1947  \n",
       "8         4.0         7.0        Adam Eriksen       9999  \n",
       "9         5.2       431.0  Charles L. Gaskill       1943  "
      ]
     },
     "execution_count": 13,
     "metadata": {},
     "output_type": "execute_result"
    }
   ],
   "source": [
    "\n",
    "mdf[mdf['dir_dth_yr'].isnull()]\n",
    "mdf.head(10)"
   ]
  },
  {
   "cell_type": "markdown",
   "metadata": {},
   "source": [
    "### Fixing director values\n",
    "Because there are only two director titles with NaN values and the year of the movies is recent, I checked on IMDB and found the director names, then replaced them in the table"
   ]
  },
  {
   "cell_type": "code",
   "execution_count": 14,
   "metadata": {},
   "outputs": [
    {
     "data": {
      "text/html": [
       "<div>\n",
       "<style scoped>\n",
       "    .dataframe tbody tr th:only-of-type {\n",
       "        vertical-align: middle;\n",
       "    }\n",
       "\n",
       "    .dataframe tbody tr th {\n",
       "        vertical-align: top;\n",
       "    }\n",
       "\n",
       "    .dataframe thead th {\n",
       "        text-align: right;\n",
       "    }\n",
       "</style>\n",
       "<table border=\"1\" class=\"dataframe\">\n",
       "  <thead>\n",
       "    <tr style=\"text-align: right;\">\n",
       "      <th></th>\n",
       "      <th>tconst</th>\n",
       "      <th>title</th>\n",
       "      <th>year</th>\n",
       "      <th>runtime</th>\n",
       "      <th>genre</th>\n",
       "      <th>imdb_score</th>\n",
       "      <th>num_scores</th>\n",
       "      <th>director</th>\n",
       "      <th>dir_dth_yr</th>\n",
       "    </tr>\n",
       "  </thead>\n",
       "  <tbody>\n",
       "    <tr>\n",
       "      <th>123050</th>\n",
       "      <td>tt1572165</td>\n",
       "      <td>Planet Blood</td>\n",
       "      <td>2001</td>\n",
       "      <td>57</td>\n",
       "      <td>Horror</td>\n",
       "      <td>1.8</td>\n",
       "      <td>91.0</td>\n",
       "      <td>NaN</td>\n",
       "      <td>9999</td>\n",
       "    </tr>\n",
       "    <tr>\n",
       "      <th>135064</th>\n",
       "      <td>tt2205589</td>\n",
       "      <td>Rise of the Black Bat</td>\n",
       "      <td>2012</td>\n",
       "      <td>80</td>\n",
       "      <td>Action</td>\n",
       "      <td>1.2</td>\n",
       "      <td>641.0</td>\n",
       "      <td>NaN</td>\n",
       "      <td>9999</td>\n",
       "    </tr>\n",
       "  </tbody>\n",
       "</table>\n",
       "</div>"
      ],
      "text/plain": [
       "           tconst                  title  year  runtime   genre  imdb_score  \\\n",
       "123050  tt1572165           Planet Blood  2001       57  Horror         1.8   \n",
       "135064  tt2205589  Rise of the Black Bat  2012       80  Action         1.2   \n",
       "\n",
       "        num_scores director dir_dth_yr  \n",
       "123050        91.0      NaN       9999  \n",
       "135064       641.0      NaN       9999  "
      ]
     },
     "execution_count": 14,
     "metadata": {},
     "output_type": "execute_result"
    }
   ],
   "source": [
    "mdf[mdf.isna().any(axis=1)]"
   ]
  },
  {
   "cell_type": "code",
   "execution_count": 17,
   "metadata": {},
   "outputs": [
    {
     "data": {
      "text/plain": [
       "tconst                    tt2205589\n",
       "title         Rise of the Black Bat\n",
       "year                           2012\n",
       "runtime                          80\n",
       "genre                        Action\n",
       "imdb_score                      1.2\n",
       "num_scores                      641\n",
       "director                        NaN\n",
       "dir_dth_yr                     9999\n",
       "Name: 135064, dtype: object"
      ]
     },
     "execution_count": 17,
     "metadata": {},
     "output_type": "execute_result"
    }
   ],
   "source": [
    "mdf.iloc[135064]"
   ]
  },
  {
   "cell_type": "code",
   "execution_count": 18,
   "metadata": {},
   "outputs": [
    {
     "data": {
      "text/plain": [
       "tconst                    tt2205589\n",
       "title         Rise of the Black Bat\n",
       "year                           2012\n",
       "runtime                          80\n",
       "genre                        Action\n",
       "imdb_score                      1.2\n",
       "num_scores                      641\n",
       "director                Brett Kelly\n",
       "dir_dth_yr                     9999\n",
       "Name: 135064, dtype: object"
      ]
     },
     "execution_count": 18,
     "metadata": {},
     "output_type": "execute_result"
    }
   ],
   "source": [
    "mdf.iat[135064, 7] = 'Brett Kelly'\n",
    "mdf.iloc[135064]"
   ]
  },
  {
   "cell_type": "code",
   "execution_count": 19,
   "metadata": {},
   "outputs": [
    {
     "data": {
      "text/html": [
       "<div>\n",
       "<style scoped>\n",
       "    .dataframe tbody tr th:only-of-type {\n",
       "        vertical-align: middle;\n",
       "    }\n",
       "\n",
       "    .dataframe tbody tr th {\n",
       "        vertical-align: top;\n",
       "    }\n",
       "\n",
       "    .dataframe thead th {\n",
       "        text-align: right;\n",
       "    }\n",
       "</style>\n",
       "<table border=\"1\" class=\"dataframe\">\n",
       "  <thead>\n",
       "    <tr style=\"text-align: right;\">\n",
       "      <th></th>\n",
       "      <th>tconst</th>\n",
       "      <th>title</th>\n",
       "      <th>year</th>\n",
       "      <th>runtime</th>\n",
       "      <th>genre</th>\n",
       "      <th>imdb_score</th>\n",
       "      <th>num_scores</th>\n",
       "      <th>director</th>\n",
       "      <th>dir_dth_yr</th>\n",
       "    </tr>\n",
       "  </thead>\n",
       "  <tbody>\n",
       "  </tbody>\n",
       "</table>\n",
       "</div>"
      ],
      "text/plain": [
       "Empty DataFrame\n",
       "Columns: [tconst, title, year, runtime, genre, imdb_score, num_scores, director, dir_dth_yr]\n",
       "Index: []"
      ]
     },
     "execution_count": 19,
     "metadata": {},
     "output_type": "execute_result"
    }
   ],
   "source": [
    "mdf[mdf.isna().any(axis=1)]"
   ]
  },
  {
   "cell_type": "markdown",
   "metadata": {},
   "source": [
    "### Save data to csv file"
   ]
  },
  {
   "cell_type": "code",
   "execution_count": 20,
   "metadata": {},
   "outputs": [],
   "source": [
    "mdf.to_csv('data/movies_4.csv', index=False)"
   ]
  },
  {
   "cell_type": "markdown",
   "metadata": {},
   "source": [
    "## 2e. Merging top 3 actors per movie into movie data\n",
    "Note: The original file was called 'title.principals.tsv.gz', I renamed it to 'actors.tsv.gz'"
   ]
  },
  {
   "cell_type": "code",
   "execution_count": 21,
   "metadata": {},
   "outputs": [],
   "source": [
    "mdf = pd.read_csv('data/movies_4.csv')\n",
    "act = pd.read_table('data/actors.tsv.gz')"
   ]
  },
  {
   "cell_type": "code",
   "execution_count": 22,
   "metadata": {},
   "outputs": [
    {
     "name": "stdout",
     "output_type": "stream",
     "text": [
      "(177095, 9)\n",
      "(38631701, 6)\n"
     ]
    },
    {
     "data": {
      "text/html": [
       "<div>\n",
       "<style scoped>\n",
       "    .dataframe tbody tr th:only-of-type {\n",
       "        vertical-align: middle;\n",
       "    }\n",
       "\n",
       "    .dataframe tbody tr th {\n",
       "        vertical-align: top;\n",
       "    }\n",
       "\n",
       "    .dataframe thead th {\n",
       "        text-align: right;\n",
       "    }\n",
       "</style>\n",
       "<table border=\"1\" class=\"dataframe\">\n",
       "  <thead>\n",
       "    <tr style=\"text-align: right;\">\n",
       "      <th></th>\n",
       "      <th>tconst</th>\n",
       "      <th>ordering</th>\n",
       "      <th>nconst</th>\n",
       "      <th>category</th>\n",
       "      <th>job</th>\n",
       "      <th>characters</th>\n",
       "    </tr>\n",
       "  </thead>\n",
       "  <tbody>\n",
       "    <tr>\n",
       "      <th>0</th>\n",
       "      <td>tt0000001</td>\n",
       "      <td>1</td>\n",
       "      <td>nm1588970</td>\n",
       "      <td>self</td>\n",
       "      <td>\\N</td>\n",
       "      <td>[\"Self\"]</td>\n",
       "    </tr>\n",
       "    <tr>\n",
       "      <th>1</th>\n",
       "      <td>tt0000001</td>\n",
       "      <td>2</td>\n",
       "      <td>nm0005690</td>\n",
       "      <td>director</td>\n",
       "      <td>\\N</td>\n",
       "      <td>\\N</td>\n",
       "    </tr>\n",
       "  </tbody>\n",
       "</table>\n",
       "</div>"
      ],
      "text/plain": [
       "      tconst  ordering     nconst  category job characters\n",
       "0  tt0000001         1  nm1588970      self  \\N   [\"Self\"]\n",
       "1  tt0000001         2  nm0005690  director  \\N         \\N"
      ]
     },
     "execution_count": 22,
     "metadata": {},
     "output_type": "execute_result"
    }
   ],
   "source": [
    "print(mdf.shape)\n",
    "print(act.shape)\n",
    "act.head(2)"
   ]
  },
  {
   "cell_type": "code",
   "execution_count": 23,
   "metadata": {},
   "outputs": [
    {
     "data": {
      "text/plain": [
       "array(['self', 'director', 'cinematographer', 'composer', 'producer',\n",
       "       'editor', 'actor', 'actress', 'writer', 'production_designer',\n",
       "       'archive_footage', 'archive_sound'], dtype=object)"
      ]
     },
     "execution_count": 23,
     "metadata": {},
     "output_type": "execute_result"
    }
   ],
   "source": [
    "act['category'].unique()"
   ]
  },
  {
   "cell_type": "markdown",
   "metadata": {},
   "source": [
    "### Only keep categories actor, actress, and self"
   ]
  },
  {
   "cell_type": "code",
   "execution_count": 24,
   "metadata": {},
   "outputs": [
    {
     "data": {
      "text/html": [
       "<div>\n",
       "<style scoped>\n",
       "    .dataframe tbody tr th:only-of-type {\n",
       "        vertical-align: middle;\n",
       "    }\n",
       "\n",
       "    .dataframe tbody tr th {\n",
       "        vertical-align: top;\n",
       "    }\n",
       "\n",
       "    .dataframe thead th {\n",
       "        text-align: right;\n",
       "    }\n",
       "</style>\n",
       "<table border=\"1\" class=\"dataframe\">\n",
       "  <thead>\n",
       "    <tr style=\"text-align: right;\">\n",
       "      <th></th>\n",
       "      <th>tconst</th>\n",
       "      <th>ordering</th>\n",
       "      <th>nconst</th>\n",
       "    </tr>\n",
       "  </thead>\n",
       "  <tbody>\n",
       "    <tr>\n",
       "      <th>0</th>\n",
       "      <td>tt0000001</td>\n",
       "      <td>1</td>\n",
       "      <td>nm1588970</td>\n",
       "    </tr>\n",
       "    <tr>\n",
       "      <th>11</th>\n",
       "      <td>tt0000005</td>\n",
       "      <td>1</td>\n",
       "      <td>nm0443482</td>\n",
       "    </tr>\n",
       "  </tbody>\n",
       "</table>\n",
       "</div>"
      ],
      "text/plain": [
       "       tconst  ordering     nconst\n",
       "0   tt0000001         1  nm1588970\n",
       "11  tt0000005         1  nm0443482"
      ]
     },
     "execution_count": 24,
     "metadata": {},
     "output_type": "execute_result"
    }
   ],
   "source": [
    "act = act[(act['category'] == 'actor') | (act['category'] == 'actress') | (act['category'] == 'self')]\n",
    "act = act.drop(columns = ['category', 'job', 'characters'])\n",
    "act.head(2)"
   ]
  },
  {
   "cell_type": "markdown",
   "metadata": {},
   "source": [
    "### Create actor data sets based on order cast in movie (1: lead, 2: second, 3: third)"
   ]
  },
  {
   "cell_type": "code",
   "execution_count": 25,
   "metadata": {},
   "outputs": [],
   "source": [
    "act1 = act[act['ordering'] == 1]\n",
    "act2 = act[act['ordering'] == 2]\n",
    "act3 = act[act['ordering'] == 3]"
   ]
  },
  {
   "cell_type": "markdown",
   "metadata": {},
   "source": [
    "### Merge actor names with each actor data set"
   ]
  },
  {
   "cell_type": "code",
   "execution_count": 26,
   "metadata": {},
   "outputs": [
    {
     "data": {
      "text/html": [
       "<div>\n",
       "<style scoped>\n",
       "    .dataframe tbody tr th:only-of-type {\n",
       "        vertical-align: middle;\n",
       "    }\n",
       "\n",
       "    .dataframe tbody tr th {\n",
       "        vertical-align: top;\n",
       "    }\n",
       "\n",
       "    .dataframe thead th {\n",
       "        text-align: right;\n",
       "    }\n",
       "</style>\n",
       "<table border=\"1\" class=\"dataframe\">\n",
       "  <thead>\n",
       "    <tr style=\"text-align: right;\">\n",
       "      <th></th>\n",
       "      <th>nconst</th>\n",
       "      <th>primaryName</th>\n",
       "      <th>birthYear</th>\n",
       "      <th>deathYear</th>\n",
       "      <th>primaryProfession</th>\n",
       "      <th>knownForTitles</th>\n",
       "    </tr>\n",
       "  </thead>\n",
       "  <tbody>\n",
       "    <tr>\n",
       "      <th>0</th>\n",
       "      <td>nm0000001</td>\n",
       "      <td>Fred Astaire</td>\n",
       "      <td>1899</td>\n",
       "      <td>1987</td>\n",
       "      <td>soundtrack,actor,miscellaneous</td>\n",
       "      <td>tt0043044,tt0072308,tt0053137,tt0050419</td>\n",
       "    </tr>\n",
       "    <tr>\n",
       "      <th>1</th>\n",
       "      <td>nm0000002</td>\n",
       "      <td>Lauren Bacall</td>\n",
       "      <td>1924</td>\n",
       "      <td>2014</td>\n",
       "      <td>actress,soundtrack</td>\n",
       "      <td>tt0038355,tt0037382,tt0117057,tt0071877</td>\n",
       "    </tr>\n",
       "  </tbody>\n",
       "</table>\n",
       "</div>"
      ],
      "text/plain": [
       "      nconst    primaryName birthYear deathYear  \\\n",
       "0  nm0000001   Fred Astaire      1899      1987   \n",
       "1  nm0000002  Lauren Bacall      1924      2014   \n",
       "\n",
       "                primaryProfession                           knownForTitles  \n",
       "0  soundtrack,actor,miscellaneous  tt0043044,tt0072308,tt0053137,tt0050419  \n",
       "1              actress,soundtrack  tt0038355,tt0037382,tt0117057,tt0071877  "
      ]
     },
     "execution_count": 26,
     "metadata": {},
     "output_type": "execute_result"
    }
   ],
   "source": [
    "ndf = pd.read_table('data/names.tsv.gz')\n",
    "ndf.head(2)"
   ]
  },
  {
   "cell_type": "code",
   "execution_count": 27,
   "metadata": {},
   "outputs": [
    {
     "data": {
      "text/html": [
       "<div>\n",
       "<style scoped>\n",
       "    .dataframe tbody tr th:only-of-type {\n",
       "        vertical-align: middle;\n",
       "    }\n",
       "\n",
       "    .dataframe tbody tr th {\n",
       "        vertical-align: top;\n",
       "    }\n",
       "\n",
       "    .dataframe thead th {\n",
       "        text-align: right;\n",
       "    }\n",
       "</style>\n",
       "<table border=\"1\" class=\"dataframe\">\n",
       "  <thead>\n",
       "    <tr style=\"text-align: right;\">\n",
       "      <th></th>\n",
       "      <th>nconst</th>\n",
       "      <th>primaryName</th>\n",
       "    </tr>\n",
       "  </thead>\n",
       "  <tbody>\n",
       "    <tr>\n",
       "      <th>0</th>\n",
       "      <td>nm0000001</td>\n",
       "      <td>Fred Astaire</td>\n",
       "    </tr>\n",
       "    <tr>\n",
       "      <th>1</th>\n",
       "      <td>nm0000002</td>\n",
       "      <td>Lauren Bacall</td>\n",
       "    </tr>\n",
       "  </tbody>\n",
       "</table>\n",
       "</div>"
      ],
      "text/plain": [
       "      nconst    primaryName\n",
       "0  nm0000001   Fred Astaire\n",
       "1  nm0000002  Lauren Bacall"
      ]
     },
     "execution_count": 27,
     "metadata": {},
     "output_type": "execute_result"
    }
   ],
   "source": [
    "ndf = ndf.drop(columns = ['birthYear', 'deathYear', 'primaryProfession', 'knownForTitles'])\n",
    "ndf.head(2)"
   ]
  },
  {
   "cell_type": "code",
   "execution_count": 28,
   "metadata": {},
   "outputs": [
    {
     "data": {
      "text/html": [
       "<div>\n",
       "<style scoped>\n",
       "    .dataframe tbody tr th:only-of-type {\n",
       "        vertical-align: middle;\n",
       "    }\n",
       "\n",
       "    .dataframe tbody tr th {\n",
       "        vertical-align: top;\n",
       "    }\n",
       "\n",
       "    .dataframe thead th {\n",
       "        text-align: right;\n",
       "    }\n",
       "</style>\n",
       "<table border=\"1\" class=\"dataframe\">\n",
       "  <thead>\n",
       "    <tr style=\"text-align: right;\">\n",
       "      <th></th>\n",
       "      <th>tconst</th>\n",
       "      <th>primaryName</th>\n",
       "    </tr>\n",
       "  </thead>\n",
       "  <tbody>\n",
       "    <tr>\n",
       "      <th>0</th>\n",
       "      <td>tt0000001</td>\n",
       "      <td>Carmencita</td>\n",
       "    </tr>\n",
       "    <tr>\n",
       "      <th>1</th>\n",
       "      <td>tt0000005</td>\n",
       "      <td>Charles Kayser</td>\n",
       "    </tr>\n",
       "  </tbody>\n",
       "</table>\n",
       "</div>"
      ],
      "text/plain": [
       "      tconst     primaryName\n",
       "0  tt0000001      Carmencita\n",
       "1  tt0000005  Charles Kayser"
      ]
     },
     "execution_count": 28,
     "metadata": {},
     "output_type": "execute_result"
    }
   ],
   "source": [
    "act1 = act1.merge(ndf, on='nconst', how='left')\n",
    "act2 = act2.merge(ndf, on='nconst', how='left')\n",
    "act3 = act3.merge(ndf, on='nconst', how='left')\n",
    "\n",
    "act1 = act1.drop(columns = ['ordering', 'nconst'])\n",
    "act2 = act2.drop(columns = ['ordering', 'nconst'])\n",
    "act3 = act3.drop(columns = ['ordering', 'nconst'])\n",
    "\n",
    "act1.head(2)"
   ]
  },
  {
   "cell_type": "markdown",
   "metadata": {},
   "source": [
    "### Merge actor 1 (lead actor) with movie data set"
   ]
  },
  {
   "cell_type": "code",
   "execution_count": 29,
   "metadata": {},
   "outputs": [
    {
     "data": {
      "text/html": [
       "<div>\n",
       "<style scoped>\n",
       "    .dataframe tbody tr th:only-of-type {\n",
       "        vertical-align: middle;\n",
       "    }\n",
       "\n",
       "    .dataframe tbody tr th {\n",
       "        vertical-align: top;\n",
       "    }\n",
       "\n",
       "    .dataframe thead th {\n",
       "        text-align: right;\n",
       "    }\n",
       "</style>\n",
       "<table border=\"1\" class=\"dataframe\">\n",
       "  <thead>\n",
       "    <tr style=\"text-align: right;\">\n",
       "      <th></th>\n",
       "      <th>tconst</th>\n",
       "      <th>title</th>\n",
       "      <th>year</th>\n",
       "      <th>runtime</th>\n",
       "      <th>genre</th>\n",
       "      <th>imdb_score</th>\n",
       "      <th>num_scores</th>\n",
       "      <th>director</th>\n",
       "      <th>dir_dth_yr</th>\n",
       "      <th>actr1</th>\n",
       "    </tr>\n",
       "  </thead>\n",
       "  <tbody>\n",
       "    <tr>\n",
       "      <th>0</th>\n",
       "      <td>tt0001184</td>\n",
       "      <td>Don Juan de Serrallonga</td>\n",
       "      <td>1910</td>\n",
       "      <td>58</td>\n",
       "      <td>Drama</td>\n",
       "      <td>3.1</td>\n",
       "      <td>11.0</td>\n",
       "      <td>Alberto Marro</td>\n",
       "      <td>1956</td>\n",
       "      <td>Dolores Puchol</td>\n",
       "    </tr>\n",
       "    <tr>\n",
       "      <th>1</th>\n",
       "      <td>tt0001258</td>\n",
       "      <td>The White Slave Trade</td>\n",
       "      <td>1910</td>\n",
       "      <td>45</td>\n",
       "      <td>Drama</td>\n",
       "      <td>5.7</td>\n",
       "      <td>79.0</td>\n",
       "      <td>August Blom</td>\n",
       "      <td>1947</td>\n",
       "      <td>Ellen Diedrich</td>\n",
       "    </tr>\n",
       "  </tbody>\n",
       "</table>\n",
       "</div>"
      ],
      "text/plain": [
       "      tconst                    title  year  runtime  genre  imdb_score  \\\n",
       "0  tt0001184  Don Juan de Serrallonga  1910       58  Drama         3.1   \n",
       "1  tt0001258    The White Slave Trade  1910       45  Drama         5.7   \n",
       "\n",
       "   num_scores       director  dir_dth_yr           actr1  \n",
       "0        11.0  Alberto Marro        1956  Dolores Puchol  \n",
       "1        79.0    August Blom        1947  Ellen Diedrich  "
      ]
     },
     "execution_count": 29,
     "metadata": {},
     "output_type": "execute_result"
    }
   ],
   "source": [
    "mdf = mdf.merge(act1, on='tconst', how='left')\n",
    "mdf = mdf.rename(columns={\"primaryName\": \"actr1\"})\n",
    "mdf.head(2)"
   ]
  },
  {
   "cell_type": "markdown",
   "metadata": {},
   "source": [
    "### Merge actor 2 with movie data set"
   ]
  },
  {
   "cell_type": "code",
   "execution_count": 30,
   "metadata": {},
   "outputs": [
    {
     "data": {
      "text/html": [
       "<div>\n",
       "<style scoped>\n",
       "    .dataframe tbody tr th:only-of-type {\n",
       "        vertical-align: middle;\n",
       "    }\n",
       "\n",
       "    .dataframe tbody tr th {\n",
       "        vertical-align: top;\n",
       "    }\n",
       "\n",
       "    .dataframe thead th {\n",
       "        text-align: right;\n",
       "    }\n",
       "</style>\n",
       "<table border=\"1\" class=\"dataframe\">\n",
       "  <thead>\n",
       "    <tr style=\"text-align: right;\">\n",
       "      <th></th>\n",
       "      <th>tconst</th>\n",
       "      <th>title</th>\n",
       "      <th>year</th>\n",
       "      <th>runtime</th>\n",
       "      <th>genre</th>\n",
       "      <th>imdb_score</th>\n",
       "      <th>num_scores</th>\n",
       "      <th>director</th>\n",
       "      <th>dir_dth_yr</th>\n",
       "      <th>actr1</th>\n",
       "      <th>actr2</th>\n",
       "    </tr>\n",
       "  </thead>\n",
       "  <tbody>\n",
       "    <tr>\n",
       "      <th>0</th>\n",
       "      <td>tt0001184</td>\n",
       "      <td>Don Juan de Serrallonga</td>\n",
       "      <td>1910</td>\n",
       "      <td>58</td>\n",
       "      <td>Drama</td>\n",
       "      <td>3.1</td>\n",
       "      <td>11.0</td>\n",
       "      <td>Alberto Marro</td>\n",
       "      <td>1956</td>\n",
       "      <td>Dolores Puchol</td>\n",
       "      <td>Cecilio Rodríguez de la Vega</td>\n",
       "    </tr>\n",
       "    <tr>\n",
       "      <th>1</th>\n",
       "      <td>tt0001258</td>\n",
       "      <td>The White Slave Trade</td>\n",
       "      <td>1910</td>\n",
       "      <td>45</td>\n",
       "      <td>Drama</td>\n",
       "      <td>5.7</td>\n",
       "      <td>79.0</td>\n",
       "      <td>August Blom</td>\n",
       "      <td>1947</td>\n",
       "      <td>Ellen Diedrich</td>\n",
       "      <td>Victor Fabian</td>\n",
       "    </tr>\n",
       "  </tbody>\n",
       "</table>\n",
       "</div>"
      ],
      "text/plain": [
       "      tconst                    title  year  runtime  genre  imdb_score  \\\n",
       "0  tt0001184  Don Juan de Serrallonga  1910       58  Drama         3.1   \n",
       "1  tt0001258    The White Slave Trade  1910       45  Drama         5.7   \n",
       "\n",
       "   num_scores       director  dir_dth_yr           actr1  \\\n",
       "0        11.0  Alberto Marro        1956  Dolores Puchol   \n",
       "1        79.0    August Blom        1947  Ellen Diedrich   \n",
       "\n",
       "                          actr2  \n",
       "0  Cecilio Rodríguez de la Vega  \n",
       "1                 Victor Fabian  "
      ]
     },
     "execution_count": 30,
     "metadata": {},
     "output_type": "execute_result"
    }
   ],
   "source": [
    "mdf = mdf.merge(act2, on='tconst', how='left')\n",
    "mdf = mdf.rename(columns={\"primaryName\": \"actr2\"})\n",
    "mdf.head(2)"
   ]
  },
  {
   "cell_type": "markdown",
   "metadata": {},
   "source": [
    "### Merge actor 3 with movie data set"
   ]
  },
  {
   "cell_type": "code",
   "execution_count": 31,
   "metadata": {},
   "outputs": [
    {
     "data": {
      "text/html": [
       "<div>\n",
       "<style scoped>\n",
       "    .dataframe tbody tr th:only-of-type {\n",
       "        vertical-align: middle;\n",
       "    }\n",
       "\n",
       "    .dataframe tbody tr th {\n",
       "        vertical-align: top;\n",
       "    }\n",
       "\n",
       "    .dataframe thead th {\n",
       "        text-align: right;\n",
       "    }\n",
       "</style>\n",
       "<table border=\"1\" class=\"dataframe\">\n",
       "  <thead>\n",
       "    <tr style=\"text-align: right;\">\n",
       "      <th></th>\n",
       "      <th>tconst</th>\n",
       "      <th>title</th>\n",
       "      <th>year</th>\n",
       "      <th>runtime</th>\n",
       "      <th>genre</th>\n",
       "      <th>imdb_score</th>\n",
       "      <th>num_scores</th>\n",
       "      <th>director</th>\n",
       "      <th>dir_dth_yr</th>\n",
       "      <th>actr1</th>\n",
       "      <th>actr2</th>\n",
       "      <th>actr3</th>\n",
       "    </tr>\n",
       "  </thead>\n",
       "  <tbody>\n",
       "    <tr>\n",
       "      <th>0</th>\n",
       "      <td>tt0001184</td>\n",
       "      <td>Don Juan de Serrallonga</td>\n",
       "      <td>1910</td>\n",
       "      <td>58</td>\n",
       "      <td>Drama</td>\n",
       "      <td>3.1</td>\n",
       "      <td>11.0</td>\n",
       "      <td>Alberto Marro</td>\n",
       "      <td>1956</td>\n",
       "      <td>Dolores Puchol</td>\n",
       "      <td>Cecilio Rodríguez de la Vega</td>\n",
       "      <td>NaN</td>\n",
       "    </tr>\n",
       "    <tr>\n",
       "      <th>1</th>\n",
       "      <td>tt0001258</td>\n",
       "      <td>The White Slave Trade</td>\n",
       "      <td>1910</td>\n",
       "      <td>45</td>\n",
       "      <td>Drama</td>\n",
       "      <td>5.7</td>\n",
       "      <td>79.0</td>\n",
       "      <td>August Blom</td>\n",
       "      <td>1947</td>\n",
       "      <td>Ellen Diedrich</td>\n",
       "      <td>Victor Fabian</td>\n",
       "      <td>Julie Henriksen</td>\n",
       "    </tr>\n",
       "  </tbody>\n",
       "</table>\n",
       "</div>"
      ],
      "text/plain": [
       "      tconst                    title  year  runtime  genre  imdb_score  \\\n",
       "0  tt0001184  Don Juan de Serrallonga  1910       58  Drama         3.1   \n",
       "1  tt0001258    The White Slave Trade  1910       45  Drama         5.7   \n",
       "\n",
       "   num_scores       director  dir_dth_yr           actr1  \\\n",
       "0        11.0  Alberto Marro        1956  Dolores Puchol   \n",
       "1        79.0    August Blom        1947  Ellen Diedrich   \n",
       "\n",
       "                          actr2            actr3  \n",
       "0  Cecilio Rodríguez de la Vega              NaN  \n",
       "1                 Victor Fabian  Julie Henriksen  "
      ]
     },
     "execution_count": 31,
     "metadata": {},
     "output_type": "execute_result"
    }
   ],
   "source": [
    "mdf = mdf.merge(act3, on='tconst', how='left')\n",
    "mdf = mdf.rename(columns={\"primaryName\": \"actr3\"})\n",
    "mdf.head(2)"
   ]
  },
  {
   "cell_type": "code",
   "execution_count": 32,
   "metadata": {},
   "outputs": [
    {
     "data": {
      "text/html": [
       "<div>\n",
       "<style scoped>\n",
       "    .dataframe tbody tr th:only-of-type {\n",
       "        vertical-align: middle;\n",
       "    }\n",
       "\n",
       "    .dataframe tbody tr th {\n",
       "        vertical-align: top;\n",
       "    }\n",
       "\n",
       "    .dataframe thead th {\n",
       "        text-align: right;\n",
       "    }\n",
       "</style>\n",
       "<table border=\"1\" class=\"dataframe\">\n",
       "  <thead>\n",
       "    <tr style=\"text-align: right;\">\n",
       "      <th></th>\n",
       "      <th>tconst</th>\n",
       "      <th>title</th>\n",
       "      <th>year</th>\n",
       "      <th>runtime</th>\n",
       "      <th>genre</th>\n",
       "      <th>imdb_score</th>\n",
       "      <th>num_scores</th>\n",
       "      <th>director</th>\n",
       "      <th>dir_dth_yr</th>\n",
       "      <th>actr1</th>\n",
       "      <th>actr2</th>\n",
       "      <th>actr3</th>\n",
       "    </tr>\n",
       "  </thead>\n",
       "  <tbody>\n",
       "    <tr>\n",
       "      <th>48992</th>\n",
       "      <td>tt0099685</td>\n",
       "      <td>Goodfellas</td>\n",
       "      <td>1990</td>\n",
       "      <td>146</td>\n",
       "      <td>Drama</td>\n",
       "      <td>8.7</td>\n",
       "      <td>962223.0</td>\n",
       "      <td>Martin Scorsese</td>\n",
       "      <td>9999</td>\n",
       "      <td>Robert De Niro</td>\n",
       "      <td>Ray Liotta</td>\n",
       "      <td>Joe Pesci</td>\n",
       "    </tr>\n",
       "  </tbody>\n",
       "</table>\n",
       "</div>"
      ],
      "text/plain": [
       "          tconst       title  year  runtime  genre  imdb_score  num_scores  \\\n",
       "48992  tt0099685  Goodfellas  1990      146  Drama         8.7    962223.0   \n",
       "\n",
       "              director  dir_dth_yr           actr1       actr2      actr3  \n",
       "48992  Martin Scorsese        9999  Robert De Niro  Ray Liotta  Joe Pesci  "
      ]
     },
     "execution_count": 32,
     "metadata": {},
     "output_type": "execute_result"
    }
   ],
   "source": [
    "mdf[mdf['title'] == 'Goodfellas']"
   ]
  },
  {
   "cell_type": "markdown",
   "metadata": {},
   "source": [
    "### Save data to csv file"
   ]
  },
  {
   "cell_type": "code",
   "execution_count": 33,
   "metadata": {},
   "outputs": [],
   "source": [
    "mdf.to_csv('data/movies_5.csv', index = False)"
   ]
  },
  {
   "cell_type": "markdown",
   "metadata": {},
   "source": [
    "\n",
    "## 2f. Final data cleanup"
   ]
  },
  {
   "cell_type": "code",
   "execution_count": 3,
   "metadata": {},
   "outputs": [
    {
     "name": "stdout",
     "output_type": "stream",
     "text": [
      "(177095, 12)\n"
     ]
    },
    {
     "data": {
      "text/html": [
       "<div>\n",
       "<style scoped>\n",
       "    .dataframe tbody tr th:only-of-type {\n",
       "        vertical-align: middle;\n",
       "    }\n",
       "\n",
       "    .dataframe tbody tr th {\n",
       "        vertical-align: top;\n",
       "    }\n",
       "\n",
       "    .dataframe thead th {\n",
       "        text-align: right;\n",
       "    }\n",
       "</style>\n",
       "<table border=\"1\" class=\"dataframe\">\n",
       "  <thead>\n",
       "    <tr style=\"text-align: right;\">\n",
       "      <th></th>\n",
       "      <th>tconst</th>\n",
       "      <th>title</th>\n",
       "      <th>year</th>\n",
       "      <th>runtime</th>\n",
       "      <th>genre</th>\n",
       "      <th>imdb_score</th>\n",
       "      <th>num_scores</th>\n",
       "      <th>director</th>\n",
       "      <th>dir_dth_yr</th>\n",
       "      <th>actr1</th>\n",
       "      <th>actr2</th>\n",
       "      <th>actr3</th>\n",
       "    </tr>\n",
       "  </thead>\n",
       "  <tbody>\n",
       "    <tr>\n",
       "      <th>0</th>\n",
       "      <td>tt0001184</td>\n",
       "      <td>Don Juan de Serrallonga</td>\n",
       "      <td>1910</td>\n",
       "      <td>58</td>\n",
       "      <td>Drama</td>\n",
       "      <td>3.1</td>\n",
       "      <td>11.0</td>\n",
       "      <td>Alberto Marro</td>\n",
       "      <td>1956</td>\n",
       "      <td>Dolores Puchol</td>\n",
       "      <td>Cecilio Rodríguez de la Vega</td>\n",
       "      <td>NaN</td>\n",
       "    </tr>\n",
       "    <tr>\n",
       "      <th>1</th>\n",
       "      <td>tt0001258</td>\n",
       "      <td>The White Slave Trade</td>\n",
       "      <td>1910</td>\n",
       "      <td>45</td>\n",
       "      <td>Drama</td>\n",
       "      <td>5.7</td>\n",
       "      <td>79.0</td>\n",
       "      <td>August Blom</td>\n",
       "      <td>1947</td>\n",
       "      <td>Ellen Diedrich</td>\n",
       "      <td>Victor Fabian</td>\n",
       "      <td>Julie Henriksen</td>\n",
       "    </tr>\n",
       "  </tbody>\n",
       "</table>\n",
       "</div>"
      ],
      "text/plain": [
       "      tconst                    title  year  runtime  genre  imdb_score  \\\n",
       "0  tt0001184  Don Juan de Serrallonga  1910       58  Drama         3.1   \n",
       "1  tt0001258    The White Slave Trade  1910       45  Drama         5.7   \n",
       "\n",
       "   num_scores       director  dir_dth_yr           actr1  \\\n",
       "0        11.0  Alberto Marro        1956  Dolores Puchol   \n",
       "1        79.0    August Blom        1947  Ellen Diedrich   \n",
       "\n",
       "                          actr2            actr3  \n",
       "0  Cecilio Rodríguez de la Vega              NaN  \n",
       "1                 Victor Fabian  Julie Henriksen  "
      ]
     },
     "execution_count": 3,
     "metadata": {},
     "output_type": "execute_result"
    }
   ],
   "source": [
    "mdf = pd.read_csv('data/movies_5.csv')\n",
    "print(mdf.shape)\n",
    "mdf.head(2)"
   ]
  },
  {
   "cell_type": "markdown",
   "metadata": {},
   "source": [
    "### Rename all columns"
   ]
  },
  {
   "cell_type": "code",
   "execution_count": 4,
   "metadata": {},
   "outputs": [
    {
     "data": {
      "text/html": [
       "<div>\n",
       "<style scoped>\n",
       "    .dataframe tbody tr th:only-of-type {\n",
       "        vertical-align: middle;\n",
       "    }\n",
       "\n",
       "    .dataframe tbody tr th {\n",
       "        vertical-align: top;\n",
       "    }\n",
       "\n",
       "    .dataframe thead th {\n",
       "        text-align: right;\n",
       "    }\n",
       "</style>\n",
       "<table border=\"1\" class=\"dataframe\">\n",
       "  <thead>\n",
       "    <tr style=\"text-align: right;\">\n",
       "      <th></th>\n",
       "      <th>mov_id</th>\n",
       "      <th>title</th>\n",
       "      <th>genre</th>\n",
       "      <th>year</th>\n",
       "      <th>director</th>\n",
       "      <th>dir_dth_yr</th>\n",
       "      <th>actr1</th>\n",
       "      <th>actr2</th>\n",
       "      <th>actr3</th>\n",
       "      <th>runtime</th>\n",
       "      <th>imdb_score</th>\n",
       "      <th>num_scores</th>\n",
       "    </tr>\n",
       "  </thead>\n",
       "  <tbody>\n",
       "    <tr>\n",
       "      <th>0</th>\n",
       "      <td>tt0001184</td>\n",
       "      <td>Don Juan de Serrallonga</td>\n",
       "      <td>Drama</td>\n",
       "      <td>1910</td>\n",
       "      <td>Alberto Marro</td>\n",
       "      <td>1956</td>\n",
       "      <td>Dolores Puchol</td>\n",
       "      <td>Cecilio Rodríguez de la Vega</td>\n",
       "      <td>NaN</td>\n",
       "      <td>58</td>\n",
       "      <td>3.1</td>\n",
       "      <td>11.0</td>\n",
       "    </tr>\n",
       "    <tr>\n",
       "      <th>1</th>\n",
       "      <td>tt0001258</td>\n",
       "      <td>The White Slave Trade</td>\n",
       "      <td>Drama</td>\n",
       "      <td>1910</td>\n",
       "      <td>August Blom</td>\n",
       "      <td>1947</td>\n",
       "      <td>Ellen Diedrich</td>\n",
       "      <td>Victor Fabian</td>\n",
       "      <td>Julie Henriksen</td>\n",
       "      <td>45</td>\n",
       "      <td>5.7</td>\n",
       "      <td>79.0</td>\n",
       "    </tr>\n",
       "  </tbody>\n",
       "</table>\n",
       "</div>"
      ],
      "text/plain": [
       "      mov_id                    title  genre  year       director  dir_dth_yr  \\\n",
       "0  tt0001184  Don Juan de Serrallonga  Drama  1910  Alberto Marro        1956   \n",
       "1  tt0001258    The White Slave Trade  Drama  1910    August Blom        1947   \n",
       "\n",
       "            actr1                         actr2            actr3  runtime  \\\n",
       "0  Dolores Puchol  Cecilio Rodríguez de la Vega              NaN       58   \n",
       "1  Ellen Diedrich                 Victor Fabian  Julie Henriksen       45   \n",
       "\n",
       "   imdb_score  num_scores  \n",
       "0         3.1        11.0  \n",
       "1         5.7        79.0  "
      ]
     },
     "execution_count": 4,
     "metadata": {},
     "output_type": "execute_result"
    }
   ],
   "source": [
    "mdf = mdf.rename(columns={'tconst': 'mov_id'})\n",
    "mdf = mdf.reindex(columns=['mov_id','title','genre','year','director', 'dir_dth_yr', 'actr1', 'actr2',\n",
    "                          'actr3', 'runtime', 'imdb_score', 'num_scores'])\n",
    "\n",
    "mdf.head(2)"
   ]
  },
  {
   "cell_type": "markdown",
   "metadata": {},
   "source": [
    "### Clean up non utf-8 characters"
   ]
  },
  {
   "cell_type": "code",
   "execution_count": 5,
   "metadata": {},
   "outputs": [],
   "source": [
    "mdf['title'] = mdf['title'].str.normalize('NFKD').str.encode('ascii', errors='ignore').str.decode('utf-8')\n",
    "mdf['director'] = mdf['director'].str.normalize('NFKD').str.encode('ascii', errors='ignore').str.decode('utf-8')\n",
    "mdf['actr1'] = mdf['actr1'].str.normalize('NFKD').str.encode('ascii', errors='ignore').str.decode('utf-8')\n",
    "mdf['actr2'] = mdf['actr2'].str.normalize('NFKD').str.encode('ascii', errors='ignore').str.decode('utf-8')\n",
    "mdf['actr3'] = mdf['actr3'].str.normalize('NFKD').str.encode('ascii', errors='ignore').str.decode('utf-8')"
   ]
  },
  {
   "cell_type": "code",
   "execution_count": 6,
   "metadata": {},
   "outputs": [
    {
     "data": {
      "text/html": [
       "<div>\n",
       "<style scoped>\n",
       "    .dataframe tbody tr th:only-of-type {\n",
       "        vertical-align: middle;\n",
       "    }\n",
       "\n",
       "    .dataframe tbody tr th {\n",
       "        vertical-align: top;\n",
       "    }\n",
       "\n",
       "    .dataframe thead th {\n",
       "        text-align: right;\n",
       "    }\n",
       "</style>\n",
       "<table border=\"1\" class=\"dataframe\">\n",
       "  <thead>\n",
       "    <tr style=\"text-align: right;\">\n",
       "      <th></th>\n",
       "      <th>mov_id</th>\n",
       "      <th>title</th>\n",
       "      <th>genre</th>\n",
       "      <th>year</th>\n",
       "      <th>director</th>\n",
       "      <th>dir_dth_yr</th>\n",
       "      <th>actr1</th>\n",
       "      <th>actr2</th>\n",
       "      <th>actr3</th>\n",
       "      <th>runtime</th>\n",
       "      <th>imdb_score</th>\n",
       "      <th>num_scores</th>\n",
       "    </tr>\n",
       "  </thead>\n",
       "  <tbody>\n",
       "    <tr>\n",
       "      <th>0</th>\n",
       "      <td>tt0001184</td>\n",
       "      <td>Don Juan de Serrallonga</td>\n",
       "      <td>Drama</td>\n",
       "      <td>1910</td>\n",
       "      <td>Alberto Marro</td>\n",
       "      <td>1956</td>\n",
       "      <td>Dolores Puchol</td>\n",
       "      <td>Cecilio Rodriguez de la Vega</td>\n",
       "      <td>NaN</td>\n",
       "      <td>58</td>\n",
       "      <td>3.1</td>\n",
       "      <td>11.0</td>\n",
       "    </tr>\n",
       "    <tr>\n",
       "      <th>1</th>\n",
       "      <td>tt0001258</td>\n",
       "      <td>The White Slave Trade</td>\n",
       "      <td>Drama</td>\n",
       "      <td>1910</td>\n",
       "      <td>August Blom</td>\n",
       "      <td>1947</td>\n",
       "      <td>Ellen Diedrich</td>\n",
       "      <td>Victor Fabian</td>\n",
       "      <td>Julie Henriksen</td>\n",
       "      <td>45</td>\n",
       "      <td>5.7</td>\n",
       "      <td>79.0</td>\n",
       "    </tr>\n",
       "  </tbody>\n",
       "</table>\n",
       "</div>"
      ],
      "text/plain": [
       "      mov_id                    title  genre  year       director  dir_dth_yr  \\\n",
       "0  tt0001184  Don Juan de Serrallonga  Drama  1910  Alberto Marro        1956   \n",
       "1  tt0001258    The White Slave Trade  Drama  1910    August Blom        1947   \n",
       "\n",
       "            actr1                         actr2            actr3  runtime  \\\n",
       "0  Dolores Puchol  Cecilio Rodriguez de la Vega              NaN       58   \n",
       "1  Ellen Diedrich                 Victor Fabian  Julie Henriksen       45   \n",
       "\n",
       "   imdb_score  num_scores  \n",
       "0         3.1        11.0  \n",
       "1         5.7        79.0  "
      ]
     },
     "execution_count": 6,
     "metadata": {},
     "output_type": "execute_result"
    }
   ],
   "source": [
    "mdf.head(2)"
   ]
  },
  {
   "cell_type": "markdown",
   "metadata": {},
   "source": [
    "### Final NaN check\n",
    "The only null values found were in the directors column and the three actor columns. "
   ]
  },
  {
   "cell_type": "code",
   "execution_count": 7,
   "metadata": {},
   "outputs": [
    {
     "name": "stdout",
     "output_type": "stream",
     "text": [
      "Empty DataFrame\n",
      "Columns: [mov_id, title, genre, year, director, dir_dth_yr, actr1, actr2, actr3, runtime, imdb_score, num_scores]\n",
      "Index: []\n",
      "\n",
      "Empty DataFrame\n",
      "Columns: [mov_id, title, genre, year, director, dir_dth_yr, actr1, actr2, actr3, runtime, imdb_score, num_scores]\n",
      "Index: []\n",
      "\n",
      "Empty DataFrame\n",
      "Columns: [mov_id, title, genre, year, director, dir_dth_yr, actr1, actr2, actr3, runtime, imdb_score, num_scores]\n",
      "Index: []\n",
      "\n",
      "Empty DataFrame\n",
      "Columns: [mov_id, title, genre, year, director, dir_dth_yr, actr1, actr2, actr3, runtime, imdb_score, num_scores]\n",
      "Index: []\n",
      "\n",
      "Empty DataFrame\n",
      "Columns: [mov_id, title, genre, year, director, dir_dth_yr, actr1, actr2, actr3, runtime, imdb_score, num_scores]\n",
      "Index: []\n",
      "\n",
      "Empty DataFrame\n",
      "Columns: [mov_id, title, genre, year, director, dir_dth_yr, actr1, actr2, actr3, runtime, imdb_score, num_scores]\n",
      "Index: []\n",
      "\n",
      "Empty DataFrame\n",
      "Columns: [mov_id, title, genre, year, director, dir_dth_yr, actr1, actr2, actr3, runtime, imdb_score, num_scores]\n",
      "Index: []\n",
      "\n",
      "Empty DataFrame\n",
      "Columns: [mov_id, title, genre, year, director, dir_dth_yr, actr1, actr2, actr3, runtime, imdb_score, num_scores]\n",
      "Index: []\n",
      "\n"
     ]
    }
   ],
   "source": [
    "print(mdf[mdf['mov_id'].isnull()])\n",
    "print()\n",
    "print(mdf[mdf['title'].isnull()])\n",
    "print()\n",
    "print(mdf[mdf['genre'].isnull()])\n",
    "print()\n",
    "print(mdf[mdf['year'].isnull()])\n",
    "print()\n",
    "print(mdf[mdf['director'].isnull()])\n",
    "print()\n",
    "print(mdf[mdf['runtime'].isnull()])\n",
    "print()\n",
    "print(mdf[mdf['imdb_score'].isnull()])\n",
    "print()\n",
    "print(mdf[mdf['num_scores'].isnull()])\n",
    "print()"
   ]
  },
  {
   "cell_type": "markdown",
   "metadata": {},
   "source": [
    "### Movies usually have at least 1 actor, so I'm assuming that when all three actor columns are empty I'm either dealing with a really old silent film, an animated film, or a film so obscure that the actors aren't a part of the Screen Actors Guild. At this stage, because I'm creating a hypothetical population, I am going to keep these in for completions sake. Most likely they will be weeded out during the sampling phase. "
   ]
  },
  {
   "cell_type": "code",
   "execution_count": 8,
   "metadata": {},
   "outputs": [
    {
     "data": {
      "text/html": [
       "<div>\n",
       "<style scoped>\n",
       "    .dataframe tbody tr th:only-of-type {\n",
       "        vertical-align: middle;\n",
       "    }\n",
       "\n",
       "    .dataframe tbody tr th {\n",
       "        vertical-align: top;\n",
       "    }\n",
       "\n",
       "    .dataframe thead th {\n",
       "        text-align: right;\n",
       "    }\n",
       "</style>\n",
       "<table border=\"1\" class=\"dataframe\">\n",
       "  <thead>\n",
       "    <tr style=\"text-align: right;\">\n",
       "      <th></th>\n",
       "      <th>mov_id</th>\n",
       "      <th>title</th>\n",
       "      <th>genre</th>\n",
       "      <th>year</th>\n",
       "      <th>director</th>\n",
       "      <th>dir_dth_yr</th>\n",
       "      <th>actr1</th>\n",
       "      <th>actr2</th>\n",
       "      <th>actr3</th>\n",
       "      <th>runtime</th>\n",
       "      <th>imdb_score</th>\n",
       "      <th>num_scores</th>\n",
       "    </tr>\n",
       "  </thead>\n",
       "  <tbody>\n",
       "    <tr>\n",
       "      <th>294</th>\n",
       "      <td>tt0007646</td>\n",
       "      <td>El apostol</td>\n",
       "      <td>Comedy</td>\n",
       "      <td>1917</td>\n",
       "      <td>Quirino Cristiani</td>\n",
       "      <td>1984</td>\n",
       "      <td>NaN</td>\n",
       "      <td>NaN</td>\n",
       "      <td>NaN</td>\n",
       "      <td>70</td>\n",
       "      <td>6.8</td>\n",
       "      <td>39.0</td>\n",
       "    </tr>\n",
       "    <tr>\n",
       "      <th>545</th>\n",
       "      <td>tt0010108</td>\n",
       "      <td>The Fall of Babylon</td>\n",
       "      <td>Drama</td>\n",
       "      <td>1919</td>\n",
       "      <td>D.W. Griffith</td>\n",
       "      <td>1948</td>\n",
       "      <td>NaN</td>\n",
       "      <td>NaN</td>\n",
       "      <td>NaN</td>\n",
       "      <td>82</td>\n",
       "      <td>6.8</td>\n",
       "      <td>93.0</td>\n",
       "    </tr>\n",
       "    <tr>\n",
       "      <th>598</th>\n",
       "      <td>tt0010484</td>\n",
       "      <td>The Mother and the Law</td>\n",
       "      <td>Drama</td>\n",
       "      <td>1919</td>\n",
       "      <td>D.W. Griffith</td>\n",
       "      <td>1948</td>\n",
       "      <td>NaN</td>\n",
       "      <td>NaN</td>\n",
       "      <td>NaN</td>\n",
       "      <td>95</td>\n",
       "      <td>6.9</td>\n",
       "      <td>161.0</td>\n",
       "    </tr>\n",
       "    <tr>\n",
       "      <th>1350</th>\n",
       "      <td>tt0015256</td>\n",
       "      <td>The Radio Flyer</td>\n",
       "      <td>Drama</td>\n",
       "      <td>1924</td>\n",
       "      <td>Harry O. Hoyt</td>\n",
       "      <td>1961</td>\n",
       "      <td>NaN</td>\n",
       "      <td>NaN</td>\n",
       "      <td>NaN</td>\n",
       "      <td>50</td>\n",
       "      <td>6.8</td>\n",
       "      <td>8.0</td>\n",
       "    </tr>\n",
       "    <tr>\n",
       "      <th>1398</th>\n",
       "      <td>tt0015532</td>\n",
       "      <td>The Adventures of Prince Achmed</td>\n",
       "      <td>Action</td>\n",
       "      <td>1926</td>\n",
       "      <td>Lotte Reiniger</td>\n",
       "      <td>1981</td>\n",
       "      <td>NaN</td>\n",
       "      <td>NaN</td>\n",
       "      <td>NaN</td>\n",
       "      <td>80</td>\n",
       "      <td>7.8</td>\n",
       "      <td>5113.0</td>\n",
       "    </tr>\n",
       "    <tr>\n",
       "      <th>...</th>\n",
       "      <td>...</td>\n",
       "      <td>...</td>\n",
       "      <td>...</td>\n",
       "      <td>...</td>\n",
       "      <td>...</td>\n",
       "      <td>...</td>\n",
       "      <td>...</td>\n",
       "      <td>...</td>\n",
       "      <td>...</td>\n",
       "      <td>...</td>\n",
       "      <td>...</td>\n",
       "      <td>...</td>\n",
       "    </tr>\n",
       "    <tr>\n",
       "      <th>176552</th>\n",
       "      <td>tt9619150</td>\n",
       "      <td>Valley of Souls</td>\n",
       "      <td>Drama</td>\n",
       "      <td>2019</td>\n",
       "      <td>Nicolas Rincon Gille</td>\n",
       "      <td>9999</td>\n",
       "      <td>NaN</td>\n",
       "      <td>NaN</td>\n",
       "      <td>NaN</td>\n",
       "      <td>137</td>\n",
       "      <td>7.5</td>\n",
       "      <td>44.0</td>\n",
       "    </tr>\n",
       "    <tr>\n",
       "      <th>176661</th>\n",
       "      <td>tt9666830</td>\n",
       "      <td>False Belief</td>\n",
       "      <td>Drama</td>\n",
       "      <td>2019</td>\n",
       "      <td>Lene Berg</td>\n",
       "      <td>9999</td>\n",
       "      <td>NaN</td>\n",
       "      <td>NaN</td>\n",
       "      <td>NaN</td>\n",
       "      <td>105</td>\n",
       "      <td>7.0</td>\n",
       "      <td>6.0</td>\n",
       "    </tr>\n",
       "    <tr>\n",
       "      <th>176783</th>\n",
       "      <td>tt9741908</td>\n",
       "      <td>Breathless Animals</td>\n",
       "      <td>Drama</td>\n",
       "      <td>2019</td>\n",
       "      <td>Lei Lei</td>\n",
       "      <td>9999</td>\n",
       "      <td>NaN</td>\n",
       "      <td>NaN</td>\n",
       "      <td>NaN</td>\n",
       "      <td>68</td>\n",
       "      <td>4.7</td>\n",
       "      <td>21.0</td>\n",
       "    </tr>\n",
       "    <tr>\n",
       "      <th>176865</th>\n",
       "      <td>tt9799044</td>\n",
       "      <td>Baggage</td>\n",
       "      <td>Drama</td>\n",
       "      <td>2018</td>\n",
       "      <td>Roopa Rao</td>\n",
       "      <td>9999</td>\n",
       "      <td>NaN</td>\n",
       "      <td>NaN</td>\n",
       "      <td>NaN</td>\n",
       "      <td>115</td>\n",
       "      <td>7.8</td>\n",
       "      <td>6.0</td>\n",
       "    </tr>\n",
       "    <tr>\n",
       "      <th>177031</th>\n",
       "      <td>tt9882750</td>\n",
       "      <td>King of Prism: Shiny Seven Stars</td>\n",
       "      <td>Drama</td>\n",
       "      <td>2019</td>\n",
       "      <td>Masakazu Hishida</td>\n",
       "      <td>9999</td>\n",
       "      <td>NaN</td>\n",
       "      <td>NaN</td>\n",
       "      <td>NaN</td>\n",
       "      <td>70</td>\n",
       "      <td>5.2</td>\n",
       "      <td>5.0</td>\n",
       "    </tr>\n",
       "  </tbody>\n",
       "</table>\n",
       "<p>934 rows × 12 columns</p>\n",
       "</div>"
      ],
      "text/plain": [
       "           mov_id                             title   genre  year  \\\n",
       "294     tt0007646                        El apostol  Comedy  1917   \n",
       "545     tt0010108               The Fall of Babylon   Drama  1919   \n",
       "598     tt0010484            The Mother and the Law   Drama  1919   \n",
       "1350    tt0015256                   The Radio Flyer   Drama  1924   \n",
       "1398    tt0015532   The Adventures of Prince Achmed  Action  1926   \n",
       "...           ...                               ...     ...   ...   \n",
       "176552  tt9619150                   Valley of Souls   Drama  2019   \n",
       "176661  tt9666830                      False Belief   Drama  2019   \n",
       "176783  tt9741908                Breathless Animals   Drama  2019   \n",
       "176865  tt9799044                           Baggage   Drama  2018   \n",
       "177031  tt9882750  King of Prism: Shiny Seven Stars   Drama  2019   \n",
       "\n",
       "                    director  dir_dth_yr actr1 actr2 actr3  runtime  \\\n",
       "294        Quirino Cristiani        1984   NaN   NaN   NaN       70   \n",
       "545            D.W. Griffith        1948   NaN   NaN   NaN       82   \n",
       "598            D.W. Griffith        1948   NaN   NaN   NaN       95   \n",
       "1350           Harry O. Hoyt        1961   NaN   NaN   NaN       50   \n",
       "1398          Lotte Reiniger        1981   NaN   NaN   NaN       80   \n",
       "...                      ...         ...   ...   ...   ...      ...   \n",
       "176552  Nicolas Rincon Gille        9999   NaN   NaN   NaN      137   \n",
       "176661             Lene Berg        9999   NaN   NaN   NaN      105   \n",
       "176783               Lei Lei        9999   NaN   NaN   NaN       68   \n",
       "176865             Roopa Rao        9999   NaN   NaN   NaN      115   \n",
       "177031      Masakazu Hishida        9999   NaN   NaN   NaN       70   \n",
       "\n",
       "        imdb_score  num_scores  \n",
       "294            6.8        39.0  \n",
       "545            6.8        93.0  \n",
       "598            6.9       161.0  \n",
       "1350           6.8         8.0  \n",
       "1398           7.8      5113.0  \n",
       "...            ...         ...  \n",
       "176552         7.5        44.0  \n",
       "176661         7.0         6.0  \n",
       "176783         4.7        21.0  \n",
       "176865         7.8         6.0  \n",
       "177031         5.2         5.0  \n",
       "\n",
       "[934 rows x 12 columns]"
      ]
     },
     "execution_count": 8,
     "metadata": {},
     "output_type": "execute_result"
    }
   ],
   "source": [
    "mdf[mdf['actr1'].isnull()]"
   ]
  },
  {
   "cell_type": "code",
   "execution_count": 9,
   "metadata": {},
   "outputs": [
    {
     "data": {
      "text/plain": [
       "decade\n",
       "1910      779\n",
       "1920     2448\n",
       "1930     7732\n",
       "1940     7585\n",
       "1950    10346\n",
       "1960    13079\n",
       "1970    15229\n",
       "1980    16328\n",
       "1990    17671\n",
       "2000    30605\n",
       "2010    54535\n",
       "2020      758\n",
       "Name: year, dtype: int64"
      ]
     },
     "execution_count": 9,
     "metadata": {},
     "output_type": "execute_result"
    }
   ],
   "source": [
    "yr_chk = mdf.copy()\n",
    "yr_chk = yr_chk.drop(columns = ['mov_id', 'title', 'genre', 'director',\n",
    "                                'actr1', 'actr2', 'actr3', 'runtime',\n",
    "                                'imdb_score', 'num_scores'])\n",
    "\n",
    "decade = 10 * (yr_chk['year'] // 10)\n",
    "yr_chk['decade'] = decade\n",
    "yr_chk.groupby('decade')['year'].count()"
   ]
  },
  {
   "cell_type": "code",
   "execution_count": 10,
   "metadata": {},
   "outputs": [
    {
     "name": "stdout",
     "output_type": "stream",
     "text": [
      "<class 'pandas.core.frame.DataFrame'>\n",
      "RangeIndex: 177095 entries, 0 to 177094\n",
      "Data columns (total 12 columns):\n",
      " #   Column      Non-Null Count   Dtype  \n",
      "---  ------      --------------   -----  \n",
      " 0   mov_id      177095 non-null  object \n",
      " 1   title       177095 non-null  object \n",
      " 2   genre       177095 non-null  object \n",
      " 3   year        177095 non-null  int64  \n",
      " 4   director    177095 non-null  object \n",
      " 5   dir_dth_yr  177095 non-null  int64  \n",
      " 6   actr1       176161 non-null  object \n",
      " 7   actr2       175497 non-null  object \n",
      " 8   actr3       174103 non-null  object \n",
      " 9   runtime     177095 non-null  int64  \n",
      " 10  imdb_score  177095 non-null  float64\n",
      " 11  num_scores  177095 non-null  float64\n",
      "dtypes: float64(2), int64(3), object(7)\n",
      "memory usage: 16.2+ MB\n"
     ]
    }
   ],
   "source": [
    "mdf.info()"
   ]
  },
  {
   "cell_type": "code",
   "execution_count": 11,
   "metadata": {},
   "outputs": [],
   "source": [
    "mdf = mdf.astype({'num_scores': 'int64'})"
   ]
  },
  {
   "cell_type": "code",
   "execution_count": 12,
   "metadata": {},
   "outputs": [
    {
     "name": "stdout",
     "output_type": "stream",
     "text": [
      "<class 'pandas.core.frame.DataFrame'>\n",
      "RangeIndex: 177095 entries, 0 to 177094\n",
      "Data columns (total 12 columns):\n",
      " #   Column      Non-Null Count   Dtype  \n",
      "---  ------      --------------   -----  \n",
      " 0   mov_id      177095 non-null  object \n",
      " 1   title       177095 non-null  object \n",
      " 2   genre       177095 non-null  object \n",
      " 3   year        177095 non-null  int64  \n",
      " 4   director    177095 non-null  object \n",
      " 5   dir_dth_yr  177095 non-null  int64  \n",
      " 6   actr1       176161 non-null  object \n",
      " 7   actr2       175497 non-null  object \n",
      " 8   actr3       174103 non-null  object \n",
      " 9   runtime     177095 non-null  int64  \n",
      " 10  imdb_score  177095 non-null  float64\n",
      " 11  num_scores  177095 non-null  int64  \n",
      "dtypes: float64(1), int64(4), object(7)\n",
      "memory usage: 16.2+ MB\n"
     ]
    }
   ],
   "source": [
    "mdf.info()"
   ]
  },
  {
   "cell_type": "code",
   "execution_count": 13,
   "metadata": {},
   "outputs": [],
   "source": [
    "mdf.to_csv('data/movies_final.csv', index = False)"
   ]
  },
  {
   "cell_type": "code",
   "execution_count": 14,
   "metadata": {},
   "outputs": [],
   "source": [
    "mdf = pd.read_csv('data/movies_final.csv')"
   ]
  },
  {
   "cell_type": "code",
   "execution_count": 15,
   "metadata": {},
   "outputs": [
    {
     "data": {
      "text/plain": [
       "(177095, 12)"
      ]
     },
     "execution_count": 15,
     "metadata": {},
     "output_type": "execute_result"
    }
   ],
   "source": [
    "mdf.shape"
   ]
  },
  {
   "cell_type": "code",
   "execution_count": 16,
   "metadata": {},
   "outputs": [
    {
     "data": {
      "text/html": [
       "<div>\n",
       "<style scoped>\n",
       "    .dataframe tbody tr th:only-of-type {\n",
       "        vertical-align: middle;\n",
       "    }\n",
       "\n",
       "    .dataframe tbody tr th {\n",
       "        vertical-align: top;\n",
       "    }\n",
       "\n",
       "    .dataframe thead th {\n",
       "        text-align: right;\n",
       "    }\n",
       "</style>\n",
       "<table border=\"1\" class=\"dataframe\">\n",
       "  <thead>\n",
       "    <tr style=\"text-align: right;\">\n",
       "      <th></th>\n",
       "      <th>mov_id</th>\n",
       "      <th>title</th>\n",
       "      <th>genre</th>\n",
       "      <th>year</th>\n",
       "      <th>director</th>\n",
       "      <th>dir_dth_yr</th>\n",
       "      <th>actr1</th>\n",
       "      <th>actr2</th>\n",
       "      <th>actr3</th>\n",
       "      <th>runtime</th>\n",
       "      <th>imdb_score</th>\n",
       "      <th>num_scores</th>\n",
       "    </tr>\n",
       "  </thead>\n",
       "  <tbody>\n",
       "    <tr>\n",
       "      <th>0</th>\n",
       "      <td>tt0001184</td>\n",
       "      <td>Don Juan de Serrallonga</td>\n",
       "      <td>Drama</td>\n",
       "      <td>1910</td>\n",
       "      <td>Alberto Marro</td>\n",
       "      <td>1956</td>\n",
       "      <td>Dolores Puchol</td>\n",
       "      <td>Cecilio Rodriguez de la Vega</td>\n",
       "      <td>NaN</td>\n",
       "      <td>58</td>\n",
       "      <td>3.1</td>\n",
       "      <td>11</td>\n",
       "    </tr>\n",
       "    <tr>\n",
       "      <th>1</th>\n",
       "      <td>tt0001258</td>\n",
       "      <td>The White Slave Trade</td>\n",
       "      <td>Drama</td>\n",
       "      <td>1910</td>\n",
       "      <td>August Blom</td>\n",
       "      <td>1947</td>\n",
       "      <td>Ellen Diedrich</td>\n",
       "      <td>Victor Fabian</td>\n",
       "      <td>Julie Henriksen</td>\n",
       "      <td>45</td>\n",
       "      <td>5.7</td>\n",
       "      <td>79</td>\n",
       "    </tr>\n",
       "  </tbody>\n",
       "</table>\n",
       "</div>"
      ],
      "text/plain": [
       "      mov_id                    title  genre  year       director  dir_dth_yr  \\\n",
       "0  tt0001184  Don Juan de Serrallonga  Drama  1910  Alberto Marro        1956   \n",
       "1  tt0001258    The White Slave Trade  Drama  1910    August Blom        1947   \n",
       "\n",
       "            actr1                         actr2            actr3  runtime  \\\n",
       "0  Dolores Puchol  Cecilio Rodriguez de la Vega              NaN       58   \n",
       "1  Ellen Diedrich                 Victor Fabian  Julie Henriksen       45   \n",
       "\n",
       "   imdb_score  num_scores  \n",
       "0         3.1          11  \n",
       "1         5.7          79  "
      ]
     },
     "execution_count": 16,
     "metadata": {},
     "output_type": "execute_result"
    }
   ],
   "source": [
    "mdf.head(2)"
   ]
  }
 ],
 "metadata": {
  "kernelspec": {
   "display_name": "Python 3",
   "language": "python",
   "name": "python3"
  },
  "language_info": {
   "codemirror_mode": {
    "name": "ipython",
    "version": 3
   },
   "file_extension": ".py",
   "mimetype": "text/x-python",
   "name": "python",
   "nbconvert_exporter": "python",
   "pygments_lexer": "ipython3",
   "version": "3.7.7"
  }
 },
 "nbformat": 4,
 "nbformat_minor": 4
}
