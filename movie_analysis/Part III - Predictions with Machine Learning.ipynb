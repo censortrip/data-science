{
 "cells": [
  {
   "cell_type": "markdown",
   "metadata": {},
   "source": [
    "# Movie Industry Analysis \n",
    "## Part III - Predictions with Machine Learning\n",
    "---\n",
    "This personal project was undertaken in order for me to become comfortable using Pandas for larger data sets and also for practicing basic machine learning tasks. \n",
    "\n",
    "It consists of Three Different Notebooks: \n",
    "\n",
    "* **Part I   - Data Preparation**\n",
    "* **Part II  - Data Exploration**\n",
    "* **Part III - Predictions with Machine Learning (This Notebook)**\n",
    "\n",
    "The data mining process is followed througout the project, both on a large scale and in Parts II & III on a case by case basis. The steps are: \n",
    "\n",
    "1. Defining the Objective\n",
    "2. Data Preparation\n",
    "3. Data Exploration\n",
    "4. Building (or Choosing) a Model\n",
    "5. Evaluating Model Results\n",
    "\n",
    "---\n",
    "## 1. Defining the Objective\n",
    "The overall objective of this project is to predict which directors will give a movie the best possible IMDB score for any given target year (between 1930 and 2015) using the prior 10 years worth of data for analysis.\n",
    "\n",
    "---\n",
    "## 2. Population Analysis\n",
    "The population data was prepared in Part I.\n",
    "\n",
    "## 3. Data Exploration\n",
    "Data Exploration was performed in Part II.\n",
    "\n",
    "## 4. Choosing a Model\n",
    "# TODO"
   ]
  },
  {
   "cell_type": "code",
   "execution_count": null,
   "metadata": {},
   "outputs": [],
   "source": []
  }
 ],
 "metadata": {
  "kernelspec": {
   "display_name": "Python 3",
   "language": "python",
   "name": "python3"
  },
  "language_info": {
   "codemirror_mode": {
    "name": "ipython",
    "version": 3
   },
   "file_extension": ".py",
   "mimetype": "text/x-python",
   "name": "python",
   "nbconvert_exporter": "python",
   "pygments_lexer": "ipython3",
   "version": "3.7.7"
  }
 },
 "nbformat": 4,
 "nbformat_minor": 4
}
