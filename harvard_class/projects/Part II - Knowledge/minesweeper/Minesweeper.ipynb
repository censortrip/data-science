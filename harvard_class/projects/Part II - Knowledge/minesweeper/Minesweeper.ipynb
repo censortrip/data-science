{
 "cells": [
  {
   "cell_type": "markdown",
   "metadata": {},
   "source": [
    "# Part II - Knowledge\n",
    "## Project 2a - Minesweeper\n",
    "\n",
    "[Course Link](https://cs50.harvard.edu/ai/)\n",
    "\n",
    "[Project Instructions](https://cs50.harvard.edu/ai/projects/1/minesweeper/)\n",
    "\n",
    "## Instructions\n",
    "see link above, if link is gone, see images in img file."
   ]
  },
  {
   "cell_type": "code",
   "execution_count": 92,
   "metadata": {},
   "outputs": [
    {
     "name": "stdout",
     "output_type": "stream",
     "text": [
      "pygame 1.9.6\r\n",
      "Hello from the pygame community. https://www.pygame.org/contribute.html\r\n"
     ]
    }
   ],
   "source": [
    "!python runner.py"
   ]
  },
  {
   "cell_type": "code",
   "execution_count": null,
   "metadata": {},
   "outputs": [],
   "source": [
    "cells = set()\n",
    "\n",
    "for i in range(0,8):\n",
    "    for j in range(0,8):\n",
    "        cells.add((i,j))\n",
    "           \n",
    "        \n",
    "print(len(cells))\n",
    "print(cells)"
   ]
  },
  {
   "cell_type": "code",
   "execution_count": null,
   "metadata": {},
   "outputs": [],
   "source": [
    "[{(0,0), 'safe'}, {(2,3), 'mine'}]"
   ]
  },
  {
   "cell_type": "code",
   "execution_count": null,
   "metadata": {},
   "outputs": [],
   "source": [
    "#cells = (rows, cols)\n",
    "\n",
    "test = {[0,0],[0,1],(0,2),\n",
    "        (1,0),(1,1),(1,2),\n",
    "        (2,0),(2,1),(2,2)}\n",
    "print(test)"
   ]
  },
  {
   "cell_type": "code",
   "execution_count": null,
   "metadata": {},
   "outputs": [],
   "source": [
    "import random\n",
    "\n",
    "s = set()\n",
    "\n",
    "for i in range(0,3):\n",
    "    for j in range(0,3):\n",
    "        s.add((i,j))\n",
    "        \n",
    "print(len(s))\n",
    "print(s)\n",
    "\n",
    "s.remove((0,0))\n",
    "      \n",
    "print(len(s))\n",
    "print(s)\n",
    "\n",
    "print(random.choice(list(s)))"
   ]
  },
  {
   "cell_type": "code",
   "execution_count": null,
   "metadata": {},
   "outputs": [],
   "source": [
    "if (1,1) in s:\n",
    "    print('yay')\n"
   ]
  },
  {
   "cell_type": "code",
   "execution_count": null,
   "metadata": {},
   "outputs": [],
   "source": [
    "print(list(s)[0])"
   ]
  },
  {
   "cell_type": "code",
   "execution_count": null,
   "metadata": {},
   "outputs": [],
   "source": [
    "for i in s:\n",
    "    print(i)"
   ]
  },
  {
   "cell_type": "code",
   "execution_count": 15,
   "metadata": {},
   "outputs": [
    {
     "data": {
      "text/plain": [
       "{(1, 1)}"
      ]
     },
     "execution_count": 15,
     "metadata": {},
     "output_type": "execute_result"
    }
   ],
   "source": [
    "s1 = {(1,1), (1,2)}\n",
    "s2 = {(3,3), (1,1), (2,2), (5,5)}\n",
    "s3 = {(1,1), (2,2)}\n",
    "s4 = {(8,8)}\n",
    "\n",
    "fake_kb = [s1, s2, s3, s4]\n",
    "\n",
    "s1.intersection(s2)"
   ]
  },
  {
   "cell_type": "code",
   "execution_count": null,
   "metadata": {},
   "outputs": [],
   "source": [
    "s1.symmetric_difference(s2)"
   ]
  },
  {
   "cell_type": "code",
   "execution_count": null,
   "metadata": {},
   "outputs": [],
   "source": [
    "print(fake_kb)"
   ]
  },
  {
   "cell_type": "code",
   "execution_count": null,
   "metadata": {},
   "outputs": [],
   "source": [
    "for i in range(0, len(fake_kb)):\n",
    "    print(f'Testing first set: {fake_kb[i]}')\n",
    "    for j in range(0, len(fake_kb)):\n",
    "        print(f'Testing set {i} against set  {j}')\n",
    "        # check for intersection to ensure it makes sense to continue\n",
    "        if fake_kb[i] == fake_kb[j]:\n",
    "            print(f'these sets were equal: set 1: {fake_kb[i]}, set2: {fake_kb[j]}')\n",
    "            pass\n",
    "        elif not fake_kb[i].intersection(fake_kb[j]):\n",
    "            print(f'no common cells between {fake_kb[i]} and {fake_kb[j]}')\n",
    "            pass\n",
    "        else:\n",
    "            if fake_kb[i] > fake_kb[j]:\n",
    "                #subtract fake_kb[i] - fake_kb[j]\n",
    "                #print(len(fake_kb[i]) - len(fake_kb[j]))\n",
    "                print(f'New Sentence: {fake_kb[i].symmetric_difference(fake_kb[j])}')\n",
    "            else:\n",
    "                #subtract fake_kb[j] - fake_kb[i]\n",
    "                #print(len(fake_kb[j]) - len(fake_kb[i]))\n",
    "                 print(f'New Sentence: {fake_kb[j].symmetric_difference(fake_kb[i])}')\n",
    "           "
   ]
  },
  {
   "cell_type": "code",
   "execution_count": 25,
   "metadata": {},
   "outputs": [
    {
     "data": {
      "text/plain": [
       "[{(1, 1), (1, 2)},\n",
       " {(1, 1), (2, 2), (3, 3), (5, 5)},\n",
       " {(1, 1), (2, 2)},\n",
       " {(8, 8)}]"
      ]
     },
     "execution_count": 25,
     "metadata": {},
     "output_type": "execute_result"
    }
   ],
   "source": [
    "fake_kb"
   ]
  },
  {
   "cell_type": "code",
   "execution_count": 63,
   "metadata": {},
   "outputs": [
    {
     "name": "stdout",
     "output_type": "stream",
     "text": [
      "Testing Set: {(1, 2), (1, 1)}\n",
      "{(1, 2), (1, 1)} {(1, 1), (3, 3), (5, 5), (2, 2)}\n",
      "{(1, 2), (1, 1)} {(1, 1), (2, 2)}\n",
      "{(1, 2), (1, 1)} {(8, 8)}\n",
      "Testing Set: {(1, 1), (3, 3), (5, 5), (2, 2)}\n",
      "{(1, 1), (3, 3), (5, 5), (2, 2)} {(1, 1), (2, 2)}\n",
      "{(1, 1), (3, 3), (5, 5), (2, 2)} {(8, 8)}\n",
      "Testing Set: {(1, 1), (2, 2)}\n",
      "{(1, 1), (2, 2)} {(8, 8)}\n"
     ]
    }
   ],
   "source": [
    "for i in range(0, len(fake_kb)-1):\n",
    "    print(f'Testing Set: {fake_kb[i]}')\n",
    "    for j in range(i+1, len(fake_kb)):\n",
    "        print(fake_kb[i], fake_kb[j])\n",
    "#        if fake_kb[i] == fake_kb[j]:\n",
    "#            continue\n",
    "#             print(f'YOU SHOULD NEVER SEE THIS 1!!!!')\n",
    "#         elif not fake_kb[i].intersection(fake_kb[j]):\n",
    "#             continue\n",
    "#             print(f'YOU SHOULD NEVER SEE THIS 2!!!!')\n",
    "#         else:\n",
    "#             print(f'New Sentence {i}: {fake_kb[i].symmetric_difference(fake_kb[j])}')"
   ]
  },
  {
   "cell_type": "code",
   "execution_count": 72,
   "metadata": {},
   "outputs": [],
   "source": [
    "s1 = {(1,1), (1,2)}\n",
    "\n",
    "s3 = {(1,1), (1,4), (1,5)}"
   ]
  },
  {
   "cell_type": "code",
   "execution_count": 73,
   "metadata": {},
   "outputs": [
    {
     "data": {
      "text/plain": [
       "{(1, 4), (1, 5)}"
      ]
     },
     "execution_count": 73,
     "metadata": {},
     "output_type": "execute_result"
    }
   ],
   "source": [
    "s3 - s1"
   ]
  },
  {
   "cell_type": "code",
   "execution_count": null,
   "metadata": {},
   "outputs": [],
   "source": []
  },
  {
   "cell_type": "code",
   "execution_count": null,
   "metadata": {},
   "outputs": [],
   "source": []
  },
  {
   "cell_type": "code",
   "execution_count": null,
   "metadata": {},
   "outputs": [],
   "source": []
  }
 ],
 "metadata": {
  "kernelspec": {
   "display_name": "Python 3",
   "language": "python",
   "name": "python3"
  },
  "language_info": {
   "codemirror_mode": {
    "name": "ipython",
    "version": 3
   },
   "file_extension": ".py",
   "mimetype": "text/x-python",
   "name": "python",
   "nbconvert_exporter": "python",
   "pygments_lexer": "ipython3",
   "version": "3.7.7"
  }
 },
 "nbformat": 4,
 "nbformat_minor": 4
}
