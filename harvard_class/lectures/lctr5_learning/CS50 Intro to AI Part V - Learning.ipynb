{
 "cells": [
  {
   "cell_type": "markdown",
   "metadata": {},
   "source": [
    "# Intro to Artificial Intelligence with Python\n",
    "\n",
    "## Part V - Learning\n",
    "\n",
    "Harvard CS50 Introduction to Artificial Intelligence with Python is an online course that I took in the Spring of 2020. It consisted of 6 lectures of which I have a notebook for each. Each lecture had 2 projects, those are located in the projects folder in the same directory as this notebook.\n",
    "\n",
    "[Course Link](https://cs50.harvard.edu/ai/)\n",
    "\n",
    "[Lecture Link](https://www.youtube.com/watch?v=E4M_IQG0d9g&list=PLhQjrBD2T382Nz7z1AEXmioc27axa19Kv&index=6)"
   ]
  },
  {
   "cell_type": "markdown",
   "metadata": {},
   "source": [
    "---\n",
    "## Machine Learning\n",
    "\n",
    "**Supervised Learning** - given a data set of input-output pairs, learn a function to map inputs to outputs. There a number of supervised machine learnining tasks or types:\n",
    "* **Classification** - task of learning a function mapping an input point to a discrete category (example, predicting weather using historical data stored in some header labled table)\n",
    "    * **nearest-neighbor classification** - a classifiation algorithm that, given an input, chooses the class (or category) of the nearest data point to that input\n",
    "    * **k-nearest-neighbor classification** - a classification algorithm that, given an input, chosses teh most common class out of the k nearest data point to that input\n",
    "    \n",
    "  \n",
    "\n",
    "* **** -\n",
    "\n",
    "**Unsupervised Learning** -"
   ]
  },
  {
   "cell_type": "code",
   "execution_count": null,
   "metadata": {},
   "outputs": [],
   "source": []
  }
 ],
 "metadata": {
  "kernelspec": {
   "display_name": "Python 3",
   "language": "python",
   "name": "python3"
  },
  "language_info": {
   "codemirror_mode": {
    "name": "ipython",
    "version": 3
   },
   "file_extension": ".py",
   "mimetype": "text/x-python",
   "name": "python",
   "nbconvert_exporter": "python",
   "pygments_lexer": "ipython3",
   "version": "3.7.7"
  }
 },
 "nbformat": 4,
 "nbformat_minor": 4
}
