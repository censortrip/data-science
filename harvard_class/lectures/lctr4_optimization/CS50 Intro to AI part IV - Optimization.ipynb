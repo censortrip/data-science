{
 "cells": [
  {
   "cell_type": "markdown",
   "metadata": {},
   "source": [
    "# Intro to Artificial Intelligence with Python\n",
    "\n",
    "## Part IV - Optimization\n",
    "\n",
    "Harvard CS50 Introduction to Artificial Intelligence with Python is an online course that I took in the Spring of 2020. It consisted of 6 lectures of which I have a notebook for each. Each lecture had 2 projects, those are located in the projects folder in the same directory as this notebook.\n",
    "\n",
    "[Course Link](https://cs50.harvard.edu/ai/)\n",
    "\n",
    "[Lecture Link](https://www.youtube.com/watch?v=TA5ZJm1ZYS4&list=PLhQjrBD2T382Nz7z1AEXmioc27axa19Kv&index=5)"
   ]
  },
  {
   "cell_type": "markdown",
   "metadata": {},
   "source": [
    "**Optimization** - choosing the best option from a set of options\n",
    "\n",
    "\n",
    "**local search** - search algorithms that maintain a single node and search by moving to a neighboring node, useful when just finding the goal is important, not the path to the goal.\n",
    "\n",
    "**state-space landscape** vertical bar representation of some states value cost or objective\n",
    "\n",
    "**current state** - the state currently at\n",
    "\n",
    "**neighbor states** - states close by the current state, to the left and/or right\n",
    "\n",
    "**global maximum** - single state with largest value among all others in a state-scape landscape\n",
    "\n",
    "**local maxima** - largest state in a group of neighbors (not necessarily the global max)\n",
    "\n",
    "**objective function** - a function created to calculate the global maximum\n",
    "\n",
    "**global minimum** - single state with the lowest cost among all others in a state-scape landscape\n",
    "\n",
    "**local maxima** - smallest state in a group of neighbors (not necessarily the global min)\n",
    "\n",
    "**cost function** - a function that calcualtes the global minimum\n",
    "\n",
    "### Hill Climibing Algorithm\n",
    "An algorithm that calculates global max and min by starting at a certain state and checking nearby neighbor values against on another. Here is a sample hill climb function:\n",
    "* function Hill-Climb(problem):\n",
    "    * current = initial state of problem\n",
    "    * repeat with loop:\n",
    "        * neighbor = highestor lowest valued neighbor\n",
    "        * if neighbor not better than current state:\n",
    "            * return current state\n",
    "        * else, set current = neighbor\n",
    "        \n",
    "### Hill Climbing Variants\n",
    "* **Steepest Ascent** - choose the highest or lowest valued neigbors)\n",
    "\n",
    "* **Stochastic** - choose randomly from higher or lower-valued neighbors\n",
    "\n",
    "* **First-Choice** - choose the first higher (or lower) valued neighbor\n",
    "\n",
    "One major limitation of all the above variants is that they can end up getting stuck at a local maxima or minima without locating the global max/min, and therefore are not guaranteed to be optimal. One way to reduce the risk of this happening is to repeat the process multiple times, see below:\n",
    "\n",
    "* **random-restart** - conduct hill climbing multiple times\n",
    "\n",
    "* **local beam search** - chooses the k-highest (or lowest) valued neihbors\n",
    "\n",
    "### Hill Climbing Examples\n",
    "Both of the below examples come from hostpitals.py, the first is a steepest ascent hill climb, the second is a random-restart"
   ]
  },
  {
   "cell_type": "code",
   "execution_count": 10,
   "metadata": {},
   "outputs": [
    {
     "name": "stdout",
     "output_type": "stream",
     "text": [
      "Initial state: cost 108\n",
      "Found better neighbor: cost 102\n",
      "Found better neighbor: cost 96\n",
      "Found better neighbor: cost 89\n",
      "Found better neighbor: cost 81\n",
      "Found better neighbor: cost 79\n",
      "Found better neighbor: cost 71\n",
      "Found better neighbor: cost 69\n",
      "Found better neighbor: cost 68\n",
      "Found better neighbor: cost 63\n",
      "Found better neighbor: cost 61\n",
      "Found better neighbor: cost 60\n",
      "Found better neighbor: cost 58\n",
      "Found better neighbor: cost 56\n",
      "Found better neighbor: cost 55\n",
      "Found better neighbor: cost 54\n"
     ]
    }
   ],
   "source": [
    "from hospitals import *\n",
    "\n",
    "# Steepest Ascent Hill Climb\n",
    "\n",
    "# Create a new space and add houses randomly\n",
    "s = Space(height=10, width=20, num_hospitals=3)\n",
    "for i in range(15):\n",
    "    s.add_house(random.randrange(s.height), random.randrange(s.width))\n",
    "\n",
    "# Use local search to determine hospital placement\n",
    "hospitals = s.hill_climb(image_prefix=\"hospitals\", log=True)"
   ]
  },
  {
   "cell_type": "code",
   "execution_count": 13,
   "metadata": {},
   "outputs": [
    {
     "name": "stdout",
     "output_type": "stream",
     "text": [
      "0: Found new best state: cost 68\n",
      "1: Found new best state: cost 60\n",
      "2: Found state: cost 64\n",
      "3: Found new best state: cost 48\n",
      "4: Found new best state: cost 40\n",
      "5: Found state: cost 51\n",
      "6: Found state: cost 41\n",
      "7: Found new best state: cost 38\n",
      "8: Found state: cost 42\n",
      "9: Found state: cost 51\n",
      "10: Found state: cost 40\n",
      "11: Found state: cost 40\n",
      "12: Found state: cost 62\n",
      "13: Found state: cost 58\n",
      "14: Found state: cost 40\n",
      "15: Found state: cost 38\n",
      "16: Found state: cost 62\n",
      "17: Found state: cost 54\n",
      "18: Found state: cost 46\n",
      "19: Found state: cost 48\n"
     ]
    }
   ],
   "source": [
    "# Random Restart Hill Climb \n",
    "\n",
    "s = Space(height=10, width=20, num_hospitals=3)\n",
    "for i in range(15):\n",
    "    s.add_house(random.randrange(s.height), random.randrange(s.width))\n",
    "\n",
    "# Use local search to determine hospital placement\n",
    "hospitals = s.random_restart(20,image_prefix=\"hospitals\", log=True)\n"
   ]
  },
  {
   "cell_type": "markdown",
   "metadata": {},
   "source": [
    "**The problem with all of the above examples is that they only find higher or lower solutions and do not attempt to leave their neighbor space. As mentioned previously, this leads to situation where less-ideal local maxima or local minima are discovered rather than the global ones**\n",
    "\n",
    "## Simulated Annealing\n",
    "An algorithm that isn't just forward movign like hill climbing, it also considers neighbors that don't necessarily appear to be going in the right direction\n",
    "\n",
    "* Early on, higher \"temperature\": that is, more likely to accept neighbors that are worse than current state\n",
    "\n",
    "* Later on, lower \"temperature\": that is, less likely to accept neighbors that are worse than current state\n",
    "\n",
    "Here is a sample simulated annealing function:\n",
    "* function SimulatedAnnealing(problem, max(number of potential neighbors):\n",
    "    * current = initial state of problem\n",
    "    * for loop for  max number of times (given as func arg):\n",
    "        * Calculate T = Temperature(t) (higher at start, lower at end)\n",
    "        * pick random neighbor from current state:\n",
    "        * calculate $ \\delta E$ = how much better neighbor is than current\n",
    "        * if $ \\delta E$  > 0: \n",
    "            * neighbor is better, make current = neighbor\n",
    "        * with probability e^deltaE / T, set current = neigbor\n",
    "    * return current\n",
    "        \n",
    "**NOTE deltaE is $\\delta E$, i just couldn't get the formula right in markdown.**\n",
    "\n",
    "\n",
    "## Traveling Salesman Problem\n",
    "\n"
   ]
  },
  {
   "cell_type": "code",
   "execution_count": null,
   "metadata": {},
   "outputs": [],
   "source": []
  }
 ],
 "metadata": {
  "kernelspec": {
   "display_name": "Python 3",
   "language": "python",
   "name": "python3"
  },
  "language_info": {
   "codemirror_mode": {
    "name": "ipython",
    "version": 3
   },
   "file_extension": ".py",
   "mimetype": "text/x-python",
   "name": "python",
   "nbconvert_exporter": "python",
   "pygments_lexer": "ipython3",
   "version": "3.7.7"
  }
 },
 "nbformat": 4,
 "nbformat_minor": 4
}
