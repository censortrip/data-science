{
 "cells": [
  {
   "cell_type": "markdown",
   "metadata": {},
   "source": [
    "# Databases\n",
    "---\n",
    "This notebook details how to use Python to interact with databases.\n",
    "\n",
    "It's main focus is on conneting to databases and methods for getting different types of data into said databases.\n",
    "\n",
    "Four different databases are used in each section to show the similarities as well as the slight differences between handling each. \n",
    "\n",
    "## Index\n",
    "---\n",
    "1. Intro to Databases\n",
    "2. Creating Databases  \n",
    "3. Creating Tables\n",
    "4. Manually Adding Data to a Table\n",
    "5. Adding CSV & Excel File Data to a Table\n",
    "6. Adding JSON File Data to a Table\n",
    "7. Adding JSON data From Web API\n",
    "8. Adding Data From the Web Using Web Scraping"
   ]
  },
  {
   "cell_type": "markdown",
   "metadata": {},
   "source": [
    "## 1. Intro to Databases\n",
    "---\n",
    "There are two main types of databases, relational and NoSQL. **Relational databases** store their data in a tabular format and use SQL as their query language, while **NoSQL databases** store data in a JSON-like format and use their own query languages rather than SQL. \n",
    "\n",
    "In this notebook, 4 databases are used:\n",
    "\n",
    "1. **SQLite** - A file based relational database. Simple to use, but contains less features and is less secure than the other examples. SQLite is good for small projects as well as for developing and testing purposes.\n",
    "\n",
    "\n",
    "2. **MySQL & PostgreSQL** - Both of these databases are relational and work based on a \\'client-server\\' model which requires a DB server to set up and run over the network. They have more features, are more secure, and therefore are good for production level systems. \n",
    "\n",
    "\n",
    "3. **MongoDB** - The most popular NoSQL database, MongoDB performs on the same level as MySQl and PostrgreSQL, however the way in which is stores and interacts with data is different as it does not use tabular data structures or SQL.  \n",
    "\n",
    "Each section in this notebook will contain an example for every database above to show the similarities and differences between each. "
   ]
  },
  {
   "cell_type": "markdown",
   "metadata": {},
   "source": [
    "## 2. Creating Databases\n",
    "---\n",
    "**Important Note:**\n",
    "Most production databases and their table structure are usually created outside of a python program. "
   ]
  },
  {
   "cell_type": "markdown",
   "metadata": {},
   "source": [
    "### Creating Databases\n",
    "In order to create a database, it is necessary to already have the database client/server software installed and set up on your computer prior to creating the database (excepting SQLite as it is a file).\n",
    "\n",
    "While Python can be used to create databases on a server, it is much easier to do that part either using the database servers software or through the command line. I'm showing this just so you can see that it can be done."
   ]
  },
  {
   "cell_type": "markdown",
   "metadata": {},
   "source": [
    "### Database Imports, global variables , and global functions"
   ]
  },
  {
   "cell_type": "code",
   "execution_count": 1,
   "metadata": {},
   "outputs": [],
   "source": [
    "# Each db requires external import packages to work. There are multiple \n",
    "# different packages for each, in this notebook I have tried to use either the\n",
    "# most popular or the one created specifically for each db by its creators.\n",
    "\n",
    "import requests\n",
    "import sqlite3           # sqlite import\n",
    "import mysql.connector   # MySQL import\n",
    "import psycopg2          # postgreSQL import\n",
    "import pymongo           # MongoDB import\n",
    "import pandas as pd\n",
    "from load_dbs import *\n",
    "\n",
    "# Variables used in examples \n",
    "db = 'movies_db'\n",
    "db_table = 'movies'"
   ]
  },
  {
   "cell_type": "markdown",
   "metadata": {},
   "source": [
    "### SQLite\n",
    "The first three database examples use relational databases. These databases have structured pre-defined table schemas and data is stored in a tabular (row/column) format.\n",
    "\n",
    "SQLite3 is the simplest type of database as it is just a file and does not require a server to use. Because of this, sqlite datbases are handled differenlty than MySQL and PostgreSQL in many cases and I comment on this in the code whenever necessary. "
   ]
  },
  {
   "cell_type": "markdown",
   "metadata": {},
   "source": [
    "**The database interaction process in Python follows 3 basic steps for all the database systems:**\n",
    "\n",
    "1. Connect to the Database (or database server if no database created)\n",
    "2. Perform queries on the database\n",
    "3. Close the database connection\n",
    "\n",
    "This process is the same for all the examples so I only comment these three steps in the example below."
   ]
  },
  {
   "cell_type": "code",
   "execution_count": 2,
   "metadata": {},
   "outputs": [
    {
     "name": "stdout",
     "output_type": "stream",
     "text": [
      "<sqlite3.Connection object at 0x000001E9BB410650>\n",
      "\n",
      "movies_db created successfully\n",
      "\n",
      "movies_db connection closed.\n",
      "\n"
     ]
    }
   ],
   "source": [
    "# sqlite3.connect() creates the database file if not already created,\n",
    "# otherwise it simply connects to the database file.\n",
    "\n",
    "# 1. Connect to the Database Server\n",
    "conn = sqlite3.connect(f'data/{db}')   \n",
    "print(conn)                                 \n",
    "                                       \n",
    "# 2. Perform Queries (not necessary here as db already created in step 1)\n",
    "print(f'\\n{db} created successfully')\n",
    "\n",
    "# 3. Close the Server Connection\n",
    "conn.close()                            \n",
    "print(f'\\n{db} connection closed.\\n')"
   ]
  },
  {
   "cell_type": "markdown",
   "metadata": {},
   "source": [
    "### MySQL\n",
    "MySQL is handled differently than SQlite as it must connect to the MySQL database server in order to create the database. In order to connect to a db server you neeed to know the servers host, username, and password.\n",
    "\n",
    "#### A note on cursors\n",
    "In order for queries to be performed a 'cursor' object must be created. All database packages have methods for doing so, and they are all virtually the same, so this example is the only one where I comment when the curosr is created. "
   ]
  },
  {
   "cell_type": "code",
   "execution_count": 3,
   "metadata": {},
   "outputs": [
    {
     "name": "stdout",
     "output_type": "stream",
     "text": [
      "<mysql.connector.connection.MySQLConnection object at 0x000001E9BB4384C8>\n",
      "\n",
      "movies_db created successfully\n",
      "\n",
      "movies_db connection closed.\n",
      "\n"
     ]
    }
   ],
   "source": [
    "conn = mysql.connector.connect(host='localhost',\n",
    "                               user='root',\n",
    "                               password='testin123!')\n",
    "print(conn)\n",
    "\n",
    "# Create cursor and use it to perform queries\n",
    "cur = conn.cursor()\n",
    "cur.execute(f'CREATE DATABASE IF NOT EXISTS {db};')\n",
    "\n",
    "print(f'\\n{db} created successfully')\n",
    "\n",
    "cur.close()\n",
    "conn.close()\n",
    "print(f'\\n{db} connection closed.\\n')"
   ]
  },
  {
   "cell_type": "markdown",
   "metadata": {},
   "source": [
    "### PostgreSQL\n",
    "Connecting to the database server using Postgre is very similar to MySQL, however there are a couple of important differences: \n",
    "\n",
    "1. MySQL has slightly different SQL syntax than Postgre in some cases. In the MySQL example above, the SQL syntax 'IF NOT EXISTS' is used to check if the db has already been created and if so simply continues on without re-creating it or throwing an error. Postgre does not have the 'IF NOT' syntax and will throw an error when attempting to create a database that already exists. Here I use a try/catch clause to handle this proplem. \n",
    "\n",
    "\n",
    "2. conn.autocommit is needed to allow Postgre to perform the create database query\n",
    "\n",
    "**Important Note:**\n",
    "It is best practice to use a try/catch clause whenever dealing with external connections of any type, therefore from here on out I will use this convention"
   ]
  },
  {
   "cell_type": "code",
   "execution_count": 4,
   "metadata": {},
   "outputs": [
    {
     "name": "stdout",
     "output_type": "stream",
     "text": [
      "<connection object at 0x000001E9BB37DE18; dsn: 'user=postgres password=xxx host=localhost', closed: 0>\n",
      "\n",
      "Error: movies_db already exists on PostgresSQL server\n",
      "\n",
      "movies_db connection closed.\n"
     ]
    }
   ],
   "source": [
    "try:\n",
    "    conn = psycopg2.connect(host='localhost',\n",
    "                            user='postgres',\n",
    "                            password='testin123!')\n",
    "    conn.autocommit = True\n",
    "    print(conn)\n",
    "\n",
    "    # Perform Queries Using Cursor \n",
    "    cur = conn.cursor()\n",
    "    cur.execute(f'CREATE DATABASE {db};')\n",
    "    print(f'Database: {db} created successfully')\n",
    "except:\n",
    "    print(f'\\nError: {db} already exists on PostgresSQL server')\n",
    "    \n",
    "cur.close()\n",
    "conn.close()\n",
    "print(f'\\n{db} connection closed.')"
   ]
  },
  {
   "cell_type": "markdown",
   "metadata": {},
   "source": [
    "### MongoDB\n",
    "MongoDB is a NoSQL database which means it stores its data in an unstructured JSON-like data format and uses its own query syntax rather than SQL.\n",
    "\n",
    "MongoDb handles the creation of databases very simliarly to SQLite. All you have to do is connect to the desired database, if it exists a connection is made, if not, then the database is created and then the connection is made."
   ]
  },
  {
   "cell_type": "code",
   "execution_count": 5,
   "metadata": {},
   "outputs": [
    {
     "name": "stdout",
     "output_type": "stream",
     "text": [
      "Database(MongoClient(host=['localhost:27017'], document_class=dict, tz_aware=False, connect=True), 'movies')\n"
     ]
    }
   ],
   "source": [
    "# Note: only the host and port number are required to connect\n",
    "# to the database server, once database is created a username and \n",
    "# password can be created for that specific database. \n",
    "try:\n",
    "    conn = pymongo.MongoClient('localhost', 27017)\n",
    "\n",
    "    # Note: db won't show up on server until collection(table) \n",
    "    # is created and data is added. \n",
    "    mongo_db = conn.movies #can also use conn['airport']\n",
    "    print(mongo_db)\n",
    "except:\n",
    "    print('\\nError: Could not connect to database.')\n",
    "\n",
    "conn.close()"
   ]
  },
  {
   "cell_type": "markdown",
   "metadata": {},
   "source": [
    "## 3. Creating Tables\n",
    "---\n",
    "In all relational databases, a table schema (or blueprint) is used to set up all the column (or field) names as well as what types of data can go into each. \n",
    "\n",
    "Because this is not an in-depth database design tutorial, I only use one simple table for this tutorial"
   ]
  },
  {
   "cell_type": "markdown",
   "metadata": {},
   "source": [
    "### SQLite"
   ]
  },
  {
   "cell_type": "code",
   "execution_count": 3,
   "metadata": {},
   "outputs": [
    {
     "name": "stdout",
     "output_type": "stream",
     "text": [
      "connected to the movies_db database...\n",
      "\n",
      "Empty DataFrame\n",
      "Columns: [id_, title, year_, duration, director]\n",
      "Index: []\n",
      "\n",
      "movies_db database connection closed.\n",
      "\n"
     ]
    }
   ],
   "source": [
    "#1. Connect to Database\n",
    "conn = sqlite_conn(db)\n",
    "\n",
    "\n",
    "#2. Perform Query\n",
    "try:\n",
    "    cur = conn.cursor()\n",
    "    cur.execute('''CREATE TABLE IF NOT EXISTS movies (\n",
    "                   id_ integer PRIMARY KEY,\n",
    "                   title text NOT NULL,\n",
    "                   year_ integer NOT NULL,\n",
    "                   duration integer NOT NULL,\n",
    "                   director text NOT NULL);\n",
    "                ''')\n",
    "    print(f'connected to the {db} database...')\n",
    "except:\n",
    "    print('\\nError: could not create table')\n",
    "    \n",
    "# An empty pandas dataframe is returned as there are no movie entries yet.\n",
    "# Note that pandas is discussed in detail later.\n",
    "table = pd.read_sql_query(f'SELECT * from movies', conn)\n",
    "print()\n",
    "print(table)\n",
    "\n",
    "\n",
    "# 3. Close Connection\n",
    "close_db('sqlite', db, conn, cur)"
   ]
  },
  {
   "cell_type": "markdown",
   "metadata": {},
   "source": [
    "### MySQL"
   ]
  },
  {
   "cell_type": "code",
   "execution_count": 3,
   "metadata": {},
   "outputs": [
    {
     "name": "stdout",
     "output_type": "stream",
     "text": [
      "connected to the movies_db database...\n",
      "\n",
      "Empty DataFrame\n",
      "Columns: [id_, title, year_, duration, director]\n",
      "Index: []\n",
      "\n",
      "movies_db database connection closed.\n",
      "\n"
     ]
    }
   ],
   "source": [
    "# 1. Connect to Database\n",
    "try:\n",
    "    conn = mysql.connector.connect(host='localhost',\n",
    "                                   user='root',\n",
    "                                   password='testin123!',\n",
    "                                   database=db)\n",
    "    print(f'connected to the {db} database...')\n",
    "except:\n",
    "    print(f'Error: could not connect to {db} database.')\n",
    "\n",
    "    \n",
    "# 2. Perform Query\n",
    "try:\n",
    "    cur = conn.cursor()\n",
    "    cur.execute('''CREATE TABLE IF NOT EXISTS movies (\n",
    "                   id_ INT AUTO_INCREMENT PRIMARY KEY,\n",
    "                   title VARCHAR(75) NOT NULL,\n",
    "                   year_ INT NOT NULL,\n",
    "                   duration INT NOT NULL,\n",
    "                   director VARCHAR(75) NOT NULL);\n",
    "                ''')\n",
    "except:\n",
    "    print('\\nError: could not create table.')\n",
    "    \n",
    "table = pd.read_sql_query(f'SELECT * FROM movies', conn)\n",
    "print()\n",
    "print(table)\n",
    "\n",
    "\n",
    "# 3. Close Connection\n",
    "close_db('mysql', db, conn, cur)"
   ]
  },
  {
   "cell_type": "markdown",
   "metadata": {},
   "source": [
    "### PostgreSQL\n",
    "Note: Almost all the code below is identical to the MySQL example above, except for slight SQL syntax differences bewteen the insert queries."
   ]
  },
  {
   "cell_type": "code",
   "execution_count": 3,
   "metadata": {},
   "outputs": [
    {
     "name": "stdout",
     "output_type": "stream",
     "text": [
      "connected to the movies_db database...\n",
      "\n",
      "Empty DataFrame\n",
      "Columns: [id_, title, year_, duration, director]\n",
      "Index: []\n",
      "\n",
      "movies_db database connection closed.\n",
      "\n"
     ]
    }
   ],
   "source": [
    "# 1. Connect to Database\n",
    "try:\n",
    "    conn = psycopg2.connect(host=\"localhost\",\n",
    "                            user=\"postgres\",\n",
    "                            password=\"testin123!\",\n",
    "                            database=db)\n",
    "    print(f'connected to the {db} database...')\n",
    "except:\n",
    "    print(f'Error: could not connect to {db} database.')\n",
    "\n",
    "    \n",
    "# 2. Perform Query\n",
    "try:\n",
    "    conn.autocommit = True\n",
    "    cur = conn.cursor()\n",
    "    cur.execute('''CREATE TABLE movies (\n",
    "                   id_ SERIAL PRIMARY KEY,\n",
    "                   title VARCHAR(75) NOT NULL,\n",
    "                   year_ INTEGER NOT NULL,\n",
    "                   duration INTEGER NOT NULL,\n",
    "                   director VARCHAR(75) NOT NULL);\n",
    "                ''')\n",
    "except:\n",
    "    print('\\nError: could not create table, possibly already exists.')\n",
    "    \n",
    "table = pd.read_sql_query(f'SELECT * FROM movies', conn)\n",
    "print()\n",
    "print(table)\n",
    "\n",
    "\n",
    "# 3. Close Connection\n",
    "close_db('postgre', db, conn, cur)"
   ]
  },
  {
   "cell_type": "markdown",
   "metadata": {},
   "source": [
    "### MongoDB\n",
    "MongoDB does not have tables like the above relational databases, instead it uses what are called 'collections' of data stored in a JSON format."
   ]
  },
  {
   "cell_type": "code",
   "execution_count": 3,
   "metadata": {},
   "outputs": [
    {
     "name": "stdout",
     "output_type": "stream",
     "text": [
      "connected to the movies_db database...\n",
      "\n",
      "movies collection created in the movies_db database.\n",
      "\n",
      "Empty DataFrame\n",
      "Columns: []\n",
      "Index: []\n",
      "\n",
      "movies_db database connection closed.\n",
      "\n"
     ]
    }
   ],
   "source": [
    "# 1. Connect to Database\n",
    "conn, movie_db = mongo_conn(db)\n",
    " \n",
    "\n",
    "# 2. Perform Query\n",
    "# Note that here we are trying to use the movies collection, if it does not\n",
    "# exist it is created, if it does exist, then it is available to use. \n",
    "try:\n",
    "    movies_table = movie_db.movies\n",
    "    print(f'\\nmovies collection created in the {db} database.')\n",
    "except:\n",
    "    print('\\nError: could not create table, possibly already exists.')\n",
    "\n",
    "# Note: find() is same as select * in sql\n",
    "table = pd.DataFrame(list(movies_table.find()))\n",
    "print()\n",
    "print(table)        \n",
    "\n",
    "\n",
    "# 3. Close Connection\n",
    "close_db('mongo', db, conn)"
   ]
  },
  {
   "cell_type": "markdown",
   "metadata": {},
   "source": [
    "## 4. Manually Adding Data to a Table\n",
    "---\n",
    "Up to this point we have just created the 'movies_db' database along with a single table named 'movies' to hold individual movie data. The rest of the sections in this tutorial focus on the many ways to insert data and retrieve data from a database. This next section shows how to do this in Python itself rather than from an external source.\n",
    "\n",
    "The examples in this section all add a single movie. The variables used in all examples are below, MAKE SURE TO RUN THE CELL BELOW BEFORE PROCEEDING."
   ]
  },
  {
   "cell_type": "markdown",
   "metadata": {},
   "source": [
    "### SQLite"
   ]
  },
  {
   "cell_type": "code",
   "execution_count": 6,
   "metadata": {},
   "outputs": [
    {
     "name": "stdout",
     "output_type": "stream",
     "text": [
      "\n",
      "Error on insertion, Jaws(1975) already exists in the database.\n",
      "\n",
      "   id_ title  year_  duration          director\n",
      "0    1  Jaws   1975       124  Steven Spielberg\n",
      "\n",
      "movies_db database connection closed.\n",
      "\n"
     ]
    }
   ],
   "source": [
    "# I created a special function to load the data\n",
    "# note this was done to avoid using global vars\n",
    "id_, title, year_, duration, director = get_movie_data()\n",
    "\n",
    "#1. Connect to Database\n",
    "conn = sqlite_conn(db)\n",
    "\n",
    "\n",
    "#2. Perform Query\n",
    "# Test if movie in db prior to inserting to prevent duplicate entries based\n",
    "# on title and year\n",
    "test_query = f'SELECT * FROM {db_table} WHERE title=\"{title}\" AND year_={year_};'\n",
    "cur = conn.cursor()\n",
    "cur.execute(test_query) \n",
    "query_results = cur.fetchall()\n",
    "\n",
    "if len(query_results) == 0:\n",
    "    try:\n",
    "        cur.execute(f'INSERT INTO {db_table} VALUES (?,?,?,?,?)', \n",
    "                    (id_, title, year_, duration, director))\n",
    "        conn.commit()\n",
    "    except:\n",
    "        print('\\nError: could not insert data into database.')\n",
    "else:\n",
    "    print(f'\\nError on insertion, {title}({year_}) already exists in the database.')\n",
    "\n",
    "# Note the \"\" around the title, this is required for the query to work\n",
    "# Also note that the title is Jaws for this example\n",
    "table = pd.read_sql_query(f'SELECT * FROM {db_table} WHERE title=\"{title}\"', conn)\n",
    "print()\n",
    "print(table)\n",
    "\n",
    "\n",
    "# 3. Close Connection\n",
    "close_db('sqlite', db, conn, cur)"
   ]
  },
  {
   "cell_type": "markdown",
   "metadata": {},
   "source": [
    "### MySQL"
   ]
  },
  {
   "cell_type": "code",
   "execution_count": 7,
   "metadata": {},
   "outputs": [
    {
     "name": "stdout",
     "output_type": "stream",
     "text": [
      "\n",
      "Error on insertion, Jaws(1975) already exists in the database.\n",
      "\n",
      "   id_ title  year_  duration          director\n",
      "0    1  Jaws   1975       124  Steven Spielberg\n",
      "\n",
      "movies_db database connection closed.\n",
      "\n"
     ]
    }
   ],
   "source": [
    "id_, title, year_, duration, director = get_movie_data()\n",
    "\n",
    "# 1. Connect to Database\n",
    "conn = mysql_conn(db)\n",
    " \n",
    "    \n",
    "# 2. Perform Query\n",
    "# Test to see if movie already in db before insertion\n",
    "test_query = f'SELECT * FROM {db_table} WHERE title=\"{title}\" AND year_={year_};'\n",
    "cur = conn.cursor()\n",
    "cur.execute(test_query)\n",
    "query_results = cur.fetchall()\n",
    "\n",
    "if len(query_results) == 0:  \n",
    "    try:\n",
    "        cur.execute(f'INSERT INTO {db_table} VALUES (%s,%s,%s,%s,%s)',\n",
    "                    (id_, title, year_, duration, director))\n",
    "        conn.commit()\n",
    "    except:\n",
    "        print('\\nError: could not insert data into database.')\n",
    "else:\n",
    "    print(f'\\nError on insertion, {title}({year_}) already exists in the database.')\n",
    "    \n",
    "table = pd.read_sql_query(f'SELECT * FROM {db_table} WHERE  title=\"{title}\"', conn)\n",
    "print()\n",
    "print(table)\n",
    "\n",
    "\n",
    "# 3. Close Connection\n",
    "close_db('mysql', db, conn, cur)"
   ]
  },
  {
   "cell_type": "markdown",
   "metadata": {},
   "source": [
    "### PostgreSQL"
   ]
  },
  {
   "cell_type": "code",
   "execution_count": 8,
   "metadata": {},
   "outputs": [
    {
     "name": "stdout",
     "output_type": "stream",
     "text": [
      "\n",
      "Error on insertion, Jaws(1975) already exists in the database.\n",
      "\n",
      "   id_ title  year_  duration          director\n",
      "0    1  Jaws   1975       124  Steven Spielberg\n",
      "\n",
      "movies_db database connection closed.\n",
      "\n"
     ]
    }
   ],
   "source": [
    "id_, title, year_, duration, director = get_movie_data()\n",
    "\n",
    "# 1. Connect to Database\n",
    "conn = postgres_conn(db)\n",
    " \n",
    "    \n",
    "# 2. Perform Query\n",
    "# Test to see if movie already in db before insertion\n",
    "test_query = f'SELECT * FROM {db_table} WHERE title= %s AND year_= %s;'\n",
    "cur = conn.cursor()\n",
    "cur.execute(test_query, (title, year_))\n",
    "query_results = cur.fetchall()\n",
    "\n",
    "if len(query_results) == 0:  \n",
    "    try:\n",
    "        query = '''INSERT INTO movies (title, year_, duration, director) \n",
    "                   VALUES (%s,%s,%s,%s);'''\n",
    "        cur.execute(query,(title, year_, duration, director))\n",
    "        conn.commit()\n",
    "    except:\n",
    "        print('\\nError: could not insert data into database.')\n",
    "else:\n",
    "    print(f'\\nError on insertion, {title}({year_}) already exists in the database.')\n",
    "\n",
    "# Note that postgre requires %s placeholder for strings as a security measure\n",
    "# Therefore when using pandas, the variable itself must be passed as params=[var1, var2, var3...]\n",
    "table = pd.read_sql_query(f'SELECT * FROM movies WHERE title=%s', conn, params=[title])\n",
    "\n",
    "cur.execute(f'SELECT * from {db_table}', conn)\n",
    "print()\n",
    "print(table)\n",
    "\n",
    "\n",
    "# 3. Close Connection\n",
    "close_db('postgre', db, conn, cur)"
   ]
  },
  {
   "cell_type": "markdown",
   "metadata": {},
   "source": [
    "### MongoDB"
   ]
  },
  {
   "cell_type": "code",
   "execution_count": 9,
   "metadata": {},
   "outputs": [
    {
     "name": "stdout",
     "output_type": "stream",
     "text": [
      "\n",
      "Error on insertion, Jaws(1975) already exists in the database.\n",
      "\n",
      "                        _id title  year_  duration          director\n",
      "0  5e710c8db08888178cf4fdb0  Jaws   1975       124  Steven Spielberg\n",
      "\n",
      "movies_db database connection closed.\n",
      "\n"
     ]
    }
   ],
   "source": [
    "id_, title, year_, duration, director = get_movie_data()\n",
    "\n",
    "# 1. Connect to Database\n",
    "conn, movie_db = mongo_conn(db)\n",
    "\n",
    "\n",
    "# 2. Perform Query \n",
    "# Test to see if movie already in db before insertion\n",
    "# Note: mongo uses a filter instead of sql, so the entire query is done here in one line\n",
    "# it is converted to a list and the length is returned, length = 0 means no matches\n",
    "test_query = len(list(movie_db.movies.find(filter={'title': title, 'year_': year_})))\n",
    "\n",
    "# connect to collection\n",
    "movies_table = movie_db.movies\n",
    "if test_query == 0: \n",
    "    try:\n",
    "        # add a movie\n",
    "        movie = {'title' : title,\n",
    "                 'year_' : year_, \n",
    "                 'duration' : duration,\n",
    "                 'director' : director}\n",
    "\n",
    "        movies_table.insert_one(movie)\n",
    "\n",
    "        print(f'\\nmovies collection created in the {db} database.')\n",
    "    except:\n",
    "        print('\\nError: could not create table, possibly already exists.')\n",
    "else:\n",
    "    print(f'\\nError on insertion, {title}({year_}) already exists in the database.')  \n",
    "\n",
    "# Here a filter is used to find the specific title, in this case 'Jaws'\n",
    "table = pd.DataFrame(list(movies_table.find(filter={'title': title})))\n",
    "\n",
    "print()\n",
    "print(table)        \n",
    "\n",
    "# 3. Close Connection\n",
    "close_db('mongo', db, conn)"
   ]
  },
  {
   "cell_type": "markdown",
   "metadata": {},
   "source": [
    "## 5. Adding CSV & Excel File Data to a Table\n",
    "---\n",
    "The manual approach above is usally used together with some type of external data connection. When it comes to files, text, CSV, Excel, XML, and JSON files tend to be the most common. This section covers CSV and Excel files. "
   ]
  },
  {
   "cell_type": "markdown",
   "metadata": {},
   "source": [
    "### SQLite"
   ]
  },
  {
   "cell_type": "code",
   "execution_count": 10,
   "metadata": {},
   "outputs": [
    {
     "name": "stdout",
     "output_type": "stream",
     "text": [
      "\n",
      "Error on insertion, Joker(2019) already exists in the database.\n",
      "\n",
      "Error on insertion, Beetlejuice(1988) already exists in the database.\n",
      "\n",
      "All movies in the movie_db:\n",
      "   id_        title  year_  duration          director\n",
      "0    1         Jaws   1975       124  Steven Spielberg\n",
      "1    2        Joker   2019       122     Todd Phillips\n",
      "2    3  Beetlejuice   1988        92        Tim Burton\n",
      "\n",
      "movies_db database connection closed.\n",
      "\n"
     ]
    }
   ],
   "source": [
    "#1. Connect to Database\n",
    "conn = sqlite_conn(db)\n",
    "\n",
    "    \n",
    "#2. Perform Query\n",
    "# Convert Pandas csv_data into a Python dictionary\n",
    "df = pd.read_csv(f'data\\movies.csv')\n",
    "movies_dict = df.to_dict('split') # split gets correct movie data format\n",
    "movie_list = movies_dict['data']\n",
    "\n",
    "for movie in movie_list:\n",
    "    id_ = None\n",
    "    title = movie[0]\n",
    "    year_ = movie[1]\n",
    "    duration = movie[2]\n",
    "    director = movie[3]\n",
    "    query = f'SELECT * FROM {db_table} WHERE title=\"{title}\" AND year_={year_};'\n",
    "    cur = conn.cursor()\n",
    "    cur.execute(query) \n",
    "    query_results = cur.fetchall()\n",
    "    \n",
    "    if len(query_results) == 0:\n",
    "        try:\n",
    "            cur.execute(f'INSERT INTO {db_table} VALUES (?,?,?,?,?)', \n",
    "                        (id_, title, year_, duration, director))\n",
    "            conn.commit()\n",
    "        except:\n",
    "            print('\\nError: could not insert data into database.')\n",
    "    else:\n",
    "        print(f'\\nError on insertion, {title}({year_}) already exists in the database.')\n",
    "\n",
    "table = pd.read_sql_query(f'SELECT * from {db_table} WHERE id_ <= 3', conn)\n",
    "print()\n",
    "print('All movies in the movie_db:')\n",
    "print(table)\n",
    "\n",
    "\n",
    "# 3. Close Connection\n",
    "close_db('sqlite', db, conn, cur)"
   ]
  },
  {
   "cell_type": "markdown",
   "metadata": {},
   "source": [
    "### MySQL"
   ]
  },
  {
   "cell_type": "code",
   "execution_count": 11,
   "metadata": {},
   "outputs": [
    {
     "name": "stdout",
     "output_type": "stream",
     "text": [
      "\n",
      "Error on insertion, Joker(2019) already exists in the database.\n",
      "\n",
      "Error on insertion, Beetlejuice(1988) already exists in the database.\n",
      "\n",
      "   id_        title  year_  duration          director\n",
      "0    1         Jaws   1975       124  Steven Spielberg\n",
      "1    2        Joker   2019       122     Todd Phillips\n",
      "2    3  Beetlejuice   1988        92        Tim Burton\n",
      "\n",
      "movies_db database connection closed.\n",
      "\n"
     ]
    }
   ],
   "source": [
    "# 1. Connect to Database\n",
    "conn = mysql_conn(db)\n",
    "\n",
    "\n",
    "# 2. Perform Query\n",
    "df = pd.read_csv(f'data\\movies.csv')\n",
    "movies_dict = df.to_dict('split')\n",
    "movie_list = movies_dict['data']\n",
    "\n",
    "for movie in movie_list:\n",
    "    id_   = None\n",
    "    title = movie[0]\n",
    "    year_ = movie[1]\n",
    "    duration = movie[2]\n",
    "    director = movie[3]\n",
    "    \n",
    "    query = f'SELECT * FROM {db_table} WHERE title=\"{title}\" AND year_={year_};'\n",
    "    cur = conn.cursor()\n",
    "    cur.execute(query) \n",
    "    query_results = cur.fetchall()\n",
    "    \n",
    "    if len(query_results) == 0:\n",
    "        try:\n",
    "            cur.execute(f'INSERT INTO {db_table} VALUES (%s,%s,%s,%s,%s)',\n",
    "                        (id_, title, year_, duration, director))\n",
    "            conn.commit()\n",
    "        except:\n",
    "            print('\\nError: could not insert data into database.')\n",
    "    else:\n",
    "        print(f'\\nError on insertion, {title}({year_}) already exists in the database.')\n",
    "\n",
    "        \n",
    "table = pd.read_sql_query(f'SELECT * from {db_table} WHERE id_ <= 3', conn)\n",
    "print()\n",
    "print(table)\n",
    "\n",
    "\n",
    "# 3. Close Connection\n",
    "close_db('mysql', db, conn, cur)"
   ]
  },
  {
   "cell_type": "markdown",
   "metadata": {},
   "source": [
    "### PostgreSQL"
   ]
  },
  {
   "cell_type": "code",
   "execution_count": 12,
   "metadata": {},
   "outputs": [
    {
     "name": "stdout",
     "output_type": "stream",
     "text": [
      "\n",
      "Error on insertion, Joker(2019) already exists in the database.\n",
      "\n",
      "Error on insertion, Beetlejuice(1988) already exists in the database.\n",
      "\n",
      "   id_        title  year_  duration          director\n",
      "0    1         Jaws   1975       124  Steven Spielberg\n",
      "1    2        Joker   2019       122     Todd Phillips\n",
      "2    3  Beetlejuice   1988        92        Tim Burton\n",
      "\n",
      "movies_db database connection closed.\n",
      "\n"
     ]
    }
   ],
   "source": [
    "# 1. Connect to Database\n",
    "conn = postgres_conn(db)\n",
    "\n",
    "    \n",
    "# 2. Perform Query\n",
    "df = pd.read_csv(f'data\\movies.csv')\n",
    "movies_dict = df.to_dict('split')\n",
    "movie_list = movies_dict['data']\n",
    "\n",
    "for movie in movie_list:\n",
    "    title = movie[0]\n",
    "    year_ = movie[1]\n",
    "    duration = movie[2]\n",
    "    director = movie[3]\n",
    "\n",
    "    query = f'SELECT * FROM {db_table} WHERE title= %s AND year_= %s;'\n",
    "    cur = conn.cursor()\n",
    "    cur.execute(query, (title, year_))\n",
    "    query_results = cur.fetchall()\n",
    "\n",
    "    if len(query_results) == 0:  \n",
    "        try:\n",
    "            query = '''INSERT INTO movies (title, year_, duration, director) \n",
    "                       VALUES (%s,%s,%s,%s);'''\n",
    "            cur.execute(query,(title, year_, duration, director))\n",
    "            conn.commit()\n",
    "        except:\n",
    "            print('\\nError: could not insert data into database.')\n",
    "    else:\n",
    "        print(f'\\nError on insertion, {movie[0]}({movie[1]}) already exists in the database.')\n",
    "    \n",
    "table = pd.read_sql_query(f'SELECT * FROM {db_table} WHERE id_ <= 3', conn)\n",
    "print()\n",
    "print(table)\n",
    "\n",
    "\n",
    "# 3. Close Connection\n",
    "close_db('postgre', db, conn, cur)"
   ]
  },
  {
   "cell_type": "markdown",
   "metadata": {},
   "source": [
    "### MongoDB"
   ]
  },
  {
   "cell_type": "code",
   "execution_count": 13,
   "metadata": {},
   "outputs": [
    {
     "name": "stdout",
     "output_type": "stream",
     "text": [
      "\n",
      "Error on insertion, Joker(2019) already exists in the database.\n",
      "\n",
      "Error on insertion, Beetlejuice(1988) already exists in the database.\n",
      "\n",
      "                        _id        title  year_  duration          director\n",
      "0  5e710c8db08888178cf4fdb0         Jaws   1975       124  Steven Spielberg\n",
      "1  5e710cb0b08888178cf4fdb2        Joker   2019       122     Todd Phillips\n",
      "2  5e710cb0b08888178cf4fdb3  Beetlejuice   1988        92        Tim Burton\n",
      "\n",
      "movies_db database connection closed.\n",
      "\n"
     ]
    }
   ],
   "source": [
    "# 1. Connect to Database\n",
    "conn, movie_db = mongo_conn(db)\n",
    "\n",
    "\n",
    "# 2. Perform Query\n",
    "df = pd.read_csv(f'data\\movies.csv')\n",
    "movies_dict = df.to_dict('split')\n",
    "movie_list = movies_dict['data']\n",
    "\n",
    "for movie in movie_list:\n",
    "    title = movie[0]\n",
    "    year_ = movie[1]\n",
    "    duration = movie[2]\n",
    "    director = movie[3]\n",
    "    \n",
    "    query = len(list(movie_db.movies.find(filter={'title': title, 'year_': year_})))\n",
    "\n",
    "    if query == 0: \n",
    "        try:\n",
    "            movies_table = movie_db.movies\n",
    "\n",
    "            movie = {'title' : title,\n",
    "                     'year_' : year_, \n",
    "                     'duration' : duration,\n",
    "                     'director' : director}\n",
    "\n",
    "            movies_table.insert_one(movie)\n",
    "        except:\n",
    "            print('\\nError: could not create table, possibly already exists.')\n",
    "    else:\n",
    "        print(f'\\nError on insertion, {movie[0]}({movie[1]}) already exists in the database.')\n",
    "\n",
    "        \n",
    "#.find(), same as 'select * from table in sql', noter here I slice out the first 3 entries\n",
    "table = pd.DataFrame(list(movie_db.movies.find())[0:3])\n",
    "print()\n",
    "print(table)        \n",
    "\n",
    "# 3. Close Connection\n",
    "close_db('mongo', db, conn)"
   ]
  },
  {
   "cell_type": "markdown",
   "metadata": {},
   "source": [
    "## 6. Adding JSON File Data to a Table\n",
    "---\n",
    "JSON stands for 'Javascript Object Notation and is used extensively with web API's. Using JSON can be confusing when using the barebones json module that comes with Python. But just like the above CSV examples, Pandas makes life easy when converting JSON files to a proper format for Python use. "
   ]
  },
  {
   "cell_type": "markdown",
   "metadata": {},
   "source": [
    "### SQLite"
   ]
  },
  {
   "cell_type": "code",
   "execution_count": 14,
   "metadata": {},
   "outputs": [
    {
     "name": "stdout",
     "output_type": "stream",
     "text": [
      "\n",
      "Error on insertion, Star Wars: Episode IV - A New Hope(1977) already exists in the database.\n",
      "\n",
      "Error on insertion, Forrest Gump(1994) already exists in the database.\n",
      "\n",
      "All movies in the movie_db:\n",
      "   id_                               title  year_  duration          director\n",
      "0    1                                Jaws   1975       124  Steven Spielberg\n",
      "1    2                               Joker   2019       122     Todd Phillips\n",
      "2    3                         Beetlejuice   1988        92        Tim Burton\n",
      "3    4  Star Wars: Episode IV - A New Hope   1977       121      George Lucas\n",
      "4    5                        Forrest Gump   1994       142   Robert Zemeckis\n",
      "\n",
      "movies_db database connection closed.\n",
      "\n"
     ]
    }
   ],
   "source": [
    "#1. Connect to Database\n",
    "conn = sqlite_conn(db)\n",
    "\n",
    "    \n",
    "#2. Perform Query\n",
    "df = pd.read_json(f'data\\movies.json')\n",
    "movies_dict = df.to_dict('split') # split gets correct movie data format\n",
    "movie_list = movies_dict['data']\n",
    "\n",
    "for movie in movie_list:\n",
    "    id_ = None\n",
    "    title = movie[0]\n",
    "    year_ = movie[1]\n",
    "    duration = movie[2]\n",
    "    director = movie[3]\n",
    "    query = f'SELECT * FROM {db_table} WHERE title=\"{movie[0]}\" AND year_={movie[1]};'\n",
    "    cur = conn.cursor()\n",
    "    cur.execute(query) \n",
    "    query_results = cur.fetchall()\n",
    "    \n",
    "    if len(query_results) == 0:\n",
    "        try:\n",
    "            cur.execute(f'INSERT INTO {db_table} VALUES (?,?,?,?,?)', \n",
    "                        (id_, movie[0], movie[1], movie[2], movie[3]))\n",
    "            conn.commit()\n",
    "        except:\n",
    "            print('\\nError: could not insert data into database.')\n",
    "    else:\n",
    "        print(f'\\nError on insertion, {movie[0]}({movie[1]}) already exists in the database.')\n",
    "\n",
    "\n",
    "table = pd.read_sql_query(f'SELECT * from {db_table} WHERE id_ <= 5', conn)\n",
    "print()\n",
    "print('All movies in the movie_db:')\n",
    "print(table)\n",
    "\n",
    "\n",
    "# 3. Close Connection\n",
    "close_db('sqlite', db, conn, cur)"
   ]
  },
  {
   "cell_type": "markdown",
   "metadata": {},
   "source": [
    "### MySQL"
   ]
  },
  {
   "cell_type": "code",
   "execution_count": 15,
   "metadata": {},
   "outputs": [
    {
     "name": "stdout",
     "output_type": "stream",
     "text": [
      "\n",
      "Error on insertion, Star Wars: Episode IV - A New Hope(1977) already exists in the database.\n",
      "\n",
      "Error on insertion, Forrest Gump(1994) already exists in the database.\n",
      "\n",
      "   id_                               title  year_  duration          director\n",
      "0    1                                Jaws   1975       124  Steven Spielberg\n",
      "1    2                               Joker   2019       122     Todd Phillips\n",
      "2    3                         Beetlejuice   1988        92        Tim Burton\n",
      "3    4  Star Wars: Episode IV - A New Hope   1977       121      George Lucas\n",
      "4    5                        Forrest Gump   1994       142   Robert Zemeckis\n",
      "\n",
      "movies_db database connection closed.\n",
      "\n"
     ]
    }
   ],
   "source": [
    "# 1. Connect to Database\n",
    "conn = mysql_conn(db)\n",
    "\n",
    "\n",
    "# 2. Perform Query\n",
    "df = pd.read_json(f'data\\movies.json')\n",
    "movies_dict = df.to_dict('split') # split gets correct movie data format\n",
    "movie_list = movies_dict['data']\n",
    "\n",
    "for movie in movie_list:\n",
    "    id_ = None\n",
    "    title = movie[0]\n",
    "    year_ = movie[1]\n",
    "    duration = movie[2]\n",
    "    director = movie[3]\n",
    "    \n",
    "    query = f'SELECT * FROM {db_table} WHERE title=\"{movie[0]}\" AND year_={movie[1]};'\n",
    "    cur = conn.cursor()\n",
    "    cur.execute(query) \n",
    "    query_results = cur.fetchall()\n",
    "    \n",
    "    if len(query_results) == 0:\n",
    "        try:\n",
    "            cur.execute(f'INSERT INTO {db_table} VALUES (%s,%s,%s,%s,%s)',\n",
    "                        (id_, title, year_, duration, director))\n",
    "            conn.commit()\n",
    "        except:\n",
    "            print('\\nError: could not insert data into database.')\n",
    "    else:\n",
    "        print(f'\\nError on insertion, {movie[0]}({movie[1]}) already exists in the database.')\n",
    "\n",
    "        \n",
    "table = pd.read_sql_query(f'SELECT * from {db_table} WHERE id_ <=5', conn)\n",
    "print()\n",
    "print(table)\n",
    "\n",
    "\n",
    "# 3. Close Connection\n",
    "close_db('mysql', db, conn, cur)"
   ]
  },
  {
   "cell_type": "markdown",
   "metadata": {},
   "source": [
    "### PostgreSQL"
   ]
  },
  {
   "cell_type": "code",
   "execution_count": 16,
   "metadata": {},
   "outputs": [
    {
     "name": "stdout",
     "output_type": "stream",
     "text": [
      "\n",
      "Error on insertion, Star Wars: Episode IV - A New Hope(1977) already exists in the database.\n",
      "\n",
      "Error on insertion, Forrest Gump(1994) already exists in the database.\n",
      "\n",
      "   id_                               title  year_  duration          director\n",
      "0    1                                Jaws   1975       124  Steven Spielberg\n",
      "1    2                               Joker   2019       122     Todd Phillips\n",
      "2    3                         Beetlejuice   1988        92        Tim Burton\n",
      "3    4  Star Wars: Episode IV - A New Hope   1977       121      George Lucas\n",
      "4    5                        Forrest Gump   1994       142   Robert Zemeckis\n",
      "\n",
      "movies_db database connection closed.\n",
      "\n"
     ]
    }
   ],
   "source": [
    "# 1. Connect to Database\n",
    "conn = postgres_conn(db)\n",
    "\n",
    "    \n",
    "# 2. Perform Query\n",
    "df = pd.read_json(f'data\\movies.json')\n",
    "movies_dict = df.to_dict('split')\n",
    "movie_list = movies_dict['data']\n",
    "\n",
    "for movie in movie_list:\n",
    "    title = movie[0]\n",
    "    year_ = movie[1]\n",
    "    duration = movie[2]\n",
    "    director = movie[3]\n",
    "\n",
    "    query = f'SELECT * FROM {db_table} WHERE title= %s AND year_= %s;'\n",
    "    cur = conn.cursor()\n",
    "    cur.execute(query, (title, year_))\n",
    "    query_results = cur.fetchall()\n",
    "\n",
    "    if len(query_results) == 0:  \n",
    "        try:\n",
    "            query = '''INSERT INTO movies (title, year_, duration, director) \n",
    "                       VALUES (%s,%s,%s,%s);'''\n",
    "            cur.execute(query,(title, year_, duration, director))\n",
    "            conn.commit()\n",
    "        except:\n",
    "            print('\\nError: could not insert data into database.')\n",
    "    else:\n",
    "        print(f'\\nError on insertion, {movie[0]}({movie[1]}) already exists in the database.')\n",
    "    \n",
    "table = pd.read_sql_query(f'SELECT * from {db_table} WHERE id_ <= 5', conn)\n",
    "\n",
    "cur.execute(f\"SELECT * from {db_table}\", conn)\n",
    "print()\n",
    "print(table)\n",
    "\n",
    "\n",
    "# 3. Close Connection\n",
    "close_db('postgre', db, conn, cur)"
   ]
  },
  {
   "cell_type": "markdown",
   "metadata": {},
   "source": [
    "### MongoDB"
   ]
  },
  {
   "cell_type": "code",
   "execution_count": 17,
   "metadata": {},
   "outputs": [
    {
     "name": "stdout",
     "output_type": "stream",
     "text": [
      "\n",
      "Error on insertion, Star Wars: Episode IV - A New Hope(1977) already exists in the database.\n",
      "\n",
      "Error on insertion, Forrest Gump(1994) already exists in the database.\n",
      "\n",
      "                        _id                               title  year_  duration          director\n",
      "0  5e710c8db08888178cf4fdb0                                Jaws   1975       124  Steven Spielberg\n",
      "1  5e710cb0b08888178cf4fdb2                               Joker   2019       122     Todd Phillips\n",
      "2  5e710cb0b08888178cf4fdb3                         Beetlejuice   1988        92        Tim Burton\n",
      "3  5e710ccfb08888178cf4fdb5  Star Wars: Episode IV - A New Hope   1977       121      George Lucas\n",
      "4  5e710ccfb08888178cf4fdb6                        Forrest Gump   1994       142   Robert Zemeckis\n",
      "\n",
      "movies_db database connection closed.\n",
      "\n"
     ]
    }
   ],
   "source": [
    "# 1. Connect to Database\n",
    "conn, movie_db = mongo_conn(db)\n",
    "\n",
    "\n",
    "# 2. Perform Query\n",
    "df = pd.read_json(f'data\\movies.json')\n",
    "movies_dict = df.to_dict('split')\n",
    "movie_list = movies_dict['data']\n",
    "\n",
    "for movie in movie_list:\n",
    "    title = movie[0]\n",
    "    year_ = movie[1]\n",
    "    duration = movie[2]\n",
    "    director = movie[3]\n",
    "    \n",
    "    query = len(list(movie_db.movies.find(filter={'title': title, 'year_': year_})))\n",
    "\n",
    "    if query == 0: \n",
    "        try:\n",
    "            movies_table = movie_db.movies\n",
    "\n",
    "            movie = {'title' : title,\n",
    "                     'year_' : year_, \n",
    "                     'duration' : duration,\n",
    "                     'director' : director}\n",
    "\n",
    "            movies_table.insert_one(movie)\n",
    "        except:\n",
    "            print('\\nError: could not create table, possibly already exists.')\n",
    "    else:\n",
    "        print(f'\\nError on insertion, {movie[0]}({movie[1]}) already exists in the database.')\n",
    "\n",
    "        \n",
    "table = pd.DataFrame(list(movie_db.movies.find())[0:5])  #.find(), same as 'select * from table in sql'\n",
    "print()\n",
    "\n",
    "\n",
    "pd.set_option('display.max_columns', 10)\n",
    "pd.set_option('display.width', 100)\n",
    "print(table)        \n",
    "\n",
    "# 3. Close Connection\n",
    "close_db('mongo', db, conn)"
   ]
  },
  {
   "cell_type": "markdown",
   "metadata": {},
   "source": [
    "## 7. Adding JSON data From Web API\n",
    "---\n",
    "Now that we've created databases, datbase tables, and added data through various file sources, it's time to move on to pulling data from a Web API. Since our database is a movie database, we are going to be pulling movie data from a list of movie names. I am using a free movie database api that has a very simple JSON based interface. You will need to apply for a key (they are free) for it to work."
   ]
  },
  {
   "cell_type": "code",
   "execution_count": 18,
   "metadata": {},
   "outputs": [],
   "source": [
    "import re \n",
    "import requests\n",
    "import json\n",
    "import pandas as pd\n",
    "import time"
   ]
  },
  {
   "cell_type": "markdown",
   "metadata": {},
   "source": [
    "### MySQL"
   ]
  },
  {
   "cell_type": "code",
   "execution_count": 19,
   "metadata": {},
   "outputs": [
    {
     "name": "stdout",
     "output_type": "stream",
     "text": [
      "\n",
      "Error on insertion, Leaving Las Vegas(1995) already exists in the database.\n",
      "\n",
      "movies_db database connection closed.\n",
      "\n",
      "\n",
      "Error on insertion, Othello(1995) already exists in the database.\n",
      "\n",
      "movies_db database connection closed.\n",
      "\n",
      "\n",
      "Error on insertion, Now and Then(1995) already exists in the database.\n",
      "\n",
      "movies_db database connection closed.\n",
      "\n",
      "\n",
      "   id_                               title  year_  duration             director\n",
      "0    1                                Jaws   1975       124     Steven Spielberg\n",
      "1    2                               Joker   2019       122        Todd Phillips\n",
      "2    3                         Beetlejuice   1988        92           Tim Burton\n",
      "3    4  Star Wars: Episode IV - A New Hope   1977       121         George Lucas\n",
      "4    5                        Forrest Gump   1994       142      Robert Zemeckis\n",
      "5   11                        Now and Then   1995       100  Lesli Linka Glatter\n",
      "6   12                   Leaving Las Vegas   1995       111          Mike Figgis\n",
      "7   13                             Othello   1995       123        Oliver Parker\n",
      "\n",
      "movies_db database connection closed.\n",
      "\n"
     ]
    }
   ],
   "source": [
    "key = '204cb77b'\n",
    "\n",
    "# 1. Convert CSV movie_list file into Python list using pandas\n",
    "df = pd.read_csv('data\\movie_list_small.csv', delimiter='\\s,', engine='python')\n",
    "titles = df.iloc[:,0].values.tolist() # DIAL THIS\n",
    "\n",
    "for title in titles:\n",
    "    # 2. Convert API JSON data into python list and convert variables as needed\n",
    "    try:\n",
    "        url = f'http://www.omdbapi.com/?t=\"{title}\"&apikey={key}'\n",
    "        res = requests.get(url)\n",
    "        res.raise_for_status()\n",
    "        json_data = json.loads(res.text)\n",
    "            \n",
    "        id_ = None\n",
    "        title = json_data['Title']\n",
    "        year_  = int(json_data['Year'])\n",
    "        duration = int(json_data['Runtime'][:-4])\n",
    "        director = json_data['Director']\n",
    "    except:\n",
    "        print('Error: error converting data from API.')\n",
    "\n",
    "    # 3. Check if movie is in db, if not add it. \n",
    "    try:\n",
    "        conn = mysql_conn(db)\n",
    "        \n",
    "        query = f'SELECT * FROM {db_table} WHERE title=\"{title}\" AND year_={year_};'\n",
    "        cur = conn.cursor()\n",
    "        cur.execute(query) \n",
    "        query_results = cur.fetchall()\n",
    "        \n",
    "        if len(query_results) == 0:\n",
    "            try:\n",
    "                cur.execute(f'INSERT INTO {db_table} VALUES (%s,%s,%s,%s,%s)',\n",
    "                            (id_, title, year_, duration, director))\n",
    "                conn.commit()\n",
    "            except:\n",
    "                print('\\nError: could not insert data into database.')\n",
    "        else:\n",
    "            print(f'\\nError on insertion, {title}({year_}) already exists in the database.')   \n",
    "        close_db('mysql', db, conn, cur)\n",
    "    except:\n",
    "        print('\\nError test query did not work')\n",
    "        close_db('mysql', db, conn, cur)\n",
    "    time.sleep(0.5)\n",
    "    \n",
    "\n",
    "# Database Visual\n",
    "conn = mysql_conn(db)\n",
    "\n",
    "table = pd.read_sql_query(f'SELECT * from {db_table}', conn)\n",
    "print()\n",
    "pd.set_option('display.max_columns', 10)\n",
    "pd.set_option('display.width', 100)\n",
    "print(table)\n",
    "\n",
    "close_db('mysql', db, conn, cur)"
   ]
  },
  {
   "cell_type": "markdown",
   "metadata": {},
   "source": [
    "## 8. Adding Data From the Web Using Web Scraping\n",
    "---"
   ]
  },
  {
   "cell_type": "code",
   "execution_count": 20,
   "metadata": {},
   "outputs": [
    {
     "data": {
      "text/html": [
       "<div>\n",
       "<style scoped>\n",
       "    .dataframe tbody tr th:only-of-type {\n",
       "        vertical-align: middle;\n",
       "    }\n",
       "\n",
       "    .dataframe tbody tr th {\n",
       "        vertical-align: top;\n",
       "    }\n",
       "\n",
       "    .dataframe thead th {\n",
       "        text-align: right;\n",
       "    }\n",
       "</style>\n",
       "<table border=\"1\" class=\"dataframe\">\n",
       "  <thead>\n",
       "    <tr style=\"text-align: right;\">\n",
       "      <th></th>\n",
       "      <th>id</th>\n",
       "      <th>title</th>\n",
       "      <th>url</th>\n",
       "    </tr>\n",
       "  </thead>\n",
       "  <tbody>\n",
       "    <tr>\n",
       "      <th>0</th>\n",
       "      <td>drudge1</td>\n",
       "      <td>Layoffs Just Starting, and Forecasts Bleak...</td>\n",
       "      <td>https://dnyuz.com/2020/03/17/layoffs-are-just-...</td>\n",
       "    </tr>\n",
       "    <tr>\n",
       "      <th>1</th>\n",
       "      <td>drudge2</td>\n",
       "      <td>Majority with virus walking around undetected...</td>\n",
       "      <td>https://nypost.com/2020/03/17/86-of-people-wit...</td>\n",
       "    </tr>\n",
       "    <tr>\n",
       "      <th>2</th>\n",
       "      <td>drudge3</td>\n",
       "      <td>Is there right to anonymity for carriers in Am...</td>\n",
       "      <td>https://thehill.com/opinion/civil-rights/48817...</td>\n",
       "    </tr>\n",
       "    <tr>\n",
       "      <th>3</th>\n",
       "      <td>drudge4</td>\n",
       "      <td>18 MONTHS of social distancing?</td>\n",
       "      <td>https://www.axios.com/coronavirus-report-us-uk...</td>\n",
       "    </tr>\n",
       "    <tr>\n",
       "      <th>4</th>\n",
       "      <td>drudge5</td>\n",
       "      <td>Stranded travelers struggle to get home...</td>\n",
       "      <td>https://apnews.com/15b99013e674de9ea83a707342e...</td>\n",
       "    </tr>\n",
       "  </tbody>\n",
       "</table>\n",
       "</div>"
      ],
      "text/plain": [
       "        id                                              title  \\\n",
       "0  drudge1      Layoffs Just Starting, and Forecasts Bleak...   \n",
       "1  drudge2  Majority with virus walking around undetected...    \n",
       "2  drudge3  Is there right to anonymity for carriers in Am...   \n",
       "3  drudge4                    18 MONTHS of social distancing?   \n",
       "4  drudge5         Stranded travelers struggle to get home...   \n",
       "\n",
       "                                                 url  \n",
       "0  https://dnyuz.com/2020/03/17/layoffs-are-just-...  \n",
       "1  https://nypost.com/2020/03/17/86-of-people-wit...  \n",
       "2  https://thehill.com/opinion/civil-rights/48817...  \n",
       "3  https://www.axios.com/coronavirus-report-us-uk...  \n",
       "4  https://apnews.com/15b99013e674de9ea83a707342e...  "
      ]
     },
     "execution_count": 20,
     "metadata": {},
     "output_type": "execute_result"
    }
   ],
   "source": [
    "#--------------------------------------------------------------------------\n",
    "# VII. Scrape data from web and append to db (using requests, bs4)\n",
    "#--------------------------------------------------------------------------\n",
    "# Beautiful Soup is a Python package specifically desinged to allow\n",
    "# for simple interaction with html web pages\n",
    "import pprint as pp\n",
    "import requests\n",
    "import pandas as pd\n",
    "import bs4\n",
    "\n",
    "drudgeArticlesDic = {} \n",
    "drudgeArticlesDic['drudge_articles'] = []\n",
    "\n",
    "res = requests.get('http://www.drudgereport.com/')\n",
    "res.raise_for_status()\n",
    "drudge = bs4.BeautifulSoup(res.text, 'html.parser')\n",
    "\n",
    "for i in range(15):\n",
    "    id = 'drudge' + str(i+1)\n",
    "    url = drudge.find_all(\"a\")[i+1].get('href')\n",
    "    title = drudge.find_all(\"a\")[i+1].getText().strip('\\n')\n",
    "    if \"drudgereport.com\" in url:\n",
    "        continue\n",
    "        \n",
    "    drudgeArticlesDic['drudge_articles'].append({'id' : id,\n",
    "                                                 'title'  : title,\n",
    "                                                 'url'    : url})\n",
    "\n",
    "    \n",
    "# raw data (used to ensure data is pulled)\n",
    "#pp.pprint(drudgeArticlesDic)\n",
    "\n",
    "pd.DataFrame.from_dict(drudgeArticlesDic['drudge_articles']).head()"
   ]
  },
  {
   "cell_type": "code",
   "execution_count": 2,
   "metadata": {},
   "outputs": [
    {
     "name": "stdout",
     "output_type": "stream",
     "text": [
      "['Leaving Las Vegas', 'Othello', 'Now and Then']\n"
     ]
    },
    {
     "data": {
      "text/plain": [
       "[('Leaving Las Vegas',), ('Othello',), ('Now and Then',)]"
      ]
     },
     "execution_count": 2,
     "metadata": {},
     "output_type": "execute_result"
    }
   ],
   "source": [
    "import pandas as pd\n",
    "\n",
    "df = pd.read_csv('data\\movie_list_small.csv', delimiter='\\s,', engine='python')\n",
    "\n",
    "\n",
    "titles = df.iloc[:,0].values.tolist() # DIAL THIS\n",
    "print(titles)\n",
    "\n",
    "\n",
    "# TODO, sets are faster thant lists, and no duplicates are allowed, \n",
    "# try that when getting data into db\n",
    "\n",
    "# TODO: try using that INLINE FILE, FILE UPLOAD mysql syntx for \n",
    "# loading entire csv at once into db"
   ]
  },
  {
   "cell_type": "code",
   "execution_count": null,
   "metadata": {},
   "outputs": [],
   "source": []
  }
 ],
 "metadata": {
  "kernelspec": {
   "display_name": "Python 3",
   "language": "python",
   "name": "python3"
  },
  "language_info": {
   "codemirror_mode": {
    "name": "ipython",
    "version": 3
   },
   "file_extension": ".py",
   "mimetype": "text/x-python",
   "name": "python",
   "nbconvert_exporter": "python",
   "pygments_lexer": "ipython3",
   "version": "3.7.7"
  }
 },
 "nbformat": 4,
 "nbformat_minor": 2
}
