{
 "cells": [
  {
   "cell_type": "markdown",
   "metadata": {},
   "source": [
    "# Artificial Intelligence (AI)\n",
    "\n",
    "**Artificial intelligence has been around a since the 1950's. It is known as 'machine intelligene' and is defined as intelligence demonstrated by machines, this is a contrast to 'natural intelligence' which is displayed by humans and animals.**\n",
    "\n",
    "**Most AI texts define AI as the theory and development of computer systems able to perform tasks normally requiring human intelligence such as visual perception, speech recognition, desicion-making, and translation between languages**"
   ]
  },
  {
   "cell_type": "markdown",
   "metadata": {},
   "source": [
    "**There are 3 types of AI, 2 conceptual and 1 that is real.**\n",
    "\n",
    "1. Artifical Narrow Intelligence (aka weak AI) - This is the only type of AI in existence now, and involves applying AI to specific narrowly defined tasks. All of the modern AI's do not posess any self-awareness or general intelligence and are run on pre-defined functions. Examples are Google's search enging, Siri, self-driving cars, etc. \n",
    "\n",
    "2. Artificial General Intelligence (aka strong AI) - This type of AI does not exist currently and theoretically involves machines that can perform any intellectual tasks that a human being can perform.\n",
    "\n",
    "3. Artificial Super Intelligence - This type of AI does not exist currently and theoretically involves machines that are self aware and computer capabilties will surpass human ability. \n"
   ]
  },
  {
   "cell_type": "markdown",
   "metadata": {},
   "source": [
    "**There are a number of broad sub-fields within AI, many of these are confused with being AI themselves**\n",
    "\n",
    "* Knowledge Reasonong\n",
    "* Planning\n",
    "* Machine Learning\n",
    "* Natural Language Processing (NLP)\n",
    "* Computer Vision\n",
    "* Robotics\n",
    "\n",
    "**There are also sub-fields for the sub-fields, the biggest being deep learning which is an approach used that many of the above fields use for analysis purposes as it uses neural networks (discussed below) to solve complex problems.**"
   ]
  },
  {
   "cell_type": "markdown",
   "metadata": {},
   "source": [
    "## Machine Learning\n",
    "**Machine Learining is a subset of AI which provides machines the abliity to learn automatically & improve from experience without being explicitly programmed.**"
   ]
  },
  {
   "cell_type": "markdown",
   "metadata": {},
   "source": [
    "**No matter what algorithm or model is used to solve a problem with machine learning, the basic process is mostly the same. Usually a well-defined machine learning process will have 7 steps**\n",
    "\n",
    "1. Define the Objective\n",
    "2. Data Gathering\n",
    "3. Prepring Data\n",
    "4. Data Exploration\n",
    "5. Building a Model\n",
    "6. Model Evaluation\n",
    "7. Predictions\n",
    "\n",
    "**I have detailed machine learning notebooks located in desktop\\life\\data science study folder**"
   ]
  },
  {
   "cell_type": "markdown",
   "metadata": {},
   "source": [
    "**There are limitations to Machine Learning that ultmately have led to deep learning. One limitation is that machine learning is not efficient when using high dimentional data (i.e. huge data sets with a large number of cols). Examples of high dimentional data tasks that machine learning can not work with are image recognition and object detection. Another limitation is that machine learning can not learn by itself and must have all model variables be programmed in by a person. This leads us to Deep Learning**"
   ]
  },
  {
   "cell_type": "markdown",
   "metadata": {},
   "source": [
    "## Deep Learning\n",
    "**Deep Learning models are currently the only method to fix the 'feature extraction' issue that plagues machine learninge (the need for programmers to create model variables). Deep learning requiers little guidance from programmers as it uses nueral networks. The idea behind Deep Learning si to build algorithms that mimic the human brain**"
   ]
  },
  {
   "cell_type": "markdown",
   "metadata": {},
   "source": [
    "**Through the use of neural networks, deep learning can efficiently run models using high deminsional data, therefore can be used for auto-detection and image processing.** "
   ]
  },
  {
   "cell_type": "markdown",
   "metadata": {},
   "source": [
    "**Deep learning mimics the biological brain neuron by using a concept called perceptrons which function in a similar manner as biological neuron**"
   ]
  },
  {
   "cell_type": "markdown",
   "metadata": {},
   "source": [
    "## NOTE, SEE HARVARD COURSE NOTES FOR MORE ON THIS SUBJECT"
   ]
  }
 ],
 "metadata": {
  "kernelspec": {
   "display_name": "Python 3",
   "language": "python",
   "name": "python3"
  },
  "language_info": {
   "codemirror_mode": {
    "name": "ipython",
    "version": 3
   },
   "file_extension": ".py",
   "mimetype": "text/x-python",
   "name": "python",
   "nbconvert_exporter": "python",
   "pygments_lexer": "ipython3",
   "version": "3.7.7"
  }
 },
 "nbformat": 4,
 "nbformat_minor": 4
}
