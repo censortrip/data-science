{
 "cells": [
  {
   "cell_type": "markdown",
   "metadata": {},
   "source": [
    "# Statistics Reference\n",
    "\n",
    "## Part I - Statistics Basics & Descriptive Statistics\n",
    "---\n",
    "This personal project was undertaken in order for me to become comfortable using Pandas for larger data sets and also for practicing basic machine learning tasks. \n",
    "\n",
    "It consists of Three Different Notebooks: \n",
    "\n",
    "* **Part I   - Statistics Basics & Descriptive Statistics (This Notebook)**\n",
    "* **Part II  - Probability**\n",
    "* **Part III - TODO**"
   ]
  },
  {
   "cell_type": "markdown",
   "metadata": {},
   "source": [
    "---\n",
    "## Statistics Basics\n",
    "\n",
    "**Data Set** - The data collected for a particular study\n",
    "\n",
    "**Elements** - Individual values within a data set\n",
    "\n",
    "**Variable** - the column containing a group of elements, more specifically the name of the column which characterizes the data for that column.\n",
    "\n",
    "**Population** - set of all elements about which we wish to draw conclusions\n",
    "\n",
    "**Sample** - subset of the elemnts of a population\n",
    "\n",
    "**Quantitative Data** -  data that can be counted, measured, and expressed using numbers (for example: 'how much of something', or 'how many')\n",
    "\n",
    "**Quantiative Variables** - there are two types of quantiative variables.\n",
    "* **Ratio** - have inherently defined zero values such that ratios of the value has meaningful interpreation. (Example: salary, height, weight, time, and distance).  Note that almost all quantitative variables are ratio. \n",
    "\n",
    "* **Interval** - do not have inherently defined zero values there is no meaningful interpretation. (Example: temperature). \n",
    "\n",
    "**Qualitative Data** - data that can be categorized based on traits and characteristics (examples: person's gender, car model, etc.)\n",
    "\n",
    "**Qualitative (Categorical) Variables** - there are two types of categorical variables.\n",
    "* **Ordinal** - a qualitative variable with meaningful ordering and ranking. (Example: Satisfaction Rating like: 'happy', 'unhappy'). Numbers can also be used like 1 for happy and 0 for unhappy, note that orginal number can not be quantified. \n",
    "\n",
    "* **Nominal** - a qualitative variable with no meaningful ordering or ranking. (Example: gender, car model colors).\n",
    "\n",
    "**Cross Sectional Data** - is data collected at the same or approximately around the same time. (example: multiple company stock closing prices for one day)\n",
    "\n",
    "**Time Series Data** - is data collected over different periods of time. (Example: daily stock returns for one company for a month)\n",
    "\n",
    "---\n",
    "## Data Sources\n",
    "Oftentimes data is available publicly or for sale privately. When this is the case the data is an **existing** data source. \n",
    "On the other hand, if data is not readily available then one must collect the data themselves. Often this is done through **surveys** or **experimental studies**.\n",
    "\n",
    "**Existing Data** - data that has already been gathered from an outside source\n",
    "\n",
    "**Response Variable** - main varible (column) of interest in a study\n",
    "\n",
    "**Factors** - other variables that could potentially relate to the response var\n",
    "\n",
    "**Experimental Study (Supervised)** - when factors of a response variable are able to be set and manipulated, then a study is said to be experimental (Example: Drug compnay testing medications and using placebos)\n",
    "\n",
    "**Observational study (Unsupervised)** - when factors of interest are unable to be controlled, a study is said to be observational. (Example: cholesterp and diet studies)"
   ]
  },
  {
   "cell_type": "markdown",
   "metadata": {},
   "source": [
    "----\n",
    "## Descriptive Statistics\n",
    "The science of describing the important aspects of a set of data. **Statstical Inference** uses descriptive statistics in order to make genralizations about the important aspects of a population (or sample) of data. \n",
    "\n",
    "Descriptive Statistics are measured both graphically and numerically and often both methods are intertwined: \n",
    "\n",
    "## Graphical Methods of Descriptive Statistics \n",
    "* **Quantitative Data** - quantitative data can be graphed using Histograms, Line Charts, and Scatter Plots to name a few. \n",
    "\n",
    "\n",
    "* **Qualtitaive Data** - qualitative data can be graphed using Bar Charts, Pie Charts, Point Plots, Categorical Scatter Plots, Box Plots, and Violin Plots to name a few. "
   ]
  },
  {
   "cell_type": "markdown",
   "metadata": {},
   "source": [
    "----\n",
    "##  Quantitative Charts"
   ]
  },
  {
   "cell_type": "code",
   "execution_count": 2,
   "metadata": {},
   "outputs": [],
   "source": [
    "import pandas as pd\n",
    "import numpy as np\n",
    "from scipy import stats"
   ]
  },
  {
   "cell_type": "code",
   "execution_count": 2,
   "metadata": {},
   "outputs": [],
   "source": [
    "# CREATE SOME SAMPLE DATA"
   ]
  },
  {
   "cell_type": "markdown",
   "metadata": {},
   "source": [
    "## Historgram"
   ]
  },
  {
   "cell_type": "markdown",
   "metadata": {},
   "source": [
    "## Line Chart"
   ]
  },
  {
   "cell_type": "markdown",
   "metadata": {},
   "source": [
    "## Scatter Plot"
   ]
  },
  {
   "cell_type": "markdown",
   "metadata": {},
   "source": [
    "----\n",
    "##  Qualitative Charts"
   ]
  },
  {
   "cell_type": "markdown",
   "metadata": {},
   "source": [
    "## Bar Chart"
   ]
  },
  {
   "cell_type": "markdown",
   "metadata": {},
   "source": [
    "## Pie Chart"
   ]
  },
  {
   "cell_type": "markdown",
   "metadata": {},
   "source": [
    "## Point Plot"
   ]
  },
  {
   "cell_type": "markdown",
   "metadata": {},
   "source": [
    "## Catgorical Scatter Plot"
   ]
  },
  {
   "cell_type": "markdown",
   "metadata": {},
   "source": [
    "## Box Plot"
   ]
  },
  {
   "cell_type": "markdown",
   "metadata": {},
   "source": [
    "## Violin Plot"
   ]
  },
  {
   "cell_type": "markdown",
   "metadata": {},
   "source": [
    "----\n",
    "## Numerical Methods of Descriptive Statistics \n",
    "Numerical analysis with descriptive statstics is used to describe the **central tendency** of a data set (or the typical value within a data set). \n",
    "\n",
    "**Parameter** - is a number calculated that descrives some aspect of a population or sample, example mean, median, mode\n",
    "\n",
    "**Mean** - simple average of an aspect from a population or sample. \n",
    "\n",
    "**Median** - the center value, if data set lenght is odd, then median is central value, if data set is even, then median is average of the two central data points\n",
    "\n",
    "**IMPORTANT NOTE:**\n",
    "The median is generally resistant to extreme (outlier) values whereas the mean is not. Therefore is data sets with wide ranges, the median is often the best choice for central tendecy measurements. \n",
    "\n",
    "**Mode** - the value that appears the most. \n",
    "\n",
    "**Min** - the smallest value in a data set. \n",
    "\n",
    "**Max** - the largest value in a data set. \n",
    "\n",
    "**Range** - The largest value minus the smallest value in a data set.\n",
    "\n",
    "**Variance** - The average of the squared differences from the mean (i.e. measures how far the data points are spread out from their average value) \n",
    "\n",
    "**Standard Deviation (STD)** - Measures the extent of deviation of a group of data as a whole from the mean, and is measured by the positive squared root of the variance.\n",
    "\n",
    "**Coefficient of Variation (aka Relative Standard Deviation)** - a stadardized measure of dispertion of a frequency or probability distribution. This measure tells how varied a set of data is. It is calculated by:\n",
    "\n",
    "* **STD / mean * 100**\n",
    "\n",
    "The coefficient of Variation is useful when comparing separate samples or populations with different means and standard deviations, Below are some examples. \n",
    "\n",
    "<img src='data/images/coeff_var.PNG'>\n"
   ]
  },
  {
   "cell_type": "markdown",
   "metadata": {},
   "source": [
    "## Normal Distribution\n",
    "One type of relative frequency curve describing a data set is the normal curve, which is a symmetrical, bell-shaped curve. If a population or sample can be described by the normal curve, we say that the data is normaly distributed. \n",
    "\n",
    "**Empirical Rule for Normal Distribution** - states that for a normal distribution, nearly all of the data will fall within three standard deviations of the mean. It states:\n",
    "* 68.26% of a populations measurements will fall within 1 STD of the mean. \n",
    "* 95.44% of a populations measurements will fall within 2 STD of the mean.\n",
    "* 99.73% of a populations measurements will fall within 3 STD of the mean. \n",
    "\n",
    "**Note that this rule only holds for normal bell shaped distibutions.**\n",
    "\n",
    "<img src='data/images/emp_rule.jpg'>"
   ]
  },
  {
   "cell_type": "markdown",
   "metadata": {},
   "source": [
    "## Skewness & Kurtosis\n",
    "**Skewness** - measures the symmetry or asymmetry of a bell curve. There is a formula to calculate skewness and the results can be interpreted as follows:\n",
    "* skewness < -1 OR > 1, highly skewed\n",
    "* skewness between -1 and -0.5 OR 0.5 and 1, moderately skewed\n",
    "* skewness between -0.5 and 0.5, approximately symmetric\n",
    "\n",
    "**Symmetrical Curve** - perfect bell shape with no skew.\n",
    "* Mean = Median = Mode\n",
    "\n",
    "**Left Skew (aka negative skew)** - has disproportionate tail to the left.\n",
    "* Mean < Median < Mode \n",
    "\n",
    "**Right Skew (aka positive skew)** - has disproportionate tail to the right, also known as positively skewed.\n",
    "* Mean > Median > Mode\n",
    "\n",
    "**Skewness Diagram**\n",
    "<img src='data/images/skew.png'>\n",
    "\n",
    "<br>\n",
    "<br>\n",
    "\n",
    "**Kurtosis** - a measure of whether data distrition is heavy-tailed or light-tailed relative to a normal distribution.\n",
    "* kurtosis = 3, normally distributed\n",
    "* kurtosis > 3, fat-tailed distribution\n",
    "* kurtosis < 3, thin-tailed distribution\n",
    "* genrally acceptable range for kurtosis is -2 to 2\n"
   ]
  },
  {
   "cell_type": "markdown",
   "metadata": {},
   "source": [
    "## z-score (or standardized value)\n",
    "A z-score is the number of standard deviations that x is from the mean:\n",
    "* **z-score = (x - mean) / standard deviation**\n",
    "\n",
    "Z-scores also denote relative location between samples. For example, values from two different populations or samples with the same z-score are therefore the same number of std's away from their respective means. Below is a z-score breakdown:\n",
    "\n",
    "* z-score = 0; x is on the mean\n",
    "\n",
    "\n",
    "* positive z-score; x > average mean, so if z = 2, x is 2 std's above mean\n",
    "\n",
    "\n",
    "* negative z-score; x < average mean, so if z  = -1, x is 1 std below mean \n",
    "\n",
    "\n"
   ]
  },
  {
   "cell_type": "code",
   "execution_count": 4,
   "metadata": {},
   "outputs": [],
   "source": [
    "# Two methods for caclulating Outliers using z-score\n",
    "\n",
    "# Method 1, Use Scipy Stats\n",
    "#z = np.abs(stats.zscore(df))\n",
    "\n",
    "# Set threshold to return values > 3 std's from the mean\n",
    "#np.where(z > 3)\n",
    "\n",
    "# To Get max or min vals, use numpy\n",
    "#np.min(z)\n",
    "#np.max(z)\n",
    "\n",
    "#----------------------------------------------------\n",
    "# Method 2, Manual Calucation Python list\n",
    "\n",
    "#outliers=[]\n",
    "#scores = list(scrdf['imdb_score'])\n",
    "\n",
    "#for score in scores:\n",
    "#    z_score = (score - 6.5)/1.0\n",
    "#    if np.abs(z_score) > 3.0:\n",
    "#        outliers.append(score)\n",
    "#    else:\n",
    "#        pass\n",
    "\n",
    "#print(max(outliers))"
   ]
  },
  {
   "cell_type": "markdown",
   "metadata": {},
   "source": [
    "## Percentiles &  Quartiles\n",
    "a percentile is a value x such that a a percentage of a population or sample falls below. \n",
    "\n",
    "In many cases, it can be helpful to divide a data set up into 4 sections by percentile, these specfic four sections are called Quartiles and they are:\n",
    "\n",
    "* 1st Quartile, the 25th percentile or the value where 25% or less of the data lies\n",
    "* 2nd Quartile, the 50th percentile (THE MEDIAN), or the value where 50% or less of the data lies. \n",
    "* 3rd Quartile, the 75th percentile, or the value where 75% or less of the data lies. \n",
    "* 4th Quartile, the 100th percentile (Max Value), all other data points, lie below this value. \n",
    "\n",
    "**IMPORTANT NOTE**\n",
    "In general percentiles are less suseptable to noise and outliers than other values. In cases where a population or sample is highly skewed (either left or right), then the standard deviation is usually so large that it cannot be used to provide any useful information. In such cases, population variation is best described using percentiles over standard deviation\n",
    "\n",
    "The graphical display of the Quartile range is the Box Plot (aka Box and Whiskers), this plot also is good for detecting outliers."
   ]
  },
  {
   "cell_type": "markdown",
   "metadata": {},
   "source": [
    "## Covariance and Correlation\n",
    "In many cases we want two analyze two separate variables (columns) from a popultion or sample in order to see if they move togther or not. If two samples do move together (that is when one samples values increase so does the other and vice-versa) then they are said to have a **linear relationship.**\n",
    "\n",
    "**Covariance** - is a measure of the direction of linearity between variables x and y (ex: positive linearity, negative linearity), however is does not distinguish the strength of the linear relationship.  \n",
    "\n",
    "**Corellation Coefficient** - a measures both the direction and strenght of a linear realtionship between x and y. Corellation Coefficinets will always be between -1 and 1. The scores are intepreted below:\n",
    "\n",
    "* -1.0 = perfect negative linear relationship\n",
    "* -0.7 = strong negative linear relationship\n",
    "* -0.5 = moderate negative linear relationship\n",
    "* -0.3 = weak negative linear relationship\n",
    "*  0.0 = no linear relationship\n",
    "*  0.3 = weak positive linear relationship\n",
    "*  0.5 = moderate positive linear relationship\n",
    "*  0.7 = stong positive linear relationship\n",
    "*  1.0 = perfect linear relationship\n",
    "\n",
    "Note that negative linear relationships move downhill from left to right whereas positive linear relationships move uphill from left to right. See image below:\n",
    "\n",
    "<img src='data/images/corr_coeff.png' width=\"600\">\n"
   ]
  },
  {
   "cell_type": "markdown",
   "metadata": {},
   "source": [
    "\n",
    "## Weighted Mean\n",
    "Often times we compare values based on percentages. One simple example is a teacher who has a weighted grading system like so:\n",
    "\n",
    "* homework = 25\n",
    "* quiz = 10\n",
    "* tests = 30\n",
    "* final exam = 35\n",
    "\n",
    "Note that all elements above = 100% for the final grade. Because not all values are treated equally, then we can't use simple averages to compute the final grade. \n",
    "\n",
    "For example, say a student gets these grades:\n",
    "\n",
    "* homework = 88\n",
    "* quiz = 71\n",
    "* tests = 97\n",
    "* final exam = 90\n",
    "\n",
    "Taking the simple average would give us: \n",
    "\n",
    "$ (88 + 71 + 97 + 90) / 4 = 86.75 $ \n",
    "\n",
    "However, this is incorrect because of unequal weighting for each category. To take the weights into account, the averaging formula must be altered to:\n",
    "\n",
    "$ \\sum (w * x) / \\sum w $ \n",
    "\n",
    "Which is:\n",
    "\n",
    "(88 * 25) + (71 * 10) + (97 * 30) + (90 * 25) / 100 = 89.7\n",
    "\n",
    "Notice that the weighted score is 3 points higher. "
   ]
  },
  {
   "cell_type": "code",
   "execution_count": 5,
   "metadata": {},
   "outputs": [
    {
     "data": {
      "text/plain": [
       "89.7"
      ]
     },
     "execution_count": 5,
     "metadata": {},
     "output_type": "execute_result"
    }
   ],
   "source": [
    "#Calculating weighted mean\n",
    "\n",
    "weights = np.array([25, 10, 30, 35])\n",
    "s1_grades = np.array([88, 71, 97, 90])\n",
    "\n",
    "sum(weights * s1_grades) / sum(weights)"
   ]
  },
  {
   "cell_type": "markdown",
   "metadata": {},
   "source": [
    "## Grouped Data\n",
    "Central tendency and variability is usually measured using individual values from within a population or sample. However, often times the only data available is in the form of a frequency distribution bar chart or historgram. \n",
    "\n",
    "Data summarized in frequency distribution or histogram form are often called grouped data. \n",
    "\n",
    "Suppose you have a frequency distribution summarizing a sample of 65 customer satisfaction ratings for a product like so:\n",
    "* Ratings : Frequency\n",
    "* 36 - 38 : count 4\n",
    "* 39 - 41 : count 15\n",
    "* 42 - 44 : count 25\n",
    "* 45 - 47 : count 19\n",
    "* 48 - 50 : count 2\n",
    "\n",
    "Because we do not know the each of the 65 individual ratings, we cannot compute the exact mean satisfaction rating. But, we can calculate an approximation of this mean. \n",
    "\n",
    "To do so, the midpoint of each ratings class is used to represent the measurement for that class. the midpoints are multiplied by each frequency than summed together and dived by the total number of samples. Here's the formula:\n",
    "\n",
    "$ \\sum $ **(freq * midpoint) / total samples**\n",
    "\n",
    "\n",
    "<img src='data/images/mean.jpg' width=\"600\">\n",
    "\n",
    "\n",
    "The Variance can also be approximated in a similar manner:\n",
    "\n",
    "<img src='data/images/var.jpg' width=\"600\">\n",
    "\n",
    "\n"
   ]
  },
  {
   "cell_type": "markdown",
   "metadata": {},
   "source": [
    "## Random Samples"
   ]
  },
  {
   "cell_type": "code",
   "execution_count": null,
   "metadata": {},
   "outputs": [],
   "source": [
    "# using Pandas\n",
    "#c6_s1 = c6.sample(n = 700, replace=False)  3 replace= False means no duplicate rows\n",
    "\n",
    "# np.choice() also creates random samples from a population"
   ]
  }
 ],
 "metadata": {
  "kernelspec": {
   "display_name": "Python 3",
   "language": "python",
   "name": "python3"
  },
  "language_info": {
   "codemirror_mode": {
    "name": "ipython",
    "version": 3
   },
   "file_extension": ".py",
   "mimetype": "text/x-python",
   "name": "python",
   "nbconvert_exporter": "python",
   "pygments_lexer": "ipython3",
   "version": "3.7.7"
  }
 },
 "nbformat": 4,
 "nbformat_minor": 4
}
