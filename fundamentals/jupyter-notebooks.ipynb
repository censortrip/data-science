{
 "cells": [
  {
   "cell_type": "markdown",
   "metadata": {},
   "source": [
    "# Jupyter Notebooks\n",
    "---\n",
    "The Jupyter Notebook is an open-source web application that allows you to create and share documents that contain live code, equations, visualizations and narrative text. They are useful for many Data Science tasks inlcuding: data cleaning and transformation, numerical simulation, statistical modeling, data visualization.\n",
    "\n",
    "Notebooks are stored in .ipynb files and are run through a web browser from a local server. This notebook is a reference guide to some of the more useful features of a notebook including:\n",
    "\n",
    "1. **Notebook Modes**\n",
    "2. **Magic Commands**\n",
    "3. **? and ??**"
   ]
  },
  {
   "cell_type": "markdown",
   "metadata": {},
   "source": [
    "## 1. Notebook Modes\n",
    "---\n",
    "The Jupyter Notebook has two different keyboard input modes:\n",
    "\n",
    "1. **Edit Mode** : allows you to type code or text into a cell and is indicated by a green cell border\n",
    "\n",
    "\n",
    "2. **Command mode** binds the keyboard to notebook level commands and is indicated by a grey cell border with a blue left margin\n"
   ]
  },
  {
   "cell_type": "markdown",
   "metadata": {},
   "source": [
    "### Command Mode Commands\n",
    "\n",
    "While in command mode you can scroll up and down between cells with  the Up and Down arrow keys. \n",
    "Below are a few keyborad shortcuts for the command mode\n",
    "\n",
    "* **enter** - used to exit command mode\n",
    "* **h** - brings up command and edit mode keybord shorcut list\n",
    "* **s** - saves a notebook\n",
    "* **a** - inserts new cell above current cell\n",
    "* **b** - inserts new cell below current cell\n",
    "* **m** - sets active cell to a markdown cell\n",
    "* **y** - sets active cell to edit mode\n",
    "* **d (twice)** - deletes the active cell\n",
    "* **Z** - will undo deletion\n",
    "* **shift** - hold along with up or down selects multiple cells, once selected shift + m will merget the sells\n",
    "* **ctrl, shift, - - will split a cell at cursor location\n",
    "* **ctrl-a** - selects all cells in both modes"
   ]
  },
  {
   "cell_type": "markdown",
   "metadata": {},
   "source": [
    "### Edit Mode Commands\n",
    "\n",
    "* **esc** - used to enter command mode\n",
    "* **ctrl-a** -  selects all in cell\n",
    "* **ctrl-s** - saves notebook\n",
    "* **ctrl-enter** - run selected cells\n",
    "* **alt-enter** - run cell and insert new one below\n"
   ]
  },
  {
   "cell_type": "markdown",
   "metadata": {},
   "source": [
    "### Markdown\n",
    "Markdown is a lightweight, easy to use markup language that allows for text formatting. It makes it easy to format your notebooks as well as add media such as images or links inot a noteook. For a comprehensive tutorial go here:\n",
    "\n",
    "[Markdown Guide](https://www.markdownguide.org/basic-syntax/)"
   ]
  },
  {
   "cell_type": "markdown",
   "metadata": {},
   "source": [
    "### Kernel\n",
    "Behind every notebook runs a kernel. When you run a code cell, that code is executed within the kernel and any output is returned back to the cell to be displayed. The kernel’s state persists over time and between cells — it pertains to the document as a whole and not individual cells.\n",
    "\n",
    "For example, if you import libraries or declare variables in one cell, they will be available in another. In this way, you can think of a notebook document as being somewhat comparable to a script file, except that it is multimedia.\n",
    "\n",
    "There are some options available for the kernel including:\n",
    "* **Restart** - Restarts the kernel, clearing all the variables that were defined\n",
    "\n",
    "\n",
    "* **Restart & Clear Output** - Same as above, but aslo wipes out any previously executed code displayed below code cells\n",
    "\n",
    "\n",
    "* **Restart & Run All** - Same as above, but will alswo run all the notebook cells from first to last \n",
    "\n",
    "**Choosing a Kernel:** Kernels can also be changed to use different programming languages and between language versions as well. However this is not avaiable by default and langugages have to be explicitly installed."
   ]
  },
  {
   "cell_type": "markdown",
   "metadata": {},
   "source": [
    "## 2.  Magic Commands (IPython)\n",
    "---\n",
    "Because Jupyter Notebooks are based on the IPython kernel, Jupyter has access to all the Magics from the IPython kernel, and they can make your life a lot easier.\n",
    "\n",
    "Each one starts with % followed by the command name. Below contains some examples, here is a link to a comprehensive list of all magic commands:\n",
    "\n",
    "[Magic Command List](https://ipython.readthedocs.io/en/stable/interactive/magics.html)"
   ]
  },
  {
   "cell_type": "markdown",
   "metadata": {},
   "source": [
    "### %run  - Execute Python Code \n",
    "%run excecutes python code from .py files as well as jupyter notebook files. Note all the code in the file, so if you have a spe"
   ]
  },
  {
   "cell_type": "markdown",
   "metadata": {},
   "source": [
    "### %load - Insert Code From External Script\n",
    "When %load is run with a python file, it will insert all the code from the script file into the cell. "
   ]
  },
  {
   "cell_type": "code",
   "execution_count": 1,
   "metadata": {},
   "outputs": [],
   "source": [
    "# Here load was run and all the contents of the file were loaded and the\n",
    "# magic command itself was commented out. I deleted everything but one\n",
    "# of the functions just for this example. \n",
    "\n",
    "# %load load_dbs.py\n",
    "# These are database connectors for the databases jupyter notebook\n",
    "def get_movie_data():\n",
    "\tid_      = None\n",
    "\ttitle    = 'Jaws'\n",
    "\tyear_    = 1975\n",
    "\tduration = 124\n",
    "\tdirector = 'Steven Spielberg'\n",
    "\treturn(id_, title, year_, duration, director)"
   ]
  },
  {
   "cell_type": "markdown",
   "metadata": {},
   "source": [
    "### %who - List all Global Variables\n",
    "The %who command without any arguments will list all variables that exist in the global scope of a notebook. \n",
    "\n",
    "If a parameter is passed, it will only find the globals for that type"
   ]
  },
  {
   "cell_type": "code",
   "execution_count": 2,
   "metadata": {},
   "outputs": [],
   "source": [
    "test_string = 'tester'\n",
    "test_int = 100  "
   ]
  },
  {
   "cell_type": "code",
   "execution_count": 3,
   "metadata": {},
   "outputs": [
    {
     "name": "stdout",
     "output_type": "stream",
     "text": [
      "test_string\t \n",
      "\n",
      "test_int\t \n",
      "\n",
      "get_movie_data\t \n"
     ]
    }
   ],
   "source": [
    "# Because the two variables above are not inside of a class or function they\n",
    "# are global functions. Therefore, running %who will return them\n",
    "%who str\n",
    "print()\n",
    "%who int\n",
    "print()\n",
    "%who function"
   ]
  },
  {
   "cell_type": "markdown",
   "metadata": {},
   "source": [
    "### %time - Timing (one pass)\n",
    "the %time magic command runs a Python statement or expression one time"
   ]
  },
  {
   "cell_type": "code",
   "execution_count": 12,
   "metadata": {},
   "outputs": [],
   "source": [
    "def time_func():\n",
    "    '''This function multiplies numbers together.'''\n",
    "    for i in range (100000000):\n",
    "        i = i * i\n",
    "        return(i)"
   ]
  },
  {
   "cell_type": "code",
   "execution_count": 5,
   "metadata": {},
   "outputs": [
    {
     "name": "stdout",
     "output_type": "stream",
     "text": [
      "Wall time: 5.5 s\n"
     ]
    },
    {
     "data": {
      "text/plain": [
       "4999999950000000"
      ]
     },
     "execution_count": 5,
     "metadata": {},
     "output_type": "execute_result"
    }
   ],
   "source": [
    "%time sum(range(100000000))"
   ]
  },
  {
   "cell_type": "code",
   "execution_count": 6,
   "metadata": {},
   "outputs": [
    {
     "name": "stdout",
     "output_type": "stream",
     "text": [
      "Wall time: 0 ns\n"
     ]
    },
    {
     "data": {
      "text/plain": [
       "0"
      ]
     },
     "execution_count": 6,
     "metadata": {},
     "output_type": "execute_result"
    }
   ],
   "source": [
    "%time time_func()"
   ]
  },
  {
   "cell_type": "markdown",
   "metadata": {},
   "source": [
    "### %timeit - (100,000 passes)\n",
    "The %timeit command runs a statemetn 100,000 times and returns the mean of the fastest three times."
   ]
  },
  {
   "cell_type": "code",
   "execution_count": 7,
   "metadata": {},
   "outputs": [
    {
     "name": "stdout",
     "output_type": "stream",
     "text": [
      "503 ns ± 20.3 ns per loop (mean ± std. dev. of 7 runs, 1000000 loops each)\n"
     ]
    }
   ],
   "source": [
    "%timeit time_func()"
   ]
  },
  {
   "cell_type": "markdown",
   "metadata": {},
   "source": [
    "### %%writefile - Exports cell content to an external script"
   ]
  },
  {
   "cell_type": "code",
   "execution_count": 8,
   "metadata": {},
   "outputs": [],
   "source": [
    "def writefile():\n",
    "    \"\"\"This is a test function\"\"\"\n",
    "    print('This should end up in an external file called writefile_test.py')"
   ]
  },
  {
   "cell_type": "code",
   "execution_count": 10,
   "metadata": {},
   "outputs": [
    {
     "name": "stdout",
     "output_type": "stream",
     "text": [
      "Overwriting data/writefile_test.py\n"
     ]
    }
   ],
   "source": [
    "%%writefile data/writefile_test.py\n",
    "writefile()"
   ]
  },
  {
   "cell_type": "markdown",
   "metadata": {},
   "source": [
    "### ? and ??\n",
    "---\n",
    "**?** is used to return a functions docstring of a function \n",
    "\n",
    "**??** is used to return the source code of a function"
   ]
  },
  {
   "cell_type": "code",
   "execution_count": 11,
   "metadata": {},
   "outputs": [],
   "source": [
    "writefile?"
   ]
  },
  {
   "cell_type": "code",
   "execution_count": 14,
   "metadata": {},
   "outputs": [],
   "source": [
    "time_func?"
   ]
  },
  {
   "cell_type": "code",
   "execution_count": 16,
   "metadata": {},
   "outputs": [],
   "source": [
    "help?"
   ]
  },
  {
   "cell_type": "code",
   "execution_count": 17,
   "metadata": {},
   "outputs": [],
   "source": [
    "writefile??"
   ]
  },
  {
   "cell_type": "code",
   "execution_count": 18,
   "metadata": {},
   "outputs": [],
   "source": [
    "time_func??"
   ]
  }
 ],
 "metadata": {
  "kernelspec": {
   "display_name": "Python 3",
   "language": "python",
   "name": "python3"
  },
  "language_info": {
   "codemirror_mode": {
    "name": "ipython",
    "version": 3
   },
   "file_extension": ".py",
   "mimetype": "text/x-python",
   "name": "python",
   "nbconvert_exporter": "python",
   "pygments_lexer": "ipython3",
   "version": "3.7.7"
  }
 },
 "nbformat": 4,
 "nbformat_minor": 4
}
