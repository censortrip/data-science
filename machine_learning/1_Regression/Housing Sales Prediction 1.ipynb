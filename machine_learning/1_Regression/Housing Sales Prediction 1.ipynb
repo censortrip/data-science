{
 "cells": [
  {
   "cell_type": "markdown",
   "metadata": {},
   "source": [
    "# House Sales Prediction\n",
    "\n",
    "All the data for this analysis comes from a public Kaggle.com competition: \n",
    "\n",
    "https://www.kaggle.com/c/house-prices-advanced-regression-techniques/data\n",
    "\n",
    "The data contains 80 explanatory variables describing (almost) every aspect of residential homes in Ames, Iowa. This competition challenges you to predict the final price of each home.\n",
    "\n",
    "Note that all variable descriptions are in the descriptions text file found on the link above."
   ]
  },
  {
   "cell_type": "markdown",
   "metadata": {},
   "source": [
    "---\n",
    "# Attempt 1 - Naive Analysis\n",
    "This attempt takes a broad look at the data. It includes all of the features and lets Ridge and Lasso take care of the feature engineering part rather than delve into each feature one by one. \n",
    "\n",
    "In this attempt, I followed many of the methodologies in the notebook below from a highly ranked Kaggle user:\n",
    "\n",
    "https://www.kaggle.com/apapiu/regularized-linear-models"
   ]
  },
  {
   "cell_type": "code",
   "execution_count": 16,
   "metadata": {},
   "outputs": [],
   "source": [
    "# dataframe and plot\n",
    "import numpy as np\n",
    "import pandas as pd\n",
    "import seaborn as sns\n",
    "import scipy.stats\n",
    "import matplotlib.pyplot as plt\n",
    "import matplotlib.ticker as ticker\n",
    "\n",
    "from sklearn import preprocessing\n",
    "from sklearn.model_selection import train_test_split, cross_val_score\n",
    "\n",
    "# Models\n",
    "from sklearn.linear_model import LinearRegression\n",
    "from sklearn.linear_model import LassoCV\n",
    "from sklearn.linear_model import Ridge\n",
    "from sklearn.linear_model import RidgeCV\n",
    "from sklearn.linear_model import ElasticNet\n",
    "\n",
    "# Model Evaluation Metrics\n",
    "from sklearn import metrics\n",
    "\n",
    "house_train = pd.read_csv('data/house_train.csv')\n",
    "house_test = pd.read_csv('data/house_test.csv')"
   ]
  },
  {
   "cell_type": "code",
   "execution_count": 17,
   "metadata": {},
   "outputs": [
    {
     "data": {
      "text/plain": [
       "(1460, 81)"
      ]
     },
     "execution_count": 17,
     "metadata": {},
     "output_type": "execute_result"
    }
   ],
   "source": [
    "house_train.shape"
   ]
  },
  {
   "cell_type": "code",
   "execution_count": 18,
   "metadata": {},
   "outputs": [
    {
     "data": {
      "text/plain": [
       "(1459, 80)"
      ]
     },
     "execution_count": 18,
     "metadata": {},
     "output_type": "execute_result"
    }
   ],
   "source": [
    "house_test.shape"
   ]
  },
  {
   "cell_type": "code",
   "execution_count": 19,
   "metadata": {},
   "outputs": [
    {
     "data": {
      "text/plain": [
       "SalePrice       1.000000\n",
       "OverallQual     0.790982\n",
       "GrLivArea       0.708624\n",
       "GarageCars      0.640409\n",
       "GarageArea      0.623431\n",
       "TotalBsmtSF     0.613581\n",
       "1stFlrSF        0.605852\n",
       "FullBath        0.560664\n",
       "TotRmsAbvGrd    0.533723\n",
       "YearBuilt       0.522897\n",
       "YearRemodAdd    0.507101\n",
       "Name: SalePrice, dtype: float64"
      ]
     },
     "execution_count": 19,
     "metadata": {},
     "output_type": "execute_result"
    }
   ],
   "source": [
    "# Check top 10 numeric features correlated with 'SalePrice' \n",
    "# I did this only because I liked the method, not really using it here at this point\n",
    "\n",
    "# See the kaggle notebook below for this example\n",
    "# https://www.kaggle.com/junyingzhang2018/ridge-regression-score-0-119\n",
    "\n",
    "house_train.corr()['SalePrice'].sort_values(ascending=False).head(11)"
   ]
  },
  {
   "cell_type": "markdown",
   "metadata": {},
   "source": [
    "### Combine all features from both test and training sets so that there is no need to edit both separately "
   ]
  },
  {
   "cell_type": "code",
   "execution_count": 20,
   "metadata": {},
   "outputs": [],
   "source": [
    "# Note that 'Id' and 'SalePrice' columns are cut out on concat belwo.\n",
    "# 'MSSubClass' is the first col and 'SaleCondition' is last col\n",
    "\n",
    "all_data = pd.concat((house_train.loc[:, 'MSSubClass':'SaleCondition'],\n",
    "                    house_test.loc[:, 'MSSubClass':'SaleCondition']))"
   ]
  },
  {
   "cell_type": "code",
   "execution_count": 21,
   "metadata": {},
   "outputs": [
    {
     "data": {
      "text/html": [
       "<div>\n",
       "<style scoped>\n",
       "    .dataframe tbody tr th:only-of-type {\n",
       "        vertical-align: middle;\n",
       "    }\n",
       "\n",
       "    .dataframe tbody tr th {\n",
       "        vertical-align: top;\n",
       "    }\n",
       "\n",
       "    .dataframe thead th {\n",
       "        text-align: right;\n",
       "    }\n",
       "</style>\n",
       "<table border=\"1\" class=\"dataframe\">\n",
       "  <thead>\n",
       "    <tr style=\"text-align: right;\">\n",
       "      <th></th>\n",
       "      <th>MSSubClass</th>\n",
       "      <th>MSZoning</th>\n",
       "      <th>LotFrontage</th>\n",
       "      <th>LotArea</th>\n",
       "      <th>Street</th>\n",
       "      <th>Alley</th>\n",
       "      <th>LotShape</th>\n",
       "      <th>LandContour</th>\n",
       "      <th>Utilities</th>\n",
       "      <th>LotConfig</th>\n",
       "      <th>...</th>\n",
       "      <th>ScreenPorch</th>\n",
       "      <th>PoolArea</th>\n",
       "      <th>PoolQC</th>\n",
       "      <th>Fence</th>\n",
       "      <th>MiscFeature</th>\n",
       "      <th>MiscVal</th>\n",
       "      <th>MoSold</th>\n",
       "      <th>YrSold</th>\n",
       "      <th>SaleType</th>\n",
       "      <th>SaleCondition</th>\n",
       "    </tr>\n",
       "  </thead>\n",
       "  <tbody>\n",
       "    <tr>\n",
       "      <th>0</th>\n",
       "      <td>60</td>\n",
       "      <td>RL</td>\n",
       "      <td>65.0</td>\n",
       "      <td>8450</td>\n",
       "      <td>Pave</td>\n",
       "      <td>NaN</td>\n",
       "      <td>Reg</td>\n",
       "      <td>Lvl</td>\n",
       "      <td>AllPub</td>\n",
       "      <td>Inside</td>\n",
       "      <td>...</td>\n",
       "      <td>0</td>\n",
       "      <td>0</td>\n",
       "      <td>NaN</td>\n",
       "      <td>NaN</td>\n",
       "      <td>NaN</td>\n",
       "      <td>0</td>\n",
       "      <td>2</td>\n",
       "      <td>2008</td>\n",
       "      <td>WD</td>\n",
       "      <td>Normal</td>\n",
       "    </tr>\n",
       "    <tr>\n",
       "      <th>1</th>\n",
       "      <td>20</td>\n",
       "      <td>RL</td>\n",
       "      <td>80.0</td>\n",
       "      <td>9600</td>\n",
       "      <td>Pave</td>\n",
       "      <td>NaN</td>\n",
       "      <td>Reg</td>\n",
       "      <td>Lvl</td>\n",
       "      <td>AllPub</td>\n",
       "      <td>FR2</td>\n",
       "      <td>...</td>\n",
       "      <td>0</td>\n",
       "      <td>0</td>\n",
       "      <td>NaN</td>\n",
       "      <td>NaN</td>\n",
       "      <td>NaN</td>\n",
       "      <td>0</td>\n",
       "      <td>5</td>\n",
       "      <td>2007</td>\n",
       "      <td>WD</td>\n",
       "      <td>Normal</td>\n",
       "    </tr>\n",
       "    <tr>\n",
       "      <th>2</th>\n",
       "      <td>60</td>\n",
       "      <td>RL</td>\n",
       "      <td>68.0</td>\n",
       "      <td>11250</td>\n",
       "      <td>Pave</td>\n",
       "      <td>NaN</td>\n",
       "      <td>IR1</td>\n",
       "      <td>Lvl</td>\n",
       "      <td>AllPub</td>\n",
       "      <td>Inside</td>\n",
       "      <td>...</td>\n",
       "      <td>0</td>\n",
       "      <td>0</td>\n",
       "      <td>NaN</td>\n",
       "      <td>NaN</td>\n",
       "      <td>NaN</td>\n",
       "      <td>0</td>\n",
       "      <td>9</td>\n",
       "      <td>2008</td>\n",
       "      <td>WD</td>\n",
       "      <td>Normal</td>\n",
       "    </tr>\n",
       "    <tr>\n",
       "      <th>3</th>\n",
       "      <td>70</td>\n",
       "      <td>RL</td>\n",
       "      <td>60.0</td>\n",
       "      <td>9550</td>\n",
       "      <td>Pave</td>\n",
       "      <td>NaN</td>\n",
       "      <td>IR1</td>\n",
       "      <td>Lvl</td>\n",
       "      <td>AllPub</td>\n",
       "      <td>Corner</td>\n",
       "      <td>...</td>\n",
       "      <td>0</td>\n",
       "      <td>0</td>\n",
       "      <td>NaN</td>\n",
       "      <td>NaN</td>\n",
       "      <td>NaN</td>\n",
       "      <td>0</td>\n",
       "      <td>2</td>\n",
       "      <td>2006</td>\n",
       "      <td>WD</td>\n",
       "      <td>Abnorml</td>\n",
       "    </tr>\n",
       "    <tr>\n",
       "      <th>4</th>\n",
       "      <td>60</td>\n",
       "      <td>RL</td>\n",
       "      <td>84.0</td>\n",
       "      <td>14260</td>\n",
       "      <td>Pave</td>\n",
       "      <td>NaN</td>\n",
       "      <td>IR1</td>\n",
       "      <td>Lvl</td>\n",
       "      <td>AllPub</td>\n",
       "      <td>FR2</td>\n",
       "      <td>...</td>\n",
       "      <td>0</td>\n",
       "      <td>0</td>\n",
       "      <td>NaN</td>\n",
       "      <td>NaN</td>\n",
       "      <td>NaN</td>\n",
       "      <td>0</td>\n",
       "      <td>12</td>\n",
       "      <td>2008</td>\n",
       "      <td>WD</td>\n",
       "      <td>Normal</td>\n",
       "    </tr>\n",
       "  </tbody>\n",
       "</table>\n",
       "<p>5 rows × 79 columns</p>\n",
       "</div>"
      ],
      "text/plain": [
       "   MSSubClass MSZoning  LotFrontage  LotArea Street Alley LotShape  \\\n",
       "0          60       RL         65.0     8450   Pave   NaN      Reg   \n",
       "1          20       RL         80.0     9600   Pave   NaN      Reg   \n",
       "2          60       RL         68.0    11250   Pave   NaN      IR1   \n",
       "3          70       RL         60.0     9550   Pave   NaN      IR1   \n",
       "4          60       RL         84.0    14260   Pave   NaN      IR1   \n",
       "\n",
       "  LandContour Utilities LotConfig  ... ScreenPorch PoolArea PoolQC Fence  \\\n",
       "0         Lvl    AllPub    Inside  ...           0        0    NaN   NaN   \n",
       "1         Lvl    AllPub       FR2  ...           0        0    NaN   NaN   \n",
       "2         Lvl    AllPub    Inside  ...           0        0    NaN   NaN   \n",
       "3         Lvl    AllPub    Corner  ...           0        0    NaN   NaN   \n",
       "4         Lvl    AllPub       FR2  ...           0        0    NaN   NaN   \n",
       "\n",
       "  MiscFeature MiscVal  MoSold  YrSold  SaleType  SaleCondition  \n",
       "0         NaN       0       2    2008        WD         Normal  \n",
       "1         NaN       0       5    2007        WD         Normal  \n",
       "2         NaN       0       9    2008        WD         Normal  \n",
       "3         NaN       0       2    2006        WD        Abnorml  \n",
       "4         NaN       0      12    2008        WD         Normal  \n",
       "\n",
       "[5 rows x 79 columns]"
      ]
     },
     "execution_count": 21,
     "metadata": {},
     "output_type": "execute_result"
    }
   ],
   "source": [
    "all_data.head(5)"
   ]
  },
  {
   "cell_type": "markdown",
   "metadata": {},
   "source": [
    "### Check Label/Predictor Variable Distribution\n",
    "Because we are performing regression analysis, we need our dependent y varibale ('SalePrice') to be normally distributed"
   ]
  },
  {
   "cell_type": "code",
   "execution_count": 22,
   "metadata": {},
   "outputs": [
    {
     "data": {
      "image/png": "[encoded data removed]",
      "text/plain": [
       "<Figure size 720x360 with 1 Axes>"
      ]
     },
     "metadata": {
      "needs_background": "light"
     },
     "output_type": "display_data"
    }
   ],
   "source": [
    "# histogram and normal probability plot\n",
    "\n",
    "plt.figure(figsize=(10,5))\n",
    "sns.distplot(house_train['SalePrice'], fit=scipy.stats.norm);\n",
    "plt.title('Sale Price (Regular)', fontsize=16)\n",
    "plt.show()"
   ]
  },
  {
   "cell_type": "markdown",
   "metadata": {},
   "source": [
    "### Based on the visuals above'SalePrice is not normally distributed due to the large potential variations in house values. Therefore, transforming this data makes sense"
   ]
  },
  {
   "cell_type": "code",
   "execution_count": 23,
   "metadata": {},
   "outputs": [
    {
     "data": {
      "image/png": "[encoded data removed]",
      "text/plain": [
       "<Figure size 720x360 with 1 Axes>"
      ]
     },
     "metadata": {
      "needs_background": "light"
     },
     "output_type": "display_data"
    }
   ],
   "source": [
    "plt.figure(figsize=(10,5))\n",
    "sns.distplot(np.log(house_train['SalePrice']), fit=scipy.stats.norm);\n",
    "plt.title('Sale Price (Log-Transformed)', fontsize=16)\n",
    "plt.show()"
   ]
  },
  {
   "cell_type": "code",
   "execution_count": 24,
   "metadata": {},
   "outputs": [
    {
     "data": {
      "text/plain": [
       "0    208500\n",
       "1    181500\n",
       "2    223500\n",
       "3    140000\n",
       "4    250000\n",
       "Name: SalePrice, dtype: int64"
      ]
     },
     "execution_count": 24,
     "metadata": {},
     "output_type": "execute_result"
    }
   ],
   "source": [
    "house_train['SalePrice'].head()"
   ]
  },
  {
   "cell_type": "code",
   "execution_count": 25,
   "metadata": {},
   "outputs": [
    {
     "data": {
      "text/plain": [
       "0    12.247694\n",
       "1    12.109011\n",
       "2    12.317167\n",
       "3    11.849398\n",
       "4    12.429216\n",
       "Name: SalePrice, dtype: float64"
      ]
     },
     "execution_count": 25,
     "metadata": {},
     "output_type": "execute_result"
    }
   ],
   "source": [
    "house_train['SalePrice'] = np.log(house_train['SalePrice'])\n",
    "house_train['SalePrice'].head()"
   ]
  },
  {
   "cell_type": "markdown",
   "metadata": {},
   "source": [
    "### Double check the transformed values"
   ]
  },
  {
   "cell_type": "code",
   "execution_count": 26,
   "metadata": {},
   "outputs": [
    {
     "data": {
      "text/plain": [
       "0    208500.0\n",
       "1    181500.0\n",
       "2    223500.0\n",
       "3    140000.0\n",
       "4    250000.0\n",
       "Name: SalePrice, dtype: float64"
      ]
     },
     "execution_count": 26,
     "metadata": {},
     "output_type": "execute_result"
    }
   ],
   "source": [
    "np.exp(house_train['SalePrice']).head()"
   ]
  },
  {
   "cell_type": "markdown",
   "metadata": {},
   "source": [
    "### Next I check only the numeric features for skewness and convert the ones that need converting based on a pre-defined skewness metric so that they can all be converted at once"
   ]
  },
  {
   "cell_type": "code",
   "execution_count": 27,
   "metadata": {
    "scrolled": true
   },
   "outputs": [
    {
     "name": "stdout",
     "output_type": "stream",
     "text": [
      "(36,)\n"
     ]
    },
    {
     "data": {
      "text/plain": [
       "Index(['MSSubClass', 'LotFrontage', 'LotArea', 'OverallQual', 'OverallCond',\n",
       "       'YearBuilt', 'YearRemodAdd', 'MasVnrArea', 'BsmtFinSF1', 'BsmtFinSF2',\n",
       "       'BsmtUnfSF', 'TotalBsmtSF', '1stFlrSF', '2ndFlrSF', 'LowQualFinSF',\n",
       "       'GrLivArea', 'BsmtFullBath', 'BsmtHalfBath', 'FullBath', 'HalfBath',\n",
       "       'BedroomAbvGr', 'KitchenAbvGr', 'TotRmsAbvGrd', 'Fireplaces',\n",
       "       'GarageYrBlt', 'GarageCars', 'GarageArea', 'WoodDeckSF', 'OpenPorchSF',\n",
       "       'EnclosedPorch', '3SsnPorch', 'ScreenPorch', 'PoolArea', 'MiscVal',\n",
       "       'MoSold', 'YrSold'],\n",
       "      dtype='object')"
      ]
     },
     "execution_count": 27,
     "metadata": {},
     "output_type": "execute_result"
    }
   ],
   "source": [
    "# Get only the numeric features\n",
    "numeric_feats = all_data.dtypes[all_data.dtypes != \"object\"].index\n",
    "print(numeric_feats.shape)\n",
    "numeric_feats"
   ]
  },
  {
   "cell_type": "markdown",
   "metadata": {},
   "source": [
    "### Note that np.log1p() is used here instead of np.log() to transform the data. This is because there are null or 0 values in the data which np.log1p() can handle whereas np.log() throws an error"
   ]
  },
  {
   "cell_type": "code",
   "execution_count": 28,
   "metadata": {},
   "outputs": [],
   "source": [
    "#compute skewness then log transform all skewed columns \n",
    "skewed_feats = house_train[numeric_feats].skew()\n",
    "skewed_feats = skewed_feats[skewed_feats > 0.75]\n",
    "skewed_feats = skewed_feats.index\n",
    "\n",
    "all_data[skewed_feats] = np.log1p(all_data[skewed_feats])"
   ]
  },
  {
   "cell_type": "code",
   "execution_count": 29,
   "metadata": {},
   "outputs": [
    {
     "data": {
      "text/plain": [
       "Index(['MSSubClass', 'LotFrontage', 'LotArea', 'MasVnrArea', 'BsmtFinSF1',\n",
       "       'BsmtFinSF2', 'BsmtUnfSF', 'TotalBsmtSF', '1stFlrSF', '2ndFlrSF',\n",
       "       'LowQualFinSF', 'GrLivArea', 'BsmtHalfBath', 'KitchenAbvGr',\n",
       "       'WoodDeckSF', 'OpenPorchSF', 'EnclosedPorch', '3SsnPorch',\n",
       "       'ScreenPorch', 'PoolArea', 'MiscVal'],\n",
       "      dtype='object')"
      ]
     },
     "execution_count": 29,
     "metadata": {},
     "output_type": "execute_result"
    }
   ],
   "source": [
    "skewed_feats"
   ]
  },
  {
   "cell_type": "code",
   "execution_count": 30,
   "metadata": {},
   "outputs": [
    {
     "data": {
      "text/plain": [
       "(2919, 79)"
      ]
     },
     "execution_count": 30,
     "metadata": {},
     "output_type": "execute_result"
    }
   ],
   "source": [
    "all_data.shape"
   ]
  },
  {
   "cell_type": "markdown",
   "metadata": {},
   "source": [
    "### Below I create dummy variables for all of the text features which increases the column count from 79 to 288"
   ]
  },
  {
   "cell_type": "code",
   "execution_count": 21,
   "metadata": {},
   "outputs": [],
   "source": [
    "all_data =  pd.get_dummies(all_data)"
   ]
  },
  {
   "cell_type": "code",
   "execution_count": 22,
   "metadata": {},
   "outputs": [
    {
     "data": {
      "text/plain": [
       "(2919, 288)"
      ]
     },
     "execution_count": 22,
     "metadata": {},
     "output_type": "execute_result"
    }
   ],
   "source": [
    "all_data.shape"
   ]
  },
  {
   "cell_type": "code",
   "execution_count": 23,
   "metadata": {},
   "outputs": [
    {
     "data": {
      "text/html": [
       "<div>\n",
       "<style scoped>\n",
       "    .dataframe tbody tr th:only-of-type {\n",
       "        vertical-align: middle;\n",
       "    }\n",
       "\n",
       "    .dataframe tbody tr th {\n",
       "        vertical-align: top;\n",
       "    }\n",
       "\n",
       "    .dataframe thead th {\n",
       "        text-align: right;\n",
       "    }\n",
       "</style>\n",
       "<table border=\"1\" class=\"dataframe\">\n",
       "  <thead>\n",
       "    <tr style=\"text-align: right;\">\n",
       "      <th></th>\n",
       "      <th>MSSubClass</th>\n",
       "      <th>LotFrontage</th>\n",
       "      <th>LotArea</th>\n",
       "      <th>OverallQual</th>\n",
       "      <th>OverallCond</th>\n",
       "      <th>YearBuilt</th>\n",
       "      <th>YearRemodAdd</th>\n",
       "      <th>MasVnrArea</th>\n",
       "      <th>BsmtFinSF1</th>\n",
       "      <th>BsmtFinSF2</th>\n",
       "      <th>...</th>\n",
       "      <th>SaleType_ConLw</th>\n",
       "      <th>SaleType_New</th>\n",
       "      <th>SaleType_Oth</th>\n",
       "      <th>SaleType_WD</th>\n",
       "      <th>SaleCondition_Abnorml</th>\n",
       "      <th>SaleCondition_AdjLand</th>\n",
       "      <th>SaleCondition_Alloca</th>\n",
       "      <th>SaleCondition_Family</th>\n",
       "      <th>SaleCondition_Normal</th>\n",
       "      <th>SaleCondition_Partial</th>\n",
       "    </tr>\n",
       "  </thead>\n",
       "  <tbody>\n",
       "    <tr>\n",
       "      <th>0</th>\n",
       "      <td>4.110874</td>\n",
       "      <td>4.189655</td>\n",
       "      <td>9.042040</td>\n",
       "      <td>7</td>\n",
       "      <td>5</td>\n",
       "      <td>2003</td>\n",
       "      <td>2003</td>\n",
       "      <td>5.283204</td>\n",
       "      <td>6.561031</td>\n",
       "      <td>0.0</td>\n",
       "      <td>...</td>\n",
       "      <td>0</td>\n",
       "      <td>0</td>\n",
       "      <td>0</td>\n",
       "      <td>1</td>\n",
       "      <td>0</td>\n",
       "      <td>0</td>\n",
       "      <td>0</td>\n",
       "      <td>0</td>\n",
       "      <td>1</td>\n",
       "      <td>0</td>\n",
       "    </tr>\n",
       "    <tr>\n",
       "      <th>1</th>\n",
       "      <td>3.044522</td>\n",
       "      <td>4.394449</td>\n",
       "      <td>9.169623</td>\n",
       "      <td>6</td>\n",
       "      <td>8</td>\n",
       "      <td>1976</td>\n",
       "      <td>1976</td>\n",
       "      <td>0.000000</td>\n",
       "      <td>6.886532</td>\n",
       "      <td>0.0</td>\n",
       "      <td>...</td>\n",
       "      <td>0</td>\n",
       "      <td>0</td>\n",
       "      <td>0</td>\n",
       "      <td>1</td>\n",
       "      <td>0</td>\n",
       "      <td>0</td>\n",
       "      <td>0</td>\n",
       "      <td>0</td>\n",
       "      <td>1</td>\n",
       "      <td>0</td>\n",
       "    </tr>\n",
       "    <tr>\n",
       "      <th>2</th>\n",
       "      <td>4.110874</td>\n",
       "      <td>4.234107</td>\n",
       "      <td>9.328212</td>\n",
       "      <td>7</td>\n",
       "      <td>5</td>\n",
       "      <td>2001</td>\n",
       "      <td>2002</td>\n",
       "      <td>5.093750</td>\n",
       "      <td>6.188264</td>\n",
       "      <td>0.0</td>\n",
       "      <td>...</td>\n",
       "      <td>0</td>\n",
       "      <td>0</td>\n",
       "      <td>0</td>\n",
       "      <td>1</td>\n",
       "      <td>0</td>\n",
       "      <td>0</td>\n",
       "      <td>0</td>\n",
       "      <td>0</td>\n",
       "      <td>1</td>\n",
       "      <td>0</td>\n",
       "    </tr>\n",
       "    <tr>\n",
       "      <th>3</th>\n",
       "      <td>4.262680</td>\n",
       "      <td>4.110874</td>\n",
       "      <td>9.164401</td>\n",
       "      <td>7</td>\n",
       "      <td>5</td>\n",
       "      <td>1915</td>\n",
       "      <td>1970</td>\n",
       "      <td>0.000000</td>\n",
       "      <td>5.379897</td>\n",
       "      <td>0.0</td>\n",
       "      <td>...</td>\n",
       "      <td>0</td>\n",
       "      <td>0</td>\n",
       "      <td>0</td>\n",
       "      <td>1</td>\n",
       "      <td>1</td>\n",
       "      <td>0</td>\n",
       "      <td>0</td>\n",
       "      <td>0</td>\n",
       "      <td>0</td>\n",
       "      <td>0</td>\n",
       "    </tr>\n",
       "    <tr>\n",
       "      <th>4</th>\n",
       "      <td>4.110874</td>\n",
       "      <td>4.442651</td>\n",
       "      <td>9.565284</td>\n",
       "      <td>8</td>\n",
       "      <td>5</td>\n",
       "      <td>2000</td>\n",
       "      <td>2000</td>\n",
       "      <td>5.860786</td>\n",
       "      <td>6.486161</td>\n",
       "      <td>0.0</td>\n",
       "      <td>...</td>\n",
       "      <td>0</td>\n",
       "      <td>0</td>\n",
       "      <td>0</td>\n",
       "      <td>1</td>\n",
       "      <td>0</td>\n",
       "      <td>0</td>\n",
       "      <td>0</td>\n",
       "      <td>0</td>\n",
       "      <td>1</td>\n",
       "      <td>0</td>\n",
       "    </tr>\n",
       "    <tr>\n",
       "      <th>...</th>\n",
       "      <td>...</td>\n",
       "      <td>...</td>\n",
       "      <td>...</td>\n",
       "      <td>...</td>\n",
       "      <td>...</td>\n",
       "      <td>...</td>\n",
       "      <td>...</td>\n",
       "      <td>...</td>\n",
       "      <td>...</td>\n",
       "      <td>...</td>\n",
       "      <td>...</td>\n",
       "      <td>...</td>\n",
       "      <td>...</td>\n",
       "      <td>...</td>\n",
       "      <td>...</td>\n",
       "      <td>...</td>\n",
       "      <td>...</td>\n",
       "      <td>...</td>\n",
       "      <td>...</td>\n",
       "      <td>...</td>\n",
       "      <td>...</td>\n",
       "    </tr>\n",
       "    <tr>\n",
       "      <th>1454</th>\n",
       "      <td>5.081404</td>\n",
       "      <td>3.091042</td>\n",
       "      <td>7.568896</td>\n",
       "      <td>4</td>\n",
       "      <td>7</td>\n",
       "      <td>1970</td>\n",
       "      <td>1970</td>\n",
       "      <td>0.000000</td>\n",
       "      <td>0.000000</td>\n",
       "      <td>0.0</td>\n",
       "      <td>...</td>\n",
       "      <td>0</td>\n",
       "      <td>0</td>\n",
       "      <td>0</td>\n",
       "      <td>1</td>\n",
       "      <td>0</td>\n",
       "      <td>0</td>\n",
       "      <td>0</td>\n",
       "      <td>0</td>\n",
       "      <td>1</td>\n",
       "      <td>0</td>\n",
       "    </tr>\n",
       "    <tr>\n",
       "      <th>1455</th>\n",
       "      <td>5.081404</td>\n",
       "      <td>3.091042</td>\n",
       "      <td>7.546974</td>\n",
       "      <td>4</td>\n",
       "      <td>5</td>\n",
       "      <td>1970</td>\n",
       "      <td>1970</td>\n",
       "      <td>0.000000</td>\n",
       "      <td>5.533389</td>\n",
       "      <td>0.0</td>\n",
       "      <td>...</td>\n",
       "      <td>0</td>\n",
       "      <td>0</td>\n",
       "      <td>0</td>\n",
       "      <td>1</td>\n",
       "      <td>1</td>\n",
       "      <td>0</td>\n",
       "      <td>0</td>\n",
       "      <td>0</td>\n",
       "      <td>0</td>\n",
       "      <td>0</td>\n",
       "    </tr>\n",
       "    <tr>\n",
       "      <th>1456</th>\n",
       "      <td>3.044522</td>\n",
       "      <td>5.081404</td>\n",
       "      <td>9.903538</td>\n",
       "      <td>5</td>\n",
       "      <td>7</td>\n",
       "      <td>1960</td>\n",
       "      <td>1996</td>\n",
       "      <td>0.000000</td>\n",
       "      <td>7.110696</td>\n",
       "      <td>0.0</td>\n",
       "      <td>...</td>\n",
       "      <td>0</td>\n",
       "      <td>0</td>\n",
       "      <td>0</td>\n",
       "      <td>1</td>\n",
       "      <td>1</td>\n",
       "      <td>0</td>\n",
       "      <td>0</td>\n",
       "      <td>0</td>\n",
       "      <td>0</td>\n",
       "      <td>0</td>\n",
       "    </tr>\n",
       "    <tr>\n",
       "      <th>1457</th>\n",
       "      <td>4.454347</td>\n",
       "      <td>4.143135</td>\n",
       "      <td>9.253591</td>\n",
       "      <td>5</td>\n",
       "      <td>5</td>\n",
       "      <td>1992</td>\n",
       "      <td>1992</td>\n",
       "      <td>0.000000</td>\n",
       "      <td>5.823046</td>\n",
       "      <td>0.0</td>\n",
       "      <td>...</td>\n",
       "      <td>0</td>\n",
       "      <td>0</td>\n",
       "      <td>0</td>\n",
       "      <td>1</td>\n",
       "      <td>0</td>\n",
       "      <td>0</td>\n",
       "      <td>0</td>\n",
       "      <td>0</td>\n",
       "      <td>1</td>\n",
       "      <td>0</td>\n",
       "    </tr>\n",
       "    <tr>\n",
       "      <th>1458</th>\n",
       "      <td>4.110874</td>\n",
       "      <td>4.317488</td>\n",
       "      <td>9.172431</td>\n",
       "      <td>7</td>\n",
       "      <td>5</td>\n",
       "      <td>1993</td>\n",
       "      <td>1994</td>\n",
       "      <td>4.553877</td>\n",
       "      <td>6.632002</td>\n",
       "      <td>0.0</td>\n",
       "      <td>...</td>\n",
       "      <td>0</td>\n",
       "      <td>0</td>\n",
       "      <td>0</td>\n",
       "      <td>1</td>\n",
       "      <td>0</td>\n",
       "      <td>0</td>\n",
       "      <td>0</td>\n",
       "      <td>0</td>\n",
       "      <td>1</td>\n",
       "      <td>0</td>\n",
       "    </tr>\n",
       "  </tbody>\n",
       "</table>\n",
       "<p>2919 rows × 288 columns</p>\n",
       "</div>"
      ],
      "text/plain": [
       "      MSSubClass  LotFrontage   LotArea  OverallQual  OverallCond  YearBuilt  \\\n",
       "0       4.110874     4.189655  9.042040            7            5       2003   \n",
       "1       3.044522     4.394449  9.169623            6            8       1976   \n",
       "2       4.110874     4.234107  9.328212            7            5       2001   \n",
       "3       4.262680     4.110874  9.164401            7            5       1915   \n",
       "4       4.110874     4.442651  9.565284            8            5       2000   \n",
       "...          ...          ...       ...          ...          ...        ...   \n",
       "1454    5.081404     3.091042  7.568896            4            7       1970   \n",
       "1455    5.081404     3.091042  7.546974            4            5       1970   \n",
       "1456    3.044522     5.081404  9.903538            5            7       1960   \n",
       "1457    4.454347     4.143135  9.253591            5            5       1992   \n",
       "1458    4.110874     4.317488  9.172431            7            5       1993   \n",
       "\n",
       "      YearRemodAdd  MasVnrArea  BsmtFinSF1  BsmtFinSF2  ...  SaleType_ConLw  \\\n",
       "0             2003    5.283204    6.561031         0.0  ...               0   \n",
       "1             1976    0.000000    6.886532         0.0  ...               0   \n",
       "2             2002    5.093750    6.188264         0.0  ...               0   \n",
       "3             1970    0.000000    5.379897         0.0  ...               0   \n",
       "4             2000    5.860786    6.486161         0.0  ...               0   \n",
       "...            ...         ...         ...         ...  ...             ...   \n",
       "1454          1970    0.000000    0.000000         0.0  ...               0   \n",
       "1455          1970    0.000000    5.533389         0.0  ...               0   \n",
       "1456          1996    0.000000    7.110696         0.0  ...               0   \n",
       "1457          1992    0.000000    5.823046         0.0  ...               0   \n",
       "1458          1994    4.553877    6.632002         0.0  ...               0   \n",
       "\n",
       "      SaleType_New  SaleType_Oth  SaleType_WD  SaleCondition_Abnorml  \\\n",
       "0                0             0            1                      0   \n",
       "1                0             0            1                      0   \n",
       "2                0             0            1                      0   \n",
       "3                0             0            1                      1   \n",
       "4                0             0            1                      0   \n",
       "...            ...           ...          ...                    ...   \n",
       "1454             0             0            1                      0   \n",
       "1455             0             0            1                      1   \n",
       "1456             0             0            1                      1   \n",
       "1457             0             0            1                      0   \n",
       "1458             0             0            1                      0   \n",
       "\n",
       "      SaleCondition_AdjLand  SaleCondition_Alloca  SaleCondition_Family  \\\n",
       "0                         0                     0                     0   \n",
       "1                         0                     0                     0   \n",
       "2                         0                     0                     0   \n",
       "3                         0                     0                     0   \n",
       "4                         0                     0                     0   \n",
       "...                     ...                   ...                   ...   \n",
       "1454                      0                     0                     0   \n",
       "1455                      0                     0                     0   \n",
       "1456                      0                     0                     0   \n",
       "1457                      0                     0                     0   \n",
       "1458                      0                     0                     0   \n",
       "\n",
       "      SaleCondition_Normal  SaleCondition_Partial  \n",
       "0                        1                      0  \n",
       "1                        1                      0  \n",
       "2                        1                      0  \n",
       "3                        0                      0  \n",
       "4                        1                      0  \n",
       "...                    ...                    ...  \n",
       "1454                     1                      0  \n",
       "1455                     0                      0  \n",
       "1456                     0                      0  \n",
       "1457                     1                      0  \n",
       "1458                     1                      0  \n",
       "\n",
       "[2919 rows x 288 columns]"
      ]
     },
     "execution_count": 23,
     "metadata": {},
     "output_type": "execute_result"
    }
   ],
   "source": [
    "all_data"
   ]
  },
  {
   "cell_type": "markdown",
   "metadata": {},
   "source": [
    "### Fill all na's with mean value of column"
   ]
  },
  {
   "cell_type": "code",
   "execution_count": 24,
   "metadata": {},
   "outputs": [
    {
     "data": {
      "text/plain": [
       "LotFrontage     486\n",
       "MasVnrArea       23\n",
       "BsmtFinSF1        1\n",
       "BsmtFinSF2        1\n",
       "BsmtUnfSF         1\n",
       "TotalBsmtSF       1\n",
       "BsmtFullBath      2\n",
       "BsmtHalfBath      2\n",
       "GarageYrBlt     159\n",
       "GarageCars        1\n",
       "GarageArea        1\n",
       "dtype: int64"
      ]
     },
     "execution_count": 24,
     "metadata": {},
     "output_type": "execute_result"
    }
   ],
   "source": [
    "# All Null Columns\n",
    "nulls = all_data.isnull().sum()\n",
    "nulls[nulls != 0]"
   ]
  },
  {
   "cell_type": "code",
   "execution_count": 25,
   "metadata": {},
   "outputs": [],
   "source": [
    "all_data = all_data.fillna(all_data.mean())"
   ]
  },
  {
   "cell_type": "markdown",
   "metadata": {},
   "source": [
    "### All null values have been removed and the data has been cleaned.\n",
    "\n",
    "### Next I convert 'all_data'  back into the original training and test sets since all editing is finished"
   ]
  },
  {
   "cell_type": "code",
   "execution_count": 26,
   "metadata": {},
   "outputs": [],
   "source": [
    "X_train = all_data[: house_train.shape[0]]\n",
    "X_test = all_data[house_train.shape[0] :]\n",
    "y = house_train['SalePrice']"
   ]
  },
  {
   "cell_type": "markdown",
   "metadata": {},
   "source": [
    "### Cross Validation testing Using RMSE as scoring factor\n",
    "Note that cross-validation is a scoring parameter in sklearn, there are 3 different API's for evaluating the quality of a model's predictions.\n",
    "* cv = the number of subdivisions the data is divided into and tested\n",
    "* scoring is the error metric being tested, see link below for explanations\n",
    "\n",
    "For more info on scoring parameters and model evaluation see:\n",
    "\n",
    "https://scikit-learn.org/stable/modules/model_evaluation.html\n",
    "\n",
    "The below links explain the reasoning behind the negative scoring methodology:\n",
    "\n",
    "https://www.kaggle.com/dansbecker/cross-validation\n",
    "\n",
    "https://stackoverflow.com/questions/48244219/is-sklearn-metrics-mean-squared-error-the-larger-the-better-negated#48246255"
   ]
  },
  {
   "cell_type": "code",
   "execution_count": 27,
   "metadata": {},
   "outputs": [],
   "source": [
    "# Note that scoring input 'neg_mean_squared_error' is really just\n",
    "# the negative of the mean_squared_error\n",
    "\n",
    "# This is done because there are many types of model accuracy \n",
    "# checks where some require max values as best scores and some\n",
    "# the min values. \n",
    "\n",
    "# Scikit-learn has a convention where all metrics are defined so \n",
    "# a high number is better. Using negatives here allows them to be \n",
    "# consistent with that convention, though negative MAE is almost \n",
    "# unheard of elsewhere.\n",
    "\n",
    "# Therefore, when using cross-validation scoring, negative is used\n",
    "# in cases where the min score is ideal rather than max score\n",
    "\n",
    "# Note that mean_squared_error returns negative values and because \n",
    "# one can't take the sqrt of a negative number, -cross_val_score is \n",
    "# used to turn the scores positive so that the sqrt can be calculated. \n",
    "\n",
    "# Note that both methods work the same below, the cv function\n",
    "# DOES NOT have a regular mean_squared_error function, thus the \n",
    "# reason why the neg_mean_squared_error results have to be turned positive\n",
    "# using the negtive sign\n",
    "\n",
    "# cv is the # of subdivisions the data is divided into and tested\n",
    "# scoring is the error metric being tested\n",
    "\n",
    "def rmse_cv(model):\n",
    "    rmse = np.sqrt(-cross_val_score(model, \n",
    "                                    X_train,\n",
    "                                    y, \n",
    "                                    scoring='neg_mean_squared_error', \n",
    "                                    cv = 5))\n",
    "    return(rmse)\n",
    "\n",
    "\n",
    "def rmse_cv(model):\n",
    "    rmse = cross_val_score(model, \n",
    "                           X_train,\n",
    "                           y, \n",
    "                           scoring='neg_mean_squared_error', \n",
    "                           cv = 5)\n",
    "    return(np.sqrt(-rmse))"
   ]
  },
  {
   "cell_type": "markdown",
   "metadata": {},
   "source": [
    "### Ridge Regression Model Test\n",
    "Multiple alphas are tested in order to determine the ideal value to produce the best results. Note that each alpha is inputed into its own model that is then cross-validated with the rmse_cv function created above"
   ]
  },
  {
   "cell_type": "code",
   "execution_count": 28,
   "metadata": {},
   "outputs": [
    {
     "name": "stdout",
     "output_type": "stream",
     "text": [
      "All Cross-Validations Scores:\n",
      "[0.13893742611897414, 0.13777642028624817, 0.13501534646763005, 0.13136282589292544, 0.12864988226673474, 0.1278227540848166, 0.12733830985713235, 0.12753037363346023, 0.1289598645336085, 0.13099537471783448, 0.13316467272236693]\n",
      "\n",
      "Cross-Validation Mean Score: 0.1315957500528847\n",
      "\n",
      "Min CV Score: 0.12733830985713235\n"
     ]
    }
   ],
   "source": [
    "model_Ridge = Ridge()\n",
    "\n",
    "test_alphas = [0.05, 0.1, 0.3, 1, 3, 5, 10, 15, 30, 50, 75]\n",
    "cv_ridge = [rmse_cv(Ridge(alpha = alpha)).mean() for alpha in test_alphas]\n",
    "\n",
    "print(f'All Cross-Validations Scores:\\n{cv_ridge}\\n')\n",
    "print(f'Cross-Validation Mean Score: {np.mean(cv_ridge)}\\n')\n",
    "print(f'Min CV Score: {np.min(cv_ridge)}')"
   ]
  },
  {
   "cell_type": "code",
   "execution_count": 29,
   "metadata": {},
   "outputs": [
    {
     "data": {
      "text/plain": [
       "Text(0, 0.5, 'rmse')"
      ]
     },
     "execution_count": 29,
     "metadata": {},
     "output_type": "execute_result"
    },
    {
     "data": {
      "image/png": "[encoded data removed]",
      "text/plain": [
       "<Figure size 432x288 with 1 Axes>"
      ]
     },
     "metadata": {
      "needs_background": "light"
     },
     "output_type": "display_data"
    }
   ],
   "source": [
    "cv_ridge = pd.Series(cv_ridge, index = test_alphas)\n",
    "cv_ridge.plot(title = \"Validation - Just Do It\")\n",
    "plt.xlabel(\"alpha\")\n",
    "plt.ylabel(\"rmse\")"
   ]
  },
  {
   "cell_type": "markdown",
   "metadata": {},
   "source": [
    "### For the ridge regression model, the ideal alpha is at 10, where the rmse is minimized at 0.1273\n",
    "\n",
    "### Next the LassoCV Regression model is used\n",
    "For high-dimensional datasets with many collinear features, LassoCV is most often preferable.\n",
    "\n",
    "Note that LassoCV stands for Lasso Cross Validation"
   ]
  },
  {
   "cell_type": "code",
   "execution_count": 30,
   "metadata": {},
   "outputs": [],
   "source": [
    "model_lasso = LassoCV(alphas = [1, 0.1, 0.001, 0.0005]).fit(X_train, y)"
   ]
  },
  {
   "cell_type": "code",
   "execution_count": 31,
   "metadata": {},
   "outputs": [
    {
     "data": {
      "text/plain": [
       "0.12256827411134738"
      ]
     },
     "execution_count": 31,
     "metadata": {},
     "output_type": "execute_result"
    }
   ],
   "source": [
    "rmse_cv(model_lasso).mean()"
   ]
  },
  {
   "cell_type": "code",
   "execution_count": 32,
   "metadata": {},
   "outputs": [
    {
     "name": "stdout",
     "output_type": "stream",
     "text": [
      "Lasso picked 110 variables and eliminated the other 178 variables\n"
     ]
    }
   ],
   "source": [
    "coef = pd.Series(model_lasso.coef_, index = X_train.columns)\n",
    "\n",
    "print(\"Lasso picked \" + str(sum(coef != 0)) + \n",
    "      \" variables and eliminated the other \" + \n",
    "      str(sum(coef == 0)) + \" variables\")"
   ]
  },
  {
   "cell_type": "markdown",
   "metadata": {},
   "source": [
    "### Next Determine the best and worst features by coefficient values (top/bottom 10)"
   ]
  },
  {
   "cell_type": "code",
   "execution_count": 33,
   "metadata": {},
   "outputs": [],
   "source": [
    "imp_coef = pd.concat([coef.sort_values().head(10),\n",
    "                     coef.sort_values().tail(10)])"
   ]
  },
  {
   "cell_type": "code",
   "execution_count": 34,
   "metadata": {},
   "outputs": [
    {
     "data": {
      "text/plain": [
       "Text(0.5, 1.0, 'Coefficients in the Lasso Model')"
      ]
     },
     "execution_count": 34,
     "metadata": {},
     "output_type": "execute_result"
    },
    {
     "data": {
      "image/png": "[encoded data removed]",
      "text/plain": [
       "<Figure size 576x720 with 1 Axes>"
      ]
     },
     "metadata": {
      "needs_background": "light"
     },
     "output_type": "display_data"
    }
   ],
   "source": [
    "plt.rcParams['figure.figsize'] = (8.0, 10.0)\n",
    "imp_coef.plot(kind = \"barh\")\n",
    "plt.title(\"Coefficients in the Lasso Model\")"
   ]
  },
  {
   "cell_type": "markdown",
   "metadata": {},
   "source": [
    "### The most important feature by far is 'GrLivArea' also note that location is extemely important as 4 of the neighborhoods are included in the top 10\n",
    "\n",
    "### Next an error/residual chart is created to check for homoscedacisity. "
   ]
  },
  {
   "cell_type": "code",
   "execution_count": 36,
   "metadata": {
    "scrolled": false
   },
   "outputs": [
    {
     "data": {
      "image/png": "[encoded data removed]",
      "text/plain": [
       "<Figure size 720x360 with 1 Axes>"
      ]
     },
     "metadata": {
      "needs_background": "light"
     },
     "output_type": "display_data"
    },
    {
     "data": {
      "image/png": "[encoded data removed]",
      "text/plain": [
       "<Figure size 720x360 with 1 Axes>"
      ]
     },
     "metadata": {
      "needs_background": "light"
     },
     "output_type": "display_data"
    }
   ],
   "source": [
    "# Residual Check:\n",
    "plt.rcParams['figure.figsize'] = (10.0, 5.0)\n",
    "\n",
    "preds = pd.DataFrame({\"preds\":model_lasso.predict(X_train), \"true\":y})\n",
    "preds[\"residuals\"] = preds[\"true\"] - preds[\"preds\"]\n",
    "preds.plot(x = \"preds\", y = \"residuals\", kind = \"scatter\")\n",
    "plt.show()\n",
    "\n",
    "sns.distplot(preds['residuals'], fit=scipy.stats.norm);\n",
    "plt.show()"
   ]
  },
  {
   "cell_type": "markdown",
   "metadata": {},
   "source": [
    "### The 'shotgun blast' look of the scatter plot is good as there is sufficient randomness to the patterns and the residuals are normally distributed as we would hope to see"
   ]
  },
  {
   "cell_type": "markdown",
   "metadata": {},
   "source": [
    "### Next I take the training data and run a model with a test/train split set to see if the results come close to the mean RMSE above and to get the average price error value"
   ]
  },
  {
   "cell_type": "code",
   "execution_count": 37,
   "metadata": {},
   "outputs": [
    {
     "name": "stdout",
     "output_type": "stream",
     "text": [
      "(1460, 288)\n",
      "(1460,)\n",
      "\n",
      "Ridge Regression Results:\n",
      "----------------------------------------\n",
      "MAE: 0.08824790972080403\n",
      "RMSE: 0.13176794428306896\n"
     ]
    }
   ],
   "source": [
    "X = all_data[: house_train.shape[0]]\n",
    "y = house_train['SalePrice']\n",
    "\n",
    "print(X.shape)\n",
    "print(y.shape)\n",
    "print()\n",
    "\n",
    "# Ridge Regression Model\n",
    "ridge2 = Ridge(alpha=10)\n",
    "\n",
    "# Test/Train Split\n",
    "X_train, X_test, y_train, y_test = train_test_split(X, y, test_size = 0.25,random_state=100)\n",
    "ridge2.fit(X_train, y_train)\n",
    "y_pred_lin = ridge2.predict(X_test)\n",
    "\n",
    "\n",
    "\n",
    "print('Ridge Regression Results:')\n",
    "print('----------------------------------------')\n",
    "# MAE\n",
    "print(f'MAE: {metrics.mean_absolute_error(y_test, y_pred_lin)}')\n",
    "\n",
    "# RMSE\n",
    "print(f'RMSE: {np.sqrt(metrics.mean_squared_error(y_test, y_pred_lin))}')"
   ]
  },
  {
   "cell_type": "code",
   "execution_count": 38,
   "metadata": {},
   "outputs": [],
   "source": [
    "actuals_conv = np.exp(y_test)\n",
    "pred_conv = np.exp(y_pred_lin)"
   ]
  },
  {
   "cell_type": "code",
   "execution_count": 39,
   "metadata": {},
   "outputs": [
    {
     "data": {
      "text/plain": [
       "1436    120500.0\n",
       "57      196500.0\n",
       "780     176000.0\n",
       "382     213500.0\n",
       "1170    171000.0\n",
       "          ...   \n",
       "398      67000.0\n",
       "165     127500.0\n",
       "213     156000.0\n",
       "950     129000.0\n",
       "552     255500.0\n",
       "Name: SalePrice, Length: 365, dtype: float64"
      ]
     },
     "execution_count": 39,
     "metadata": {},
     "output_type": "execute_result"
    }
   ],
   "source": [
    "actuals_conv"
   ]
  },
  {
   "cell_type": "code",
   "execution_count": 40,
   "metadata": {
    "scrolled": true
   },
   "outputs": [
    {
     "data": {
      "text/plain": [
       "array([111028.79891484, 195426.72737469, 168411.66078951, 203528.36637731,\n",
       "       107842.02897755, 288851.07400523, 226107.87821758, 281342.6828319 ,\n",
       "       100365.11578751, 165626.49320869, 198767.93602009, 205582.18568419,\n",
       "       151086.75110771, 243772.48714398, 104592.76892522, 133213.28314334,\n",
       "       180320.19410182, 112111.17042022, 119769.88977606, 118727.70296552,\n",
       "       169136.47983669, 109551.9555098 , 142691.987559  , 122571.94278993,\n",
       "       186598.4364645 , 134528.04019629,  46969.65960587,  90758.3541213 ,\n",
       "       197379.26408358, 152525.12820367, 148123.17037919, 200204.21343715,\n",
       "       235763.56601887,  91851.2376366 , 124416.26292977,  75899.77061024,\n",
       "       124820.1851465 ,  79138.31197009, 141173.05626699, 115994.60943235,\n",
       "       372395.6174629 , 215359.59124792, 119313.23716729,  76994.5289848 ,\n",
       "       171938.91844442,  71015.11019551, 217171.50328895, 128889.60921864,\n",
       "       146085.21451898, 107290.62917513, 196473.93278929, 111642.24141674,\n",
       "       296757.90201803, 263609.86247572, 159799.38310252,  91177.1557859 ,\n",
       "        54733.19689766, 172868.4975815 , 138194.26825924, 428324.4392771 ,\n",
       "       135127.81914195, 233609.2894894 , 151969.34338875, 159886.92313528,\n",
       "       205928.40199522, 210530.30111698, 102570.61913248, 126458.11061097,\n",
       "       206871.16516617, 129050.727232  , 231114.19628134, 300651.61174805,\n",
       "       220972.92408271, 125261.60694323, 196083.85770707, 158947.73213118,\n",
       "       142990.75092712, 229663.48728643, 190854.31795779, 189835.05733576,\n",
       "       131166.64417822, 261548.72997067, 187044.99826084, 188236.44662145,\n",
       "       452907.64581434, 113963.68431548, 130655.51615092, 215757.80469546,\n",
       "       167198.34407677, 123429.43625904, 140954.2666732 , 177061.94380803,\n",
       "       200532.00347295, 165218.69119767, 267905.80508936,  67920.94532072,\n",
       "       225874.17422669, 216702.69234993, 155328.42962976, 200756.06588406,\n",
       "       134859.45878975, 108460.12045006, 226920.00901412, 267278.32893511,\n",
       "       142321.76286276, 112324.03129898, 180368.2661339 , 136842.75628668,\n",
       "        88214.11022862,  92223.10775134, 280136.18491951, 102949.41729983,\n",
       "       173736.89441862,  94079.91712572, 151157.72495528, 172536.90239676,\n",
       "       117941.44764691, 169057.73245843, 211707.21020019, 170987.50253057,\n",
       "       146470.52099785, 135107.21931756, 159958.60591853, 130541.65908302,\n",
       "       152463.03404766, 151822.00963193, 164571.89312783, 226858.96842515,\n",
       "       368871.59381882, 184616.89722052, 107283.34738785,  82058.00511467,\n",
       "       334697.25766469, 213133.87375052, 108872.77993797,  91999.28494739,\n",
       "       134799.38054624, 176008.26187764, 271508.4635659 ,  99972.44821317,\n",
       "       153284.12388096, 166338.83437362, 140653.38666786, 227125.3099492 ,\n",
       "       341509.60726264, 165000.94682187, 156464.12687328, 185169.38029145,\n",
       "       349804.17468675, 162402.65953408, 106247.16578485, 203034.44817872,\n",
       "       118640.88907753, 333778.17180873, 179804.78775257, 161381.88389648,\n",
       "        78701.43420503, 149901.94861418, 183261.10781408, 238577.22570772,\n",
       "       212459.49430391, 132336.35559233, 164762.91813925, 116100.48808947,\n",
       "       125825.76026681,  94133.81621696, 275370.72298864, 173219.81719516,\n",
       "       367837.17522116, 178147.2767547 , 157735.67341459, 196743.32614955,\n",
       "       130784.23248822, 187560.45194927, 133813.1907242 , 143305.37891025,\n",
       "       246249.09163124, 216102.48226283, 112781.58516656, 136630.89700729,\n",
       "       142249.6108827 , 304619.72825693, 125805.72131619,  89640.01461266,\n",
       "       176958.85524543, 118429.77649766, 170834.95578018, 237683.49531893,\n",
       "       185288.195232  , 140030.62857524, 277742.09305602, 186432.58361341,\n",
       "       125785.05516616, 210162.71127838, 329086.7624149 ,  93749.05865663,\n",
       "       138339.98072763, 162382.93710998, 244664.0493479 , 188909.74080855,\n",
       "       175601.59626438, 225693.66927549, 123817.42782939, 126903.31034969,\n",
       "       178893.54172862, 135618.28254545, 262129.99376998, 164445.28335665,\n",
       "       144778.08739757, 183930.74244622, 140597.48105932,  95129.68466976,\n",
       "       335136.70780246, 191842.49349325, 138607.15229947, 270657.05651547,\n",
       "       135507.06942995, 117458.94882564, 170212.20720233, 170676.33110075,\n",
       "       171561.41979645, 127253.63114429,  93251.86160329, 109638.72101577,\n",
       "       221391.84211983, 203107.83272009, 197545.70810732, 111536.2851439 ,\n",
       "       133179.31934091, 108004.80736275, 255500.21820262, 107533.82394403,\n",
       "       252424.22156967, 279156.08860562, 177088.94038241, 443226.6439894 ,\n",
       "       177355.63588578, 308278.25724112, 140678.93115763, 132237.8932494 ,\n",
       "       204811.69997581, 215706.96980298, 233831.4983722 , 199768.31783502,\n",
       "        91349.53320968, 170957.42480049, 228576.20869033, 225248.20800872,\n",
       "       200933.67459116, 215294.2094298 , 243417.2432279 , 131836.87272885,\n",
       "       197368.31274537, 333689.95689485, 136913.48609764,  76393.84748907,\n",
       "       180680.47767818, 199008.55603357, 167715.77945703, 148977.71015599,\n",
       "       121090.17826072, 312659.92830288, 144177.11106637, 124966.2041683 ,\n",
       "       332242.34381039, 149263.66807314, 204829.00214361,  93583.45691213,\n",
       "       157078.33773689, 121629.30790106, 199862.39808382, 167153.93154284,\n",
       "       169770.14428634, 207766.87364342, 180482.73113254, 200690.24448026,\n",
       "       267109.70292205, 140829.29371048,  89849.43946607, 131690.55845179,\n",
       "       100580.63037192, 390816.29620524, 134601.65075444, 275883.73840853,\n",
       "       311865.67563836, 204659.04865764, 414413.22834712, 200724.8959745 ,\n",
       "       227292.672378  , 196052.02549755, 404695.11410756, 165238.50253173,\n",
       "       217843.92135817, 250453.94539613, 151624.46202763, 170556.22133467,\n",
       "       253525.2697434 , 206340.05876983, 119473.48420283, 235614.82360368,\n",
       "       381424.61977021, 208941.88093061, 135179.50074227,  95615.05251491,\n",
       "       132681.78921336, 124728.48684183, 137607.50156351, 147100.7041071 ,\n",
       "        82240.60364495, 198317.5206351 , 131025.56717552,  94847.55424933,\n",
       "       176294.56620723, 123498.84657578, 154416.31323226, 101711.23217261,\n",
       "       139501.97169958, 124553.15332854, 219980.06790282, 158785.7727499 ,\n",
       "       203231.57557286, 118908.32066403, 169708.04371767, 176613.3776639 ,\n",
       "       249202.23718961, 316074.16490476, 127452.73500637, 151007.85133865,\n",
       "       179107.73241163, 227454.50195992, 110302.23435451, 198987.75612118,\n",
       "       114449.04013225, 112912.77549898, 143458.59898393, 269550.94856231,\n",
       "       290197.1405889 , 179730.6002694 , 195558.67690365, 343963.18359122,\n",
       "       108525.68270993, 280894.08106309, 233519.25101908, 228062.88722589,\n",
       "       420272.4514631 , 118741.32496159, 186504.13052683, 185367.2354279 ,\n",
       "       138615.73257247, 284265.54938516, 111337.07646835, 125880.30308665,\n",
       "        83975.67841736, 436466.3240726 , 124156.02328799, 278664.93257846,\n",
       "       149756.46443711, 199752.59106286, 120439.14667721, 137186.19493075,\n",
       "        77798.23921928, 116893.75949679, 155543.01155469, 141203.85387999,\n",
       "       274152.33706865])"
      ]
     },
     "execution_count": 40,
     "metadata": {},
     "output_type": "execute_result"
    }
   ],
   "source": [
    "pred_conv"
   ]
  },
  {
   "cell_type": "code",
   "execution_count": 41,
   "metadata": {},
   "outputs": [
    {
     "data": {
      "text/plain": [
       "15667.498943425853"
      ]
     },
     "execution_count": 41,
     "metadata": {},
     "output_type": "execute_result"
    }
   ],
   "source": [
    "res_conv = actuals_conv - pred_conv\n",
    "\n",
    "abs(res_conv).mean()"
   ]
  },
  {
   "cell_type": "markdown",
   "metadata": {},
   "source": [
    "### So the average pricing error is 15.7k which isn't all that great. Ideally I would want it below 10k, especially for houses prices under the 150k range. "
   ]
  },
  {
   "cell_type": "code",
   "execution_count": 42,
   "metadata": {},
   "outputs": [
    {
     "name": "stdout",
     "output_type": "stream",
     "text": [
      "Errors Under $10,000: 181 or 49.59%\n"
     ]
    }
   ],
   "source": [
    "err1 = len(res_conv[abs(res_conv) < 10_000])\n",
    "\n",
    "print(f'Errors Under $10,000: {err1} or {round(err1/len(y_test),4)*100}%')"
   ]
  },
  {
   "cell_type": "code",
   "execution_count": 43,
   "metadata": {},
   "outputs": [
    {
     "name": "stdout",
     "output_type": "stream",
     "text": [
      "Errors Over $25,000: 53 or 14.52%\n"
     ]
    }
   ],
   "source": [
    "err2 = len(res_conv[abs(res_conv) > 25_000])\n",
    "\n",
    "print(f'Errors Over $25,000: {err2} or {round(err2/len(y_test),4)*100}%')"
   ]
  },
  {
   "cell_type": "markdown",
   "metadata": {},
   "source": [
    "### Only half of the results were acceptable (by me at < 10k error on average)\n",
    "\n",
    "### Around 14.5% of the results were > 25k which is not acceptable. The extreme outlier results need to be inspected \n",
    "\n",
    "### Because this was just a broad quick analysis, the results are actually a good start. Most likely some outliers and/or unessary highly collinear features are sneaking through (especially with Ridge). Therefore I will delve into \n",
    "\n",
    "---\n",
    "\n",
    "# Re-Try Attempt 1 with only top 10 most important features\n",
    "\n",
    "From the above analysis I only want to keep the top 10 featuers and see if the results improve here are the features I'm going to keep:\n",
    "1. 'GrLivArea' (Numerical)\n",
    "2. 'Neighborhood' (Text/Categorical)\n",
    "3. 'Functional' (Text/Categorical)\n",
    "4. 'LotArea' (Numerical)\n",
    "5. 'Exterior1st' (Text/Categorical)\n",
    "6. 'KitchenQual' (Text/Categorical)\n",
    "7. 'OverallQual' (Numerical)\n",
    "8. 'BsmtQual' (Text/Categorical)\n",
    "9. 'Condition1' (Text/Categorical)\n",
    "10. 'OverallCond' (Numerical)"
   ]
  },
  {
   "cell_type": "code",
   "execution_count": 44,
   "metadata": {},
   "outputs": [],
   "source": [
    "house_train = pd.read_csv('data/house_train.csv')\n",
    "house_test = pd.read_csv('data/house_test.csv')"
   ]
  },
  {
   "cell_type": "code",
   "execution_count": 45,
   "metadata": {},
   "outputs": [],
   "source": [
    "all_data = pd.concat((house_train.loc[:, 'MSSubClass':'SaleCondition'],\n",
    "                      house_test.loc[:, 'MSSubClass':'SaleCondition']))"
   ]
  },
  {
   "cell_type": "code",
   "execution_count": 46,
   "metadata": {},
   "outputs": [],
   "source": [
    "all_data = all_data[['GrLivArea','Neighborhood',\n",
    "                    'Functional', 'LotArea',\n",
    "                    'Exterior1st', 'KitchenQual',\n",
    "                    'OverallQual', 'BsmtQual',\n",
    "                    'Condition1', 'OverallCond']]"
   ]
  },
  {
   "cell_type": "code",
   "execution_count": 47,
   "metadata": {},
   "outputs": [
    {
     "name": "stdout",
     "output_type": "stream",
     "text": [
      "<class 'pandas.core.frame.DataFrame'>\n",
      "Int64Index: 2919 entries, 0 to 1458\n",
      "Data columns (total 10 columns):\n",
      " #   Column        Non-Null Count  Dtype \n",
      "---  ------        --------------  ----- \n",
      " 0   GrLivArea     2919 non-null   int64 \n",
      " 1   Neighborhood  2919 non-null   object\n",
      " 2   Functional    2917 non-null   object\n",
      " 3   LotArea       2919 non-null   int64 \n",
      " 4   Exterior1st   2918 non-null   object\n",
      " 5   KitchenQual   2918 non-null   object\n",
      " 6   OverallQual   2919 non-null   int64 \n",
      " 7   BsmtQual      2838 non-null   object\n",
      " 8   Condition1    2919 non-null   object\n",
      " 9   OverallCond   2919 non-null   int64 \n",
      "dtypes: int64(4), object(6)\n",
      "memory usage: 250.9+ KB\n"
     ]
    }
   ],
   "source": [
    "all_data.info()"
   ]
  },
  {
   "cell_type": "code",
   "execution_count": 48,
   "metadata": {},
   "outputs": [],
   "source": [
    "# Get only the numeric features\n",
    "numeric_feats = all_data.dtypes[all_data.dtypes != \"object\"].index\n",
    "\n",
    "# Transform skewed variables\n",
    "house_train['SalePrice'] = np.log(house_train['SalePrice'])\n",
    "\n",
    "skewed_feats = all_data[numeric_feats].skew()\n",
    "skewed_feats = skewed_feats[skewed_feats > 0.75]\n",
    "skewed_feats = skewed_feats.index\n",
    "\n",
    "all_data[skewed_feats] = np.log1p(all_data[skewed_feats])"
   ]
  },
  {
   "cell_type": "code",
   "execution_count": 49,
   "metadata": {},
   "outputs": [],
   "source": [
    "all_data =  pd.get_dummies(all_data)"
   ]
  },
  {
   "cell_type": "code",
   "execution_count": 50,
   "metadata": {},
   "outputs": [
    {
     "data": {
      "text/plain": [
       "(2919, 68)"
      ]
     },
     "execution_count": 50,
     "metadata": {},
     "output_type": "execute_result"
    }
   ],
   "source": [
    "all_data.shape"
   ]
  },
  {
   "cell_type": "code",
   "execution_count": 51,
   "metadata": {},
   "outputs": [
    {
     "data": {
      "text/plain": [
       "Series([], dtype: int64)"
      ]
     },
     "execution_count": 51,
     "metadata": {},
     "output_type": "execute_result"
    }
   ],
   "source": [
    "# Check nulls, there are none so move on\n",
    "\n",
    "nulls = all_data.isnull().sum()\n",
    "nulls[nulls != 0]"
   ]
  },
  {
   "cell_type": "code",
   "execution_count": 52,
   "metadata": {},
   "outputs": [],
   "source": [
    "X_train = all_data[: house_train.shape[0]]\n",
    "X_test = all_data[house_train.shape[0] :]\n",
    "y = house_train['SalePrice']\n",
    "\n",
    "def rmse_cv(model):\n",
    "    rmse= np.sqrt(-cross_val_score(model, \n",
    "                                  X_train,\n",
    "                                  y, \n",
    "                                  scoring='neg_mean_squared_error', \n",
    "                                  cv = 5))\n",
    "    return(rmse)"
   ]
  },
  {
   "cell_type": "code",
   "execution_count": 56,
   "metadata": {},
   "outputs": [
    {
     "name": "stdout",
     "output_type": "stream",
     "text": [
      "0.14996026212730315\n"
     ]
    }
   ],
   "source": [
    "model_Ridge = Ridge()\n",
    "\n",
    "test_alphas = [0.05, 0.1, 0.3, 1, 3, 5, 10, 15, 30, 50, 75]\n",
    "cv_ridge = [rmse_cv(Ridge(alpha = alpha)).mean() for alpha in test_alphas]\n",
    "\n",
    "print(np.mean(cv_ridge))"
   ]
  },
  {
   "cell_type": "markdown",
   "metadata": {},
   "source": [
    "### So only using the top 10 fetures causes underfitting and produces worse results"
   ]
  },
  {
   "cell_type": "markdown",
   "metadata": {},
   "source": [
    "### Below is a good set up for running 4 models at once"
   ]
  },
  {
   "cell_type": "code",
   "execution_count": 57,
   "metadata": {},
   "outputs": [
    {
     "ename": "NameError",
     "evalue": "name 'Lasso' is not defined",
     "output_type": "error",
     "traceback": [
      "\u001b[0;31m---------------------------------------------------------------------------\u001b[0m",
      "\u001b[0;31mNameError\u001b[0m                                 Traceback (most recent call last)",
      "\u001b[0;32m<ipython-input-57-6abb0f07186a>\u001b[0m in \u001b[0;36m<module>\u001b[0;34m\u001b[0m\n\u001b[1;32m      2\u001b[0m \u001b[0mlin\u001b[0m \u001b[0;34m=\u001b[0m \u001b[0mLinearRegression\u001b[0m\u001b[0;34m(\u001b[0m\u001b[0;34m)\u001b[0m\u001b[0;34m\u001b[0m\u001b[0;34m\u001b[0m\u001b[0m\n\u001b[1;32m      3\u001b[0m \u001b[0mridge\u001b[0m \u001b[0;34m=\u001b[0m \u001b[0mRidge\u001b[0m\u001b[0;34m(\u001b[0m\u001b[0malpha\u001b[0m \u001b[0;34m=\u001b[0m \u001b[0;36m1.0\u001b[0m\u001b[0;34m)\u001b[0m\u001b[0;34m\u001b[0m\u001b[0;34m\u001b[0m\u001b[0m\n\u001b[0;32m----> 4\u001b[0;31m \u001b[0mlas\u001b[0m \u001b[0;34m=\u001b[0m \u001b[0mLasso\u001b[0m\u001b[0;34m(\u001b[0m\u001b[0malpha\u001b[0m \u001b[0;34m=\u001b[0m \u001b[0;36m1.0\u001b[0m\u001b[0;34m)\u001b[0m\u001b[0;34m\u001b[0m\u001b[0;34m\u001b[0m\u001b[0m\n\u001b[0m\u001b[1;32m      5\u001b[0m \u001b[0menet\u001b[0m \u001b[0;34m=\u001b[0m \u001b[0mElasticNet\u001b[0m\u001b[0;34m(\u001b[0m\u001b[0malpha\u001b[0m \u001b[0;34m=\u001b[0m \u001b[0;36m1.0\u001b[0m\u001b[0;34m)\u001b[0m\u001b[0;34m\u001b[0m\u001b[0;34m\u001b[0m\u001b[0m\n\u001b[1;32m      6\u001b[0m \u001b[0;34m\u001b[0m\u001b[0m\n",
      "\u001b[0;31mNameError\u001b[0m: name 'Lasso' is not defined"
     ]
    }
   ],
   "source": [
    "# Build Models\n",
    "lin = LinearRegression()\n",
    "ridge = Ridge(alpha = 1.0)\n",
    "las = Lasso(alpha = 1.0)\n",
    "enet = ElasticNet(alpha = 1.0)\n",
    "\n",
    "# Fit Models with the training data\n",
    "lin.fit(X_train, y_train)\n",
    "ridge.fit(X_train, y_train)\n",
    "las.fit(X_train, y_train)\n",
    "enet.fit(X_train, y_train)\n",
    "\n",
    "# Make Sales Predictions\n",
    "y_pred_lin =   lin.predict(X_test)\n",
    "y_pred_ridge = ridge.predict(X_test)\n",
    "y_pred_las = las.predict(X_test)\n",
    "y_pred_enet = enet.predict(X_test)\n",
    "\n",
    "\n",
    "# Results \n",
    "\n",
    "print('Linear Regression Results')\n",
    "# MAE\n",
    "print(metrics.mean_absolute_error(y_test, y_pred_lin))\n",
    "\n",
    "# RMSE\n",
    "print(np.sqrt(metrics.mean_squared_error(y_test, y_pred_lin)))\n",
    "\n",
    "print()\n",
    "\n",
    "print('Ridge Regression Results')\n",
    "# MAE\n",
    "print(metrics.mean_absolute_error(y_test, y_pred_ridge))\n",
    "\n",
    "# RMSE\n",
    "print(np.sqrt(metrics.mean_squared_error(y_test, y_pred_ridge)))\n",
    "\n",
    "print()\n",
    "\n",
    "print('Lasso Regression Results')\n",
    "# MAE\n",
    "print(metrics.mean_absolute_error(y_test, y_pred_las))\n",
    "\n",
    "# RMSE\n",
    "print(np.sqrt(metrics.mean_squared_error(y_test, y_pred_las)))\n",
    "\n",
    "print()\n",
    "\n",
    "print('Elastic-Net Regression Results')\n",
    "# MAE\n",
    "print(metrics.mean_absolute_error(y_test, y_pred_enet))\n",
    "\n",
    "# RMSE\n",
    "print(np.sqrt(metrics.mean_squared_error(y_test, y_pred_enet)))"
   ]
  }
 ],
 "metadata": {
  "kernelspec": {
   "display_name": "Python 3",
   "language": "python",
   "name": "python3"
  },
  "language_info": {
   "codemirror_mode": {
    "name": "ipython",
    "version": 3
   },
   "file_extension": ".py",
   "mimetype": "text/x-python",
   "name": "python",
   "nbconvert_exporter": "python",
   "pygments_lexer": "ipython3",
   "version": "3.7.7"
  }
 },
 "nbformat": 4,
 "nbformat_minor": 4
}
